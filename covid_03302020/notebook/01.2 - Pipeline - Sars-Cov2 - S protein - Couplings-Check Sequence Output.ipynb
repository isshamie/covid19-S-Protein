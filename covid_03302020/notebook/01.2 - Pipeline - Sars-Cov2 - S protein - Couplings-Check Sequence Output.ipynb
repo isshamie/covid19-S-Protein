{
 "cells": [
  {
   "cell_type": "markdown",
   "metadata": {},
   "source": [
    "## Need to run:\n",
    "coevolve python package (currently only installed locally in /data2/isshamie/coevolve/coevolve. Go to that folder and run pip install -e .)\n",
    "\n",
    "1. parameters folder. The evc template is in there and the parameter file that points to the genome information (in case that changes).  \n",
    "2. data/raw is the folder that contains that genome files  \n",
    "3. data/notebook with this file and Covid19 - Alignment and Couplings Output.ipynb"
   ]
  },
  {
   "cell_type": "markdown",
   "metadata": {},
   "source": [
    "### Parameter file (should be in parameters folder)"
   ]
  },
  {
   "cell_type": "code",
   "execution_count": 1,
   "metadata": {
    "ExecuteTime": {
     "end_time": "2020-04-03T21:19:50.828834Z",
     "start_time": "2020-04-03T21:19:50.826392Z"
    }
   },
   "outputs": [],
   "source": [
    "main_dir = \"../\"\n",
    "param = 'sars_cov2.yaml'"
   ]
  },
  {
   "cell_type": "markdown",
   "metadata": {},
   "source": [
    "### 0.1 Import "
   ]
  },
  {
   "cell_type": "code",
   "execution_count": 2,
   "metadata": {
    "ExecuteTime": {
     "end_time": "2020-04-03T21:19:52.933905Z",
     "start_time": "2020-04-03T21:19:50.833257Z"
    },
    "scrolled": true
   },
   "outputs": [
    {
     "name": "stderr",
     "output_type": "stream",
     "text": [
      "/home/isshamie/software/anaconda2/envs/coevolve/lib/python3.7/site-packages/statsmodels/tools/_testing.py:19: FutureWarning: pandas.util.testing is deprecated. Use the functions in the public API at pandas.testing instead.\n",
      "  import pandas.util.testing as tm\n"
     ]
    }
   ],
   "source": [
    "import pandas as pd\n",
    "import os\n",
    "import matplotlib.pyplot as plt\n",
    "import glob\n",
    "from Bio import SeqIO, Seq, pairwise2, SeqRecord, Align\n",
    "from os.path import join, basename\n",
    "import pickle\n",
    "import numpy as np\n",
    "from tqdm import tqdm\n",
    "from numpanpar import parallel_ar as parar\n",
    "import seaborn as sns\n",
    "\n",
    "%load_ext autoreload\n",
    "%autoreload 2"
   ]
  },
  {
   "cell_type": "code",
   "execution_count": 3,
   "metadata": {
    "ExecuteTime": {
     "end_time": "2020-04-03T21:19:56.120310Z",
     "start_time": "2020-04-03T21:19:52.935877Z"
    },
    "scrolled": true
   },
   "outputs": [
    {
     "name": "stdout",
     "output_type": "stream",
     "text": [
      "Project Directory: /data2/isshamie/covid/covid_03302020\n",
      "\n",
      "Config paths:\n",
      "__name__ config\n",
      "__package__ \n",
      "__file__ /data2/isshamie/covid/covid_03302020/notebook/config.py\n",
      "__cached__ /data2/isshamie/covid/covid_03302020/notebook/__pycache__/config.cpython-37.pyc\n",
      "path /data2/isshamie/covid/covid_03302020/notebook/config.py\n",
      "DATA_DIR /data2/isshamie/covid/covid_03302020/data\n",
      "RESULTS /data2/isshamie/covid/covid_03302020/data/processed\n",
      "FIGURES_DIR /data2/isshamie/covid/covid_03302020/figures\n",
      "CONTACT_FIGURES_DIR /data2/isshamie/covid/covid_03302020/figures/contact\n",
      "PAIR_COUPLINGS_FIGURES_DIR /data2/isshamie/covid/covid_03302020/figures/pair_couplings\n",
      "GLYCO_PAIR_COUPLINGS_FIGURES_DIR /data2/isshamie/covid/covid_03302020/figures/glycosites_pair_couplings\n",
      "PARAMS_DIR /data2/isshamie/covid/covid_03302020/parameters\n",
      "d /data2/isshamie/covid/covid_03302020/figures/glycosites_pair_couplings\n",
      "UNIPROT_MAP /data2/isshamie/covid/covid_03302020/data/external/biomart/mart_export_uniprot.txt\n",
      "GENE_MAP /data2/isshamie/covid/covid_03302020/data/external/biomart/mart_export.txt\n",
      "SECM_ANNO /data2/isshamie/covid/covid_03302020/data/external/secretory_annotations/SM_feizi.tsv\n",
      "SECP_ANNO /data2/isshamie/covid/covid_03302020/data/external/secretory_annotations/SP_feizi.tsv\n",
      "NETWORKS_DIR /data/isshamie/Secretory_Modeling/Databases/preprocessed/\n",
      "NETWORKS_EXAMPLE_DIR /data2/isshamie/covid/covid_03302020/data/external/networks/examples\n",
      "PREPPI_PREDICTION /data/isshamie/Secretory_Modeling/Databases/preprocessed/preppi_sm600.tsv\n",
      "Project Directory: /data2/isshamie/coevolve\n",
      "\n",
      "Config paths:\n",
      "__name__ coevolve.config\n",
      "__package__ coevolve\n",
      "__file__ /data2/isshamie/coevolve/coevolve/config.py\n",
      "__cached__ /data2/isshamie/coevolve/coevolve/__pycache__/config.cpython-37.pyc\n",
      "path /data2/isshamie/coevolve/coevolve/config.py\n",
      "DATA_DIR /data2/isshamie/coevolve/data\n",
      "RESULTS /data2/isshamie/coevolve/data/processed\n",
      "FIGURES_DIR /data2/isshamie/coevolve/figures\n",
      "FIG_NET_DIR /data2/isshamie/coevolve/figures/networks\n",
      "PIPELINE_F /data2/isshamie/coevolve/reports/pipeline/Pipeline.xlsx\n",
      "DATA_FIG_DIR /data2/isshamie/coevolve/data/processed/figures\n",
      "PARAMS_DIR /data2/isshamie/coevolve/params\n",
      "TEST_DIR /data2/isshamie/coevolve/tests\n",
      "ORTHO_FIGURES_DIR /data2/isshamie/coevolve/figures/orthologs\n",
      "ORTHO_SEQS_DIR /data2/isshamie/coevolve/data/external/orthodb/protein_sequences/\n",
      "ODB_DIR /data2/isshamie/coevolve/data/external/orthodb/\n",
      "TAXA_ID_TO_NAME_RAW /data2/isshamie/coevolve/data/external/ncbi_taxonomy/names.dmp\n",
      "NCBI_FOLDER /data2/isshamie/coevolve/data/processed/ncbi_taxonomy/\n",
      "TAXA_ID_TO_NAME /data2/isshamie/coevolve/data/processed/ncbi_taxonomy/taxa_names.tsv\n",
      "ORTHO_SEQS_META_DIR /data2/isshamie/coevolve/data/processed/orthodb_meta/\n",
      "CLUSTALW_CMD /data2/isshamie/coevolve/software/clustalo.py\n",
      "CLUSTALW_DIR /data2/isshamie/coevolve/data/interim/clustalw_alignment/\n",
      "CLUSTALW_CLEAN_DIR /data2/isshamie/coevolve/data/interim/clustalw/\n",
      "ORTHO_OUTPUT /data2/isshamie/coevolve/data/processed/orthologs\n",
      "EVCOUPLINGS_CONFIG /data2/isshamie/coevolve/params/params_evcouplings/serpina1.yaml\n",
      "EVCOUPLINGS_CONFIG_DIR /data2/isshamie/coevolve/data/processed/params_evcouplings/\n",
      "ANNO_DIR /data2/isshamie/coevolve/data/processed/annotations/\n",
      "EVCOUPLINGS_INTRA_OUTPUT_DIR /data2/isshamie/coevolve/data/processed/evcoupling_intra_protein/\n",
      "EVCOUPLINGS_INTER_OUTPUT_DIR /data2/isshamie/coevolve/data/processed/evcoupling_inter_protein/\n",
      "CONTACT_DIR /data2/isshamie/coevolve/data/processed/contacts/\n",
      "FIGURES_CONTACT_DIR /data2/isshamie/coevolve/figures/contacts\n",
      "EVC_INTER_TEMPLATE /data2/isshamie/coevolve/params/params_evc_inter\n",
      "EVC_INTRA_TEMPLATE /data2/isshamie/coevolve/params/params_evc_intra\n",
      "EVCOUPLINGS_INTER_OUTPUT_DIR2 /data2/isshamie/coevolve/data/processed/evcoupling_inter_protein_2/\n",
      "EVCOUPLINGS_CONFIG_DIR2 /data2/isshamie/coevolve/data/processed/params_evcouplings_2/\n",
      "MI_DIR /data2/isshamie/coevolve/data/processed/MI\n",
      "EDGES_DIR /data2/isshamie/coevolve/data/interim/edges/\n",
      "d /data2/isshamie/coevolve/data/processed/MI\n",
      "UNIPROT_MAP /data2/isshamie/coevolve/data/external/biomart/mart_export_uniprot.txt\n",
      "GENE_MAP /data2/isshamie/coevolve/data/external/biomart/mart_export.txt\n",
      "SECM_ANNO /data2/isshamie/coevolve/data/external/secretory_annotations/SM_feizi.tsv\n",
      "SECP_ANNO /data2/isshamie/coevolve/data/external/secretory_annotations/SP_feizi.tsv\n",
      "NETWORKS_DIR /data/isshamie/Secretory_Modeling/Databases/preprocessed/\n",
      "NETWORKS_EXAMPLE_DIR /data2/isshamie/coevolve/data/external/networks/examples\n",
      "PREPPI_PREDICTION /data/isshamie/Secretory_Modeling/Databases/preprocessed/preppi_sm600.tsv\n",
      "/data2/isshamie/coevolve/software:/home/isshamie/software/anaconda2/envs/coevolve/bin:/home/isshamie/software/anaconda2/envs/coevolve/bin:/data/isshamie/software/cellranger-3.1.0:/home/isshamie/software/cellranger-3.1.0:/mnt/home/user.name/yard/apps/cellranger-3.0.2/cellranger:/home/isshamie/software/sratoolkit.2.9.6-1-centos_linux64/bin:/mnt/data/isshamie/neutrophils/NGS-Pipeline/Modules:/home/isshamie/software/FastQC:/home/isshamie/software/STAR-2.5.3a/bin/Linux_x86_64:/home/isshamie/meme/bin:/home/isshamie/software/homer/bin:/home/isshamie/bin:/home/isshamie/.local/bin:/home/isshamie/software/anaconda2/condabin:/data/isshamie/software/cellranger-3.1.0:/home/isshamie/software/cellranger-3.1.0:/mnt/home/user.name/yard/apps/cellranger-3.0.2/cellranger:/home/isshamie/software/sratoolkit.2.9.6-1-centos_linux64/bin:/mnt/data/isshamie/neutrophils/NGS-Pipeline/Modules:/home/isshamie/software/FastQC:/home/isshamie/software/STAR-2.5.3a/bin/Linux_x86_64:/home/isshamie/meme/bin:/home/isshamie/software/homer/bin:/usr/local/Modules/bin:/usr/local/sbin:/usr/local/bin:/usr/sbin:/usr/bin:/sbin:/bin:/usr/games:/usr/local/games:/snap/bin:/home/isshamie/.dotnet/tools:/usr/local/MATLAB/R2019a/bin:/home/isshamie/software/NGS-Pipeline/Modules:/home/isshamie/.bds:/home/isshamie/software/atac_dnase_pipelines:/home/isshamie/software/bedops/bin:/home/isshamie/software/subset-bam-1.0-x86_64-linux:/home/isshamie/software/glasbey:/usr/local/MATLAB/R2019a/bin:/home/isshamie/software/NGS-Pipeline/Modules:/home/isshamie/.bds:/home/isshamie/software/atac_dnase_pipelines:/home/isshamie/software/bedops/bin:/home/isshamie/software/subset-bam-1.0-x86_64-linux:/home/isshamie/software/glasbey\n"
     ]
    }
   ],
   "source": [
    "from config import FIGURES_DIR, ROOT_DIR, PARAMS_DIR, RESULTS, CONTACT_FIGURES_DIR, NUM_CORES\n",
    "from coevolve.msa import clustalw_query, msa_stats\n",
    "from coevolve.config import CLUSTALW_DIR, CLUSTALW_CMD, CLUSTALW_CLEAN_DIR\n",
    "from evcouplings.utils import read_config_file, write_config_file\n",
    "from coevolve.couplings.running_jobs_complexes import run_evc\n",
    "from coevolve.couplings.couplings_vis import construct_monomer_contact_matrix\n",
    "from coevolve.data.data_io import read_msa\n"
   ]
  },
  {
   "cell_type": "code",
   "execution_count": null,
   "metadata": {},
   "outputs": [],
   "source": []
  },
  {
   "cell_type": "markdown",
   "metadata": {},
   "source": [
    "### Setup folders and files"
   ]
  },
  {
   "cell_type": "code",
   "execution_count": 4,
   "metadata": {
    "ExecuteTime": {
     "end_time": "2020-04-03T21:19:56.164350Z",
     "start_time": "2020-04-03T21:19:56.123214Z"
    }
   },
   "outputs": [],
   "source": [
    "RAW = join(main_dir,\"data\",\"raw\")\n",
    "outdir = join(main_dir,\"data\",\"processed\")\n",
    "\n",
    "\n",
    "seqs_dir = join(outdir,\"seqs\")\n",
    "align_dir = join(seqs_dir,\"S_protein_align\")\n",
    "align_concat_dir = join(seqs_dir,\"S_protein_align_full\")\n",
    "msa_out = join(outdir, \"msa\")\n",
    "anno_f = join(outdir, \"covid_annotations.csv\")\n",
    "ev_dir = join(outdir,\"evc\")\n",
    "contact_dir = join(outdir, \"contact\")\n",
    "ev_params_dir = join(outdir,\"ev_params\")\n",
    "evzoom_dir = join(outdir,\"evzoom\")\n",
    "evzoom_template_dir = join(ROOT_DIR, \"software\", \"EVzoom\")\n",
    "param_dir = join(main_dir,\"parameters\")\n",
    "evc_template_f = join(param_dir,'evc',\"template.yaml\")\n",
    "\n",
    "msa_f = join(msa_out,\"S_protein.msa.fasta\")\n",
    "if not os.path.exists(msa_out):\n",
    "    os.mkdir(msa_out)\n",
    "anno_f = join(seqs_dir, \"covid_annotations.csv\")\n",
    "clean = join(msa_out,\"clean\")\n",
    "if not os.path.exists(clean):\n",
    "    os.mkdir(clean)\n",
    "\n",
    "#clustalw_query.create_clean_clustalw_names(clean, [msa_f])\n",
    "\n",
    "msa_clean_f = join(clean, os.path.basename(msa_f))\n",
    "\n",
    "NUM_CORES = 32\n"
   ]
  },
  {
   "cell_type": "markdown",
   "metadata": {},
   "source": [
    "## 1. Load:\n",
    "- A) Genomic fasta sequences, \n",
    "- B) Reference Genomic Annotation (GCF_009858895.2)\n",
    "- C) Reference Gene Annotation (NC_045512.2)\n",
    "- D) S-protein fasta protein sequence"
   ]
  },
  {
   "cell_type": "code",
   "execution_count": 5,
   "metadata": {
    "ExecuteTime": {
     "end_time": "2020-04-03T21:19:56.199273Z",
     "start_time": "2020-04-03T21:19:56.166237Z"
    },
    "scrolled": false
   },
   "outputs": [
    {
     "data": {
      "text/plain": [
       "{'name': 'sars_cov2',\n",
       " 'ref_fasta': 'NC_045512.2.fasta',\n",
       " 'genomes_fasta': '2020-03-30-gisaid-seqs.fasta',\n",
       " 'S_protein_name': 'YP_009724390.1',\n",
       " 'annotation': 'GCF_009858895.2_ASM985889v3_genomic.gff'}"
      ]
     },
     "execution_count": 5,
     "metadata": {},
     "output_type": "execute_result"
    }
   ],
   "source": [
    "config = read_config_file(join(param_dir, param))\n",
    "config"
   ]
  },
  {
   "cell_type": "markdown",
   "metadata": {},
   "source": [
    "## MSA Out"
   ]
  },
  {
   "cell_type": "code",
   "execution_count": 6,
   "metadata": {
    "ExecuteTime": {
     "end_time": "2020-04-03T21:20:16.301143Z",
     "start_time": "2020-04-03T21:19:56.200846Z"
    }
   },
   "outputs": [
    {
     "name": "stdout",
     "output_type": "stream",
     "text": [
      "MSA sequences shape (N organisms-by-L sequences: (2469, 9464)\n"
     ]
    }
   ],
   "source": [
    "msa = read_msa(msa_clean_f)\n",
    "\n",
    "print(f\"MSA sequences shape (N organisms-by-L sequences: {msa.shape}\")"
   ]
  },
  {
   "cell_type": "code",
   "execution_count": 7,
   "metadata": {
    "ExecuteTime": {
     "end_time": "2020-04-03T21:21:52.055613Z",
     "start_time": "2020-04-03T21:20:16.303257Z"
    },
    "scrolled": true
   },
   "outputs": [
    {
     "name": "stdout",
     "output_type": "stream",
     "text": [
      "New pandarallel memory created - Size: 2000 MB\n",
      "Pandarallel will run on 1 workers\n",
      "../data/processed/msa/S_protein.msa.fasta\n"
     ]
    },
    {
     "name": "stderr",
     "output_type": "stream",
     "text": [
      "/home/isshamie/software/anaconda2/envs/coevolve/lib/python3.7/site-packages/pyarrow/serialization.py:165: FutureWarning: The SparseDataFrame class is removed from pandas. Accessing it from the top-level namespace will also be removed in the next version\n",
      "  if isinstance(obj, pd.SparseDataFrame):\n"
     ]
    },
    {
     "name": "stdout",
     "output_type": "stream",
     "text": [
      "../data/processed/msa/S_protein.msa.fasta\n"
     ]
    },
    {
     "name": "stderr",
     "output_type": "stream",
     "text": [
      "/home/isshamie/software/anaconda2/envs/coevolve/lib/python3.7/site-packages/pyarrow/serialization.py:165: FutureWarning: The SparseDataFrame class is removed from pandas. Accessing it from the top-level namespace will also be removed in the next version\n",
      "  if isinstance(obj, pd.SparseDataFrame):\n"
     ]
    },
    {
     "name": "stdout",
     "output_type": "stream",
     "text": [
      "                                           MSA Length  \\\n",
      "../data/processed/msa/S_protein.msa.fasta        9464   \n",
      "\n",
      "                                           Median Percent of Gaps per Homolog  \\\n",
      "../data/processed/msa/S_protein.msa.fasta                           86.549028   \n",
      "\n",
      "                                           Variance Percent of Gaps per Homolog  \\\n",
      "../data/processed/msa/S_protein.msa.fasta                              12.10262   \n",
      "\n",
      "                                           Median Percent of Non-gaps Per Residue Position  \\\n",
      "../data/processed/msa/S_protein.msa.fasta                                          0.72904   \n",
      "\n",
      "                                           Number of Residues with >50% Nongaps  \\\n",
      "../data/processed/msa/S_protein.msa.fasta                                  1273   \n",
      "\n",
      "                                                                             Percent nongaps  \n",
      "../data/processed/msa/S_protein.msa.fasta  [0.04050222762251924, 0.04050222762251924, 0.0...  \n"
     ]
    },
    {
     "data": {
      "text/html": [
       "<div>\n",
       "<style scoped>\n",
       "    .dataframe tbody tr th:only-of-type {\n",
       "        vertical-align: middle;\n",
       "    }\n",
       "\n",
       "    .dataframe tbody tr th {\n",
       "        vertical-align: top;\n",
       "    }\n",
       "\n",
       "    .dataframe thead th {\n",
       "        text-align: right;\n",
       "    }\n",
       "</style>\n",
       "<table border=\"1\" class=\"dataframe\">\n",
       "  <thead>\n",
       "    <tr style=\"text-align: right;\">\n",
       "      <th></th>\n",
       "      <th>MSA Length</th>\n",
       "      <th>Median Percent of Gaps per Homolog</th>\n",
       "      <th>Variance Percent of Gaps per Homolog</th>\n",
       "      <th>Median Percent of Non-gaps Per Residue Position</th>\n",
       "      <th>Number of Residues with &gt;50% Nongaps</th>\n",
       "      <th>Percent nongaps</th>\n",
       "    </tr>\n",
       "  </thead>\n",
       "  <tbody>\n",
       "    <tr>\n",
       "      <th>../data/processed/msa/S_protein.msa.fasta</th>\n",
       "      <td>9464</td>\n",
       "      <td>86.549028</td>\n",
       "      <td>12.10262</td>\n",
       "      <td>0.72904</td>\n",
       "      <td>1273</td>\n",
       "      <td>[0.04050222762251924, 0.04050222762251924, 0.0...</td>\n",
       "    </tr>\n",
       "  </tbody>\n",
       "</table>\n",
       "</div>"
      ],
      "text/plain": [
       "                                           MSA Length  \\\n",
       "../data/processed/msa/S_protein.msa.fasta        9464   \n",
       "\n",
       "                                           Median Percent of Gaps per Homolog  \\\n",
       "../data/processed/msa/S_protein.msa.fasta                           86.549028   \n",
       "\n",
       "                                           Variance Percent of Gaps per Homolog  \\\n",
       "../data/processed/msa/S_protein.msa.fasta                              12.10262   \n",
       "\n",
       "                                           Median Percent of Non-gaps Per Residue Position  \\\n",
       "../data/processed/msa/S_protein.msa.fasta                                          0.72904   \n",
       "\n",
       "                                           Number of Residues with >50% Nongaps  \\\n",
       "../data/processed/msa/S_protein.msa.fasta                                  1273   \n",
       "\n",
       "                                                                             Percent nongaps  \n",
       "../data/processed/msa/S_protein.msa.fasta  [0.04050222762251924, 0.04050222762251924, 0.0...  "
      ]
     },
     "execution_count": 7,
     "metadata": {},
     "output_type": "execute_result"
    }
   ],
   "source": [
    "msa_stats = msa_stats.wrap_calc_msa_stats(os.path.dirname(msa_f), num_cores=1)\n",
    "msa_stats"
   ]
  },
  {
   "cell_type": "markdown",
   "metadata": {},
   "source": [
    "## EVCouplings out:"
   ]
  },
  {
   "cell_type": "code",
   "execution_count": 8,
   "metadata": {
    "ExecuteTime": {
     "end_time": "2020-04-03T21:21:55.022700Z",
     "start_time": "2020-04-03T21:21:52.057582Z"
    },
    "scrolled": true
   },
   "outputs": [],
   "source": [
    "ev_out_dirs = list(filter(lambda x: os.path.isdir(x), glob.glob(ev_dir+\"/*\")))\n",
    "for curr_ev in ev_out_dirs:\n",
    "    name = basename(curr_ev)\n",
    "    ev_msa = read_msa(join(curr_ev, \"align\", name+\".a2m\"))"
   ]
  },
  {
   "cell_type": "code",
   "execution_count": 9,
   "metadata": {
    "ExecuteTime": {
     "end_time": "2020-04-03T21:21:55.057260Z",
     "start_time": "2020-04-03T21:21:55.024517Z"
    }
   },
   "outputs": [
    {
     "name": "stdout",
     "output_type": "stream",
     "text": [
      "Final sequences shape (N organisms-by-L sequences: 2469\n"
     ]
    }
   ],
   "source": [
    "print(f\"Final sequences shape (N organisms-by-L sequences: {ev_msa.shape[0]}\")"
   ]
  },
  {
   "cell_type": "code",
   "execution_count": 10,
   "metadata": {
    "ExecuteTime": {
     "end_time": "2020-04-03T21:21:55.098974Z",
     "start_time": "2020-04-03T21:21:55.059786Z"
    }
   },
   "outputs": [],
   "source": [
    "%matplotlib inline"
   ]
  },
  {
   "cell_type": "code",
   "execution_count": 11,
   "metadata": {
    "ExecuteTime": {
     "end_time": "2020-04-03T21:21:55.452140Z",
     "start_time": "2020-04-03T21:21:55.100751Z"
    }
   },
   "outputs": [
    {
     "name": "stdout",
     "output_type": "stream",
     "text": [
      "Number of columns with no gaps at all:0\n"
     ]
    },
    {
     "data": {
      "image/png": "[encoded data removed]",
      "text/plain": [
       "<Figure size 432x288 with 1 Axes>"
      ]
     },
     "metadata": {
      "needs_background": "light"
     },
     "output_type": "display_data"
    }
   ],
   "source": [
    "f = plt.figure()\n",
    "plt.hist(((ev_msa == \"-\").sum(axis=0))/ev_msa.shape[0], align='left');\n",
    "plt.title(\"Histogram of percentage of gaps for each column\")\n",
    "print(f\"Number of columns with no gaps at all:{((ev_msa == '-').sum(axis=0)==0).sum()}\")\n"
   ]
  },
  {
   "cell_type": "code",
   "execution_count": 12,
   "metadata": {
    "ExecuteTime": {
     "end_time": "2020-04-03T21:21:55.797517Z",
     "start_time": "2020-04-03T21:21:55.454160Z"
    },
    "scrolled": true
   },
   "outputs": [
    {
     "name": "stdout",
     "output_type": "stream",
     "text": [
      "Number of sequences with no gaps at all:2231\n",
      "Number of sequences with >0 gaps :238\n"
     ]
    },
    {
     "data": {
      "image/png": "[encoded data removed]",
      "text/plain": [
       "<Figure size 432x288 with 1 Axes>"
      ]
     },
     "metadata": {
      "needs_background": "light"
     },
     "output_type": "display_data"
    }
   ],
   "source": [
    "\n",
    "f = plt.figure()\n",
    "plt.hist(((ev_msa == \"-\").sum(axis=1))/ev_msa.shape[1], align='left');\n",
    "plt.title(\"Histogram of percentage of gaps for each sequence\")\n",
    "print(f\"Number of sequences with no gaps at all:{((ev_msa == '-').sum(axis=1)==0).sum()}\")\n",
    "print(f\"Number of sequences with >0 gaps :{((ev_msa == '-').sum(axis=1)>0).sum()}\")"
   ]
  }
 ],
 "metadata": {
  "kernelspec": {
   "display_name": "Python 3",
   "language": "python",
   "name": "python3"
  },
  "language_info": {
   "codemirror_mode": {
    "name": "ipython",
    "version": 3
   },
   "file_extension": ".py",
   "mimetype": "text/x-python",
   "name": "python",
   "nbconvert_exporter": "python",
   "pygments_lexer": "ipython3",
   "version": "3.7.3"
  }
 },
 "nbformat": 4,
 "nbformat_minor": 2
}
