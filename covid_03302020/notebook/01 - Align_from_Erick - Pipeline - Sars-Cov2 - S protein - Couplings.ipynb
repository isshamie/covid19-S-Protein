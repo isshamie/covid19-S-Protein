{
 "cells": [
  {
   "cell_type": "markdown",
   "metadata": {},
   "source": [
    "## Need to run:\n",
    "coevolve python package (currently only installed locally in /data2/isshamie/coevolve/coevolve. Go to that folder and run pip install -e .)\n",
    "\n",
    "1. parameters folder. The evc template is in there and the parameter file that points to the genome information (in case that changes).  \n",
    "2. data/raw is the folder that contains that genome files  \n",
    "3. data/notebook with this file and Covid19 - Alignment and Couplings Output.ipynb"
   ]
  },
  {
   "cell_type": "markdown",
   "metadata": {},
   "source": [
    "### Parameter file (should be in parameters folder)"
   ]
  },
  {
   "cell_type": "code",
   "execution_count": 1,
   "metadata": {
    "ExecuteTime": {
     "end_time": "2020-04-03T22:07:33.256959Z",
     "start_time": "2020-04-03T22:07:33.252442Z"
    }
   },
   "outputs": [],
   "source": [
    "main_dir = \"../\"\n",
    "param = 'sars_cov2.yaml'"
   ]
  },
  {
   "cell_type": "markdown",
   "metadata": {},
   "source": [
    "### 0.1 Import "
   ]
  },
  {
   "cell_type": "code",
   "execution_count": 2,
   "metadata": {
    "ExecuteTime": {
     "end_time": "2020-04-03T22:07:35.015934Z",
     "start_time": "2020-04-03T22:07:33.264562Z"
    },
    "scrolled": true
   },
   "outputs": [
    {
     "name": "stderr",
     "output_type": "stream",
     "text": [
      "/home/isshamie/software/anaconda2/envs/coevolve/lib/python3.7/site-packages/statsmodels/tools/_testing.py:19: FutureWarning: pandas.util.testing is deprecated. Use the functions in the public API at pandas.testing instead.\n",
      "  import pandas.util.testing as tm\n"
     ]
    }
   ],
   "source": [
    "import pandas as pd\n",
    "import os\n",
    "import glob\n",
    "from Bio import SeqIO, Seq, pairwise2, SeqRecord, Align\n",
    "from os.path import join, basename\n",
    "import pickle\n",
    "import numpy as np\n",
    "from tqdm import tqdm\n",
    "from numpanpar import parallel_ar as parar\n",
    "import seaborn as sns\n",
    "import matplotlib.pyplot as plt\n",
    "%matplotlib inline\n",
    "%load_ext autoreload\n",
    "%autoreload 2"
   ]
  },
  {
   "cell_type": "code",
   "execution_count": 3,
   "metadata": {
    "ExecuteTime": {
     "end_time": "2020-04-03T22:07:37.824484Z",
     "start_time": "2020-04-03T22:07:35.019657Z"
    },
    "scrolled": true
   },
   "outputs": [
    {
     "name": "stdout",
     "output_type": "stream",
     "text": [
      "Project Directory: /data2/isshamie/covid/covid_03302020\n",
      "\n",
      "Config paths:\n",
      "__name__ config\n",
      "__package__ \n",
      "__file__ /data2/isshamie/covid/covid_03302020/notebook/config.py\n",
      "__cached__ /data2/isshamie/covid/covid_03302020/notebook/__pycache__/config.cpython-37.pyc\n",
      "path /data2/isshamie/covid/covid_03302020/notebook/config.py\n",
      "DATA_DIR /data2/isshamie/covid/covid_03302020/data\n",
      "RESULTS /data2/isshamie/covid/covid_03302020/data/processed\n",
      "FIGURES_DIR /data2/isshamie/covid/covid_03302020/figures\n",
      "CONTACT_FIGURES_DIR /data2/isshamie/covid/covid_03302020/figures/contact\n",
      "PAIR_COUPLINGS_FIGURES_DIR /data2/isshamie/covid/covid_03302020/figures/pair_couplings\n",
      "GLYCO_PAIR_COUPLINGS_FIGURES_DIR /data2/isshamie/covid/covid_03302020/figures/glycosites_pair_couplings\n",
      "PARAMS_DIR /data2/isshamie/covid/covid_03302020/parameters\n",
      "d /data2/isshamie/covid/covid_03302020/figures/glycosites_pair_couplings\n",
      "UNIPROT_MAP /data2/isshamie/covid/covid_03302020/data/external/biomart/mart_export_uniprot.txt\n",
      "GENE_MAP /data2/isshamie/covid/covid_03302020/data/external/biomart/mart_export.txt\n",
      "SECM_ANNO /data2/isshamie/covid/covid_03302020/data/external/secretory_annotations/SM_feizi.tsv\n",
      "SECP_ANNO /data2/isshamie/covid/covid_03302020/data/external/secretory_annotations/SP_feizi.tsv\n",
      "NETWORKS_DIR /data/isshamie/Secretory_Modeling/Databases/preprocessed/\n",
      "NETWORKS_EXAMPLE_DIR /data2/isshamie/covid/covid_03302020/data/external/networks/examples\n",
      "PREPPI_PREDICTION /data/isshamie/Secretory_Modeling/Databases/preprocessed/preppi_sm600.tsv\n",
      "Project Directory: /data2/isshamie/coevolve\n",
      "\n",
      "Config paths:\n",
      "__name__ coevolve.config\n",
      "__package__ coevolve\n",
      "__file__ /data2/isshamie/coevolve/coevolve/config.py\n",
      "__cached__ /data2/isshamie/coevolve/coevolve/__pycache__/config.cpython-37.pyc\n",
      "path /data2/isshamie/coevolve/coevolve/config.py\n",
      "DATA_DIR /data2/isshamie/coevolve/data\n",
      "RESULTS /data2/isshamie/coevolve/data/processed\n",
      "FIGURES_DIR /data2/isshamie/coevolve/figures\n",
      "FIG_NET_DIR /data2/isshamie/coevolve/figures/networks\n",
      "PIPELINE_F /data2/isshamie/coevolve/reports/pipeline/Pipeline.xlsx\n",
      "DATA_FIG_DIR /data2/isshamie/coevolve/data/processed/figures\n",
      "PARAMS_DIR /data2/isshamie/coevolve/params\n",
      "TEST_DIR /data2/isshamie/coevolve/tests\n",
      "ORTHO_FIGURES_DIR /data2/isshamie/coevolve/figures/orthologs\n",
      "ORTHO_SEQS_DIR /data2/isshamie/coevolve/data/external/orthodb/protein_sequences/\n",
      "ODB_DIR /data2/isshamie/coevolve/data/external/orthodb/\n",
      "TAXA_ID_TO_NAME_RAW /data2/isshamie/coevolve/data/external/ncbi_taxonomy/names.dmp\n",
      "NCBI_FOLDER /data2/isshamie/coevolve/data/processed/ncbi_taxonomy/\n",
      "TAXA_ID_TO_NAME /data2/isshamie/coevolve/data/processed/ncbi_taxonomy/taxa_names.tsv\n",
      "ORTHO_SEQS_META_DIR /data2/isshamie/coevolve/data/processed/orthodb_meta/\n",
      "CLUSTALW_CMD /data2/isshamie/coevolve/software/clustalo.py\n",
      "CLUSTALW_DIR /data2/isshamie/coevolve/data/interim/clustalw_alignment/\n",
      "CLUSTALW_CLEAN_DIR /data2/isshamie/coevolve/data/interim/clustalw/\n",
      "ORTHO_OUTPUT /data2/isshamie/coevolve/data/processed/orthologs\n",
      "EVCOUPLINGS_CONFIG /data2/isshamie/coevolve/params/params_evcouplings/serpina1.yaml\n",
      "EVCOUPLINGS_CONFIG_DIR /data2/isshamie/coevolve/data/processed/params_evcouplings/\n",
      "ANNO_DIR /data2/isshamie/coevolve/data/processed/annotations/\n",
      "EVCOUPLINGS_INTRA_OUTPUT_DIR /data2/isshamie/coevolve/data/processed/evcoupling_intra_protein/\n",
      "EVCOUPLINGS_INTER_OUTPUT_DIR /data2/isshamie/coevolve/data/processed/evcoupling_inter_protein/\n",
      "CONTACT_DIR /data2/isshamie/coevolve/data/processed/contacts/\n",
      "FIGURES_CONTACT_DIR /data2/isshamie/coevolve/figures/contacts\n",
      "EVC_INTER_TEMPLATE /data2/isshamie/coevolve/params/params_evc_inter\n",
      "EVC_INTRA_TEMPLATE /data2/isshamie/coevolve/params/params_evc_intra\n",
      "EVCOUPLINGS_INTER_OUTPUT_DIR2 /data2/isshamie/coevolve/data/processed/evcoupling_inter_protein_2/\n",
      "EVCOUPLINGS_CONFIG_DIR2 /data2/isshamie/coevolve/data/processed/params_evcouplings_2/\n",
      "MI_DIR /data2/isshamie/coevolve/data/processed/MI\n",
      "EDGES_DIR /data2/isshamie/coevolve/data/interim/edges/\n",
      "d /data2/isshamie/coevolve/data/processed/MI\n",
      "UNIPROT_MAP /data2/isshamie/coevolve/data/external/biomart/mart_export_uniprot.txt\n",
      "GENE_MAP /data2/isshamie/coevolve/data/external/biomart/mart_export.txt\n",
      "SECM_ANNO /data2/isshamie/coevolve/data/external/secretory_annotations/SM_feizi.tsv\n",
      "SECP_ANNO /data2/isshamie/coevolve/data/external/secretory_annotations/SP_feizi.tsv\n",
      "NETWORKS_DIR /data/isshamie/Secretory_Modeling/Databases/preprocessed/\n",
      "NETWORKS_EXAMPLE_DIR /data2/isshamie/coevolve/data/external/networks/examples\n",
      "PREPPI_PREDICTION /data/isshamie/Secretory_Modeling/Databases/preprocessed/preppi_sm600.tsv\n",
      "/data2/isshamie/coevolve/software:/home/isshamie/software/anaconda2/envs/coevolve/bin:/home/isshamie/software/anaconda2/envs/coevolve/bin:/data/isshamie/software/cellranger-3.1.0:/home/isshamie/software/cellranger-3.1.0:/mnt/home/user.name/yard/apps/cellranger-3.0.2/cellranger:/home/isshamie/software/sratoolkit.2.9.6-1-centos_linux64/bin:/mnt/data/isshamie/neutrophils/NGS-Pipeline/Modules:/home/isshamie/software/FastQC:/home/isshamie/software/STAR-2.5.3a/bin/Linux_x86_64:/home/isshamie/meme/bin:/home/isshamie/software/homer/bin:/home/isshamie/bin:/home/isshamie/.local/bin:/home/isshamie/software/anaconda2/condabin:/data/isshamie/software/cellranger-3.1.0:/home/isshamie/software/cellranger-3.1.0:/mnt/home/user.name/yard/apps/cellranger-3.0.2/cellranger:/home/isshamie/software/sratoolkit.2.9.6-1-centos_linux64/bin:/mnt/data/isshamie/neutrophils/NGS-Pipeline/Modules:/home/isshamie/software/FastQC:/home/isshamie/software/STAR-2.5.3a/bin/Linux_x86_64:/home/isshamie/meme/bin:/home/isshamie/software/homer/bin:/usr/local/Modules/bin:/usr/local/sbin:/usr/local/bin:/usr/sbin:/usr/bin:/sbin:/bin:/usr/games:/usr/local/games:/snap/bin:/home/isshamie/.dotnet/tools:/usr/local/MATLAB/R2019a/bin:/home/isshamie/software/NGS-Pipeline/Modules:/home/isshamie/.bds:/home/isshamie/software/atac_dnase_pipelines:/home/isshamie/software/bedops/bin:/home/isshamie/software/subset-bam-1.0-x86_64-linux:/home/isshamie/software/glasbey:/usr/local/MATLAB/R2019a/bin:/home/isshamie/software/NGS-Pipeline/Modules:/home/isshamie/.bds:/home/isshamie/software/atac_dnase_pipelines:/home/isshamie/software/bedops/bin:/home/isshamie/software/subset-bam-1.0-x86_64-linux:/home/isshamie/software/glasbey\n"
     ]
    }
   ],
   "source": [
    "from config import FIGURES_DIR, ROOT_DIR, PARAMS_DIR, RESULTS, CONTACT_FIGURES_DIR, NUM_CORES\n",
    "from coevolve.msa import clustalw_query\n",
    "from coevolve.config import CLUSTALW_DIR, CLUSTALW_CMD, CLUSTALW_CLEAN_DIR\n",
    "from evcouplings.utils import read_config_file, write_config_file\n",
    "from coevolve.couplings.running_jobs_complexes import run_evc\n",
    "from coevolve.couplings.couplings_vis import construct_monomer_contact_matrix\n",
    "from coevolve.data.data_io import read_msa"
   ]
  },
  {
   "cell_type": "code",
   "execution_count": null,
   "metadata": {},
   "outputs": [],
   "source": []
  },
  {
   "cell_type": "markdown",
   "metadata": {},
   "source": [
    "### Setup folders and files"
   ]
  },
  {
   "cell_type": "code",
   "execution_count": 4,
   "metadata": {
    "ExecuteTime": {
     "end_time": "2020-04-03T22:07:38.002035Z",
     "start_time": "2020-04-03T22:07:37.829161Z"
    }
   },
   "outputs": [
    {
     "name": "stdout",
     "output_type": "stream",
     "text": [
      "cp -r /data2/isshamie/covid/covid_03302020/software/EVzoom ../data/processed/align_fromErick/evzoom\n"
     ]
    }
   ],
   "source": [
    "RAW = join(main_dir,\"data\",\"raw\")\n",
    "outdir = join(main_dir,\"data\",\"processed\", \"align_fromErick\")\n",
    "param_dir = join(main_dir,\"parameters\")\n",
    "evzoom_template_dir = join(ROOT_DIR, \"software\", \"EVzoom\")\n",
    "\n",
    "\n",
    "seqs_dir = join(outdir,\"seqs\")\n",
    "align_dir = join(seqs_dir,\"S_protein_align\")\n",
    "align_concat_dir = join(seqs_dir,\"S_protein_align_full\")\n",
    "\n",
    "msa_out = join(outdir, \"msa\")\n",
    "msa_f = join(msa_out,\"S_protein.msa.fasta\")\n",
    "anno_f = join(seqs_dir, \"covid_annotations.csv\")\n",
    "clean = join(msa_out,\"clean\")\n",
    "\n",
    "ev_dir = join(outdir,\"evc\")\n",
    "contact_dir = join(outdir, \"contact\")\n",
    "ev_params_dir = join(outdir,\"ev_params\")\n",
    "\n",
    "evzoom_dir = join(outdir,\"evzoom\")\n",
    "evc_template_f = join(param_dir,'evc',\"template.yaml\")\n",
    "\n",
    "#clustalw_query.create_clean_clustalw_names(clean, [msa_f])\n",
    "\n",
    "msa_clean_f = join(clean, os.path.basename(msa_f))\n",
    "\n",
    "NUM_CORES = 32\n",
    "if not os.path.exists(outdir):\n",
    "    os.mkdir(outdir)\n",
    "\n",
    "if not os.path.exists(seqs_dir):\n",
    "    os.mkdir(seqs_dir)\n",
    "    \n",
    "if not os.path.exists(align_dir):\n",
    "    os.mkdir(align_dir)\n",
    "    \n",
    "if not os.path.exists(align_concat_dir):\n",
    "    os.mkdir(align_concat_dir)\n",
    "    \n",
    "if not os.path.exists(msa_out):\n",
    "    os.mkdir(msa_out)\n",
    "    \n",
    "if not os.path.exists(msa_out):\n",
    "    os.mkdir(msa_out)\n",
    "\n",
    "if not os.path.exists(clean):\n",
    "    os.mkdir(clean)\n",
    "\n",
    "    \n",
    "if not os.path.exists(ev_dir):\n",
    "    os.mkdir(ev_dir)\n",
    "    \n",
    "if not os.path.exists(ev_params_dir):\n",
    "    os.mkdir(ev_params_dir)\n",
    "    \n",
    "if not os.path.exists(param_dir):\n",
    "    os.mkdir(param_dir)\n",
    "    \n",
    "if not os.path.exists(evzoom_dir):\n",
    "    cmd = f'cp -r {evzoom_template_dir} {evzoom_dir}'\n",
    "    print(cmd)\n",
    "    os.system(cmd)\n",
    "\n",
    "if not os.path.exists(contact_dir):\n",
    "    os.mkdir(contact_dir)\n",
    "    "
   ]
  },
  {
   "cell_type": "markdown",
   "metadata": {},
   "source": [
    "## 1. Load:\n",
    "- A) Genomic fasta sequences, \n",
    "- B) Reference Genomic Annotation (GCF_009858895.2)\n",
    "- C) Reference Gene Annotation (NC_045512.2)\n",
    "- D) S-protein fasta protein sequence"
   ]
  },
  {
   "cell_type": "code",
   "execution_count": 5,
   "metadata": {
    "ExecuteTime": {
     "end_time": "2020-04-03T22:07:38.082836Z",
     "start_time": "2020-04-03T22:07:38.008646Z"
    },
    "scrolled": false
   },
   "outputs": [
    {
     "data": {
      "text/plain": [
       "{'name': 'sars_cov2',\n",
       " 'ref_fasta': 'NC_045512.2.fasta',\n",
       " 'genomes_fasta': '2020-03-30-gisaid-seqs.fasta',\n",
       " 'S_protein_name': 'YP_009724390.1',\n",
       " 'annotation': 'GCF_009858895.2_ASM985889v3_genomic.gff'}"
      ]
     },
     "execution_count": 5,
     "metadata": {},
     "output_type": "execute_result"
    }
   ],
   "source": [
    "config = read_config_file(join(param_dir, param))\n",
    "config"
   ]
  },
  {
   "cell_type": "code",
   "execution_count": 6,
   "metadata": {
    "ExecuteTime": {
     "end_time": "2020-04-03T22:07:39.692019Z",
     "start_time": "2020-04-03T22:07:38.085634Z"
    },
    "scrolled": true
   },
   "outputs": [],
   "source": [
    "# ref_fasta = SeqIO.read(os.path.join(RAW,'NC_045512.2.fasta'), format=\"fasta\")\n",
    "# anno = pd.read_csv(glob.glob(RAW+\"/*.gff\")[0],sep=\"\\t\", comment=\"#\", header=None)\n",
    "# all_genomic_sequences = list(SeqIO.parse(os.path.join(RAW,\"gisaid_cov2020_sequences.fasta\"), \"fasta\"))\n",
    "\n",
    "# S_protein_name = \"YP_009724390.1\"\n",
    "# S_protein_fasta = SeqIO.read(os.path.join(RAW, S_protein_name+\".fasta\"),format='fasta')\n",
    "# S_protein_fasta = str(S_protein_fasta.seq)\n",
    "\n",
    "\n",
    "ref_fasta = SeqIO.read(os.path.join(RAW,config['ref_fasta']), format=\"fasta\")\n",
    "anno = pd.read_csv(join(RAW,config['annotation']),sep=\"\\t\", comment=\"#\", header=None)\n",
    "all_genomic_sequences = list(SeqIO.parse(os.path.join(RAW,config[\"genomes_fasta\"]), \"fasta\"))\n",
    "\n",
    "S_protein_name = config['S_protein_name']\n",
    "S_protein_fasta = SeqIO.read(os.path.join(RAW, S_protein_name+\".fasta\"),format='fasta')\n",
    "S_protein_fasta = str(S_protein_fasta.seq)\n"
   ]
  },
  {
   "cell_type": "markdown",
   "metadata": {},
   "source": [
    "## 2. Preprocess\n",
    "\n",
    "### a. Filter annotation for the S-protein.\n",
    "Confirm the protein sequence aligns with the genome annotation.\n",
    "- Extract the genomic region from annotation and take the sequence\n",
    "- Translate sequence\n",
    "- See if aligns with the Protein fasta sequence\n",
    "\n"
   ]
  },
  {
   "cell_type": "markdown",
   "metadata": {
    "ExecuteTime": {
     "end_time": "2020-03-20T21:29:10.486318Z",
     "start_time": "2020-03-20T21:29:10.479008Z"
    }
   },
   "source": [
    "See below that there are no introns,  so we can just use that sequence"
   ]
  },
  {
   "cell_type": "code",
   "execution_count": 7,
   "metadata": {
    "ExecuteTime": {
     "end_time": "2020-04-03T22:07:39.771092Z",
     "start_time": "2020-04-03T22:07:39.695226Z"
    },
    "scrolled": true
   },
   "outputs": [
    {
     "data": {
      "text/plain": [
       "1"
      ]
     },
     "execution_count": 7,
     "metadata": {},
     "output_type": "execute_result"
    }
   ],
   "source": [
    "anno_S = anno[anno[8].str.contains(S_protein_name)]\n",
    "\n",
    "#Extract protein sequence from this region\n",
    "S_gene_seq = ref_fasta.seq[anno_S[3].values[0]-1: anno_S[4].values[0]]\n",
    "annotation_protein_sequence = str(Seq.translate(S_gene_seq))\n",
    "annotation_protein_sequence = annotation_protein_sequence.replace(\"*\",\"\")\n",
    "\n",
    "S_gene_seq = SeqRecord.SeqRecord(S_gene_seq, id=S_protein_name)\n",
    "SeqIO.write(S_gene_seq, open(join(seqs_dir,\"S_gene.fasta\"),'w'),format='fasta')"
   ]
  },
  {
   "cell_type": "code",
   "execution_count": 8,
   "metadata": {
    "ExecuteTime": {
     "end_time": "2020-04-03T22:07:39.830146Z",
     "start_time": "2020-04-03T22:07:39.774030Z"
    },
    "code_folding": []
   },
   "outputs": [
    {
     "data": {
      "text/plain": [
       "[]"
      ]
     },
     "execution_count": 8,
     "metadata": {},
     "output_type": "execute_result"
    }
   ],
   "source": [
    "annotation_protein_mismatch = []\n",
    "for ind, val in enumerate(annotation_protein_sequence):\n",
    "    if S_protein_fasta[ind] != val:\n",
    "        annotation_protein_mismatch.append((ind, val))\n",
    "annotation_protein_mismatch"
   ]
  },
  {
   "cell_type": "markdown",
   "metadata": {},
   "source": [
    "### b. remove any sequence less than 29kb"
   ]
  },
  {
   "cell_type": "code",
   "execution_count": 9,
   "metadata": {
    "ExecuteTime": {
     "end_time": "2020-04-03T22:07:39.900210Z",
     "start_time": "2020-04-03T22:07:39.835274Z"
    },
    "scrolled": true
   },
   "outputs": [
    {
     "name": "stdout",
     "output_type": "stream",
     "text": [
      "Number of sequences before filtering: 2909\n",
      "Number of sequences after filtering for at least 29kb: 2794\n"
     ]
    }
   ],
   "source": [
    "print(f\"Number of sequences before filtering: {len(all_genomic_sequences)}\")\n",
    "all_genomic_sequences_filt = []\n",
    "for seq in all_genomic_sequences:\n",
    "    if len(seq.seq) >= 29000:\n",
    "        all_genomic_sequences_filt.append(seq)\n",
    "print(f\"Number of sequences after filtering for at least 29kb: {len(all_genomic_sequences_filt)}\")"
   ]
  },
  {
   "cell_type": "markdown",
   "metadata": {},
   "source": [
    "### c. Remove duplicates sequences"
   ]
  },
  {
   "cell_type": "code",
   "execution_count": 10,
   "metadata": {
    "ExecuteTime": {
     "end_time": "2020-04-03T22:07:40.234558Z",
     "start_time": "2020-04-03T22:07:39.903870Z"
    }
   },
   "outputs": [
    {
     "name": "stdout",
     "output_type": "stream",
     "text": [
      "Number of sequences after removing duplicate sequences: 2463\n"
     ]
    }
   ],
   "source": [
    "inds_to_remove = []\n",
    "curr_seqs = []\n",
    "\n",
    "for ind,seq in enumerate(all_genomic_sequences_filt):\n",
    "    if str(seq.seq) in curr_seqs:\n",
    "        inds_to_remove.append(seq.id)\n",
    "    else:\n",
    "        curr_seqs.append(str(seq.seq))\n",
    "\n",
    "all_genomic_sequences_filt = list(filter(lambda x: x.id not in inds_to_remove, all_genomic_sequences_filt))\n",
    "print(f\"Number of sequences after removing duplicate sequences: {len(all_genomic_sequences_filt)}\")\n"
   ]
  },
  {
   "cell_type": "markdown",
   "metadata": {},
   "source": [
    "### d. Remove duplicate IDs"
   ]
  },
  {
   "cell_type": "code",
   "execution_count": 11,
   "metadata": {
    "ExecuteTime": {
     "end_time": "2020-04-03T22:07:40.404915Z",
     "start_time": "2020-04-03T22:07:40.239106Z"
    }
   },
   "outputs": [
    {
     "name": "stdout",
     "output_type": "stream",
     "text": [
      "Number of sequences after removing duplicate sequences: 2460\n"
     ]
    }
   ],
   "source": [
    "inds_to_remove = []\n",
    "curr_names = []\n",
    "\n",
    "for ind,seq in enumerate(all_genomic_sequences_filt):\n",
    "    if seq.id in curr_names:\n",
    "        inds_to_remove.append(seq.id)\n",
    "    else:\n",
    "        curr_names.append(seq.id)\n",
    "\n",
    "all_genomic_sequences_filt = list(filter(lambda x: x.id not in inds_to_remove, all_genomic_sequences_filt))\n",
    "print(f\"Number of sequences after removing duplicate sequences: {len(all_genomic_sequences_filt)}\")\n"
   ]
  },
  {
   "cell_type": "markdown",
   "metadata": {},
   "source": [
    "### e. Remove animals "
   ]
  },
  {
   "cell_type": "code",
   "execution_count": 12,
   "metadata": {
    "ExecuteTime": {
     "end_time": "2020-04-03T22:07:40.470789Z",
     "start_time": "2020-04-03T22:07:40.408078Z"
    }
   },
   "outputs": [
    {
     "name": "stdout",
     "output_type": "stream",
     "text": [
      "2451\n"
     ]
    }
   ],
   "source": [
    "all_genomic_sequences_filt = list(filter(lambda x: not (\"pangolin\" in x.id or \"bat\" in x.id), all_genomic_sequences_filt))\n",
    "print(len(all_genomic_sequences_filt))"
   ]
  },
  {
   "cell_type": "markdown",
   "metadata": {},
   "source": [
    "## 3. Load the genome annotations from Erick, and for each genome in all_genomic_sequences_filt, get the Spike protein, translate it, and save it "
   ]
  },
  {
   "cell_type": "code",
   "execution_count": 13,
   "metadata": {
    "ExecuteTime": {
     "end_time": "2020-04-03T22:07:47.603606Z",
     "start_time": "2020-04-03T22:07:47.503189Z"
    }
   },
   "outputs": [],
   "source": [
    "def remove_chars(orig_str, chars = [\"|\",\")\",\"(\",\"*\"]):\n",
    "    return orig_str.replace(\"|\",\"_\").replace(\")\",\"\").replace(\"*\",\"_\").replace(\"(\",\"\").replace(\" \",\"_\").replace(\"-\",\"_\").replace(\"/\",\"\").replace(\">\",\"\")"
   ]
  },
  {
   "cell_type": "code",
   "execution_count": 14,
   "metadata": {
    "ExecuteTime": {
     "end_time": "2020-04-03T22:07:48.897887Z",
     "start_time": "2020-04-03T22:07:48.734016Z"
    },
    "scrolled": true
   },
   "outputs": [
    {
     "name": "stdout",
     "output_type": "stream",
     "text": [
      "Any duplicated IDs: False\n"
     ]
    },
    {
     "data": {
      "text/html": [
       "<div>\n",
       "<style scoped>\n",
       "    .dataframe tbody tr th:only-of-type {\n",
       "        vertical-align: middle;\n",
       "    }\n",
       "\n",
       "    .dataframe tbody tr th {\n",
       "        vertical-align: top;\n",
       "    }\n",
       "\n",
       "    .dataframe thead th {\n",
       "        text-align: right;\n",
       "    }\n",
       "</style>\n",
       "<table border=\"1\" class=\"dataframe\">\n",
       "  <thead>\n",
       "    <tr style=\"text-align: right;\">\n",
       "      <th></th>\n",
       "      <th>Id</th>\n",
       "      <th>Type</th>\n",
       "      <th>Start</th>\n",
       "      <th>End</th>\n",
       "      <th>Strand</th>\n",
       "    </tr>\n",
       "    <tr>\n",
       "      <th>Location</th>\n",
       "      <th></th>\n",
       "      <th></th>\n",
       "      <th></th>\n",
       "      <th></th>\n",
       "      <th></th>\n",
       "    </tr>\n",
       "  </thead>\n",
       "  <tbody>\n",
       "    <tr>\n",
       "      <th>hCoV-19/USA/WA-S88/2020|EPI_ISL_417141|2020-03-01</th>\n",
       "      <td>gene-S</td>\n",
       "      <td>gene</td>\n",
       "      <td>21563</td>\n",
       "      <td>25384</td>\n",
       "      <td>+</td>\n",
       "    </tr>\n",
       "    <tr>\n",
       "      <th>hCoV-19/USA/WA-S89/2020|EPI_ISL_417142|2020-02-29</th>\n",
       "      <td>gene-S</td>\n",
       "      <td>gene</td>\n",
       "      <td>21563</td>\n",
       "      <td>25384</td>\n",
       "      <td>+</td>\n",
       "    </tr>\n",
       "    <tr>\n",
       "      <th>hCoV-19/USA/WA-S87/2020|EPI_ISL_417140|2020-03-01</th>\n",
       "      <td>gene-S</td>\n",
       "      <td>gene</td>\n",
       "      <td>21563</td>\n",
       "      <td>25384</td>\n",
       "      <td>+</td>\n",
       "    </tr>\n",
       "    <tr>\n",
       "      <th>hCoV-19/USA/WA-S92/2020|EPI_ISL_417145|2020-02-29</th>\n",
       "      <td>gene-S</td>\n",
       "      <td>gene</td>\n",
       "      <td>21563</td>\n",
       "      <td>25384</td>\n",
       "      <td>+</td>\n",
       "    </tr>\n",
       "    <tr>\n",
       "      <th>hCoV-19/USA/WA-S93/2020|EPI_ISL_417146|2020-02-29</th>\n",
       "      <td>gene-S</td>\n",
       "      <td>gene</td>\n",
       "      <td>21563</td>\n",
       "      <td>25384</td>\n",
       "      <td>+</td>\n",
       "    </tr>\n",
       "  </tbody>\n",
       "</table>\n",
       "</div>"
      ],
      "text/plain": [
       "                                                       Id  Type  Start    End  \\\n",
       "Location                                                                        \n",
       "hCoV-19/USA/WA-S88/2020|EPI_ISL_417141|2020-03-01  gene-S  gene  21563  25384   \n",
       "hCoV-19/USA/WA-S89/2020|EPI_ISL_417142|2020-02-29  gene-S  gene  21563  25384   \n",
       "hCoV-19/USA/WA-S87/2020|EPI_ISL_417140|2020-03-01  gene-S  gene  21563  25384   \n",
       "hCoV-19/USA/WA-S92/2020|EPI_ISL_417145|2020-02-29  gene-S  gene  21563  25384   \n",
       "hCoV-19/USA/WA-S93/2020|EPI_ISL_417146|2020-02-29  gene-S  gene  21563  25384   \n",
       "\n",
       "                                                  Strand  \n",
       "Location                                                  \n",
       "hCoV-19/USA/WA-S88/2020|EPI_ISL_417141|2020-03-01      +  \n",
       "hCoV-19/USA/WA-S89/2020|EPI_ISL_417142|2020-02-29      +  \n",
       "hCoV-19/USA/WA-S87/2020|EPI_ISL_417140|2020-03-01      +  \n",
       "hCoV-19/USA/WA-S92/2020|EPI_ISL_417145|2020-02-29      +  \n",
       "hCoV-19/USA/WA-S93/2020|EPI_ISL_417146|2020-02-29      +  "
      ]
     },
     "execution_count": 14,
     "metadata": {},
     "output_type": "execute_result"
    }
   ],
   "source": [
    "all_annotations=pd.read_csv(join(RAW, 'erick', 'GISAID_Annotations.csv'))\n",
    "all_annotations.head()\n",
    "\n",
    "all_annotations = all_annotations[all_annotations[\"Id\"] == \"gene-S\"]\n",
    "all_annotations = all_annotations.set_index(\"Location\")\n",
    "print(\"Any duplicated IDs:\", all_annotations.index.duplicated().any())\n",
    "all_annotations.head()"
   ]
  },
  {
   "cell_type": "markdown",
   "metadata": {},
   "source": [
    "### No - strand"
   ]
  },
  {
   "cell_type": "code",
   "execution_count": 15,
   "metadata": {
    "ExecuteTime": {
     "end_time": "2020-04-03T22:07:50.618542Z",
     "start_time": "2020-04-03T22:07:50.553361Z"
    }
   },
   "outputs": [
    {
     "data": {
      "text/plain": [
       "False"
      ]
     },
     "execution_count": 15,
     "metadata": {},
     "output_type": "execute_result"
    }
   ],
   "source": [
    "(all_annotations[\"Strand\"]==\"-\").any()"
   ]
  },
  {
   "cell_type": "code",
   "execution_count": 16,
   "metadata": {
    "ExecuteTime": {
     "end_time": "2020-04-03T22:08:01.682589Z",
     "start_time": "2020-04-03T22:07:51.579545Z"
    },
    "scrolled": true
   },
   "outputs": [
    {
     "name": "stdout",
     "output_type": "stream",
     "text": [
      "Not seen in sequence data: 495\n",
      "Number of sequences in sequence data: 2451\n",
      "Number of unique names: 1956\n"
     ]
    }
   ],
   "source": [
    "S_proteins = []\n",
    "not_seen = []\n",
    "seq_lengths = []\n",
    "names = []\n",
    "for seq in all_genomic_sequences_filt:\n",
    "    S_gene_location = seq.name\n",
    "    if seq.name not in all_annotations.index:\n",
    "        not_seen.append(seq.name)\n",
    "    elif seq.name in names:\n",
    "        print(\"Duplicate!\", seq.name)\n",
    "        continue\n",
    "    else:\n",
    "        names.append(seq.name)\n",
    "        curr = all_annotations.loc[seq.name]\n",
    "        curr_S_sequence = seq.seq[curr[\"Start\"]-1:curr[\"End\"]]\n",
    "        #print(curr_S_sequence)\n",
    "        name = seq.id #remove_chars(seq.id)\n",
    "        S_proteins.append(SeqRecord.SeqRecord((Seq.translate(curr_S_sequence, stop_symbol=\"\")), id=name, name=name))\n",
    "        seq_lengths.append(len(str(Seq.translate(curr_S_sequence, stop_symbol=\"\"))))\n",
    "print(f\"Not seen in sequence data: {len(not_seen)}\")\n",
    "print(f\"Number of sequences in sequence data: {len(all_genomic_sequences_filt)}\")\n",
    "print(f\"Number of unique names: {len(names)}\")\n",
    "#     seq.seq= seq.seq.upper()\n",
    "#     seq.seq = str(seq.seq).replace(\"-\",\"\")\n",
    "    \n",
    "#     curr_out = pairwise2.align.localms(str(seq.seq),str(S_gene_seq.seq), 2, -10, -0.5, -0.1)#, one_alignment=True)\n",
    "#     curr_align = str(seq.seq)[curr_out[0][3]:curr_out[0][4]]\n",
    "\n",
    "#     S_all_proteins = [(SeqRecord.SeqRecord(Seq.Seq(Seq.translate(curr_align, stop_symbol=\"\")), id=name))]\n"
   ]
  },
  {
   "cell_type": "code",
   "execution_count": 17,
   "metadata": {
    "ExecuteTime": {
     "end_time": "2020-04-03T22:08:03.158318Z",
     "start_time": "2020-04-03T22:08:01.686594Z"
    },
    "scrolled": false
   },
   "outputs": [
    {
     "name": "stdout",
     "output_type": "stream",
     "text": [
      "0\n",
      "False\n"
     ]
    },
    {
     "data": {
      "text/plain": [
       "<matplotlib.axes._subplots.AxesSubplot at 0x7f57925be240>"
      ]
     },
     "execution_count": 17,
     "metadata": {},
     "output_type": "execute_result"
    }
   ],
   "source": [
    "print((np.array(seq_lengths) == 0).sum())\n",
    "print((np.array(seq_lengths)==1273).all())\n",
    "sns.countplot(seq_lengths,log=True)"
   ]
  },
  {
   "cell_type": "markdown",
   "metadata": {},
   "source": [
    "###  Additional filter to remove any lengths less than 1270"
   ]
  },
  {
   "cell_type": "code",
   "execution_count": 18,
   "metadata": {
    "ExecuteTime": {
     "end_time": "2020-04-03T22:08:03.226022Z",
     "start_time": "2020-04-03T22:08:03.163115Z"
    }
   },
   "outputs": [],
   "source": [
    "S_proteins = list(filter(lambda x: len(x.seq)>=1270, S_proteins))"
   ]
  },
  {
   "cell_type": "code",
   "execution_count": 19,
   "metadata": {
    "ExecuteTime": {
     "end_time": "2020-04-03T22:08:08.821763Z",
     "start_time": "2020-04-03T22:08:08.728430Z"
    },
    "scrolled": true
   },
   "outputs": [
    {
     "data": {
      "text/html": [
       "<div>\n",
       "<style scoped>\n",
       "    .dataframe tbody tr th:only-of-type {\n",
       "        vertical-align: middle;\n",
       "    }\n",
       "\n",
       "    .dataframe tbody tr th {\n",
       "        vertical-align: top;\n",
       "    }\n",
       "\n",
       "    .dataframe thead th {\n",
       "        text-align: right;\n",
       "    }\n",
       "</style>\n",
       "<table border=\"1\" class=\"dataframe\">\n",
       "  <thead>\n",
       "    <tr style=\"text-align: right;\">\n",
       "      <th></th>\n",
       "      <th>Id</th>\n",
       "      <th>Type</th>\n",
       "      <th>Start</th>\n",
       "      <th>End</th>\n",
       "      <th>Strand</th>\n",
       "    </tr>\n",
       "    <tr>\n",
       "      <th>Location</th>\n",
       "      <th></th>\n",
       "      <th></th>\n",
       "      <th></th>\n",
       "      <th></th>\n",
       "      <th></th>\n",
       "    </tr>\n",
       "  </thead>\n",
       "  <tbody>\n",
       "    <tr>\n",
       "      <th>hCoV-19/Czech</th>\n",
       "      <td>gene-S</td>\n",
       "      <td>gene</td>\n",
       "      <td>21556</td>\n",
       "      <td>25377</td>\n",
       "      <td>+</td>\n",
       "    </tr>\n",
       "  </tbody>\n",
       "</table>\n",
       "</div>"
      ],
      "text/plain": [
       "                   Id  Type  Start    End Strand\n",
       "Location                                        \n",
       "hCoV-19/Czech  gene-S  gene  21556  25377      +"
      ]
     },
     "execution_count": 19,
     "metadata": {},
     "output_type": "execute_result"
    }
   ],
   "source": [
    "all_annotations[all_annotations.index.str.contains(\"Czech\")]"
   ]
  },
  {
   "cell_type": "markdown",
   "metadata": {},
   "source": [
    "### Save the fasta sequences"
   ]
  },
  {
   "cell_type": "code",
   "execution_count": 20,
   "metadata": {
    "ExecuteTime": {
     "end_time": "2020-04-03T22:08:13.154970Z",
     "start_time": "2020-04-03T22:08:12.941809Z"
    },
    "scrolled": true
   },
   "outputs": [
    {
     "data": {
      "text/plain": [
       "1954"
      ]
     },
     "execution_count": 20,
     "metadata": {},
     "output_type": "execute_result"
    }
   ],
   "source": [
    "S_protein_sequences_f = join(align_concat_dir,\"S_protein.fasta\")\n",
    "SeqIO.write(S_proteins, open(S_protein_sequences_f,'w'),format='fasta')\n"
   ]
  },
  {
   "cell_type": "markdown",
   "metadata": {},
   "source": [
    "## 5. Plot similarity"
   ]
  },
  {
   "cell_type": "markdown",
   "metadata": {},
   "source": [
    "## 6. Run MSA on protein using clustalw"
   ]
  },
  {
   "cell_type": "code",
   "execution_count": 21,
   "metadata": {
    "ExecuteTime": {
     "end_time": "2020-04-03T22:22:00.165269Z",
     "start_time": "2020-04-03T22:08:16.977179Z"
    },
    "scrolled": true
   },
   "outputs": [
    {
     "name": "stdout",
     "output_type": "stream",
     "text": [
      "S_protein\n",
      "/home/isshamie/software/anaconda2/envs/coevolve/bin/python /data2/isshamie/coevolve/software/clustalo.py --email isshamie@ucsd.edu --stype protein --outfmt fa --outfile ../data/processed/align_fromErick/msa/S_protein.msa.fasta --sequence  ../data/processed/align_fromErick/seqs/S_protein_align_full/S_protein.fasta\n",
      "mv ../data/processed/align_fromErick/msa/S_protein.msa.fasta.aln-fasta.fasta ../data/processed/align_fromErick/msa/S_protein.msa.fasta\n"
     ]
    }
   ],
   "source": [
    "clustalw_query.extract_msa(S_protein_sequences_f,msa_out, CLUSTALW_CMD, \"isshamie@ucsd.edu\",\n",
    "                to_overwrite=True, web=True,\n",
    "                local_backup=True, num_cores=NUM_CORES, verbose=True)"
   ]
  },
  {
   "cell_type": "code",
   "execution_count": 22,
   "metadata": {
    "ExecuteTime": {
     "end_time": "2020-04-03T22:22:00.533559Z",
     "start_time": "2020-04-03T22:22:00.168618Z"
    },
    "scrolled": true
   },
   "outputs": [
    {
     "name": "stdout",
     "output_type": "stream",
     "text": [
      "sed 's/\\s.*$//' ../data/processed/align_fromErick/msa/S_protein.msa.fasta > ../data/processed/align_fromErick/msa/clean/S_protein.msa.fasta\n"
     ]
    },
    {
     "data": {
      "text/plain": [
       "0"
      ]
     },
     "execution_count": 22,
     "metadata": {},
     "output_type": "execute_result"
    }
   ],
   "source": [
    "## Remove characters after space\n",
    "cmd = f\"sed 's/\\s.*$//' {msa_f} > {msa_clean_f}\"\n",
    "print(cmd)\n",
    "os.system(cmd)"
   ]
  },
  {
   "cell_type": "markdown",
   "metadata": {},
   "source": [
    "## 7. Run EVCouplings\n",
    "- Create annotation and yaml\n",
    "- Run "
   ]
  },
  {
   "cell_type": "markdown",
   "metadata": {},
   "source": [
    "## See if a target sequence matches the full sequence and use that as target sequence. Otherwise choose randomly"
   ]
  },
  {
   "cell_type": "code",
   "execution_count": 23,
   "metadata": {
    "ExecuteTime": {
     "end_time": "2020-04-03T22:22:01.837097Z",
     "start_time": "2020-04-03T22:22:00.537775Z"
    }
   },
   "outputs": [],
   "source": [
    "record_dict = SeqIO.to_dict(SeqIO.parse(msa_f, \"fasta\"))\n",
    "anno_df = pd.DataFrame(index=record_dict.keys(),columns=[\"id\", \"name\", \"GN\", \"OS\", \"Tax\", \"RepID\",\n",
    "                       \"id_raw\"],dtype=str)\n",
    "for ind, val in anno_df.iterrows():\n",
    "    val[:] = ind\n",
    "anno_df.to_csv(anno_f, index=None)\n"
   ]
  },
  {
   "cell_type": "code",
   "execution_count": 24,
   "metadata": {
    "ExecuteTime": {
     "end_time": "2020-04-03T22:22:01.962668Z",
     "start_time": "2020-04-03T22:22:01.840348Z"
    },
    "code_folding": []
   },
   "outputs": [],
   "source": [
    "def create_annotation_from_fasta(msa_f, anno_f, include_region=False):\n",
    "    \"\"\"Create a csv file where each sequence is considered its own organism. \n",
    "    Columns needed are [\"id\", \"name\", \"GN\", \"OS\", \"Tax\", \"RepID\",\n",
    "                       \"id_raw\"] \"\"\"\n",
    "    record_dict = SeqIO.to_dict(SeqIO.parse(msa_f, \"fasta\"))\n",
    "    anno_df = pd.DataFrame(index=record_dict.keys(),columns=[\"id\", \"name\", \"GN\", \"OS\", \"Tax\", \"RepID\",\n",
    "                           \"id_raw\"],dtype=str)\n",
    "    for ind, val in anno_df.iterrows():\n",
    "        val[:] = ind\n",
    "    anno_df.to_csv(anno_f, index=None)\n",
    "    return\n",
    "\n",
    "# def run_yaml():\n",
    "#     configs = [os.path.join(outdir,  \"covid.yaml\")]\n",
    "#     print(configs)\n",
    "#     run_evc(configs, to_overwrite=True)\n",
    "#     return\n"
   ]
  },
  {
   "cell_type": "code",
   "execution_count": null,
   "metadata": {},
   "outputs": [],
   "source": []
  },
  {
   "cell_type": "markdown",
   "metadata": {
    "deletable": false,
    "editable": false,
    "run_control": {
     "frozen": true
    }
   },
   "source": [
    "## Run with both high coverage of a residue and low \n",
    "### Need a fake target sequence, so take the first one, but make sure the minimum_sequence_coverage is 0"
   ]
  },
  {
   "cell_type": "code",
   "execution_count": 25,
   "metadata": {
    "ExecuteTime": {
     "end_time": "2020-04-03T22:22:02.115057Z",
     "start_time": "2020-04-03T22:22:01.965734Z"
    }
   },
   "outputs": [
    {
     "name": "stdout",
     "output_type": "stream",
     "text": [
      "hCoV-19/USA/WA-S88/2020|EPI_ISL_417141|2020-03-01\n"
     ]
    }
   ],
   "source": [
    "protein_seqs = list(SeqIO.parse(join(align_concat_dir,\"S_protein.fasta\"), \"fasta\"))\n",
    "\n",
    "ref_protein = str(Seq.translate(S_gene_seq.seq, stop_symbol=\"\"))\n",
    "target_seq=\"\"\n",
    "for seq in protein_seqs:\n",
    "    if str(seq.seq) == ref_protein:\n",
    "        target_seq = seq.id\n",
    "        break\n",
    "print(target_seq)"
   ]
  },
  {
   "cell_type": "markdown",
   "metadata": {},
   "source": [
    "## length of each protein "
   ]
  },
  {
   "cell_type": "code",
   "execution_count": 26,
   "metadata": {
    "ExecuteTime": {
     "end_time": "2020-04-03T22:22:02.530756Z",
     "start_time": "2020-04-03T22:22:02.118381Z"
    }
   },
   "outputs": [
    {
     "name": "stderr",
     "output_type": "stream",
     "text": [
      "/home/isshamie/software/anaconda2/envs/coevolve/lib/python3.7/site-packages/seaborn/distributions.py:340: UserWarning: Attempted to set non-positive bottom ylim on a log-scaled axis.\n",
      "Invalid limit will be ignored.\n",
      "  ax.set_ylim(0, auto=None)\n"
     ]
    },
    {
     "data": {
      "text/plain": [
       "<matplotlib.axes._subplots.AxesSubplot at 0x7f57925be240>"
      ]
     },
     "execution_count": 26,
     "metadata": {},
     "output_type": "execute_result"
    }
   ],
   "source": [
    "import seaborn as sns\n",
    "\n",
    "s_lengths = []\n",
    "for seq in protein_seqs:\n",
    "    s_lengths.append(len(str(seq.seq)))\n",
    "    \n",
    "sns.distplot(s_lengths)"
   ]
  },
  {
   "cell_type": "code",
   "execution_count": 27,
   "metadata": {
    "ExecuteTime": {
     "end_time": "2020-04-03T22:43:47.039202Z",
     "start_time": "2020-04-03T22:22:02.541597Z"
    },
    "scrolled": true
   },
   "outputs": [
    {
     "name": "stdout",
     "output_type": "stream",
     "text": [
      "hCoV-19/USA/WA-S88/2020|EPI_ISL_417141|2020-03-01\n",
      "Creating file ../data/processed/align_fromErick/ev_params/col75_redund0.99.yaml\n",
      "../data/processed/align_fromErick/ev_params/col75_redund0.99.yaml\n",
      "../data/processed/align_fromErick/evc/col75_redund0.99\n",
      "{}\n",
      "HI\n"
     ]
    },
    {
     "name": "stderr",
     "output_type": "stream",
     "text": [
      "/data2/isshamie/coevolve/software/EVcouplings/evcouplings/couplings/pairs.py:593: RuntimeWarning: divide by zero encountered in log\n",
      "  params[0], params[1]\n",
      "/data2/isshamie/coevolve/software/EVcouplings/evcouplings/couplings/pairs.py:593: RuntimeWarning: invalid value encountered in multiply\n",
      "  params[0], params[1]\n",
      "/data2/isshamie/coevolve/software/EVcouplings/evcouplings/couplings/pairs.py:560: RuntimeWarning: divide by zero encountered in log\n",
      "  return np.sum(np.log(cls.mixture_pdf(x, *params)))\n",
      "/data2/isshamie/coevolve/software/EVcouplings/evcouplings/couplings/pairs.py:532: RuntimeWarning: invalid value encountered in true_divide\n",
      "  posterior[x > 0] = (1 - p) * f2[x > 0] / P[x > 0]\n",
      "/data2/isshamie/coevolve/software/EVcouplings/evcouplings/couplings/pairs.py:560: RuntimeWarning: divide by zero encountered in log\n",
      "  return np.sum(np.log(cls.mixture_pdf(x, *params)))\n",
      "/data2/isshamie/coevolve/software/EVcouplings/evcouplings/couplings/pairs.py:593: RuntimeWarning: divide by zero encountered in log\n",
      "  params[0], params[1]\n",
      "/data2/isshamie/coevolve/software/EVcouplings/evcouplings/couplings/pairs.py:593: RuntimeWarning: invalid value encountered in multiply\n",
      "  params[0], params[1]\n",
      "/data2/isshamie/coevolve/software/EVcouplings/evcouplings/couplings/pairs.py:602: RuntimeWarning: invalid value encountered in double_scalars\n",
      "  delta_loglk = loglk_new - loglk\n",
      "/data2/isshamie/coevolve/software/EVcouplings/evcouplings/visualize/parameters.py:137: RuntimeWarning: divide by zero encountered in log2\n",
      "  B = -fi * np.log2(fi)\n",
      "/data2/isshamie/coevolve/software/EVcouplings/evcouplings/visualize/parameters.py:137: RuntimeWarning: invalid value encountered in multiply\n",
      "  B = -fi * np.log2(fi)\n"
     ]
    }
   ],
   "source": [
    "## \n",
    "column_thresholds = [75]\n",
    "redundant_thresholds = [0.99]\n",
    "#similarity_threshold = 50\n",
    "\n",
    "files_to_run = []\n",
    "for col_thresh in column_thresholds:\n",
    "    for red_thresh in redundant_thresholds:\n",
    "        name = f\"col{col_thresh}_redund{red_thresh}\"\n",
    "        config = read_config_file(evc_template_f, preserve_order=True)\n",
    "        config[\"align\"][\"input_alignment\"] = msa_clean_f\n",
    "        config[\"align\"][\"override_annotation_file\"] = anno_f\n",
    "        if target_seq == \"\":\n",
    "            seqid = pd.read_csv(anno_f).iloc[100,0] #Just take any name\n",
    "        else:\n",
    "            seqid = target_seq\n",
    "        print(seqid)\n",
    "        config[\"align\"][\"sequence_id\"] = seqid\n",
    "        config[\"global\"][\"sequence_id\"] = seqid\n",
    "        config[\"global\"][\"sequence_file\"] = msa_clean_f\n",
    "        config[\"global\"][\"prefix\"] = os.path.join(ev_dir, name)\n",
    "        config[\"align\"][\"minimum_sequence_coverage\"] = 0\n",
    "        config[\"align\"][\"minimum_column_coverage\"] = col_thresh\n",
    "        config[\"align\"][\"theta\"] = red_thresh\n",
    "        config[\"global\"][\"theta\"] = red_thresh\n",
    "        out_f = join(ev_params_dir,name+\".yaml\")\n",
    "        files_to_run.append(out_f)\n",
    "        print(f\"Creating file {out_f}\")\n",
    "        write_config_file(out_f, config)\n",
    "        \n",
    "run_evc(files_to_run,to_overwrite=True)"
   ]
  },
  {
   "cell_type": "markdown",
   "metadata": {},
   "source": [
    "## Make EVZoom htmls and move jsons"
   ]
  },
  {
   "cell_type": "code",
   "execution_count": 28,
   "metadata": {
    "ExecuteTime": {
     "end_time": "2020-04-03T22:43:47.944730Z",
     "start_time": "2020-04-03T22:43:47.045100Z"
    },
    "scrolled": true
   },
   "outputs": [
    {
     "name": "stdout",
     "output_type": "stream",
     "text": [
      "col75_redund0.99\n",
      "cp ../data/processed/align_fromErick/evc/col75_redund0.99/couplings/col75_redund0.99_evzoom.json ../data/processed/align_fromErick/evzoom/data/col75_redund0.99_evzoom.json\n",
      "../data/processed/align_fromErick/evzoom/example/col75_redund0.99.html\n"
     ]
    },
    {
     "ename": "FileNotFoundError",
     "evalue": "[Errno 2] No such file or directory: '../data/processed/align_fromErick/evzoom/example/evzoom.html'",
     "output_type": "error",
     "traceback": [
      "\u001b[0;31m---------------------------------------------------------------------------\u001b[0m",
      "\u001b[0;31mFileNotFoundError\u001b[0m                         Traceback (most recent call last)",
      "\u001b[0;32m<ipython-input-28-b81b355ac48b>\u001b[0m in \u001b[0;36m<module>\u001b[0;34m\u001b[0m\n\u001b[1;32m     19\u001b[0m         \u001b[0mout_html\u001b[0m \u001b[0;34m=\u001b[0m \u001b[0mjoin\u001b[0m\u001b[0;34m(\u001b[0m\u001b[0mevzoom_dir\u001b[0m\u001b[0;34m,\u001b[0m \u001b[0;34m'example'\u001b[0m\u001b[0;34m,\u001b[0m\u001b[0mgene_of_interest\u001b[0m\u001b[0;34m+\u001b[0m\u001b[0;34m'.html'\u001b[0m\u001b[0;34m)\u001b[0m\u001b[0;34m\u001b[0m\u001b[0;34m\u001b[0m\u001b[0m\n\u001b[1;32m     20\u001b[0m         \u001b[0mprint\u001b[0m\u001b[0;34m(\u001b[0m\u001b[0mout_html\u001b[0m\u001b[0;34m)\u001b[0m\u001b[0;34m\u001b[0m\u001b[0;34m\u001b[0m\u001b[0m\n\u001b[0;32m---> 21\u001b[0;31m         \u001b[0;32mwith\u001b[0m \u001b[0mopen\u001b[0m\u001b[0;34m(\u001b[0m\u001b[0mtmp_html\u001b[0m\u001b[0;34m,\u001b[0m \u001b[0;34m\"r\"\u001b[0m\u001b[0;34m)\u001b[0m \u001b[0;32mas\u001b[0m \u001b[0mf\u001b[0m\u001b[0;34m:\u001b[0m\u001b[0;34m\u001b[0m\u001b[0;34m\u001b[0m\u001b[0m\n\u001b[0m\u001b[1;32m     22\u001b[0m             \u001b[0mpage\u001b[0m \u001b[0;34m=\u001b[0m \u001b[0mf\u001b[0m\u001b[0;34m.\u001b[0m\u001b[0mread\u001b[0m\u001b[0;34m(\u001b[0m\u001b[0;34m)\u001b[0m\u001b[0;34m\u001b[0m\u001b[0;34m\u001b[0m\u001b[0m\n\u001b[1;32m     23\u001b[0m         \u001b[0mnew_page\u001b[0m\u001b[0;34m=\u001b[0m\u001b[0;34m\"\"\u001b[0m\u001b[0;34m\u001b[0m\u001b[0;34m\u001b[0m\u001b[0m\n",
      "\u001b[0;31mFileNotFoundError\u001b[0m: [Errno 2] No such file or directory: '../data/processed/align_fromErick/evzoom/example/evzoom.html'"
     ]
    }
   ],
   "source": [
    "column_thresholds = [75]\n",
    "redundant_thresholds = [0.99]\n",
    "\n",
    "files_to_run = []\n",
    "for col_thresh in column_thresholds:\n",
    "    for red_thresh in redundant_thresholds:\n",
    "        gene_of_interest = f\"col{col_thresh}_redund{red_thresh}\"\n",
    "        print(gene_of_interest)\n",
    "        #Copy over json\n",
    "        coupling_prefix = os.path.join(ev_dir, gene_of_interest,\"couplings\",gene_of_interest)\n",
    "        json_f = coupling_prefix + '_evzoom.json'\n",
    "        out_json_f = evzoom_dir+\"/data/\" + os.path.basename(json_f)\n",
    "        cmd = f'cp {json_f} {out_json_f}'\n",
    "        print(cmd)\n",
    "        os.system(cmd)\n",
    "        \n",
    "        # Create the html file\n",
    "        tmp_html = join(evzoom_dir, 'example','evzoom.html')\n",
    "        out_html = join(evzoom_dir, 'example',gene_of_interest+'.html')\n",
    "        print(out_html)\n",
    "        with open(tmp_html, \"r\") as f:\n",
    "            page = f.read()\n",
    "        new_page=\"\"\n",
    "        line = f'<div id=\"evzoom-viewer\" data-couplings=../data/{basename(json_f)}> </div> '\n",
    "        for i in page.split(\"\\n\"):\n",
    "            if 'data-couplings' in i:\n",
    "                new_page = new_page + line + \"\\n\"\n",
    "            else:\n",
    "                new_page = new_page + i + \"\\n\"\n",
    "        new_page = new_page.strip(\"\\n\")\n",
    "        with open(out_html,'w') as f:\n",
    "            f.write(new_page)\n"
   ]
  },
  {
   "cell_type": "markdown",
   "metadata": {},
   "source": [
    "## After looking at the contact matrices, very little is different , so using column gap threshold= 75 and theta=0.9 parameters as the representative one\n",
    "(ask for other parameters if desired)"
   ]
  },
  {
   "cell_type": "code",
   "execution_count": null,
   "metadata": {
    "ExecuteTime": {
     "end_time": "2020-04-03T22:43:47.947998Z",
     "start_time": "2020-04-03T22:09:37.517Z"
    },
    "scrolled": true
   },
   "outputs": [],
   "source": [
    "col_thresh = 75\n",
    "red_thresh = 0.99\n",
    "name = f\"col{col_thresh}_redund{red_thresh}\"\n",
    "new_name = \"sars_cov2_S_protein\"\n",
    "\n",
    "name = f\"col{col_thresh}_redund{red_thresh}\"\n",
    "print(name)\n",
    "#Copy over json\n",
    "coupling_prefix = os.path.join(ev_dir, name,\"couplings\",name)\n",
    "json_f = coupling_prefix + '_evzoom.json'\n",
    "out_json_f = evzoom_dir+\"/data/\" + os.path.basename(json_f).replace(name,new_name )\n",
    "\n",
    "cmd = f'cp {json_f} {out_json_f}'\n",
    "print(cmd)\n",
    "os.system(cmd)\n",
    "\n",
    "# Create the html file\n",
    "tmp_html = join(evzoom_dir, 'example','evzoom.html')\n",
    "out_html = join(evzoom_dir, 'example',new_name+'.html')\n",
    "print(out_html)\n",
    "with open(tmp_html, \"r\") as f:\n",
    "    page = f.read()\n",
    "new_page=\"\"\n",
    "line = f'<div id=\"evzoom-viewer\" data-couplings=../data/{basename(out_json_f)}> </div> '\n",
    "for i in page.split(\"\\n\"):\n",
    "    if 'data-couplings' in i:\n",
    "        new_page = new_page + line + \"\\n\"\n",
    "    else:\n",
    "        new_page = new_page + i + \"\\n\"\n",
    "new_page = new_page.strip(\"\\n\")\n",
    "with open(out_html,'w') as f:\n",
    "    f.write(new_page)\n",
    "\n",
    "            \n"
   ]
  },
  {
   "cell_type": "markdown",
   "metadata": {},
   "source": [
    "## Create contact matrix for cn and probability"
   ]
  },
  {
   "cell_type": "code",
   "execution_count": null,
   "metadata": {
    "ExecuteTime": {
     "end_time": "2020-04-03T22:43:47.949610Z",
     "start_time": "2020-04-03T22:09:37.521Z"
    },
    "scrolled": true
   },
   "outputs": [],
   "source": [
    "## \n",
    "column_thresholds = [75]\n",
    "redundant_thresholds = [0.99]\n",
    "\n",
    "files_to_run = []\n",
    "\n",
    "for col_thresh in column_thresholds:\n",
    "    for red_thresh in redundant_thresholds:\n",
    "        gene_of_interest = f\"col{col_thresh}_redund{red_thresh}\"\n",
    "        print(gene_of_interest)\n",
    "        align_prefix = os.path.join(ev_dir,gene_of_interest,\"align\",gene_of_interest)\n",
    "        coupling_prefix = os.path.join(ev_dir, gene_of_interest,\"couplings\",gene_of_interest)\n",
    "\n",
    "        construct_monomer_contact_matrix(gene_of_interest, \n",
    "                                         input_dir = ev_dir, \n",
    "                                         to_plot=True, \n",
    "                                         f_save_fig = join(contact_dir, gene_of_interest+\"_pval\"),\n",
    "                                         f_save = join(contact_dir, gene_of_interest+\"_pval\"), \n",
    "                                         col='probability', conservation=True) \n",
    "        \n",
    "        construct_monomer_contact_matrix(gene_of_interest, \n",
    "                                         input_dir = ev_dir, \n",
    "                                         to_plot=True, \n",
    "                                         f_save_fig = join(contact_dir, gene_of_interest),\n",
    "                                         f_save = join(contact_dir, gene_of_interest), \n",
    "                                         col='cn', conservation=True) \n"
   ]
  },
  {
   "cell_type": "code",
   "execution_count": null,
   "metadata": {},
   "outputs": [],
   "source": []
  },
  {
   "cell_type": "code",
   "execution_count": null,
   "metadata": {},
   "outputs": [],
   "source": []
  }
 ],
 "metadata": {
  "kernelspec": {
   "display_name": "Python 3",
   "language": "python",
   "name": "python3"
  },
  "language_info": {
   "codemirror_mode": {
    "name": "ipython",
    "version": 3
   },
   "file_extension": ".py",
   "mimetype": "text/x-python",
   "name": "python",
   "nbconvert_exporter": "python",
   "pygments_lexer": "ipython3",
   "version": "3.7.3"
  }
 },
 "nbformat": 4,
 "nbformat_minor": 2
}
