{
 "cells": [
  {
   "cell_type": "markdown",
   "metadata": {},
   "source": [
    "## Need to run:\n",
    "coevolve python package (currently only installed locally in /data2/isshamie/coevolve/coevolve. Go to that folder and run pip install -e .)\n",
    "\n",
    "1. parameters folder. The evc template is in there and the parameter file that points to the genome information (in case that changes).  \n",
    "2. data/raw is the folder that contains that genome files  \n",
    "3. data/notebook with this file and Covid19 - Alignment and Couplings Output.ipynb"
   ]
  },
  {
   "cell_type": "markdown",
   "metadata": {},
   "source": [
    "### Parameter file (should be in parameters folder)"
   ]
  },
  {
   "cell_type": "code",
   "execution_count": 1,
   "metadata": {
    "ExecuteTime": {
     "end_time": "2020-03-25T21:48:19.855096Z",
     "start_time": "2020-03-25T21:48:19.851478Z"
    }
   },
   "outputs": [],
   "source": [
    "param = 'sars_cov2.yaml'"
   ]
  },
  {
   "cell_type": "markdown",
   "metadata": {},
   "source": [
    "### 0.1 Import "
   ]
  },
  {
   "cell_type": "code",
   "execution_count": 2,
   "metadata": {
    "ExecuteTime": {
     "end_time": "2020-03-25T21:48:22.525831Z",
     "start_time": "2020-03-25T21:48:19.860119Z"
    },
    "scrolled": true
   },
   "outputs": [
    {
     "name": "stderr",
     "output_type": "stream",
     "text": [
      "/home/isshamie/software/anaconda2/envs/coevolve/lib/python3.7/site-packages/statsmodels/tools/_testing.py:19: FutureWarning: pandas.util.testing is deprecated. Use the functions in the public API at pandas.testing instead.\n",
      "  import pandas.util.testing as tm\n"
     ]
    },
    {
     "name": "stdout",
     "output_type": "stream",
     "text": [
      "Project Directory: /data2/isshamie/coevolve\n",
      "\n",
      "Config paths:\n",
      "__name__ coevolve.config\n",
      "__package__ coevolve\n",
      "__file__ /data2/isshamie/coevolve/coevolve/config.py\n",
      "__cached__ /data2/isshamie/coevolve/coevolve/__pycache__/config.cpython-37.pyc\n",
      "path /data2/isshamie/coevolve/coevolve/config.py\n",
      "DATA_DIR /data2/isshamie/coevolve/data\n",
      "RESULTS /data2/isshamie/coevolve/data/processed\n",
      "FIGURES_DIR /data2/isshamie/coevolve/figures\n",
      "FIG_NET_DIR /data2/isshamie/coevolve/figures/networks\n",
      "PIPELINE_F /data2/isshamie/coevolve/reports/pipeline/Pipeline.xlsx\n",
      "DATA_FIG_DIR /data2/isshamie/coevolve/data/processed/figures\n",
      "PARAMS_DIR /data2/isshamie/coevolve/params\n",
      "TEST_DIR /data2/isshamie/coevolve/tests\n",
      "ORTHO_FIGURES_DIR /data2/isshamie/coevolve/figures/orthologs\n",
      "ORTHO_SEQS_DIR /data2/isshamie/coevolve/data/external/orthodb/protein_sequences/\n",
      "ODB_DIR /data2/isshamie/coevolve/data/external/orthodb/\n",
      "TAXA_ID_TO_NAME_RAW /data2/isshamie/coevolve/data/external/ncbi_taxonomy/names.dmp\n",
      "NCBI_FOLDER /data2/isshamie/coevolve/data/processed/ncbi_taxonomy/\n",
      "TAXA_ID_TO_NAME /data2/isshamie/coevolve/data/processed/ncbi_taxonomy/taxa_names.tsv\n",
      "ORTHO_SEQS_META_DIR /data2/isshamie/coevolve/data/processed/orthodb_meta/\n",
      "CLUSTALW_CMD /data2/isshamie/coevolve/software/clustalo.py\n",
      "CLUSTALW_DIR /data2/isshamie/coevolve/data/interim/clustalw_alignment/\n",
      "CLUSTALW_CLEAN_DIR /data2/isshamie/coevolve/data/interim/clustalw/\n",
      "ORTHO_OUTPUT /data2/isshamie/coevolve/data/processed/orthologs\n",
      "EVCOUPLINGS_CONFIG /data2/isshamie/coevolve/params/params_evcouplings/serpina1.yaml\n",
      "EVCOUPLINGS_CONFIG_DIR /data2/isshamie/coevolve/data/processed/params_evcouplings/\n",
      "ANNO_DIR /data2/isshamie/coevolve/data/processed/annotations/\n",
      "EVCOUPLINGS_INTRA_OUTPUT_DIR /data2/isshamie/coevolve/data/processed/evcoupling_intra_protein/\n",
      "EVCOUPLINGS_INTER_OUTPUT_DIR /data2/isshamie/coevolve/data/processed/evcoupling_inter_protein/\n",
      "CONTACT_DIR /data2/isshamie/coevolve/data/processed/contacts/\n",
      "FIGURES_CONTACT_DIR /data2/isshamie/coevolve/figures/contacts\n",
      "EVC_INTER_TEMPLATE /data2/isshamie/coevolve/params/params_evc_inter\n",
      "EVC_INTRA_TEMPLATE /data2/isshamie/coevolve/params/params_evc_intra\n",
      "EVCOUPLINGS_INTER_OUTPUT_DIR2 /data2/isshamie/coevolve/data/processed/evcoupling_inter_protein_2/\n",
      "EVCOUPLINGS_CONFIG_DIR2 /data2/isshamie/coevolve/data/processed/params_evcouplings_2/\n",
      "MI_DIR /data2/isshamie/coevolve/data/processed/MI\n",
      "EDGES_DIR /data2/isshamie/coevolve/data/interim/edges/\n",
      "d /data2/isshamie/coevolve/data/processed/MI\n",
      "UNIPROT_MAP /data2/isshamie/coevolve/data/external/biomart/mart_export_uniprot.txt\n",
      "GENE_MAP /data2/isshamie/coevolve/data/external/biomart/mart_export.txt\n",
      "SECM_ANNO /data2/isshamie/coevolve/data/external/secretory_annotations/SM_feizi.tsv\n",
      "SECP_ANNO /data2/isshamie/coevolve/data/external/secretory_annotations/SP_feizi.tsv\n",
      "NETWORKS_DIR /data/isshamie/Secretory_Modeling/Databases/preprocessed/\n",
      "NETWORKS_EXAMPLE_DIR /data2/isshamie/coevolve/data/external/networks/examples\n",
      "PREPPI_PREDICTION /data/isshamie/Secretory_Modeling/Databases/preprocessed/preppi_sm600.tsv\n",
      "/data2/isshamie/coevolve/software:/home/isshamie/software/anaconda2/envs/coevolve/bin:/home/isshamie/software/anaconda2/envs/coevolve/bin:/data/isshamie/software/cellranger-3.1.0:/home/isshamie/software/cellranger-3.1.0:/mnt/home/user.name/yard/apps/cellranger-3.0.2/cellranger:/home/isshamie/software/sratoolkit.2.9.6-1-centos_linux64/bin:/mnt/data/isshamie/neutrophils/NGS-Pipeline/Modules:/home/isshamie/software/FastQC:/home/isshamie/software/STAR-2.5.3a/bin/Linux_x86_64:/home/isshamie/meme/bin:/home/isshamie/software/homer/bin:/home/isshamie/bin:/home/isshamie/.local/bin:/home/isshamie/software/anaconda2/condabin:/data/isshamie/software/cellranger-3.1.0:/home/isshamie/software/cellranger-3.1.0:/mnt/home/user.name/yard/apps/cellranger-3.0.2/cellranger:/home/isshamie/software/sratoolkit.2.9.6-1-centos_linux64/bin:/mnt/data/isshamie/neutrophils/NGS-Pipeline/Modules:/home/isshamie/software/FastQC:/home/isshamie/software/STAR-2.5.3a/bin/Linux_x86_64:/home/isshamie/meme/bin:/home/isshamie/software/homer/bin:/usr/local/Modules/bin:/usr/local/sbin:/usr/local/bin:/usr/sbin:/usr/bin:/sbin:/bin:/usr/games:/usr/local/games:/snap/bin:/home/isshamie/.dotnet/tools:/usr/local/MATLAB/R2019a/bin:/home/isshamie/software/NGS-Pipeline/Modules:/home/isshamie/.bds:/home/isshamie/software/atac_dnase_pipelines:/home/isshamie/software/bedops/bin:/home/isshamie/software/subset-bam-1.0-x86_64-linux:/home/isshamie/software/glasbey:/usr/local/MATLAB/R2019a/bin:/home/isshamie/software/NGS-Pipeline/Modules:/home/isshamie/.bds:/home/isshamie/software/atac_dnase_pipelines:/home/isshamie/software/bedops/bin:/home/isshamie/software/subset-bam-1.0-x86_64-linux:/home/isshamie/software/glasbey\n",
      "Project Directory: /data2/isshamie/covid\n",
      "\n",
      "Config paths:\n",
      "__name__ config\n",
      "__package__ \n",
      "__file__ /data2/isshamie/covid/notebook/config.py\n",
      "__cached__ /data2/isshamie/covid/notebook/__pycache__/config.cpython-37.pyc\n",
      "path /data2/isshamie/covid/notebook/config.py\n",
      "DATA_DIR /data2/isshamie/covid/data\n",
      "RESULTS /data2/isshamie/covid/data/processed\n",
      "FIGURES_DIR /data2/isshamie/covid/figures\n",
      "CONTACT_FIGURES_DIR /data2/isshamie/covid/figures/contact\n",
      "FIG_NET_DIR /data2/isshamie/covid/figures/networks\n",
      "PIPELINE_F /data2/isshamie/covid/reports/pipeline/Pipeline.xlsx\n",
      "DATA_FIG_DIR /data2/isshamie/covid/data/processed/figures\n",
      "PARAMS_DIR /data2/isshamie/covid/parameters\n",
      "TEST_DIR /data2/isshamie/covid/tests\n",
      "d /data2/isshamie/covid/figures/contact\n",
      "UNIPROT_MAP /data2/isshamie/covid/data/external/biomart/mart_export_uniprot.txt\n",
      "GENE_MAP /data2/isshamie/covid/data/external/biomart/mart_export.txt\n",
      "SECM_ANNO /data2/isshamie/covid/data/external/secretory_annotations/SM_feizi.tsv\n",
      "SECP_ANNO /data2/isshamie/covid/data/external/secretory_annotations/SP_feizi.tsv\n",
      "NETWORKS_DIR /data/isshamie/Secretory_Modeling/Databases/preprocessed/\n",
      "NETWORKS_EXAMPLE_DIR /data2/isshamie/covid/data/external/networks/examples\n",
      "PREPPI_PREDICTION /data/isshamie/Secretory_Modeling/Databases/preprocessed/preppi_sm600.tsv\n"
     ]
    }
   ],
   "source": [
    "import pandas as pd\n",
    "import os\n",
    "import glob\n",
    "from Bio import SeqIO, Seq, pairwise2, SeqRecord, Align\n",
    "from os.path import join, basename\n",
    "import pickle\n",
    "import numpy as np\n",
    "from tqdm import tqdm\n",
    "from numpanpar import parallel_ar as parar\n",
    "\n",
    "from coevolve.msa import clustalw_query\n",
    "from coevolve.config import CLUSTALW_DIR, CLUSTALW_CMD, NUM_CORES, CLUSTALW_CLEAN_DIR\n",
    "from evcouplings.utils import read_config_file, write_config_file\n",
    "from coevolve.couplings.running_jobs_complexes import run_evc\n",
    "from coevolve.couplings.couplings_vis import construct_monomer_contact_matrix\n",
    "\n",
    "from config import RESULTS, CONTACT_FIGURES_DIR\n",
    "%load_ext autoreload\n",
    "%autoreload 2"
   ]
  },
  {
   "cell_type": "code",
   "execution_count": 3,
   "metadata": {
    "ExecuteTime": {
     "end_time": "2020-03-25T21:48:22.557241Z",
     "start_time": "2020-03-25T21:48:22.528281Z"
    }
   },
   "outputs": [],
   "source": [
    "from config import FIGURES_DIR, ROOT_DIR, PARAMS_DIR"
   ]
  },
  {
   "cell_type": "markdown",
   "metadata": {},
   "source": [
    "### Setup folders and files"
   ]
  },
  {
   "cell_type": "code",
   "execution_count": 4,
   "metadata": {
    "ExecuteTime": {
     "end_time": "2020-03-25T21:48:22.610268Z",
     "start_time": "2020-03-25T21:48:22.559474Z"
    }
   },
   "outputs": [],
   "source": [
    "RAW = join(ROOT_DIR,\"data\",\"raw\")\n",
    "outdir = join(ROOT_DIR,\"data\",\"processed\")\n",
    "\n",
    "\n",
    "seqs_dir = join(outdir,\"seqs\")\n",
    "align_dir = join(seqs_dir,\"S_protein_align\")\n",
    "align_concat_dir = join(seqs_dir,\"S_protein_align_full\")\n",
    "msa_out = join(outdir, \"msa\")\n",
    "anno_f = join(outdir, \"covid_annotations.csv\")\n",
    "ev_dir = join(outdir,\"evc\")\n",
    "contact_dir = join(outdir, \"contact\")\n",
    "ev_params_dir = join(outdir,\"ev_params\")\n",
    "evzoom_dir = join(outdir,\"evzoom\")\n",
    "evzoom_template_dir = join(ROOT_DIR, \"software\", \"EVzoom\")\n",
    "param_dir = PARAMS_DIR\n",
    "evc_template_f = join(param_dir,'evc',\"template.yaml\")\n",
    "\n",
    "msa_f = join(msa_out,\"S_protein.msa.fasta\")\n",
    "anno_f = join(seqs_dir, \"covid_annotations.csv\")\n",
    "clean = join(msa_out,\"clean\")\n",
    "if not os.path.exists(clean):\n",
    "    os.mkdir(clean)\n",
    "\n",
    "#clustalw_query.create_clean_clustalw_names(clean, [msa_f])\n",
    "\n",
    "msa_clean_f = join(clean, os.path.basename(msa_f))\n",
    "\n",
    "NUM_CORES = 32\n",
    "if not os.path.exists(outdir):\n",
    "    os.mkdir(outdir)\n",
    "\n",
    "if not os.path.exists(seqs_dir):\n",
    "    os.mkdir(seqs_dir)\n",
    "if not os.path.exists(align_dir):\n",
    "    os.mkdir(align_dir)\n",
    "    \n",
    "if not os.path.exists(align_concat_dir):\n",
    "    os.mkdir(align_concat_dir)\n",
    "    \n",
    "if not os.path.exists(msa_out):\n",
    "    os.mkdir(msa_out)\n",
    "    \n",
    "if not os.path.exists(ev_dir):\n",
    "    os.mkdir(ev_dir)\n",
    "    \n",
    "if not os.path.exists(ev_params_dir):\n",
    "    os.mkdir(ev_params_dir)\n",
    "    \n",
    "if not os.path.exists(param_dir):\n",
    "    os.mkdir(param_dir)\n",
    "    \n",
    "if not os.path.exists(evzoom_dir):\n",
    "    cmd = f'cp -r {evzoom_template_dir} {evzoom_dir}'\n",
    "    print(cmd)\n",
    "    os.system(cmd)\n",
    "\n",
    "if not os.path.exists(contact_dir):\n",
    "    os.mkdir(contact_dir)\n",
    "    "
   ]
  },
  {
   "cell_type": "markdown",
   "metadata": {},
   "source": [
    "## 1. Load:\n",
    "- A) Genomic fasta sequences, \n",
    "- B) Reference Genomic Annotation (GCF_009858895.2)\n",
    "- C) Reference Gene Annotation (NC_045512.2)\n",
    "- D) S-protein fasta protein sequence"
   ]
  },
  {
   "cell_type": "code",
   "execution_count": 5,
   "metadata": {
    "ExecuteTime": {
     "end_time": "2020-03-25T21:48:22.648463Z",
     "start_time": "2020-03-25T21:48:22.612304Z"
    },
    "scrolled": false
   },
   "outputs": [
    {
     "data": {
      "text/plain": [
       "{'ref_fasta': 'NC_045512.2.fasta',\n",
       " 'S_protein_name': 'YP_009724390.1',\n",
       " 'annotation': 'GCF_009858895.2_ASM985889v3_genomic.gff'}"
      ]
     },
     "execution_count": 5,
     "metadata": {},
     "output_type": "execute_result"
    }
   ],
   "source": [
    "config = read_config_file(join(param_dir, param))\n",
    "config"
   ]
  },
  {
   "cell_type": "code",
   "execution_count": 6,
   "metadata": {
    "ExecuteTime": {
     "end_time": "2020-03-25T21:46:44.963305Z",
     "start_time": "2020-03-25T21:46:44.792628Z"
    },
    "scrolled": true
   },
   "outputs": [],
   "source": [
    "# ref_fasta = SeqIO.read(os.path.join(RAW,'NC_045512.2.fasta'), format=\"fasta\")\n",
    "# anno = pd.read_csv(glob.glob(RAW+\"/*.gff\")[0],sep=\"\\t\", comment=\"#\", header=None)\n",
    "# all_genomic_sequences = list(SeqIO.parse(os.path.join(RAW,\"gisaid_cov2020_sequences.fasta\"), \"fasta\"))\n",
    "\n",
    "# S_protein_name = \"YP_009724390.1\"\n",
    "# S_protein_fasta = SeqIO.read(os.path.join(RAW, S_protein_name+\".fasta\"),format='fasta')\n",
    "# S_protein_fasta = str(S_protein_fasta.seq)\n",
    "\n",
    "\n",
    "ref_fasta = SeqIO.read(os.path.join(RAW,config['ref_fasta']), format=\"fasta\")\n",
    "anno = pd.read_csv(join(RAW,config['annotation']),sep=\"\\t\", comment=\"#\", header=None)\n",
    "all_genomic_sequences = list(SeqIO.parse(os.path.join(RAW,\"gisaid_cov2020_sequences.fasta\"), \"fasta\"))\n",
    "\n",
    "S_protein_name = config['S_protein_name']\n",
    "S_protein_fasta = SeqIO.read(os.path.join(RAW, S_protein_name+\".fasta\"),format='fasta')\n",
    "S_protein_fasta = str(S_protein_fasta.seq)\n"
   ]
  },
  {
   "cell_type": "markdown",
   "metadata": {},
   "source": [
    "## 2. Preprocess\n",
    "\n",
    "### a. Filter annotation for the S-protein.\n",
    "Confirm the protein sequence aligns with the genome annotation.\n",
    "- Extract the genomic region from annotation and take the sequence\n",
    "- Translate sequence\n",
    "- See if aligns with the Protein fasta sequence\n",
    "\n"
   ]
  },
  {
   "cell_type": "markdown",
   "metadata": {
    "ExecuteTime": {
     "end_time": "2020-03-20T21:29:10.486318Z",
     "start_time": "2020-03-20T21:29:10.479008Z"
    }
   },
   "source": [
    "See below that there are no introns,  so we can just use that sequence"
   ]
  },
  {
   "cell_type": "code",
   "execution_count": 7,
   "metadata": {
    "ExecuteTime": {
     "end_time": "2020-03-25T18:03:54.998604Z",
     "start_time": "2020-03-25T18:03:54.976386Z"
    },
    "scrolled": true
   },
   "outputs": [
    {
     "data": {
      "text/plain": [
       "1"
      ]
     },
     "execution_count": 7,
     "metadata": {},
     "output_type": "execute_result"
    }
   ],
   "source": [
    "anno_S = anno[anno[8].str.contains(S_protein_name)]\n",
    "\n",
    "#Extract protein sequence from this region\n",
    "S_gene_seq = ref_fasta.seq[anno_S[3].values[0]-1: anno_S[4].values[0]]\n",
    "annotation_protein_sequence = str(Seq.translate(S_gene_seq))\n",
    "annotation_protein_sequence = annotation_protein_sequence.replace(\"*\",\"\")\n",
    "\n",
    "S_gene_seq = SeqRecord.SeqRecord(S_gene_seq, id=S_protein_name)\n",
    "SeqIO.write(S_gene_seq, open(join(seqs_dir,\"S_gene.fasta\"),'w'),format='fasta')"
   ]
  },
  {
   "cell_type": "code",
   "execution_count": 8,
   "metadata": {
    "ExecuteTime": {
     "end_time": "2020-03-25T18:03:55.010282Z",
     "start_time": "2020-03-25T18:03:55.001435Z"
    },
    "code_folding": []
   },
   "outputs": [
    {
     "data": {
      "text/plain": [
       "[]"
      ]
     },
     "execution_count": 8,
     "metadata": {},
     "output_type": "execute_result"
    }
   ],
   "source": [
    "annotation_protein_mismatch = []\n",
    "for ind, val in enumerate(annotation_protein_sequence):\n",
    "    if S_protein_fasta[ind] != val:\n",
    "        annotation_protein_mismatch.append((ind, val))\n",
    "annotation_protein_mismatch"
   ]
  },
  {
   "cell_type": "markdown",
   "metadata": {},
   "source": [
    "### b. remove any sequence less than 20kb"
   ]
  },
  {
   "cell_type": "code",
   "execution_count": 9,
   "metadata": {
    "ExecuteTime": {
     "end_time": "2020-03-25T18:03:55.023485Z",
     "start_time": "2020-03-25T18:03:55.014691Z"
    },
    "scrolled": true
   },
   "outputs": [
    {
     "name": "stdout",
     "output_type": "stream",
     "text": [
      "Number of sequences beforeM filtering: 664\n",
      "Number of sequences after filtering: 563\n"
     ]
    }
   ],
   "source": [
    "print(f\"Number of sequences beforeM filtering: {len(all_genomic_sequences)}\")\n",
    "all_genomic_sequences_filt = []\n",
    "for seq in all_genomic_sequences:\n",
    "    if len(seq.seq) >= 20000:\n",
    "        all_genomic_sequences_filt.append(seq)\n",
    "print(f\"Number of sequences after filtering: {len(all_genomic_sequences_filt)}\")"
   ]
  },
  {
   "cell_type": "markdown",
   "metadata": {},
   "source": [
    "## 3. Local Alignment each sequence to the genome using Bio.pairwise2.align.localxx\n",
    "## and save the alignments and the translated sequence "
   ]
  },
  {
   "cell_type": "code",
   "execution_count": 10,
   "metadata": {
    "ExecuteTime": {
     "end_time": "2020-03-25T18:03:55.036281Z",
     "start_time": "2020-03-25T18:03:55.026573Z"
    }
   },
   "outputs": [],
   "source": [
    "def remove_chars(orig_str, chars = [\"|\",\")\",\"(\",\"*\"]):\n",
    "    return orig_str.replace(\"|\",\"_\").replace(\")\",\"\").replace(\"*\",\"_\").replace(\"(\",\"\").replace(\" \",\"_\").replace(\"-\",\"_\").replace(\"/\",\"\").replace(\">\",\"\")"
   ]
  },
  {
   "cell_type": "code",
   "execution_count": 11,
   "metadata": {
    "ExecuteTime": {
     "end_time": "2020-03-25T18:03:55.059415Z",
     "start_time": "2020-03-25T18:03:55.038841Z"
    }
   },
   "outputs": [],
   "source": [
    "def run_local(seqs, S_gene_seq=S_gene_seq, save_dir=align_dir,to_overwrite=False):\n",
    "    if not os.path.exists(save_dir):\n",
    "        print(f\"{save_dir} not made. Need to create it\")\n",
    "        return\n",
    "    invalid_seqs = []\n",
    "    S_align_full = dict()\n",
    "    S_align_first = dict()\n",
    "    S_align_first_seqs = dict() #Dictionary of the subseqeunce of the genome that locally aligned to the S gene.\n",
    "    S_all_proteins = []\n",
    "    count = 0\n",
    "    \n",
    "    for seq in tqdm(seqs):\n",
    "        try:\n",
    "            seq.seq= seq.seq.upper()\n",
    "            seq.seq = str(seq.seq).replace(\"-\",\"\")\n",
    "            name = remove_chars(seq.id)\n",
    "            curr_out = pairwise2.align.localms(str(seq.seq),str(S_gene_seq.seq), 2, -10, -0.5, -0.1)#, one_alignment=True)\n",
    "            curr_align = str(seq.seq)[curr_out[0][3]:curr_out[0][4]]\n",
    "\n",
    "            S_all_proteins = [(SeqRecord.SeqRecord(Seq.Seq(Seq.translate(curr_align, stop_symbol=\"\")), id=name))]\n",
    "            print('s all proteins', S_all_proteins)\n",
    "            print('to save', join(save_dir,name+\".protein.fasta\"))\n",
    "            pickle.dump([curr_out,str(seq.seq)[curr_out[0][3]:curr_out[0][4]],], open(join(save_dir, name+\".p\"),\"wb\"))\n",
    "            SeqIO.write(S_all_proteins, open(join(save_dir,name+\".protein.fasta\"),\"w\"),format=\"fasta\")\n",
    "        except TypeError:\n",
    "            with open(join(save_dir, 'invalid_' + name + '.txt'),'w') as f:\n",
    "                f.write(\"\")\n",
    "    return"
   ]
  },
  {
   "cell_type": "code",
   "execution_count": 12,
   "metadata": {
    "ExecuteTime": {
     "end_time": "2020-03-25T19:09:07.583123Z",
     "start_time": "2020-03-25T18:03:55.062291Z"
    },
    "scrolled": true
   },
   "outputs": [
    {
     "name": "stderr",
     "output_type": "stream",
     "text": [
      "  0%|          | 0/17 [00:00<?, ?it/s]"
     ]
    },
    {
     "name": "stdout",
     "output_type": "stream",
     "text": [
      "s all proteins [SeqRecord(seq=Seq('MFVFLVLLPLVSSQCVNLTTRTQLPPAYTNSFTRGVYYPDKVFRSSVLHSTQDL...HYT'), id='hCoV_19ChinaWHU022020_EPI_ISL_406717_2020_01_02', name='<unknown name>', description='<unknown description>', dbxrefs=[])]\n",
      "to save /data2/isshamie/covid/data/processed/seqs/S_protein_align/hCoV_19ChinaWHU022020_EPI_ISL_406717_2020_01_02.protein.fasta\n"
     ]
    },
    {
     "name": "stderr",
     "output_type": "stream",
     "text": [
      "  6%|▌         | 1/17 [02:56<47:02, 176.39s/it]/home/isshamie/software/anaconda2/envs/coevolve/lib/python3.7/site-packages/Bio/Seq.py:2859: BiopythonWarning: Partial codon, len(sequence) not a multiple of three. Explicitly trim the sequence or add trailing N before translation. This may become an error in future.\n",
      "  BiopythonWarning,\n"
     ]
    },
    {
     "name": "stdout",
     "output_type": "stream",
     "text": [
      "s all proteins [SeqRecord(seq=Seq('MFVFLVLLPLVSSQCVNLTTRTQLPPAYTNSFTRGVYYPDKVFRSSVLHSTQDL...HYT'), id='hCoV_19USAIL12020_EPI_ISL_404253_2020_01_21', name='<unknown name>', description='<unknown description>', dbxrefs=[])]\n",
      "to save /data2/isshamie/covid/data/processed/seqs/S_protein_align/hCoV_19USAIL12020_EPI_ISL_404253_2020_01_21.protein.fasta\n"
     ]
    },
    {
     "name": "stderr",
     "output_type": "stream",
     "text": [
      "\r",
      "  6%|▌         | 1/17 [02:56<47:07, 176.74s/it]"
     ]
    },
    {
     "name": "stdout",
     "output_type": "stream",
     "text": [
      "s all proteins [SeqRecord(seq=Seq('MFVFLVLLPLVSSQCVNLTTRTQLPPAYTNSFTRGVYYPDKVFRSSVLHSTQDL...HYT'), id='hCoV_19ShandongIVDC_SD_0012020_EPI_ISL_408482_2020_01_19', name='<unknown name>', description='<unknown description>', dbxrefs=[])]\n",
      "to save /data2/isshamie/covid/data/processed/seqs/S_protein_align/hCoV_19ShandongIVDC_SD_0012020_EPI_ISL_408482_2020_01_19.protein.fasta\n"
     ]
    },
    {
     "name": "stderr",
     "output_type": "stream",
     "text": [
      "\r",
      "  6%|▌         | 1/17 [02:59<47:57, 179.84s/it]"
     ]
    },
    {
     "name": "stdout",
     "output_type": "stream",
     "text": [
      "s all proteins [SeqRecord(seq=Seq('MFVFLVLLPLVSSQCVNLTTRTQLPPAYTNSFTRGVYYPDKVFRSSVLHSTQDL...HYT'), id='hCoV_19NetherlandsTilburg_13633542020_EPI_ISL_413586_2020_02_27', name='<unknown name>', description='<unknown description>', dbxrefs=[])]\n",
      "to save /data2/isshamie/covid/data/processed/seqs/S_protein_align/hCoV_19NetherlandsTilburg_13633542020_EPI_ISL_413586_2020_02_27.protein.fasta\n"
     ]
    },
    {
     "name": "stderr",
     "output_type": "stream",
     "text": [
      "\r",
      "  6%|▌         | 1/17 [03:03<49:02, 183.89s/it]"
     ]
    },
    {
     "name": "stdout",
     "output_type": "stream",
     "text": [
      "s all proteins [SeqRecord(seq=Seq('MFVFLVLLPLVSSQCVNLTTRTQLPPAYTNSFTRGVYYPDKVFRSSVLHSTQDL...HYT'), id='hCoV_19JapanHu_DP_Kng_19_0272020_EPI_ISL_412969_2020_02_10', name='<unknown name>', description='<unknown description>', dbxrefs=[])]\n",
      "to save /data2/isshamie/covid/data/processed/seqs/S_protein_align/hCoV_19JapanHu_DP_Kng_19_0272020_EPI_ISL_412969_2020_02_10.protein.fasta\n"
     ]
    },
    {
     "name": "stderr",
     "output_type": "stream",
     "text": [
      "  6%|▌         | 1/17 [03:03<49:02, 183.92s/it]/home/isshamie/software/anaconda2/envs/coevolve/lib/python3.7/site-packages/Bio/Seq.py:2859: BiopythonWarning: Partial codon, len(sequence) not a multiple of three. Explicitly trim the sequence or add trailing N before translation. This may become an error in future.\n",
      "  BiopythonWarning,\n"
     ]
    },
    {
     "name": "stdout",
     "output_type": "stream",
     "text": [
      "s all proteins [SeqRecord(seq=Seq('MFVFLVLLPLVSSQCVNLTTRTQLPPAYTNSFTRGVYYPDKVFRSSVLHSTQDL...HYT'), id='hCoV_19AustraliaNSW122020_EPI_ISL_413598_2020_03_04', name='<unknown name>', description='<unknown description>', dbxrefs=[])]\n",
      "to save /data2/isshamie/covid/data/processed/seqs/S_protein_align/hCoV_19AustraliaNSW122020_EPI_ISL_413598_2020_03_04.protein.fasta\n"
     ]
    },
    {
     "name": "stderr",
     "output_type": "stream",
     "text": [
      "\r",
      "  6%|▌         | 1/17 [03:04<49:08, 184.26s/it]"
     ]
    },
    {
     "name": "stdout",
     "output_type": "stream",
     "text": [
      "s all proteins [SeqRecord(seq=Seq('MFVFLVLLPLVSSQCVNLTTRTQLPPAYTNSFTRGVYYPDKVFRSSVLHSTQDL...HYT'), id='hCoV_19Taiwan22020_EPI_ISL_406031_2020_01_23', name='<unknown name>', description='<unknown description>', dbxrefs=[])]\n",
      "to save /data2/isshamie/covid/data/processed/seqs/S_protein_align/hCoV_19Taiwan22020_EPI_ISL_406031_2020_01_23.protein.fasta\n"
     ]
    },
    {
     "name": "stderr",
     "output_type": "stream",
     "text": [
      "\r",
      "  6%|▌         | 1/17 [03:07<49:56, 187.26s/it]"
     ]
    },
    {
     "name": "stdout",
     "output_type": "stream",
     "text": [
      "s all proteins [SeqRecord(seq=Seq('MFVFLVLLPLVSSQCVNLTTRTQLPPAYTNSFTRGVYYPDKVFRSSVLHSTQDL...HYT'), id='hCoV_19JapanTKYE61822020_EPI_ISL_414511_2020_01', name='<unknown name>', description='<unknown description>', dbxrefs=[])]\n",
      "to save /data2/isshamie/covid/data/processed/seqs/S_protein_align/hCoV_19JapanTKYE61822020_EPI_ISL_414511_2020_01.protein.fasta\n"
     ]
    },
    {
     "name": "stderr",
     "output_type": "stream",
     "text": [
      "  6%|▌         | 1/17 [03:07<49:59, 187.50s/it]/home/isshamie/software/anaconda2/envs/coevolve/lib/python3.7/site-packages/Bio/Seq.py:2859: BiopythonWarning: Partial codon, len(sequence) not a multiple of three. Explicitly trim the sequence or add trailing N before translation. This may become an error in future.\n",
      "  BiopythonWarning,\n"
     ]
    },
    {
     "name": "stdout",
     "output_type": "stream",
     "text": [
      "s all proteins [SeqRecord(seq=Seq('MFVFLVLLPLVSSQCVNLTTRTQLPPAYTNSFTRGVYYPDKVFRSSVLHSTQDL...HYT'), id='hCoV_19NetherlandsLimburg_22020_EPI_ISL_414424_2020_03_03', name='<unknown name>', description='<unknown description>', dbxrefs=[])]\n",
      "to save /data2/isshamie/covid/data/processed/seqs/S_protein_align/hCoV_19NetherlandsLimburg_22020_EPI_ISL_414424_2020_03_03.protein.fasta\n"
     ]
    },
    {
     "name": "stderr",
     "output_type": "stream",
     "text": [
      "\r",
      "  6%|▌         | 1/17 [03:12<51:18, 192.40s/it]"
     ]
    },
    {
     "name": "stdout",
     "output_type": "stream",
     "text": [
      "s all proteins [SeqRecord(seq=Seq('MFVFLVLLPLVSSQCVNLTTRTQLPPAYTNSFTRGVYYPDKVFRSSVLHSTQDL...HYT'), id='hCoV_19England2006902452020_EPI_ISL_414041_2020_02_08', name='<unknown name>', description='<unknown description>', dbxrefs=[])]\n",
      "to save /data2/isshamie/covid/data/processed/seqs/S_protein_align/hCoV_19England2006902452020_EPI_ISL_414041_2020_02_08.protein.fasta\n"
     ]
    },
    {
     "name": "stderr",
     "output_type": "stream",
     "text": [
      "  6%|▌         | 1/17 [03:19<53:04, 199.06s/it]/home/isshamie/software/anaconda2/envs/coevolve/lib/python3.7/site-packages/Bio/Seq.py:2859: BiopythonWarning: Partial codon, len(sequence) not a multiple of three. Explicitly trim the sequence or add trailing N before translation. This may become an error in future.\n",
      "  BiopythonWarning,\n"
     ]
    },
    {
     "name": "stdout",
     "output_type": "stream",
     "text": [
      "s all proteins [SeqRecord(seq=Seq('MFVFLVLLPLVSSQCVNLTTRTQLPPAYTNSFTRGVYYPDKVFRSSVLHSTQDL...HYT'), id='hCoV_19ChinaWF00282020_EPI_ISL_413791_2020_02', name='<unknown name>', description='<unknown description>', dbxrefs=[])]\n",
      "to save /data2/isshamie/covid/data/processed/seqs/S_protein_align/hCoV_19ChinaWF00282020_EPI_ISL_413791_2020_02.protein.fasta\n"
     ]
    },
    {
     "name": "stderr",
     "output_type": "stream",
     "text": [
      "  6%|▌         | 1/17 [03:28<55:42, 208.90s/it]/home/isshamie/software/anaconda2/envs/coevolve/lib/python3.7/site-packages/Bio/Seq.py:2859: BiopythonWarning: Partial codon, len(sequence) not a multiple of three. Explicitly trim the sequence or add trailing N before translation. This may become an error in future.\n",
      "  BiopythonWarning,\n"
     ]
    },
    {
     "name": "stdout",
     "output_type": "stream",
     "text": [
      "s all proteins [SeqRecord(seq=Seq('MFVFLVLLPLVSSQCVNLTTRTQLPPAYTNSFTRGVYYPDKVFRSSVLHSTQDL...HYT'), id='hCoV_19Sweden012020_EPI_ISL_411951_2020_02_07', name='<unknown name>', description='<unknown description>', dbxrefs=[])]\n",
      "to save /data2/isshamie/covid/data/processed/seqs/S_protein_align/hCoV_19Sweden012020_EPI_ISL_411951_2020_02_07.protein.fasta\n"
     ]
    },
    {
     "name": "stderr",
     "output_type": "stream",
     "text": [
      "\r",
      "  6%|▌         | 1/17 [03:36<57:49, 216.86s/it]"
     ]
    },
    {
     "name": "stdout",
     "output_type": "stream",
     "text": [
      "s all proteins [SeqRecord(seq=Seq('MFVFLVLLPLVSSQCVNLTTRTQLPPAYTNSFTRGVYYPDKVFRSSVLHSTQDL...HYT'), id='hCoV_19WuhanWIV062019_EPI_ISL_402129_2019_12_30', name='<unknown name>', description='<unknown description>', dbxrefs=[])]\n",
      "to save /data2/isshamie/covid/data/processed/seqs/S_protein_align/hCoV_19WuhanWIV062019_EPI_ISL_402129_2019_12_30.protein.fasta\n"
     ]
    },
    {
     "name": "stderr",
     "output_type": "stream",
     "text": [
      "  6%|▌         | 1/17 [03:38<58:08, 218.05s/it]/home/isshamie/software/anaconda2/envs/coevolve/lib/python3.7/site-packages/Bio/Seq.py:2859: BiopythonWarning: Partial codon, len(sequence) not a multiple of three. Explicitly trim the sequence or add trailing N before translation. This may become an error in future.\n",
      "  BiopythonWarning,\n"
     ]
    },
    {
     "name": "stdout",
     "output_type": "stream",
     "text": [
      "s all proteins [SeqRecord(seq=Seq('MFVFLVLLPLVSSQCVNLTTRTQLPPAYTNSFTRGVYYPDKVFRSSVLHSTQDL...YTT'), id='hCoV_19India1_272020_EPI_ISL_413522_2020_01_27', name='<unknown name>', description='<unknown description>', dbxrefs=[])]\n",
      "to save /data2/isshamie/covid/data/processed/seqs/S_protein_align/hCoV_19India1_272020_EPI_ISL_413522_2020_01_27.protein.fasta\n"
     ]
    },
    {
     "name": "stderr",
     "output_type": "stream",
     "text": [
      "\r",
      "  6%|▌         | 1/17 [03:43<59:28, 223.01s/it]"
     ]
    },
    {
     "name": "stdout",
     "output_type": "stream",
     "text": [
      "s all proteins [SeqRecord(seq=Seq('MFVFLVLLPLVSSQCVNLTTRTQLPPAYTNSFTRGVYYPDKVFRSSVLHSTQDL...HYT'), id='hCoV_19England2010000032020_EPI_ISL_414013_2020_03_01', name='<unknown name>', description='<unknown description>', dbxrefs=[])]\n",
      "to save /data2/isshamie/covid/data/processed/seqs/S_protein_align/hCoV_19England2010000032020_EPI_ISL_414013_2020_03_01.protein.fasta\n"
     ]
    },
    {
     "name": "stderr",
     "output_type": "stream",
     "text": [
      "  6%|▌         | 1/17 [03:47<1:00:45, 227.85s/it]/home/isshamie/software/anaconda2/envs/coevolve/lib/python3.7/site-packages/Bio/Seq.py:2859: BiopythonWarning: Partial codon, len(sequence) not a multiple of three. Explicitly trim the sequence or add trailing N before translation. This may become an error in future.\n",
      "  BiopythonWarning,\n"
     ]
    },
    {
     "name": "stdout",
     "output_type": "stream",
     "text": [
      "s all proteins [SeqRecord(seq=Seq('MFVFLVLLPLVSSQCVNLTTRTQLPPAYTNSFTRGVYYPDKVFRSSVLHSTQDL...HYT'), id='hCoV_19SwitzerlandAG03612020_EPI_ISL_413999_2020_02_27', name='<unknown name>', description='<unknown description>', dbxrefs=[])]\n",
      "to save /data2/isshamie/covid/data/processed/seqs/S_protein_align/hCoV_19SwitzerlandAG03612020_EPI_ISL_413999_2020_02_27.protein.fasta\n"
     ]
    },
    {
     "name": "stderr",
     "output_type": "stream",
     "text": [
      "\r",
      "  6%|▌         | 1/17 [03:49<1:01:13, 229.61s/it]"
     ]
    },
    {
     "name": "stdout",
     "output_type": "stream",
     "text": [
      "s all proteins [SeqRecord(seq=Seq('MFVFLVLLPLVSSQCVNLTTRTQLPPAYTNSFTRGVYYPDKVFRSSVLHSTQDL...HYT'), id='hCoV_19Fujian82020_EPI_ISL_411060_2020_01_21', name='<unknown name>', description='<unknown description>', dbxrefs=[])]\n",
      "to save /data2/isshamie/covid/data/processed/seqs/S_protein_align/hCoV_19Fujian82020_EPI_ISL_411060_2020_01_21.protein.fasta\n"
     ]
    },
    {
     "name": "stderr",
     "output_type": "stream",
     "text": [
      "  6%|▌         | 1/17 [03:50<1:01:32, 230.80s/it]/home/isshamie/software/anaconda2/envs/coevolve/lib/python3.7/site-packages/Bio/Seq.py:2859: BiopythonWarning: Partial codon, len(sequence) not a multiple of three. Explicitly trim the sequence or add trailing N before translation. This may become an error in future.\n",
      "  BiopythonWarning,\n"
     ]
    },
    {
     "name": "stdout",
     "output_type": "stream",
     "text": [
      "s all proteins [SeqRecord(seq=Seq('MFVFLVLLPLVSSQCVNLTTRTQLPPAYTNSFTRGVYYPDKVFRSSVLHSTQDL...HYT'), id='hCoV_19Switzerland10004773772020_EPI_ISL_413020_2020_02_27', name='<unknown name>', description='<unknown description>', dbxrefs=[])]\n",
      "to save /data2/isshamie/covid/data/processed/seqs/S_protein_align/hCoV_19Switzerland10004773772020_EPI_ISL_413020_2020_02_27.protein.fasta\n"
     ]
    },
    {
     "name": "stderr",
     "output_type": "stream",
     "text": [
      "\r",
      "  6%|▌         | 1/17 [03:52<1:01:55, 232.24s/it]"
     ]
    },
    {
     "name": "stdout",
     "output_type": "stream",
     "text": [
      "s all proteins [SeqRecord(seq=Seq('MFVFLVLLPLVSSQCVNLTTRTQLPPAYTNSFTRGVYYPDKVFRSSVLHSTQDL...HYT'), id='hCoV_19Nonthaburi742020_EPI_ISL_403963_2020_01_13', name='<unknown name>', description='<unknown description>', dbxrefs=[])]\n",
      "to save /data2/isshamie/covid/data/processed/seqs/S_protein_align/hCoV_19Nonthaburi742020_EPI_ISL_403963_2020_01_13.protein.fasta\n"
     ]
    },
    {
     "name": "stderr",
     "output_type": "stream",
     "text": [
      "  6%|▌         | 1/17 [04:00<1:04:03, 240.22s/it]/home/isshamie/software/anaconda2/envs/coevolve/lib/python3.7/site-packages/Bio/Seq.py:2859: BiopythonWarning: Partial codon, len(sequence) not a multiple of three. Explicitly trim the sequence or add trailing N before translation. This may become an error in future.\n",
      "  BiopythonWarning,\n"
     ]
    },
    {
     "name": "stdout",
     "output_type": "stream",
     "text": [
      "s all proteins [SeqRecord(seq=Seq('MFVFLVLLPLVSSQCVNLTTRTQLPPAYTNSFTRGVYYPDKVFRSSVLHSTQDL...HYT'), id='hCoV_19NetherlandsBlaricum_13647802020_EPI_ISL_413566_2020_03_02', name='<unknown name>', description='<unknown description>', dbxrefs=[])]\n",
      "to save /data2/isshamie/covid/data/processed/seqs/S_protein_align/hCoV_19NetherlandsBlaricum_13647802020_EPI_ISL_413566_2020_03_02.protein.fasta\n"
     ]
    },
    {
     "name": "stderr",
     "output_type": "stream",
     "text": [
      "\r",
      "  6%|▌         | 1/17 [04:00<1:04:04, 240.29s/it]"
     ]
    },
    {
     "name": "stdout",
     "output_type": "stream",
     "text": [
      "s all proteins [SeqRecord(seq=Seq('MFVFLVLLPLVSSQCVNLTTRTQLPPAYTNSFTRGVYYPDKVFRSSVLHSTQDL...HYT'), id='hCoV_19USACruiseA_102020_EPI_ISL_413615_2020_02_17', name='<unknown name>', description='<unknown description>', dbxrefs=[])]\n",
      "to save /data2/isshamie/covid/data/processed/seqs/S_protein_align/hCoV_19USACruiseA_102020_EPI_ISL_413615_2020_02_17.protein.fasta\n"
     ]
    },
    {
     "name": "stderr",
     "output_type": "stream",
     "text": [
      "\r",
      "  6%|▌         | 1/17 [04:01<1:04:18, 241.16s/it]"
     ]
    },
    {
     "name": "stdout",
     "output_type": "stream",
     "text": [
      "s all proteins [SeqRecord(seq=Seq('MFVFLVLLPLVSSQCVNLTTRTQLPPAYTNSFTRGVYYPDKVFRSSVLHSTQDL...HYT'), id='hCoV_19USAWA9_UW62020_EPI_ISL_413487_2020_03_01', name='<unknown name>', description='<unknown description>', dbxrefs=[])]\n",
      "to save /data2/isshamie/covid/data/processed/seqs/S_protein_align/hCoV_19USAWA9_UW62020_EPI_ISL_413487_2020_03_01.protein.fasta\n"
     ]
    },
    {
     "name": "stderr",
     "output_type": "stream",
     "text": [
      "  6%|▌         | 1/17 [04:01<1:04:22, 241.39s/it]/home/isshamie/software/anaconda2/envs/coevolve/lib/python3.7/site-packages/Bio/Seq.py:2859: BiopythonWarning: Partial codon, len(sequence) not a multiple of three. Explicitly trim the sequence or add trailing N before translation. This may become an error in future.\n",
      "  BiopythonWarning,\n"
     ]
    },
    {
     "name": "stdout",
     "output_type": "stream",
     "text": [
      "s all proteins [SeqRecord(seq=Seq('MFVFLVLLPLVSSQCVNLTTRTQLPPAYTNSFTRGVYYPDKVFRSSVLHSTQDL...HYT'), id='hCoV_19GuangdongGD2020115_P00092020_EPI_ISL_413884_2020_02_01', name='<unknown name>', description='<unknown description>', dbxrefs=[])]\n",
      "to save /data2/isshamie/covid/data/processed/seqs/S_protein_align/hCoV_19GuangdongGD2020115_P00092020_EPI_ISL_413884_2020_02_01.protein.fasta\n"
     ]
    },
    {
     "name": "stderr",
     "output_type": "stream",
     "text": [
      "/home/isshamie/software/anaconda2/envs/coevolve/lib/python3.7/site-packages/Bio/Seq.py:2859: BiopythonWarning: Partial codon, len(sequence) not a multiple of three. Explicitly trim the sequence or add trailing N before translation. This may become an error in future.\n",
      "  BiopythonWarning,\n",
      "  6%|▌         | 1/17 [04:01<1:04:25, 241.58s/it]"
     ]
    },
    {
     "name": "stdout",
     "output_type": "stream",
     "text": [
      "s all proteins [SeqRecord(seq=Seq('MFVFLVLLPLVSSQCVNLTTRTQLPPAYTNSFTRGVYYPDKVFRSSVLHSTQDL...HYT'), id='hCoV_19England022020_EPI_ISL_407073_2020_01_29', name='<unknown name>', description='<unknown description>', dbxrefs=[])]\n",
      "to save /data2/isshamie/covid/data/processed/seqs/S_protein_align/hCoV_19England022020_EPI_ISL_407073_2020_01_29.protein.fasta\n"
     ]
    },
    {
     "name": "stderr",
     "output_type": "stream",
     "text": [
      "  6%|▌         | 1/17 [04:01<1:04:25, 241.62s/it]/home/isshamie/software/anaconda2/envs/coevolve/lib/python3.7/site-packages/Bio/Seq.py:2859: BiopythonWarning: Partial codon, len(sequence) not a multiple of three. Explicitly trim the sequence or add trailing N before translation. This may become an error in future.\n",
      "  BiopythonWarning,\n"
     ]
    },
    {
     "name": "stdout",
     "output_type": "stream",
     "text": [
      "s all proteins [SeqRecord(seq=Seq('MFVFLVLLPLVSSQCVNLTTRTQLPPAYTNSFTRGVYYPDKVFRSSVLHSTQDL...HYT'), id='hCoV_19NetherlandsUtrecht_82020_EPI_ISL_414441_2020_03_03', name='<unknown name>', description='<unknown description>', dbxrefs=[])]\n",
      "to save /data2/isshamie/covid/data/processed/seqs/S_protein_align/hCoV_19NetherlandsUtrecht_82020_EPI_ISL_414441_2020_03_03.protein.fasta\n"
     ]
    },
    {
     "name": "stderr",
     "output_type": "stream",
     "text": [
      "  6%|▌         | 1/17 [04:01<1:04:27, 241.73s/it]/home/isshamie/software/anaconda2/envs/coevolve/lib/python3.7/site-packages/Bio/Seq.py:2859: BiopythonWarning: Partial codon, len(sequence) not a multiple of three. Explicitly trim the sequence or add trailing N before translation. This may become an error in future.\n",
      "  BiopythonWarning,\n"
     ]
    },
    {
     "name": "stdout",
     "output_type": "stream",
     "text": [
      "s all proteins [SeqRecord(seq=Seq('MFVFLVLLPLVSSQCVNLTTRTQLPPAYTNSFTRGVYYPDKVFRSSVLHSTQDL...HYT'), id='hCoV_19NetherlandsNoordBrabant_212020_EPI_ISL_414530_2020_03_04', name='<unknown name>', description='<unknown description>', dbxrefs=[])]\n",
      "to save /data2/isshamie/covid/data/processed/seqs/S_protein_align/hCoV_19NetherlandsNoordBrabant_212020_EPI_ISL_414530_2020_03_04.protein.fasta\n"
     ]
    },
    {
     "name": "stderr",
     "output_type": "stream",
     "text": [
      "\r",
      "  6%|▌         | 1/17 [04:10<1:06:42, 250.16s/it]"
     ]
    },
    {
     "name": "stdout",
     "output_type": "stream",
     "text": [
      "s all proteins [SeqRecord(seq=Seq('MFVFLVLLPLVSSQCVNLTTRTQLPPAYTNSFTRGVYYPDKVFRSSVLHSTQDL...HYT'), id='hCoV_19NetherlandsZuidHolland_212020_EPI_ISL_414563_2020_03_03', name='<unknown name>', description='<unknown description>', dbxrefs=[])]\n",
      "to save /data2/isshamie/covid/data/processed/seqs/S_protein_align/hCoV_19NetherlandsZuidHolland_212020_EPI_ISL_414563_2020_03_03.protein.fasta\n"
     ]
    },
    {
     "name": "stderr",
     "output_type": "stream",
     "text": [
      "\r",
      "  6%|▌         | 1/17 [04:11<1:07:03, 251.46s/it]"
     ]
    },
    {
     "name": "stdout",
     "output_type": "stream",
     "text": [
      "s all proteins [SeqRecord(seq=Seq('MFVFLVLLPLVSSQCVNLTTRTQLPPAYTNSFTRGVYYPDKVFRSSVLHSTQDL...HYT'), id='hCoV_19FranceGE15832020_EPI_ISL_414600_2020_02_26', name='<unknown name>', description='<unknown description>', dbxrefs=[])]\n",
      "to save /data2/isshamie/covid/data/processed/seqs/S_protein_align/hCoV_19FranceGE15832020_EPI_ISL_414600_2020_02_26.protein.fasta\n"
     ]
    },
    {
     "name": "stderr",
     "output_type": "stream",
     "text": [
      "  6%|▌         | 1/17 [04:16<1:08:17, 256.07s/it]/home/isshamie/software/anaconda2/envs/coevolve/lib/python3.7/site-packages/Bio/Seq.py:2859: BiopythonWarning: Partial codon, len(sequence) not a multiple of three. Explicitly trim the sequence or add trailing N before translation. This may become an error in future.\n",
      "  BiopythonWarning,\n"
     ]
    },
    {
     "name": "stdout",
     "output_type": "stream",
     "text": [
      "s all proteins [SeqRecord(seq=Seq('MFVFLVLLPLVSSQCVNLTTRTQLPPAYTNSFTRGVYYPDKVFRSSVLHSTQDL...HYT'), id='hCoV_19GermanyNRW_082020_EPI_ISL_414508_2020_02_27', name='<unknown name>', description='<unknown description>', dbxrefs=[])]\n",
      "to save /data2/isshamie/covid/data/processed/seqs/S_protein_align/hCoV_19GermanyNRW_082020_EPI_ISL_414508_2020_02_27.protein.fasta\n"
     ]
    },
    {
     "name": "stderr",
     "output_type": "stream",
     "text": [
      "  6%|▌         | 1/17 [04:17<1:08:32, 257.06s/it]/home/isshamie/software/anaconda2/envs/coevolve/lib/python3.7/site-packages/Bio/Seq.py:2859: BiopythonWarning: Partial codon, len(sequence) not a multiple of three. Explicitly trim the sequence or add trailing N before translation. This may become an error in future.\n",
      "  BiopythonWarning,\n"
     ]
    },
    {
     "name": "stdout",
     "output_type": "stream",
     "text": [
      "s all proteins [SeqRecord(seq=Seq('MFVFLVLLPLVSSQCVNLTTRTQLPPAYTNSFTRGVYYPDKVFRSSVLHSTQDL...HYT'), id='hCoV_19SichuanIVDC_SC_0012020_EPI_ISL_408484_2020_01_15', name='<unknown name>', description='<unknown description>', dbxrefs=[])]\n",
      "to save /data2/isshamie/covid/data/processed/seqs/S_protein_align/hCoV_19SichuanIVDC_SC_0012020_EPI_ISL_408484_2020_01_15.protein.fasta\n"
     ]
    },
    {
     "name": "stderr",
     "output_type": "stream",
     "text": [
      "\r",
      " 12%|█▏        | 2/17 [05:46<43:57, 175.83s/it]"
     ]
    },
    {
     "name": "stdout",
     "output_type": "stream",
     "text": [
      "s all proteins [SeqRecord(seq=Seq('MFVFLVLLPLVSSQCVNLTTRTQLPPAYTNSFTRGVYYPDKVFRSSVLHSTQDL...HYT'), id='hCoV_19WuhanWH032020_EPI_ISL_406800_2020_01_01', name='<unknown name>', description='<unknown description>', dbxrefs=[])]\n",
      "to save /data2/isshamie/covid/data/processed/seqs/S_protein_align/hCoV_19WuhanWH032020_EPI_ISL_406800_2020_01_01.protein.fasta\n"
     ]
    },
    {
     "name": "stderr",
     "output_type": "stream",
     "text": [
      "\r",
      " 12%|█▏        | 2/17 [05:48<43:44, 174.99s/it]"
     ]
    },
    {
     "name": "stdout",
     "output_type": "stream",
     "text": [
      "s all proteins [SeqRecord(seq=Seq('MFVFLVLLPLVSSQCVNLTTRTQLPPAYTNSFTRGVYYPDKVFRSSVLHSTQDL...HYT'), id='hCoV_19USACA12020_EPI_ISL_406034_2020_01_23', name='<unknown name>', description='<unknown description>', dbxrefs=[])]\n",
      "to save /data2/isshamie/covid/data/processed/seqs/S_protein_align/hCoV_19USACA12020_EPI_ISL_406034_2020_01_23.protein.fasta\n"
     ]
    },
    {
     "name": "stderr",
     "output_type": "stream",
     "text": [
      "\r",
      " 12%|█▏        | 2/17 [05:49<43:54, 175.63s/it]"
     ]
    },
    {
     "name": "stdout",
     "output_type": "stream",
     "text": [
      "s all proteins [SeqRecord(seq=Seq('MFVFLVLLPLVSSQCVNLTTRTQLPPAYTNSFTRGVYYPDKVFRSSVLHSTQDL...HYT'), id='hCoV_19AustraliaNSW132020_EPI_ISL_413599_2020_03_04', name='<unknown name>', description='<unknown description>', dbxrefs=[])]\n",
      "to save /data2/isshamie/covid/data/processed/seqs/S_protein_align/hCoV_19AustraliaNSW132020_EPI_ISL_413599_2020_03_04.protein.fasta\n"
     ]
    },
    {
     "name": "stderr",
     "output_type": "stream",
     "text": [
      "\r",
      " 12%|█▏        | 2/17 [05:51<44:45, 179.02s/it]"
     ]
    },
    {
     "name": "stdout",
     "output_type": "stream",
     "text": [
      "s all proteins [SeqRecord(seq=Seq('MFVFLVLLPLVSSQCVNLTTRTQLPPAYTNSFTRGVYYPDKVFRSSVLHSTQDL...HYT'), id='hCoV_19NetherlandsNieuwendijk_13635822020_EPI_ISL_413578_2020_03_01', name='<unknown name>', description='<unknown description>', dbxrefs=[])]\n",
      "to save /data2/isshamie/covid/data/processed/seqs/S_protein_align/hCoV_19NetherlandsNieuwendijk_13635822020_EPI_ISL_413578_2020_03_01.protein.fasta\n"
     ]
    },
    {
     "name": "stderr",
     "output_type": "stream",
     "text": [
      " 12%|█▏        | 2/17 [05:59<45:19, 181.32s/it]/home/isshamie/software/anaconda2/envs/coevolve/lib/python3.7/site-packages/Bio/Seq.py:2859: BiopythonWarning: Partial codon, len(sequence) not a multiple of three. Explicitly trim the sequence or add trailing N before translation. This may become an error in future.\n",
      "  BiopythonWarning,\n"
     ]
    },
    {
     "name": "stdout",
     "output_type": "stream",
     "text": [
      "s all proteins [SeqRecord(seq=Seq('MFVFLVLLPLVSSQCVNLTTRTQLPPAYTNSFTRGVYYPDKVFRSSVLHSTQDL...KVK'), id='hCoV_19FinlandFIN_252020_EPI_ISL_412971_2020_02_25', name='<unknown name>', description='<unknown description>', dbxrefs=[])]\n",
      "to save /data2/isshamie/covid/data/processed/seqs/S_protein_align/hCoV_19FinlandFIN_252020_EPI_ISL_412971_2020_02_25.protein.fasta\n"
     ]
    },
    {
     "name": "stderr",
     "output_type": "stream",
     "text": [
      "\r",
      " 12%|█▏        | 2/17 [05:59<45:23, 181.56s/it]"
     ]
    },
    {
     "name": "stdout",
     "output_type": "stream",
     "text": [
      "s all proteins [SeqRecord(seq=Seq('MFVFLVLLPLVSSQCVNLTTRTQLPPAYTNSFTRGVYYPDKVFRSSVLHSTQDL...HYT'), id='hCoV_19Sydney22020_EPI_ISL_408976_2020_01_22', name='<unknown name>', description='<unknown description>', dbxrefs=[])]\n",
      "to save /data2/isshamie/covid/data/processed/seqs/S_protein_align/hCoV_19Sydney22020_EPI_ISL_408976_2020_01_22.protein.fasta\n"
     ]
    },
    {
     "name": "stderr",
     "output_type": "stream",
     "text": [
      " 12%|█▏        | 2/17 [06:00<45:46, 183.10s/it]/home/isshamie/software/anaconda2/envs/coevolve/lib/python3.7/site-packages/Bio/Seq.py:2859: BiopythonWarning: Partial codon, len(sequence) not a multiple of three. Explicitly trim the sequence or add trailing N before translation. This may become an error in future.\n",
      "  BiopythonWarning,\n"
     ]
    },
    {
     "name": "stdout",
     "output_type": "stream",
     "text": [
      "s all proteins [SeqRecord(seq=Seq('MFVFLVLVPLVSSQCVNLTTRTQLPPAYTNSFTRGVYYPDKVFRSSVLHSTQDL...HYT'), id='hCoV_19Hong', name='<unknown name>', description='<unknown description>', dbxrefs=[])]\n",
      "to save /data2/isshamie/covid/data/processed/seqs/S_protein_align/hCoV_19Hong.protein.fasta\n"
     ]
    },
    {
     "name": "stderr",
     "output_type": "stream",
     "text": [
      "\r",
      " 12%|█▏        | 2/17 [06:02<45:57, 183.80s/it]"
     ]
    },
    {
     "name": "stdout",
     "output_type": "stream",
     "text": [
      "s all proteins [SeqRecord(seq=Seq('MFVFLVLLPLVSSQCVNLTTRTQLPPAYTNSFTRGVYYPDKVFRSSVLHSTQDL...HYT'), id='hCoV_19NetherlandsGelderland_12020_EPI_ISL_414423_2020_03_02', name='<unknown name>', description='<unknown description>', dbxrefs=[])]\n",
      "to save /data2/isshamie/covid/data/processed/seqs/S_protein_align/hCoV_19NetherlandsGelderland_12020_EPI_ISL_414423_2020_03_02.protein.fasta\n"
     ]
    },
    {
     "name": "stderr",
     "output_type": "stream",
     "text": [
      "\r",
      " 12%|█▏        | 2/17 [06:09<46:56, 187.74s/it]"
     ]
    },
    {
     "name": "stdout",
     "output_type": "stream",
     "text": [
      "s all proteins [SeqRecord(seq=Seq('MFVFLVLLPLVSSQCVNLTTRTQLPPAYTNSFTRGVYYPDKVFRSSVLHSTQDL...HYT'), id='hCoV_19England2006903002020_EPI_ISL_414042_2020_02_08', name='<unknown name>', description='<unknown description>', dbxrefs=[])]\n",
      "to save /data2/isshamie/covid/data/processed/seqs/S_protein_align/hCoV_19England2006903002020_EPI_ISL_414042_2020_02_08.protein.fasta\n"
     ]
    },
    {
     "name": "stderr",
     "output_type": "stream",
     "text": [
      "\r",
      " 12%|█▏        | 2/17 [06:23<48:41, 194.79s/it]"
     ]
    },
    {
     "name": "stdout",
     "output_type": "stream",
     "text": [
      "s all proteins [SeqRecord(seq=Seq('MFVFLVLLPLVSSQCVNLTTRTQLPPAYTNSFTRGVYYPDKVFRSSVLHSTQDL...HYT'), id='hCoV_19ChinaWF00292020_EPI_ISL_413809_2020_02', name='<unknown name>', description='<unknown description>', dbxrefs=[])]\n",
      "to save /data2/isshamie/covid/data/processed/seqs/S_protein_align/hCoV_19ChinaWF00292020_EPI_ISL_413809_2020_02.protein.fasta\n"
     ]
    },
    {
     "name": "stderr",
     "output_type": "stream",
     "text": [
      "\r",
      " 12%|█▏        | 2/17 [06:27<49:58, 199.88s/it]"
     ]
    },
    {
     "name": "stdout",
     "output_type": "stream",
     "text": [
      "s all proteins [SeqRecord(seq=Seq('MFVFLVLLPLVSSQCVNLTTRTQLPPAYTNSFTRGVYYPDKVFRSSVLHSTQDL...HYT'), id='hCoV_19WuhanWIV072019_EPI_ISL_402130_2019_12_30', name='<unknown name>', description='<unknown description>', dbxrefs=[])]\n",
      "to save /data2/isshamie/covid/data/processed/seqs/S_protein_align/hCoV_19WuhanWIV072019_EPI_ISL_402130_2019_12_30.protein.fasta\n"
     ]
    },
    {
     "name": "stderr",
     "output_type": "stream",
     "text": [
      "\r",
      " 12%|█▏        | 2/17 [06:41<51:54, 207.64s/it]"
     ]
    },
    {
     "name": "stdout",
     "output_type": "stream",
     "text": [
      "s all proteins [SeqRecord(seq=Seq('MFVFLVLLPLVSSQCVNLTTRTQLPPAYTNSFTRGVYYPDKVFRSSVLHSTQDL...HYT'), id='hCoV_19ChinaWH_092020_EPI_ISL_411957_2020_01_08', name='<unknown name>', description='<unknown description>', dbxrefs=[])]\n",
      "to save /data2/isshamie/covid/data/processed/seqs/S_protein_align/hCoV_19ChinaWH_092020_EPI_ISL_411957_2020_01_08.protein.fasta\n"
     ]
    },
    {
     "name": "stderr",
     "output_type": "stream",
     "text": [
      "\r",
      " 12%|█▏        | 2/17 [06:51<52:35, 210.34s/it]"
     ]
    },
    {
     "name": "stdout",
     "output_type": "stream",
     "text": [
      "s all proteins [SeqRecord(seq=Seq('MFVFLVLLPLVSSQCVNLTTRTQLPPAYTNSFTRGVYYPDKVFRSSVLHSTQDL...HYT'), id='hCoV_19India1_312020_EPI_ISL_413523_2020_01_31', name='<unknown name>', description='<unknown description>', dbxrefs=[])]\n",
      "to save /data2/isshamie/covid/data/processed/seqs/S_protein_align/hCoV_19India1_312020_EPI_ISL_413523_2020_01_31.protein.fasta\n"
     ]
    },
    {
     "name": "stderr",
     "output_type": "stream",
     "text": [
      "\r",
      " 12%|█▏        | 2/17 [06:58<53:43, 214.90s/it]"
     ]
    },
    {
     "name": "stdout",
     "output_type": "stream",
     "text": [
      "s all proteins [SeqRecord(seq=Seq('MFVFLVLLPLVSSQCVNLTTRTQLPPAYTNSFTRGVYYPDKVFRSSVLHSTQDL...HYT'), id='hCoV_19Fujian132020_EPI_ISL_411066_2020_01_22', name='<unknown name>', description='<unknown description>', dbxrefs=[])]\n",
      "to save /data2/isshamie/covid/data/processed/seqs/S_protein_align/hCoV_19Fujian132020_EPI_ISL_411066_2020_01_22.protein.fasta\n"
     ]
    },
    {
     "name": "stderr",
     "output_type": "stream",
     "text": [
      " 12%|█▏        | 2/17 [07:06<55:05, 220.35s/it]  /home/isshamie/software/anaconda2/envs/coevolve/lib/python3.7/site-packages/Bio/Seq.py:2859: BiopythonWarning: Partial codon, len(sequence) not a multiple of three. Explicitly trim the sequence or add trailing N before translation. This may become an error in future.\n",
      "  BiopythonWarning,\n"
     ]
    },
    {
     "name": "stdout",
     "output_type": "stream",
     "text": [
      "s all proteins [SeqRecord(seq=Seq('MFVFLVLLPLVSSQCVNLTTRTQLPPAYTNSFTRGVYYPDKVFRSSVLHSTQDL...HYT'), id='hCoV_19BrazilSPBR_032020_EPI_ISL_414014_2020_03_02', name='<unknown name>', description='<unknown description>', dbxrefs=[])]\n",
      "to save /data2/isshamie/covid/data/processed/seqs/S_protein_align/hCoV_19BrazilSPBR_032020_EPI_ISL_414014_2020_03_02.protein.fasta\n"
     ]
    },
    {
     "name": "stderr",
     "output_type": "stream",
     "text": [
      "\r",
      " 12%|█▏        | 2/17 [07:12<55:12, 220.82s/it]  "
     ]
    },
    {
     "name": "stdout",
     "output_type": "stream",
     "text": [
      "s all proteins [SeqRecord(seq=Seq('MFVFLVLLPLVSSQCVNLTTRTQLPPAYTNSFTRGVYYPDKVFRSSVLHSTQDL...HYT'), id='hCoV_19USACruiseA_112020_EPI_ISL_413616_2020_02_17', name='<unknown name>', description='<unknown description>', dbxrefs=[])]\n",
      "to save /data2/isshamie/covid/data/processed/seqs/S_protein_align/hCoV_19USACruiseA_112020_EPI_ISL_413616_2020_02_17.protein.fasta\n"
     ]
    },
    {
     "name": "stderr",
     "output_type": "stream",
     "text": [
      "\r",
      " 12%|█▏        | 2/17 [07:24<57:29, 229.94s/it]  "
     ]
    },
    {
     "name": "stdout",
     "output_type": "stream",
     "text": [
      "s all proteins [SeqRecord(seq=Seq('MFVFLVLLPLVSSQCVNLTTRTQLPPAYTNSFTRGVYYPDKVFRSSVLHSTQDL...HYT'), id='hCoV_19NetherlandsUtrecht_72020_EPI_ISL_414440_2020_03_03', name='<unknown name>', description='<unknown description>', dbxrefs=[])]\n",
      "to save /data2/isshamie/covid/data/processed/seqs/S_protein_align/hCoV_19NetherlandsUtrecht_72020_EPI_ISL_414440_2020_03_03.protein.fasta\n"
     ]
    },
    {
     "name": "stderr",
     "output_type": "stream",
     "text": [
      "\r",
      " 12%|█▏        | 2/17 [07:24<57:32, 230.18s/it]  "
     ]
    },
    {
     "name": "stdout",
     "output_type": "stream",
     "text": [
      "s all proteins [SeqRecord(seq=Seq('MFVFLVLLPLVSSQCVNLTTRTQLPPAYTNSFTRGVYYPDKVFRSSVLHSTQDL...HYT'), id='hCoV_19Switzerland10004777572020_EPI_ISL_413021_2020_02_29', name='<unknown name>', description='<unknown description>', dbxrefs=[])]\n",
      "to save /data2/isshamie/covid/data/processed/seqs/S_protein_align/hCoV_19Switzerland10004777572020_EPI_ISL_413021_2020_02_29.protein.fasta\n"
     ]
    },
    {
     "name": "stderr",
     "output_type": "stream",
     "text": [
      "\r",
      " 12%|█▏        | 2/17 [07:25<56:36, 226.41s/it]  "
     ]
    },
    {
     "name": "stdout",
     "output_type": "stream",
     "text": [
      "s all proteins [SeqRecord(seq=Seq('MFVFLVLLPLVSSQCVNLTTRTQLPPAYTNSFTRGVYYPDKVFRSSVLHSTQDL...HYT'), id='hCoV_19BrazilSPBR_022020_EPI_ISL_413016_2020_02_28', name='<unknown name>', description='<unknown description>', dbxrefs=[])]\n",
      "to save /data2/isshamie/covid/data/processed/seqs/S_protein_align/hCoV_19BrazilSPBR_022020_EPI_ISL_413016_2020_02_28.protein.fasta\n"
     ]
    },
    {
     "name": "stderr",
     "output_type": "stream",
     "text": [
      "\r",
      " 12%|█▏        | 2/17 [07:26<56:25, 225.70s/it]  "
     ]
    },
    {
     "name": "stdout",
     "output_type": "stream",
     "text": [
      "s all proteins [SeqRecord(seq=Seq('MFVFLVLLPLVSSQCVNLTTRTQLPPAYTNSFTRGVYYPDKVFRSSVLHSTQDL...HYT'), id='hCoV_19NetherlandsHardinxveld_Giessendam_13648062020_EPI_ISL_413573_2020_03_02', name='<unknown name>', description='<unknown description>', dbxrefs=[])]\n",
      "to save /data2/isshamie/covid/data/processed/seqs/S_protein_align/hCoV_19NetherlandsHardinxveld_Giessendam_13648062020_EPI_ISL_413573_2020_03_02.protein.fasta\n"
     ]
    },
    {
     "name": "stderr",
     "output_type": "stream",
     "text": [
      " 12%|█▏        | 2/17 [07:27<57:35, 230.37s/it]  /home/isshamie/software/anaconda2/envs/coevolve/lib/python3.7/site-packages/Bio/Seq.py:2859: BiopythonWarning: Partial codon, len(sequence) not a multiple of three. Explicitly trim the sequence or add trailing N before translation. This may become an error in future.\n",
      "  BiopythonWarning,\n"
     ]
    },
    {
     "name": "stdout",
     "output_type": "stream",
     "text": [
      "s all proteins [SeqRecord(seq=Seq('MFVFLVLLPLVSSQCVNLTTRTQLPPAYTNSFTRGVYYPDKVFRSSVLHSTQDL...HYT'), id='hCoV_19WuhanWIV022019_EPI_ISL_402127_2019_12_30', name='<unknown name>', description='<unknown description>', dbxrefs=[])]\n",
      "to save /data2/isshamie/covid/data/processed/seqs/S_protein_align/hCoV_19WuhanWIV022019_EPI_ISL_402127_2019_12_30.protein.fasta\n"
     ]
    },
    {
     "name": "stderr",
     "output_type": "stream",
     "text": [
      "\r",
      " 12%|█▏        | 2/17 [07:29<57:42, 230.86s/it]  "
     ]
    },
    {
     "name": "stdout",
     "output_type": "stream",
     "text": [
      "s all proteins [SeqRecord(seq=Seq('MFVFLVLLPLVSSQCVNLTTRTQLPPAYTNSFTRGVYYPDKVFRSSVLHSTQDL...LEL'), id='hCoV_19USACA_CDPH_UC52020_EPI_ISL_413922_2020_03_05', name='<unknown name>', description='<unknown description>', dbxrefs=[])]\n",
      "to save /data2/isshamie/covid/data/processed/seqs/S_protein_align/hCoV_19USACA_CDPH_UC52020_EPI_ISL_413922_2020_03_05.protein.fasta\n"
     ]
    },
    {
     "name": "stderr",
     "output_type": "stream",
     "text": [
      "\r",
      " 12%|█▏        | 2/17 [07:29<57:53, 231.58s/it]  "
     ]
    },
    {
     "name": "stdout",
     "output_type": "stream",
     "text": [
      "s all proteins [SeqRecord(seq=Seq('MFVFLVLLPLVSSQCVNLTTRTQLPPAYTNSFTRGVYYPDKVFRSSVLHSTQDL...HYT'), id='hCoV_19England09c2020_EPI_ISL_412116_2020_02_09', name='<unknown name>', description='<unknown description>', dbxrefs=[])]\n",
      "to save /data2/isshamie/covid/data/processed/seqs/S_protein_align/hCoV_19England09c2020_EPI_ISL_412116_2020_02_09.protein.fasta\n"
     ]
    },
    {
     "name": "stderr",
     "output_type": "stream",
     "text": [
      "\r",
      " 12%|█▏        | 2/17 [07:31<58:00, 232.05s/it]  "
     ]
    },
    {
     "name": "stdout",
     "output_type": "stream",
     "text": [
      "s all proteins [SeqRecord(seq=Seq('MFVFLVLLPLVSSQCVNLTTRTQLPPAYTNSFTRGVYYPDKVFRSSVLHSTQDL...HYT'), id='hCoV_19USAWA12_UW82020_EPI_ISL_413563_2020_03_03', name='<unknown name>', description='<unknown description>', dbxrefs=[])]\n",
      "to save /data2/isshamie/covid/data/processed/seqs/S_protein_align/hCoV_19USAWA12_UW82020_EPI_ISL_413563_2020_03_03.protein.fasta\n"
     ]
    },
    {
     "name": "stderr",
     "output_type": "stream",
     "text": [
      "\r",
      " 12%|█▏        | 2/17 [07:36<58:21, 233.40s/it]  "
     ]
    },
    {
     "name": "stdout",
     "output_type": "stream",
     "text": [
      "s all proteins [SeqRecord(seq=Seq('MFVFLVLLPLVSSQCVNLTTRTQLPPAYTNSFTRGVYYPDKVFRSSVLHSTQDL...HYT'), id='hCoV_19NetherlandsNoordBrabant_202020_EPI_ISL_414529_2020_03_04', name='<unknown name>', description='<unknown description>', dbxrefs=[])]\n",
      "to save /data2/isshamie/covid/data/processed/seqs/S_protein_align/hCoV_19NetherlandsNoordBrabant_202020_EPI_ISL_414529_2020_03_04.protein.fasta\n"
     ]
    },
    {
     "name": "stderr",
     "output_type": "stream",
     "text": [
      " 12%|█▏        | 2/17 [07:37<59:18, 237.23s/it]  /home/isshamie/software/anaconda2/envs/coevolve/lib/python3.7/site-packages/Bio/Seq.py:2859: BiopythonWarning: Partial codon, len(sequence) not a multiple of three. Explicitly trim the sequence or add trailing N before translation. This may become an error in future.\n",
      "  BiopythonWarning,\n"
     ]
    },
    {
     "name": "stdout",
     "output_type": "stream",
     "text": [
      "s all proteins [SeqRecord(seq=Seq('MFVFLVLLPLVSSQCVNLTTRTQLPPAYTNSFTRGVYYPDKVFRSSVLHSTQDL...HYT'), id='hCoV_19NetherlandsZuidHolland_192020_EPI_ISL_414561_2020_03_05', name='<unknown name>', description='<unknown description>', dbxrefs=[])]\n",
      "to save /data2/isshamie/covid/data/processed/seqs/S_protein_align/hCoV_19NetherlandsZuidHolland_192020_EPI_ISL_414561_2020_03_05.protein.fasta\n"
     ]
    },
    {
     "name": "stderr",
     "output_type": "stream",
     "text": [
      "\r",
      " 12%|█▏        | 2/17 [07:43<59:56, 239.75s/it]  "
     ]
    },
    {
     "name": "stdout",
     "output_type": "stream",
     "text": [
      "s all proteins [SeqRecord(seq=Seq('MFVFLVLLPLVSSQCVNLTTRTQLPPAYTNSFTRGVYYPDKVFRSSVLHSTQDL...CCC'), id='hCoV_19GermanyNRW_072020_EPI_ISL_414506_2020_02_27', name='<unknown name>', description='<unknown description>', dbxrefs=[])]\n",
      "to save /data2/isshamie/covid/data/processed/seqs/S_protein_align/hCoV_19GermanyNRW_072020_EPI_ISL_414506_2020_02_27.protein.fasta\n"
     ]
    },
    {
     "name": "stderr",
     "output_type": "stream",
     "text": [
      " 12%|█▏        | 2/17 [07:49<1:00:56, 243.79s/it]/home/isshamie/software/anaconda2/envs/coevolve/lib/python3.7/site-packages/Bio/Seq.py:2859: BiopythonWarning: Partial codon, len(sequence) not a multiple of three. Explicitly trim the sequence or add trailing N before translation. This may become an error in future.\n",
      "  BiopythonWarning,\n"
     ]
    },
    {
     "name": "stdout",
     "output_type": "stream",
     "text": [
      "s all proteins [SeqRecord(seq=Seq('MFVFLVLLPLVSSQCVNLTTRTQLPPAYTNSFTRGVYYPDKVFRSSVLHSTQDL...HYT'), id='hCoV_19FranceN16202020_EPI_ISL_414601_2020_02_27', name='<unknown name>', description='<unknown description>', dbxrefs=[])]\n",
      "to save /data2/isshamie/covid/data/processed/seqs/S_protein_align/hCoV_19FranceN16202020_EPI_ISL_414601_2020_02_27.protein.fasta\n"
     ]
    },
    {
     "name": "stderr",
     "output_type": "stream",
     "text": [
      "\r",
      " 12%|█▏        | 2/17 [07:57<1:01:24, 245.65s/it]"
     ]
    },
    {
     "name": "stdout",
     "output_type": "stream",
     "text": [
      "s all proteins [SeqRecord(seq=Seq('MFVFLVLLPLVSSQCVNLTTRTQLPPAYTNSFTRGVYYPDKVFRSSVLHSTQDL...HYT'), id='hCoV_19USACA22020_EPI_ISL_406036_2020_01_22', name='<unknown name>', description='<unknown description>', dbxrefs=[])]\n",
      "to save /data2/isshamie/covid/data/processed/seqs/S_protein_align/hCoV_19USACA22020_EPI_ISL_406036_2020_01_22.protein.fasta\n"
     ]
    },
    {
     "name": "stderr",
     "output_type": "stream",
     "text": [
      "\r",
      " 18%|█▊        | 3/17 [08:42<40:45, 174.66s/it]"
     ]
    },
    {
     "name": "stdout",
     "output_type": "stream",
     "text": [
      "s all proteins [SeqRecord(seq=Seq('MFVFLVLLPLVSSQCVNLTTRTQLPPAYTNSFTRGVYYPDKVFRSSVLHSTQDL...HYT'), id='hCoV_19WuhanWH042020_EPI_ISL_406801_2020_01_05', name='<unknown name>', description='<unknown description>', dbxrefs=[])]\n",
      "to save /data2/isshamie/covid/data/processed/seqs/S_protein_align/hCoV_19WuhanWH042020_EPI_ISL_406801_2020_01_05.protein.fasta\n"
     ]
    },
    {
     "name": "stderr",
     "output_type": "stream",
     "text": [
      "\r",
      " 18%|█▊        | 3/17 [08:42<40:48, 174.91s/it]"
     ]
    },
    {
     "name": "stdout",
     "output_type": "stream",
     "text": [
      "s all proteins [SeqRecord(seq=Seq('MFVFLVLLPLVSSQCVNLTTRTQLPPAYTNSFTRGVYYPDKVFRSSVLHSTQDL...HYT'), id='hCoV_19JiangxiIVDC_JX_0022020_EPI_ISL_408486_2020_01_11', name='<unknown name>', description='<unknown description>', dbxrefs=[])]\n",
      "to save /data2/isshamie/covid/data/processed/seqs/S_protein_align/hCoV_19JiangxiIVDC_JX_0022020_EPI_ISL_408486_2020_01_11.protein.fasta\n"
     ]
    },
    {
     "name": "stderr",
     "output_type": "stream",
     "text": [
      "\r",
      " 18%|█▊        | 3/17 [08:46<41:21, 177.25s/it]"
     ]
    },
    {
     "name": "stdout",
     "output_type": "stream",
     "text": [
      "s all proteins [SeqRecord(seq=Seq('MFVFLVLLPLVSSQCVNLTTRTQLPPAYTNSFTRGVYYPDKVFRSSVLHSTQDL...HYT'), id='hCoV_19AustraliaNSW092020_EPI_ISL_413595_2020_02_28', name='<unknown name>', description='<unknown description>', dbxrefs=[])]\n",
      "to save /data2/isshamie/covid/data/processed/seqs/S_protein_align/hCoV_19AustraliaNSW092020_EPI_ISL_413595_2020_02_28.protein.fasta\n"
     ]
    },
    {
     "name": "stderr",
     "output_type": "stream",
     "text": [
      "\r",
      " 18%|█▊        | 3/17 [08:52<41:55, 179.65s/it]"
     ]
    },
    {
     "name": "stdout",
     "output_type": "stream",
     "text": [
      "s all proteins [SeqRecord(seq=Seq('MFVFLVLLPLVSSQCVNLTTRTQLPPAYTNSFTRGVYYPDKVFRSSVLHSTQDL...HYT'), id='hCoV_19Sydney32020_EPI_ISL_408977_2020_01_25', name='<unknown name>', description='<unknown description>', dbxrefs=[])]\n",
      "to save /data2/isshamie/covid/data/processed/seqs/S_protein_align/hCoV_19Sydney32020_EPI_ISL_408977_2020_01_25.protein.fasta\n"
     ]
    },
    {
     "name": "stderr",
     "output_type": "stream",
     "text": [
      "\r",
      " 18%|█▊        | 3/17 [08:55<42:09, 180.70s/it]"
     ]
    },
    {
     "name": "stdout",
     "output_type": "stream",
     "text": [
      "s all proteins [SeqRecord(seq=Seq('MFVFLVLLPLVSSQCVNLTTRTQLPPAYTNSFTRGVYYPDKVFRSSVLHSTQDL...HYT'), id='hCoV_19USAWA22020_EPI_ISL_412970_2020_02_24', name='<unknown name>', description='<unknown description>', dbxrefs=[])]\n",
      "to save /data2/isshamie/covid/data/processed/seqs/S_protein_align/hCoV_19USAWA22020_EPI_ISL_412970_2020_02_24.protein.fasta\n"
     ]
    },
    {
     "name": "stderr",
     "output_type": "stream",
     "text": [
      "\r",
      " 18%|█▊        | 3/17 [08:56<42:01, 180.10s/it]"
     ]
    },
    {
     "name": "stdout",
     "output_type": "stream",
     "text": [
      "s all proteins [SeqRecord(seq=Seq('MFVFLVLLPLVSSQCVNLTTRTQLPPAYTNSFTRGVYYPDKVFRSSVLHSTQDL...HYT'), id='hCoV_19NetherlandsLoon_op_zand_13635122020_EPI_ISL_413576_2020_02_29', name='<unknown name>', description='<unknown description>', dbxrefs=[])]\n",
      "to save /data2/isshamie/covid/data/processed/seqs/S_protein_align/hCoV_19NetherlandsLoon_op_zand_13635122020_EPI_ISL_413576_2020_02_29.protein.fasta\n"
     ]
    },
    {
     "name": "stderr",
     "output_type": "stream",
     "text": [
      "\r",
      " 18%|█▊        | 3/17 [08:58<42:07, 180.57s/it]"
     ]
    },
    {
     "name": "stdout",
     "output_type": "stream",
     "text": [
      "s all proteins [SeqRecord(seq=Seq('MFVFLVLVPLVSSQCVNLTTRTQLPPAYTNSFTRGVYYPDKVFRSSVLHSTQDL...HYT'), id='hCoV_19Hong', name='<unknown name>', description='<unknown description>', dbxrefs=[])]\n",
      "to save /data2/isshamie/covid/data/processed/seqs/S_protein_align/hCoV_19Hong.protein.fasta\n"
     ]
    },
    {
     "name": "stderr",
     "output_type": "stream",
     "text": [
      "\r",
      " 18%|█▊        | 3/17 [09:01<42:32, 182.31s/it]"
     ]
    },
    {
     "name": "stdout",
     "output_type": "stream",
     "text": [
      "s all proteins [SeqRecord(seq=Seq('MFVFLVLLPLVSSQCVNLTTRTQLPPAYTNSFTRGVYYPDKVFRSSVLHSTQDL...HYT'), id='hCoV_19AustraliaQLD092020_EPI_ISL_414414_2020_02_29', name='<unknown name>', description='<unknown description>', dbxrefs=[])]\n",
      "to save /data2/isshamie/covid/data/processed/seqs/S_protein_align/hCoV_19AustraliaQLD092020_EPI_ISL_414414_2020_02_29.protein.fasta\n"
     ]
    },
    {
     "name": "stderr",
     "output_type": "stream",
     "text": [
      "\r",
      " 18%|█▊        | 3/17 [09:10<43:20, 185.76s/it]"
     ]
    },
    {
     "name": "stdout",
     "output_type": "stream",
     "text": [
      "s all proteins [SeqRecord(seq=Seq('MFVFLVLLPLVSSQCVNLTTRTQLPPAYTNSFTRGVYYPDKVFRSSVLHSTQDL...HYT'), id='hCoV_19England2006903062020_EPI_ISL_414043_2020_02_07', name='<unknown name>', description='<unknown description>', dbxrefs=[])]\n",
      "to save /data2/isshamie/covid/data/processed/seqs/S_protein_align/hCoV_19England2006903062020_EPI_ISL_414043_2020_02_07.protein.fasta\n"
     ]
    },
    {
     "name": "stderr",
     "output_type": "stream",
     "text": [
      "\r",
      " 18%|█▊        | 3/17 [09:19<44:05, 188.98s/it]"
     ]
    },
    {
     "name": "stdout",
     "output_type": "stream",
     "text": [
      "s all proteins [SeqRecord(seq=Seq('MFVFLVLLPLVSSQCVNLTTRTQLPPAYTNSFTRGVYYPDKVFRSSVLHSTQDL...ALL'), id='hCoV_19ChinaWF00062020_EPI_ISL_413695_2020_01', name='<unknown name>', description='<unknown description>', dbxrefs=[])]\n",
      "to save /data2/isshamie/covid/data/processed/seqs/S_protein_align/hCoV_19ChinaWF00062020_EPI_ISL_413695_2020_01.protein.fasta\n"
     ]
    },
    {
     "name": "stderr",
     "output_type": "stream",
     "text": [
      "\r",
      " 18%|█▊        | 3/17 [09:19<44:39, 191.42s/it]"
     ]
    },
    {
     "name": "stdout",
     "output_type": "stream",
     "text": [
      "s all proteins [SeqRecord(seq=Seq('IGLALYYPSARIVYTACSHAAVDALCEKALKYLPIDKCSRIIPARARVECFDKF...SLQ'), id='hCoV_19pangolinGuangxiP5E2017_EPI_ISL_410541_2017', name='<unknown name>', description='<unknown description>', dbxrefs=[])]\n",
      "to save /data2/isshamie/covid/data/processed/seqs/S_protein_align/hCoV_19pangolinGuangxiP5E2017_EPI_ISL_410541_2017.protein.fasta\n"
     ]
    },
    {
     "name": "stderr",
     "output_type": "stream",
     "text": [
      "\r",
      "  6%|▌         | 1/17 [09:35<2:33:27, 575.44s/it]"
     ]
    },
    {
     "name": "stdout",
     "output_type": "stream",
     "text": [
      "s all proteins [SeqRecord(seq=Seq('MFVFLVLLPLVSSQCVNLTTRTQLPPAYTNSFTRGVYYPDKVFRSSVLHSTQDL...HYT'), id='hCoV_19Guangdong20SF0122020_EPI_ISL_403932_2020_01_14', name='<unknown name>', description='<unknown description>', dbxrefs=[])]\n",
      "to save /data2/isshamie/covid/data/processed/seqs/S_protein_align/hCoV_19Guangdong20SF0122020_EPI_ISL_403932_2020_01_14.protein.fasta\n"
     ]
    },
    {
     "name": "stderr",
     "output_type": "stream",
     "text": [
      "\r",
      " 18%|█▊        | 3/17 [09:42<46:37, 199.83s/it]"
     ]
    },
    {
     "name": "stdout",
     "output_type": "stream",
     "text": [
      "s all proteins [SeqRecord(seq=Seq('MFVFLVLLPLVSSQCVNLTTRTQLPPAYTNSFTRGVYYPDKVFRSSVLHSTQDL...HYT'), id='hCoV_19WalesPHW12020_EPI_ISL_413555_2020_02_27', name='<unknown name>', description='<unknown description>', dbxrefs=[])]\n",
      "to save /data2/isshamie/covid/data/processed/seqs/S_protein_align/hCoV_19WalesPHW12020_EPI_ISL_413555_2020_02_27.protein.fasta\n"
     ]
    },
    {
     "name": "stderr",
     "output_type": "stream",
     "text": [
      "\r",
      " 18%|█▊        | 3/17 [10:14<48:46, 209.02s/it]"
     ]
    },
    {
     "name": "stdout",
     "output_type": "stream",
     "text": [
      "s all proteins [SeqRecord(seq=Seq('MFVFLVLLPLVSSQCVNLTTRTQLPPAYTNSFTRGVYYPDKVFRSSVLHSTQDL...HYT'), id='hCoV_19Hefei22020_EPI_ISL_412026_2020_02_23', name='<unknown name>', description='<unknown description>', dbxrefs=[])]\n",
      "to save /data2/isshamie/covid/data/processed/seqs/S_protein_align/hCoV_19Hefei22020_EPI_ISL_412026_2020_02_23.protein.fasta\n"
     ]
    },
    {
     "name": "stderr",
     "output_type": "stream",
     "text": [
      "\r",
      " 18%|█▊        | 3/17 [10:15<48:37, 208.37s/it]"
     ]
    },
    {
     "name": "stdout",
     "output_type": "stream",
     "text": [
      "s all proteins [SeqRecord(seq=Seq('MFVFLVLLPLVSSQCVNLTTRTQLPPAYTNSFTRGVYYPDKVFRSSVLHSTQDL...HYT'), id='hCoV_19FranceIDF05712020_EPI_ISL_411218_2020_02_02', name='<unknown name>', description='<unknown description>', dbxrefs=[])]\n",
      "to save /data2/isshamie/covid/data/processed/seqs/S_protein_align/hCoV_19FranceIDF05712020_EPI_ISL_411218_2020_02_02.protein.fasta\n"
     ]
    },
    {
     "name": "stderr",
     "output_type": "stream",
     "text": [
      "\r",
      " 18%|█▊        | 3/17 [10:29<50:09, 214.99s/it]"
     ]
    },
    {
     "name": "stdout",
     "output_type": "stream",
     "text": [
      "s all proteins [SeqRecord(seq=Seq('MFVFLVLLPLVSSQCVNLTTRTQLPPAYTNSFTRGVYYPDKVFRSSVLHSTQDL...HYT'), id='hCoV_19BrazilSPBR_052020_EPI_ISL_414016_2020_02_29', name='<unknown name>', description='<unknown description>', dbxrefs=[])]\n",
      "to save /data2/isshamie/covid/data/processed/seqs/S_protein_align/hCoV_19BrazilSPBR_052020_EPI_ISL_414016_2020_02_29.protein.fasta\n"
     ]
    },
    {
     "name": "stderr",
     "output_type": "stream",
     "text": [
      "\r",
      " 18%|█▊        | 3/17 [10:35<50:16, 215.50s/it]"
     ]
    },
    {
     "name": "stdout",
     "output_type": "stream",
     "text": [
      "s all proteins [SeqRecord(seq=Seq('MFVFLVLLPLVSSQCVNLTTRTQLPPAYTNSFTRGVYYPDKVFRSSVLHSTQDL...HYT'), id='hCoV_19NetherlandsNaarden_13647742020_EPI_ISL_413577_2020_03_02', name='<unknown name>', description='<unknown description>', dbxrefs=[])]\n",
      "to save /data2/isshamie/covid/data/processed/seqs/S_protein_align/hCoV_19NetherlandsNaarden_13647742020_EPI_ISL_413577_2020_03_02.protein.fasta\n"
     ]
    },
    {
     "name": "stderr",
     "output_type": "stream",
     "text": [
      "\r",
      " 18%|█▊        | 3/17 [10:36<50:49, 217.82s/it]"
     ]
    },
    {
     "name": "stdout",
     "output_type": "stream",
     "text": [
      "s all proteins [SeqRecord(seq=Seq('MFVFLVLLPLVSSQCVNLTTRTQLPPAYTNSFTRGVYYPDKVFRSSVLHSTQDL...HYT'), id='hCoV_19Singapore122020_EPI_ISL_414378_2020_02_17', name='<unknown name>', description='<unknown description>', dbxrefs=[])]\n",
      "to save /data2/isshamie/covid/data/processed/seqs/S_protein_align/hCoV_19Singapore122020_EPI_ISL_414378_2020_02_17.protein.fasta\n"
     ]
    },
    {
     "name": "stderr",
     "output_type": "stream",
     "text": [
      "\r",
      " 18%|█▊        | 3/17 [10:37<50:52, 218.01s/it]"
     ]
    },
    {
     "name": "stdout",
     "output_type": "stream",
     "text": [
      "s all proteins [SeqRecord(seq=Seq('MFVFLVLLPLVSSQCVNLTTRTQLPPAYTNSFTRGVYYPDKVFRSSVLHSTQDL...HYT'), id='hCoV_19Switzerland10004777962020_EPI_ISL_413022_2020_02_29', name='<unknown name>', description='<unknown description>', dbxrefs=[])]\n",
      "to save /data2/isshamie/covid/data/processed/seqs/S_protein_align/hCoV_19Switzerland10004777962020_EPI_ISL_413022_2020_02_29.protein.fasta\n"
     ]
    },
    {
     "name": "stderr",
     "output_type": "stream",
     "text": [
      "\r",
      " 18%|█▊        | 3/17 [10:37<50:28, 216.30s/it]"
     ]
    },
    {
     "name": "stdout",
     "output_type": "stream",
     "text": [
      "s all proteins [SeqRecord(seq=Seq('MFVFLVLLPLVSSQCVNLTTRTQLPPAYTNSFTRGVYYPDKVFRSSVLHSTQDL...HYT'), id='hCoV_19NetherlandsUtrecht_52020_EPI_ISL_414439_2020_03_02', name='<unknown name>', description='<unknown description>', dbxrefs=[])]\n",
      "to save /data2/isshamie/covid/data/processed/seqs/S_protein_align/hCoV_19NetherlandsUtrecht_52020_EPI_ISL_414439_2020_03_02.protein.fasta\n"
     ]
    },
    {
     "name": "stderr",
     "output_type": "stream",
     "text": [
      "\r",
      " 18%|█▊        | 3/17 [10:45<51:36, 221.18s/it]"
     ]
    },
    {
     "name": "stdout",
     "output_type": "stream",
     "text": [
      "s all proteins [SeqRecord(seq=Seq('MFVFLVLLPLVSSQCVNLTTRTQLPPAYTNSFTRGVYYPDKVFRSSVLHSTQDL...HYT'), id='hCoV_19USACruiseA_122020_EPI_ISL_413617_2020_02_20', name='<unknown name>', description='<unknown description>', dbxrefs=[])]\n",
      "to save /data2/isshamie/covid/data/processed/seqs/S_protein_align/hCoV_19USACruiseA_122020_EPI_ISL_413617_2020_02_20.protein.fasta\n"
     ]
    },
    {
     "name": "stderr",
     "output_type": "stream",
     "text": [
      "\r",
      " 18%|█▊        | 3/17 [10:45<51:36, 221.17s/it]"
     ]
    },
    {
     "name": "stdout",
     "output_type": "stream",
     "text": [
      "s all proteins [SeqRecord(seq=Seq('MFVFLVLLPLVSSQCVNLTTRTQLPPAYTNSFTRGVYYPDKVFRSSVLHSTQDL...HYT'), id='hCoV_19ScotlandCVR052020_EPI_ISL_414027_2020_03_04', name='<unknown name>', description='<unknown description>', dbxrefs=[])]\n",
      "to save /data2/isshamie/covid/data/processed/seqs/S_protein_align/hCoV_19ScotlandCVR052020_EPI_ISL_414027_2020_03_04.protein.fasta\n"
     ]
    },
    {
     "name": "stderr",
     "output_type": "stream",
     "text": [
      "\r",
      " 18%|█▊        | 3/17 [10:50<51:50, 222.20s/it]"
     ]
    },
    {
     "name": "stdout",
     "output_type": "stream",
     "text": [
      "s all proteins [SeqRecord(seq=Seq('MFVFLVLLPLVSSQCVNLTTRTQLPPAYTNSFTRGVYYPDKVFRSSVLHSTQDL...HYT'), id='hCoV_19Hong', name='<unknown name>', description='<unknown description>', dbxrefs=[])]\n",
      "to save /data2/isshamie/covid/data/processed/seqs/S_protein_align/hCoV_19Hong.protein.fasta\n"
     ]
    },
    {
     "name": "stderr",
     "output_type": "stream",
     "text": [
      "\r",
      " 18%|█▊        | 3/17 [10:52<52:25, 224.66s/it]"
     ]
    },
    {
     "name": "stdout",
     "output_type": "stream",
     "text": [
      "s all proteins [SeqRecord(seq=Seq('MFVFLVLLPLVSSQCVNLTTRTQLPPAYTNSFTRGVYYPDKVFRSSVLHSTQDL...HYT'), id='hCoV_19SwitzerlandVD56152020_EPI_ISL_414023_2020_03_01', name='<unknown name>', description='<unknown description>', dbxrefs=[])]\n",
      "to save /data2/isshamie/covid/data/processed/seqs/S_protein_align/hCoV_19SwitzerlandVD56152020_EPI_ISL_414023_2020_03_01.protein.fasta\n"
     ]
    },
    {
     "name": "stderr",
     "output_type": "stream",
     "text": [
      "\r",
      " 18%|█▊        | 3/17 [10:53<51:21, 220.12s/it]"
     ]
    },
    {
     "name": "stdout",
     "output_type": "stream",
     "text": [
      "s all proteins [SeqRecord(seq=Seq('MFVFLVLLPLVSSQCVNLTTRTQLPPAYTNSFTRGVYYPDKVFRSSVLHSTQDL...SRM'), id='hCoV_19USAWA13_UW92020_EPI_ISL_413601_2020_03_02', name='<unknown name>', description='<unknown description>', dbxrefs=[])]\n",
      "to save /data2/isshamie/covid/data/processed/seqs/S_protein_align/hCoV_19USAWA13_UW92020_EPI_ISL_413601_2020_03_02.protein.fasta\n"
     ]
    },
    {
     "name": "stderr",
     "output_type": "stream",
     "text": [
      "\r",
      " 18%|█▊        | 3/17 [10:53<51:55, 222.54s/it]"
     ]
    },
    {
     "name": "stdout",
     "output_type": "stream",
     "text": [
      "s all proteins [SeqRecord(seq=Seq('MFVFLVLLPLVSSQCVNLTTRTQLPPAYTNSFTRGVYYPDKVFRSSVLHSTQDL...CCC'), id='hCoV_19GermanyNRW_052020_EPI_ISL_414504_2020_02_26', name='<unknown name>', description='<unknown description>', dbxrefs=[])]\n",
      "to save /data2/isshamie/covid/data/processed/seqs/S_protein_align/hCoV_19GermanyNRW_052020_EPI_ISL_414504_2020_02_26.protein.fasta\n"
     ]
    },
    {
     "name": "stderr",
     "output_type": "stream",
     "text": [
      "\r",
      " 18%|█▊        | 3/17 [10:53<52:41, 225.83s/it]  "
     ]
    },
    {
     "name": "stdout",
     "output_type": "stream",
     "text": [
      "s all proteins [SeqRecord(seq=Seq('MFVFLVLLPLVSSQCVNLTTRTQLPPAYTNSFTRGVYYPDKVFRSSVLHSTQDL...LQI'), id='hCoV_19USACA_CDPH_UC82020_EPI_ISL_413926_2020_03_05', name='<unknown name>', description='<unknown description>', dbxrefs=[])]\n",
      "to save /data2/isshamie/covid/data/processed/seqs/S_protein_align/hCoV_19USACA_CDPH_UC82020_EPI_ISL_413926_2020_03_05.protein.fasta\n",
      "s all proteins [SeqRecord(seq=Seq('MFVFLVLLPLVSSQCVNLTTRTQLPPAYTNSFTRGVYYPDKVFRSSVLHSTQDL...HYT'), id='hCoV_19NetherlandsZuidHolland_182020_EPI_ISL_414560_2020_03_03', name='<unknown name>', description='<unknown description>', dbxrefs=[])]\n",
      "to save /data2/isshamie/covid/data/processed/seqs/S_protein_align/hCoV_19NetherlandsZuidHolland_182020_EPI_ISL_414560_2020_03_03.protein.fasta\n"
     ]
    },
    {
     "name": "stderr",
     "output_type": "stream",
     "text": [
      " 18%|█▊        | 3/17 [10:55<52:33, 225.24s/it]"
     ]
    },
    {
     "name": "stdout",
     "output_type": "stream",
     "text": [
      "s all proteins [SeqRecord(seq=Seq('MFVFLVLLPLVSSQCVNLTTRTQLPPAYTNSFTRGVYYPDKVFRSSVLHSTQDL...HYT'), id='hCoV_19HangzhouHZ_12020_EPI_ISL_406970_2020_01_20', name='<unknown name>', description='<unknown description>', dbxrefs=[])]\n",
      "to save /data2/isshamie/covid/data/processed/seqs/S_protein_align/hCoV_19HangzhouHZ_12020_EPI_ISL_406970_2020_01_20.protein.fasta\n"
     ]
    },
    {
     "name": "stderr",
     "output_type": "stream",
     "text": [
      "\r",
      " 24%|██▎       | 4/17 [11:20<36:46, 169.71s/it]"
     ]
    },
    {
     "name": "stdout",
     "output_type": "stream",
     "text": [
      "s all proteins [SeqRecord(seq=Seq('MFVFLVLLPLVSSQCVNLTTRTQLPPAYTNSFTRGVYYPDKVFRSSVLHSTQDL...HYT'), id='hCoV_19USAAZ12020_EPI_ISL_406223_2020_01_22', name='<unknown name>', description='<unknown description>', dbxrefs=[])]\n",
      "to save /data2/isshamie/covid/data/processed/seqs/S_protein_align/hCoV_19USAAZ12020_EPI_ISL_406223_2020_01_22.protein.fasta\n"
     ]
    },
    {
     "name": "stderr",
     "output_type": "stream",
     "text": [
      "\r",
      " 24%|██▎       | 4/17 [11:21<36:49, 169.98s/it]"
     ]
    },
    {
     "name": "stdout",
     "output_type": "stream",
     "text": [
      "s all proteins [SeqRecord(seq=Seq('MFVFLVLLPLVSSQCVNLTTRTQLPPAYTNSFTRGVYYPDKVFRSSVLHSTQDL...HYT'), id='hCoV_19JiangsuIVDC_JS_0012020_EPI_ISL_408488_2020_01_19', name='<unknown name>', description='<unknown description>', dbxrefs=[])]\n",
      "to save /data2/isshamie/covid/data/processed/seqs/S_protein_align/hCoV_19JiangsuIVDC_JS_0012020_EPI_ISL_408488_2020_01_19.protein.fasta\n"
     ]
    },
    {
     "name": "stderr",
     "output_type": "stream",
     "text": [
      "\r",
      " 24%|██▎       | 4/17 [11:25<37:13, 171.78s/it]"
     ]
    },
    {
     "name": "stdout",
     "output_type": "stream",
     "text": [
      "s all proteins [SeqRecord(seq=Seq('MFVFLVLLPLVSSQCVNLTTRTQLPPAYTNSFTRGVYYPDKVFRSSVLHSTQDL...HYT'), id='hCoV_19AustraliaNSW142020_EPI_ISL_413600_2020_03_03', name='<unknown name>', description='<unknown description>', dbxrefs=[])]\n",
      "to save /data2/isshamie/covid/data/processed/seqs/S_protein_align/hCoV_19AustraliaNSW142020_EPI_ISL_413600_2020_03_03.protein.fasta\n"
     ]
    },
    {
     "name": "stderr",
     "output_type": "stream",
     "text": [
      " 24%|██▎       | 4/17 [11:30<37:33, 173.31s/it]/home/isshamie/software/anaconda2/envs/coevolve/lib/python3.7/site-packages/Bio/Seq.py:2859: BiopythonWarning: Partial codon, len(sequence) not a multiple of three. Explicitly trim the sequence or add trailing N before translation. This may become an error in future.\n",
      "  BiopythonWarning,\n"
     ]
    },
    {
     "name": "stdout",
     "output_type": "stream",
     "text": [
      "s all proteins [SeqRecord(seq=Seq('MFVFLVLLPLVSSQCVNLTTRTQLPPAYTNSFTRGVYYPDKVFRSSVLHSTQDL...HYT'), id='hCoV_19USAIL22020_EPI_ISL_410045_2020_01_28', name='<unknown name>', description='<unknown description>', dbxrefs=[])]\n",
      "s all proteins [SeqRecord(seq=Seq('MFVFLVLLPLVSSQCVNLTTRTQLPPAYTNSFTRGVYYPDKVFRSSVLHSTQDL...HYT'), id='hCoV_19ItalyCDG12020_EPI_ISL_412973_2020_02_20', name='<unknown name>', description='<unknown description>', dbxrefs=[])]\n",
      "to save /data2/isshamie/covid/data/processed/seqs/S_protein_align/hCoV_19USAIL22020_EPI_ISL_410045_2020_01_28.protein.fasta\n",
      "to save /data2/isshamie/covid/data/processed/seqs/S_protein_align/hCoV_19ItalyCDG12020_EPI_ISL_412973_2020_02_20.protein.fasta\n"
     ]
    },
    {
     "name": "stderr",
     "output_type": "stream",
     "text": [
      " 24%|██▎       | 4/17 [11:39<37:54, 174.98s/it]/home/isshamie/software/anaconda2/envs/coevolve/lib/python3.7/site-packages/Bio/Seq.py:2859: BiopythonWarning: Partial codon, len(sequence) not a multiple of three. Explicitly trim the sequence or add trailing N before translation. This may become an error in future.\n",
      "  BiopythonWarning,\n"
     ]
    },
    {
     "name": "stdout",
     "output_type": "stream",
     "text": [
      "s all proteins [SeqRecord(seq=Seq('MFVFLVLLPLVSSQCVNLTTRTQLPPAYTNSFTRGVYYPDKVFRSSVLHSTQDL...HYT'), id='hCoV_19NetherlandsLHouten_13634982020_EPI_ISL_413575_2020_02_29', name='<unknown name>', description='<unknown description>', dbxrefs=[])]\n",
      "to save /data2/isshamie/covid/data/processed/seqs/S_protein_align/hCoV_19NetherlandsLHouten_13634982020_EPI_ISL_413575_2020_02_29.protein.fasta\n"
     ]
    },
    {
     "name": "stderr",
     "output_type": "stream",
     "text": [
      "\r",
      " 24%|██▎       | 4/17 [11:57<39:02, 180.16s/it]"
     ]
    },
    {
     "name": "stdout",
     "output_type": "stream",
     "text": [
      "s all proteins [SeqRecord(seq=Seq('MFVFLVLLPLVSSQCVNLTTRTQLPPAYTNSFTRGVYYPDKVFRSSVLHSTQDL...HYT'), id='hCoV_19South', name='<unknown name>', description='<unknown description>', dbxrefs=[])]\n",
      "to save /data2/isshamie/covid/data/processed/seqs/S_protein_align/hCoV_19South.protein.fasta\n"
     ]
    },
    {
     "name": "stderr",
     "output_type": "stream",
     "text": [
      "\r",
      " 24%|██▎       | 4/17 [12:00<39:17, 181.35s/it]"
     ]
    },
    {
     "name": "stdout",
     "output_type": "stream",
     "text": [
      "s all proteins [SeqRecord(seq=Seq('MFVFLVLLPLVSSQCVNLTTRTQLPPAYTNSFTRGVYYPDKVFRSSVLHSTQDL...HYT'), id='hCoV_19USANY1_PV080012020_EPI_ISL_414476_2020_02_29', name='<unknown name>', description='<unknown description>', dbxrefs=[])]\n",
      "to save /data2/isshamie/covid/data/processed/seqs/S_protein_align/hCoV_19USANY1_PV080012020_EPI_ISL_414476_2020_02_29.protein.fasta\n"
     ]
    },
    {
     "name": "stderr",
     "output_type": "stream",
     "text": [
      "\r",
      " 24%|██▎       | 4/17 [12:40<41:48, 192.94s/it]"
     ]
    },
    {
     "name": "stdout",
     "output_type": "stream",
     "text": [
      "s all proteins [SeqRecord(seq=Seq('MFVFLVLLPLVSSQCVNLTTRTQLPPAYTNSFTRGVYYPDKVFRSSVLHSTQDL...HYT'), id='hCoV_19England2006907562020_EPI_ISL_414044_2020_02_08', name='<unknown name>', description='<unknown description>', dbxrefs=[])]\n",
      "to save /data2/isshamie/covid/data/processed/seqs/S_protein_align/hCoV_19England2006907562020_EPI_ISL_414044_2020_02_08.protein.fasta\n"
     ]
    },
    {
     "name": "stderr",
     "output_type": "stream",
     "text": [
      "\r",
      " 24%|██▎       | 4/17 [12:46<42:08, 194.50s/it]"
     ]
    },
    {
     "name": "stdout",
     "output_type": "stream",
     "text": [
      "s all proteins [SeqRecord(seq=Seq('MFVFLVLLPLVSSQCVNLTTRTQLPPAYTNSFTRGVYYPDKVFRSSVLHSTQDL...HYT'), id='hCoV_19Guangdong20SF0132020_EPI_ISL_403933_2020_01_15', name='<unknown name>', description='<unknown description>', dbxrefs=[])]\n",
      "to save /data2/isshamie/covid/data/processed/seqs/S_protein_align/hCoV_19Guangdong20SF0132020_EPI_ISL_403933_2020_01_15.protein.fasta\n"
     ]
    },
    {
     "name": "stderr",
     "output_type": "stream",
     "text": [
      " 24%|██▎       | 4/17 [12:52<42:36, 196.63s/it]/home/isshamie/software/anaconda2/envs/coevolve/lib/python3.7/site-packages/Bio/Seq.py:2859: BiopythonWarning: Partial codon, len(sequence) not a multiple of three. Explicitly trim the sequence or add trailing N before translation. This may become an error in future.\n",
      "  BiopythonWarning,\n"
     ]
    },
    {
     "name": "stdout",
     "output_type": "stream",
     "text": [
      "s all proteins [SeqRecord(seq=Seq('MFVFLVLLPLVSSQCVNLTTRTQLPPAYTNSFTRGVYYPDKVFRSSVLHSTQDL...HYT'), id='hCoV_19FranceIDF0386_islP12020_EPI_ISL_411219_2020_01_28', name='<unknown name>', description='<unknown description>', dbxrefs=[])]\n",
      "to save /data2/isshamie/covid/data/processed/seqs/S_protein_align/hCoV_19FranceIDF0386_islP12020_EPI_ISL_411219_2020_01_28.protein.fasta\n"
     ]
    },
    {
     "name": "stderr",
     "output_type": "stream",
     "text": [
      "\r",
      " 24%|██▎       | 4/17 [12:58<42:18, 195.25s/it]"
     ]
    },
    {
     "name": "stdout",
     "output_type": "stream",
     "text": [
      "s all proteins [SeqRecord(seq=Seq('MFVFLVLLPLVSSQCVNLTTRTQLPPAYTNSFTRGVYYPDKVFRSSVLHSTQDL...HYT'), id='hCoV_19Hong', name='<unknown name>', description='<unknown description>', dbxrefs=[])]\n",
      "to save /data2/isshamie/covid/data/processed/seqs/S_protein_align/hCoV_19Hong.protein.fasta\n"
     ]
    },
    {
     "name": "stderr",
     "output_type": "stream",
     "text": [
      "\r",
      " 24%|██▎       | 4/17 [12:59<42:15, 195.06s/it]"
     ]
    },
    {
     "name": "stdout",
     "output_type": "stream",
     "text": [
      "s all proteins [SeqRecord(seq=Seq('MFVFLVLLPLVSSQCVNLTTRTQLPPAYTNSFTRGVYYPDKVFRSSVLHSTQDL...CCC'), id='hCoV_19WalesPHW22020_EPI_ISL_413556_2020_03_04', name='<unknown name>', description='<unknown description>', dbxrefs=[])]\n",
      "to save /data2/isshamie/covid/data/processed/seqs/S_protein_align/hCoV_19WalesPHW22020_EPI_ISL_413556_2020_03_04.protein.fasta\n"
     ]
    },
    {
     "name": "stderr",
     "output_type": "stream",
     "text": [
      "\r",
      " 24%|██▎       | 4/17 [13:01<42:34, 196.47s/it]"
     ]
    },
    {
     "name": "stdout",
     "output_type": "stream",
     "text": [
      "s all proteins [SeqRecord(seq=Seq('MFVFLVLLPLVSSQCVNLTTRTQLPPAYTNSFTRGVYYPDKVFRSSVLHSTQDL...HYT'), id='hCoV_19Switzerland10004777972020_EPI_ISL_413023_2020_02_29', name='<unknown name>', description='<unknown description>', dbxrefs=[])]\n",
      "to save /data2/isshamie/covid/data/processed/seqs/S_protein_align/hCoV_19Switzerland10004777972020_EPI_ISL_413023_2020_02_29.protein.fasta\n"
     ]
    },
    {
     "name": "stderr",
     "output_type": "stream",
     "text": [
      "\r",
      " 24%|██▎       | 4/17 [13:06<42:26, 195.92s/it]"
     ]
    },
    {
     "name": "stdout",
     "output_type": "stream",
     "text": [
      "s all proteins [SeqRecord(seq=Seq('MFVFLVLLPLVSSQCVNLTTRTQLPPAYTNSFTRGVYYPDKVFRSSVLHSTQDL...HYT'), id='hCoV_19Singapore132020_EPI_ISL_414379_2020_02_18', name='<unknown name>', description='<unknown description>', dbxrefs=[])]\n",
      "to save /data2/isshamie/covid/data/processed/seqs/S_protein_align/hCoV_19Singapore132020_EPI_ISL_414379_2020_02_18.protein.fasta\n"
     ]
    },
    {
     "name": "stderr",
     "output_type": "stream",
     "text": [
      "\r",
      " 24%|██▎       | 4/17 [13:10<43:02, 198.65s/it]"
     ]
    },
    {
     "name": "stdout",
     "output_type": "stream",
     "text": [
      "s all proteins [SeqRecord(seq=Seq('MFVFLVLLPLVSSQCVNLTTRTQLPPAYTNSFTRGVYYPDKVFRSSVLHSTQDL...HYT'), id='hCoV_19SwitzerlandTI94862020_EPI_ISL_413996_2020_02_24', name='<unknown name>', description='<unknown description>', dbxrefs=[])]\n",
      "to save /data2/isshamie/covid/data/processed/seqs/S_protein_align/hCoV_19SwitzerlandTI94862020_EPI_ISL_413996_2020_02_24.protein.fasta\n"
     ]
    },
    {
     "name": "stderr",
     "output_type": "stream",
     "text": [
      "\r",
      " 24%|██▎       | 4/17 [13:12<42:55, 198.12s/it]"
     ]
    },
    {
     "name": "stdout",
     "output_type": "stream",
     "text": [
      "s all proteins [SeqRecord(seq=Seq('MFVFLVLLPLVSSQCVNLTTRTQLPPAYTNSFTRGVYYPDKVFRSSVLHSTQDL...HYT'), id='hCoV_19NetherlandsUtrecht_13640662020_EPI_ISL_413590_2020_03_02', name='<unknown name>', description='<unknown description>', dbxrefs=[])]\n",
      "to save /data2/isshamie/covid/data/processed/seqs/S_protein_align/hCoV_19NetherlandsUtrecht_13640662020_EPI_ISL_413590_2020_03_02.protein.fasta\n"
     ]
    },
    {
     "name": "stderr",
     "output_type": "stream",
     "text": [
      "\r",
      " 24%|██▎       | 4/17 [13:13<43:15, 199.63s/it]"
     ]
    },
    {
     "name": "stdout",
     "output_type": "stream",
     "text": [
      "s all proteins [SeqRecord(seq=Seq('MFVFLVLLPLVSSQCVNLTTRTQLPPAYTNSFTRGVYYPDKVFRSSVLHSTQDL...HYT'), id='hCoV_19USACruiseA_132020_EPI_ISL_413618_2020_02_20', name='<unknown name>', description='<unknown description>', dbxrefs=[])]\n",
      "to save /data2/isshamie/covid/data/processed/seqs/S_protein_align/hCoV_19USACruiseA_132020_EPI_ISL_413618_2020_02_20.protein.fasta\n"
     ]
    },
    {
     "name": "stderr",
     "output_type": "stream",
     "text": [
      "\r",
      " 24%|██▎       | 4/17 [13:15<43:18, 199.91s/it]"
     ]
    },
    {
     "name": "stdout",
     "output_type": "stream",
     "text": [
      "s all proteins [SeqRecord(seq=Seq('MFVFLVLLPLVSSQCVNLTTRTQLPPAYTNSFTRGVYYPDKVFRSSVLHSTQDL...HYT'), id='hCoV_19NetherlandsUtrecht_42020_EPI_ISL_414438_2020_03_03', name='<unknown name>', description='<unknown description>', dbxrefs=[])]\n",
      "to save /data2/isshamie/covid/data/processed/seqs/S_protein_align/hCoV_19NetherlandsUtrecht_42020_EPI_ISL_414438_2020_03_03.protein.fasta\n"
     ]
    },
    {
     "name": "stderr",
     "output_type": "stream",
     "text": [
      "\r",
      " 24%|██▎       | 4/17 [13:25<43:58, 202.96s/it]"
     ]
    },
    {
     "name": "stdout",
     "output_type": "stream",
     "text": [
      "s all proteins [SeqRecord(seq=Seq('MFVFLVLLPLVSSQCVNLTTRTQLPPAYTNSFTRGVYYPDKVFRSSVLHSTQDL...HYT'), id='hCoV_19SwitzerlandGE95862020_EPI_ISL_414022_2020_02_27', name='<unknown name>', description='<unknown description>', dbxrefs=[])]\n",
      "to save /data2/isshamie/covid/data/processed/seqs/S_protein_align/hCoV_19SwitzerlandGE95862020_EPI_ISL_414022_2020_02_27.protein.fasta\n"
     ]
    },
    {
     "name": "stderr",
     "output_type": "stream",
     "text": [
      "\r",
      " 24%|██▎       | 4/17 [13:25<43:18, 199.86s/it]"
     ]
    },
    {
     "name": "stdout",
     "output_type": "stream",
     "text": [
      "s all proteins [SeqRecord(seq=Seq('MFVFLVLLPLVSSQCVNLTTRTQLPPAYTNSFTRGVYYPDKVFRSSVLHSTQDL...HYT'), id='hCoV_19Hong', name='<unknown name>', description='<unknown description>', dbxrefs=[])]\n",
      "to save /data2/isshamie/covid/data/processed/seqs/S_protein_align/hCoV_19Hong.protein.fasta\n"
     ]
    },
    {
     "name": "stderr",
     "output_type": "stream",
     "text": [
      "\r",
      " 24%|██▎       | 4/17 [13:28<44:12, 204.06s/it]"
     ]
    },
    {
     "name": "stdout",
     "output_type": "stream",
     "text": [
      "s all proteins [SeqRecord(seq=Seq('MFVFLVLLPLVSSQCVNLTTRTQLPPAYTNSFTRGVYYPDKVFRSSVLHSTQDL...HYT'), id='hCoV_19GermanyBavPat32020_EPI_ISL_414521_2020_03_02', name='<unknown name>', description='<unknown description>', dbxrefs=[])]\n",
      "to save /data2/isshamie/covid/data/processed/seqs/S_protein_align/hCoV_19GermanyBavPat32020_EPI_ISL_414521_2020_03_02.protein.fasta\n"
     ]
    },
    {
     "name": "stderr",
     "output_type": "stream",
     "text": [
      " 24%|██▎       | 4/17 [13:29<44:11, 203.98s/it]/home/isshamie/software/anaconda2/envs/coevolve/lib/python3.7/site-packages/Bio/Seq.py:2859: BiopythonWarning: Partial codon, len(sequence) not a multiple of three. Explicitly trim the sequence or add trailing N before translation. This may become an error in future.\n",
      "  BiopythonWarning,\n"
     ]
    },
    {
     "name": "stdout",
     "output_type": "stream",
     "text": [
      "s all proteins [SeqRecord(seq=Seq('MFVFLVLLPLVSSQCVNLTTRTQLPPAYTNSFTRGVYYPDKVFRSSVLHSTQDL...HYT'), id='hCoV_19Singapore12020_EPI_ISL_406973_2020_01_23', name='<unknown name>', description='<unknown description>', dbxrefs=[])]\n",
      "to save /data2/isshamie/covid/data/processed/seqs/S_protein_align/hCoV_19Singapore12020_EPI_ISL_406973_2020_01_23.protein.fasta\n"
     ]
    },
    {
     "name": "stderr",
     "output_type": "stream",
     "text": [
      "\r",
      " 29%|██▉       | 5/17 [13:30<31:35, 157.96s/it]"
     ]
    },
    {
     "name": "stdout",
     "output_type": "stream",
     "text": [
      "s all proteins [SeqRecord(seq=Seq('MFVFLVLLPLVSSQCVNLTTRTQLPPAYTNSFTRGVYYPDKVFRSSVLHSTQDL...CCC'), id='hCoV_19ScotlandCVR042020_EPI_ISL_414026_2020_03_04', name='<unknown name>', description='<unknown description>', dbxrefs=[])]\n",
      "to save /data2/isshamie/covid/data/processed/seqs/S_protein_align/hCoV_19ScotlandCVR042020_EPI_ISL_414026_2020_03_04.protein.fasta\n"
     ]
    },
    {
     "name": "stderr",
     "output_type": "stream",
     "text": [
      " 24%|██▎       | 4/17 [13:31<44:08, 203.73s/it]/home/isshamie/software/anaconda2/envs/coevolve/lib/python3.7/site-packages/Bio/Seq.py:2859: BiopythonWarning: Partial codon, len(sequence) not a multiple of three. Explicitly trim the sequence or add trailing N before translation. This may become an error in future.\n",
      "  BiopythonWarning,\n"
     ]
    },
    {
     "name": "stdout",
     "output_type": "stream",
     "text": [
      "s all proteins [SeqRecord(seq=Seq('MFVFLVLLPLVSSQCVNLTTRTQLPPAYTNSFTRGVYYPDKVFRSSVLHSTQDL...TNL'), id='hCoV_19USAWA14_UW102020_EPI_ISL_413649_2020_03_05', name='<unknown name>', description='<unknown description>', dbxrefs=[])]\n",
      "to save /data2/isshamie/covid/data/processed/seqs/S_protein_align/hCoV_19USAWA14_UW102020_EPI_ISL_413649_2020_03_05.protein.fasta\n"
     ]
    },
    {
     "name": "stderr",
     "output_type": "stream",
     "text": [
      "\r",
      " 24%|██▎       | 4/17 [13:31<44:03, 203.35s/it]"
     ]
    },
    {
     "name": "stdout",
     "output_type": "stream",
     "text": [
      "s all proteins [SeqRecord(seq=Seq('MFVFLVLLPLVSSQCVNLTTRTQLPPAYTNSFTRGVYYPDKVFRSSVLHSTQDL...HYT'), id='hCoV_19TaiwanNTU012020_EPI_ISL_408489_2020_01_31', name='<unknown name>', description='<unknown description>', dbxrefs=[])]\n",
      "to save /data2/isshamie/covid/data/processed/seqs/S_protein_align/hCoV_19TaiwanNTU012020_EPI_ISL_408489_2020_01_31.protein.fasta\n"
     ]
    },
    {
     "name": "stderr",
     "output_type": "stream",
     "text": [
      "\r",
      " 29%|██▉       | 5/17 [13:32<31:37, 158.13s/it]"
     ]
    },
    {
     "name": "stdout",
     "output_type": "stream",
     "text": [
      "s all proteins [SeqRecord(seq=Seq('MFVFLVLLPLVSSQCVNLTTRTQLXPAYTNSFTRGVYYPDKVFRSSVLHSTQDL...HYT'), id='hCoV_19GermanyNRW_012020_EPI_ISL_413488_2020_02_28', name='<unknown name>', description='<unknown description>', dbxrefs=[])]\n",
      "to save /data2/isshamie/covid/data/processed/seqs/S_protein_align/hCoV_19GermanyNRW_012020_EPI_ISL_413488_2020_02_28.protein.fasta\n"
     ]
    },
    {
     "name": "stderr",
     "output_type": "stream",
     "text": [
      "\r",
      " 24%|██▎       | 4/17 [13:32<44:35, 205.83s/it]"
     ]
    },
    {
     "name": "stdout",
     "output_type": "stream",
     "text": [
      "s all proteins [SeqRecord(seq=Seq('MFVFLVLLPLVSSQCVNLTTRTQLPPAYTNSFTRGVYYPDKVFRSSVLHSTQDL...CCC'), id='hCoV_19GuangdongSZ_N59_P00492020_EPI_ISL_413872_2020_02_28', name='<unknown name>', description='<unknown description>', dbxrefs=[])]\n",
      "to save /data2/isshamie/covid/data/processed/seqs/S_protein_align/hCoV_19GuangdongSZ_N59_P00492020_EPI_ISL_413872_2020_02_28.protein.fasta\n"
     ]
    },
    {
     "name": "stderr",
     "output_type": "stream",
     "text": [
      "\r",
      " 24%|██▎       | 4/17 [13:33<44:13, 204.14s/it]"
     ]
    },
    {
     "name": "stdout",
     "output_type": "stream",
     "text": [
      "s all proteins [SeqRecord(seq=Seq('MFVFLVLLPLVSSQCVNLTTRTQLPPAYTNSFTRGVYYPDKVFRSSVLYSTQDL...HYT'), id='hCoV_19Guangdong20SF1742020_EPI_ISL_406531_2020_01_22', name='<unknown name>', description='<unknown description>', dbxrefs=[])]\n",
      "to save /data2/isshamie/covid/data/processed/seqs/S_protein_align/hCoV_19Guangdong20SF1742020_EPI_ISL_406531_2020_01_22.protein.fasta\n"
     ]
    },
    {
     "name": "stderr",
     "output_type": "stream",
     "text": [
      "\r",
      " 29%|██▉       | 5/17 [13:35<31:52, 159.38s/it]"
     ]
    },
    {
     "name": "stdout",
     "output_type": "stream",
     "text": [
      "s all proteins [SeqRecord(seq=Seq('MFVFLVLLPLVSSQCVNLTTRTQLPPAYTNSFTRGVYYPDKVFRSSVLHSTQDL...HYT'), id='hCoV_19FinlandFIN03032020C2020_EPI_ISL_413604_2020_03_03', name='<unknown name>', description='<unknown description>', dbxrefs=[])]\n",
      "to save /data2/isshamie/covid/data/processed/seqs/S_protein_align/hCoV_19FinlandFIN03032020C2020_EPI_ISL_413604_2020_03_03.protein.fasta\n"
     ]
    },
    {
     "name": "stderr",
     "output_type": "stream",
     "text": [
      "\r",
      " 29%|██▉       | 5/17 [13:46<32:25, 162.14s/it]"
     ]
    },
    {
     "name": "stdout",
     "output_type": "stream",
     "text": [
      "s all proteins [SeqRecord(seq=Seq('MFVFLVLLPLVSSQCVNLTTRTQLPPAYTNSFTRGVYYPDKVFRSSVLHSTQDL...THK'), id='hCoV_19MexicoCDMXInDRE_012020_EPI_ISL_412972_2020_02_27', name='<unknown name>', description='<unknown description>', dbxrefs=[])]\n",
      "to save /data2/isshamie/covid/data/processed/seqs/S_protein_align/hCoV_19MexicoCDMXInDRE_012020_EPI_ISL_412972_2020_02_27.protein.fasta\n"
     ]
    },
    {
     "name": "stderr",
     "output_type": "stream",
     "text": [
      "\r",
      " 29%|██▉       | 5/17 [13:54<32:34, 162.89s/it]"
     ]
    },
    {
     "name": "stdout",
     "output_type": "stream",
     "text": [
      "s all proteins [SeqRecord(seq=Seq('MFVFLVLLPLVSSQCVNLTTRTQLPPAYTNSFTRGVYYPDKVFRSSVLHSTQDL...HYT'), id='hCoV_19USACA62020_EPI_ISL_410044_2020_01_27', name='<unknown name>', description='<unknown description>', dbxrefs=[])]\n",
      "to save /data2/isshamie/covid/data/processed/seqs/S_protein_align/hCoV_19USACA62020_EPI_ISL_410044_2020_01_27.protein.fasta\n"
     ]
    },
    {
     "name": "stderr",
     "output_type": "stream",
     "text": [
      "\r",
      " 29%|██▉       | 5/17 [13:58<32:55, 164.65s/it]"
     ]
    },
    {
     "name": "stdout",
     "output_type": "stream",
     "text": [
      "s all proteins [SeqRecord(seq=Seq('MFVFLVLLPLVSSQCVNLTTRTQLPPAYTNSFTRGVYYPDKVFRSSVLHSTQDL...HYT'), id='hCoV_19NetherlandsEindhoven_13637822020_EPI_ISL_413571_2020_03_02', name='<unknown name>', description='<unknown description>', dbxrefs=[])]\n",
      "to save /data2/isshamie/covid/data/processed/seqs/S_protein_align/hCoV_19NetherlandsEindhoven_13637822020_EPI_ISL_413571_2020_03_02.protein.fasta\n"
     ]
    },
    {
     "name": "stderr",
     "output_type": "stream",
     "text": [
      "\r",
      " 29%|██▉       | 5/17 [14:42<35:07, 175.62s/it]"
     ]
    },
    {
     "name": "stdout",
     "output_type": "stream",
     "text": [
      "s all proteins [SeqRecord(seq=Seq('MFVFLVLLPLVSSQCVNLTTRTQLPPAYTNSFTRGVYYPDKVFRSSVLHSTQDL...HYT'), id='hCoV_19South', name='<unknown name>', description='<unknown description>', dbxrefs=[])]\n",
      "to save /data2/isshamie/covid/data/processed/seqs/S_protein_align/hCoV_19South.protein.fasta\n"
     ]
    },
    {
     "name": "stderr",
     "output_type": "stream",
     "text": [
      " 29%|██▉       | 5/17 [14:49<35:31, 177.64s/it]/home/isshamie/software/anaconda2/envs/coevolve/lib/python3.7/site-packages/Bio/Seq.py:2859: BiopythonWarning: Partial codon, len(sequence) not a multiple of three. Explicitly trim the sequence or add trailing N before translation. This may become an error in future.\n",
      "  BiopythonWarning,\n"
     ]
    },
    {
     "name": "stdout",
     "output_type": "stream",
     "text": [
      "s all proteins [SeqRecord(seq=Seq('MFVFLVLLPLVSSQCVNLTTRTQLPPAYTNSFTRGVYYPDKVFRSSVLHSTQDL...HYT'), id='hCoV_19TaiwanNTU032020_EPI_ISL_413592_2020_03_02', name='<unknown name>', description='<unknown description>', dbxrefs=[])]\n",
      "to save /data2/isshamie/covid/data/processed/seqs/S_protein_align/hCoV_19TaiwanNTU032020_EPI_ISL_413592_2020_03_02.protein.fasta\n"
     ]
    },
    {
     "name": "stderr",
     "output_type": "stream",
     "text": [
      " 29%|██▉       | 5/17 [15:08<35:43, 178.64s/it]/home/isshamie/software/anaconda2/envs/coevolve/lib/python3.7/site-packages/Bio/Seq.py:2859: BiopythonWarning: Partial codon, len(sequence) not a multiple of three. Explicitly trim the sequence or add trailing N before translation. This may become an error in future.\n",
      "  BiopythonWarning,\n"
     ]
    },
    {
     "name": "stdout",
     "output_type": "stream",
     "text": [
      "s all proteins [SeqRecord(seq=Seq('MFVFLVLLPLVSSQCVNLTTRTQLPPAYTNSFTRGVYYPDKVFRSSVLHSTQDL...HYT'), id='hCoV_19Guangdong20SF0142020_EPI_ISL_403934_2020_01_15', name='<unknown name>', description='<unknown description>', dbxrefs=[])]\n",
      "to save /data2/isshamie/covid/data/processed/seqs/S_protein_align/hCoV_19Guangdong20SF0142020_EPI_ISL_403934_2020_01_15.protein.fasta\n"
     ]
    },
    {
     "name": "stderr",
     "output_type": "stream",
     "text": [
      "\r",
      " 29%|██▉       | 5/17 [15:09<35:46, 178.84s/it]"
     ]
    },
    {
     "name": "stdout",
     "output_type": "stream",
     "text": [
      "s all proteins [SeqRecord(seq=Seq('MFVFLVLLPLVSSQCVNLTTRTQLPPAYTNSFTRGVYYPDKVFRSSVLHSTQDL...HYT'), id='hCoV_19Hong', name='<unknown name>', description='<unknown description>', dbxrefs=[])]\n",
      "to save /data2/isshamie/covid/data/processed/seqs/S_protein_align/hCoV_19Hong.protein.fasta\n"
     ]
    },
    {
     "name": "stderr",
     "output_type": "stream",
     "text": [
      "\r",
      " 29%|██▉       | 5/17 [15:13<35:18, 176.52s/it]"
     ]
    },
    {
     "name": "stdout",
     "output_type": "stream",
     "text": [
      "s all proteins [SeqRecord(seq=Seq('MFVFLVLLPLVSSQCVNLTTRTQLPPAYTNSFTRGVYYPDKVFRSSVLHSTQDL...TTN'), id='hCoV_19Czech', name='<unknown name>', description='<unknown description>', dbxrefs=[])]\n",
      "to save /data2/isshamie/covid/data/processed/seqs/S_protein_align/hCoV_19Czech.protein.fasta\n"
     ]
    },
    {
     "name": "stderr",
     "output_type": "stream",
     "text": [
      "\r",
      " 29%|██▉       | 5/17 [15:16<36:24, 182.04s/it]"
     ]
    },
    {
     "name": "stdout",
     "output_type": "stream",
     "text": [
      "s all proteins [SeqRecord(seq=Seq('MFVFLVLLPLVSSQCVNLTTRTQLPPAYTNSFTRGVYYPDKVFRSSVLHSTQDL...HYT'), id='hCoV_19USACA_CDPH_UC22020_EPI_ISL_413558_2020_02_27', name='<unknown name>', description='<unknown description>', dbxrefs=[])]\n",
      "to save /data2/isshamie/covid/data/processed/seqs/S_protein_align/hCoV_19USACA_CDPH_UC22020_EPI_ISL_413558_2020_02_27.protein.fasta\n",
      "s all proteins [SeqRecord(seq=Seq('MFVFLVLLPLVSSQCVNLTTRTQLPPAYTNSFTRGVYYPDKVFRSSVLHSTQDL...HYT'), id='hCoV_19Singapore142020_EPI_ISL_414380_2020_02_19', name='<unknown name>', description='<unknown description>', dbxrefs=[])]\n"
     ]
    },
    {
     "name": "stderr",
     "output_type": "stream",
     "text": [
      "\r",
      " 29%|██▉       | 5/17 [15:23<36:00, 180.01s/it]"
     ]
    },
    {
     "name": "stdout",
     "output_type": "stream",
     "text": [
      "to save /data2/isshamie/covid/data/processed/seqs/S_protein_align/hCoV_19Singapore142020_EPI_ISL_414380_2020_02_19.protein.fasta\n"
     ]
    },
    {
     "name": "stderr",
     "output_type": "stream",
     "text": [
      "\r",
      " 29%|██▉       | 5/17 [15:23<35:45, 178.78s/it]"
     ]
    },
    {
     "name": "stdout",
     "output_type": "stream",
     "text": [
      "s all proteins [SeqRecord(seq=Seq('MFVFLVLLPLVSSQCVNLTTRTQLPPAYTNSFTRGVYYPDKVFRSSVLHSTQDL...HYT'), id='hCoV_19Switzerland10004778062020_EPI_ISL_413024_2020_02_29', name='<unknown name>', description='<unknown description>', dbxrefs=[])]\n",
      "to save /data2/isshamie/covid/data/processed/seqs/S_protein_align/hCoV_19Switzerland10004778062020_EPI_ISL_413024_2020_02_29.protein.fasta\n"
     ]
    },
    {
     "name": "stderr",
     "output_type": "stream",
     "text": [
      "\r",
      " 29%|██▉       | 5/17 [15:23<35:41, 178.44s/it]"
     ]
    },
    {
     "name": "stdout",
     "output_type": "stream",
     "text": [
      "s all proteins [SeqRecord(seq=Seq('MFVFLVLLPLVSSQCVNLTTRTQLPPAYTNSFTRGVYYPDKVFRSSVLHSTQDL...HYT'), id='hCoV_19FranceIDF0386_islP32020_EPI_ISL_411220_2020_01_28', name='<unknown name>', description='<unknown description>', dbxrefs=[])]\n",
      "to save /data2/isshamie/covid/data/processed/seqs/S_protein_align/hCoV_19FranceIDF0386_islP32020_EPI_ISL_411220_2020_01_28.protein.fasta\n"
     ]
    },
    {
     "name": "stderr",
     "output_type": "stream",
     "text": [
      "\r",
      " 29%|██▉       | 5/17 [15:24<36:04, 180.36s/it]"
     ]
    },
    {
     "name": "stdout",
     "output_type": "stream",
     "text": [
      "s all proteins [SeqRecord(seq=Seq('MFVFLVLLPLVSSQCVNLTTRTQLPPAYTNSFTRGVYYPDKVFRSSVLHSTQDL...HYT'), id='hCoV_19NetherlandsZeewolde_13650802020_EPI_ISL_413591_2020_03_02', name='<unknown name>', description='<unknown description>', dbxrefs=[])]\n",
      "to save /data2/isshamie/covid/data/processed/seqs/S_protein_align/hCoV_19NetherlandsZeewolde_13650802020_EPI_ISL_413591_2020_03_02.protein.fasta\n"
     ]
    },
    {
     "name": "stderr",
     "output_type": "stream",
     "text": [
      "\r",
      " 29%|██▉       | 5/17 [15:25<35:52, 179.40s/it]"
     ]
    },
    {
     "name": "stdout",
     "output_type": "stream",
     "text": [
      "s all proteins [SeqRecord(seq=Seq('MFVFLVLLPLVSSQCVNLTTRTQLPPAYTNSFTRGVYYPDKVFRSSVLHSTQDL...HYT'), id='hCoV_19ChinaWF00012020_EPI_ISL_413691_2020_01', name='<unknown name>', description='<unknown description>', dbxrefs=[])]\n",
      "to save /data2/isshamie/covid/data/processed/seqs/S_protein_align/hCoV_19ChinaWF00012020_EPI_ISL_413691_2020_01.protein.fasta\n"
     ]
    },
    {
     "name": "stderr",
     "output_type": "stream",
     "text": [
      "\r",
      " 29%|██▉       | 5/17 [15:30<35:58, 179.85s/it]"
     ]
    },
    {
     "name": "stdout",
     "output_type": "stream",
     "text": [
      "s all proteins [SeqRecord(seq=Seq('MFVFLVLLPLVSSQCVNLTTRTQLPPAYTNSFTRGVYYPDKVFRSSVLHSTQDL...HYT'), id='hCoV_19USACruiseA_142020_EPI_ISL_413619_2020_02_25', name='<unknown name>', description='<unknown description>', dbxrefs=[])]\n",
      "to save /data2/isshamie/covid/data/processed/seqs/S_protein_align/hCoV_19USACruiseA_142020_EPI_ISL_413619_2020_02_25.protein.fasta\n"
     ]
    },
    {
     "name": "stderr",
     "output_type": "stream",
     "text": [
      "\r",
      " 29%|██▉       | 5/17 [15:34<36:16, 181.37s/it]"
     ]
    },
    {
     "name": "stdout",
     "output_type": "stream",
     "text": [
      "s all proteins [SeqRecord(seq=Seq('MFVFLVLLPLVSSQCVNLTTRTQLPPAYTNSFTRGVYYPDKVFRSSVLHSTQDL...HYT'), id='hCoV_19NetherlandsUtrecht_32020_EPI_ISL_414437_2020_03_03', name='<unknown name>', description='<unknown description>', dbxrefs=[])]\n",
      "to save /data2/isshamie/covid/data/processed/seqs/S_protein_align/hCoV_19NetherlandsUtrecht_32020_EPI_ISL_414437_2020_03_03.protein.fasta\n"
     ]
    },
    {
     "name": "stderr",
     "output_type": "stream",
     "text": [
      "\r",
      " 29%|██▉       | 5/17 [15:36<36:16, 181.38s/it]"
     ]
    },
    {
     "name": "stdout",
     "output_type": "stream",
     "text": [
      "s all proteins [SeqRecord(seq=Seq('MFVFLVLLPLVSSQCVNLTTRTQLPPAYTNSFTRGVYYPDKVFRSSVLHSTQDL...HYT'), id='hCoV_19USAWA1_A122020_EPI_ISL_407214_2020_01_25', name='<unknown name>', description='<unknown description>', dbxrefs=[])]\n",
      "to save /data2/isshamie/covid/data/processed/seqs/S_protein_align/hCoV_19USAWA1_A122020_EPI_ISL_407214_2020_01_25.protein.fasta\n"
     ]
    },
    {
     "name": "stderr",
     "output_type": "stream",
     "text": [
      "\r",
      " 35%|███▌      | 6/17 [15:40<27:22, 149.30s/it]"
     ]
    },
    {
     "name": "stdout",
     "output_type": "stream",
     "text": [
      "s all proteins [SeqRecord(seq=Seq('MFVFLVLLPLVSSQCVNLTTRTQLPPAYTNSFTRGVYYPDKVFRSSVLHSTQDL...HYT'), id='hCoV_19WuhanIVDC_HB_envF13_202020_EPI_ISL_408514_2020_01_01', name='<unknown name>', description='<unknown description>', dbxrefs=[])]\n",
      "to save /data2/isshamie/covid/data/processed/seqs/S_protein_align/hCoV_19WuhanIVDC_HB_envF13_202020_EPI_ISL_408514_2020_01_01.protein.fasta\n"
     ]
    },
    {
     "name": "stderr",
     "output_type": "stream",
     "text": [
      "\r",
      " 35%|███▌      | 6/17 [15:41<27:24, 149.52s/it]"
     ]
    },
    {
     "name": "stdout",
     "output_type": "stream",
     "text": [
      "s all proteins [SeqRecord(seq=Seq('MFVFLVLLPLVSSQCVNLTTRTQLPPAYTNSFTRGVYYPDKVFRSSVLHSTQDL...HYT'), id='hCoV_19Hong', name='<unknown name>', description='<unknown description>', dbxrefs=[])]\n",
      "to save /data2/isshamie/covid/data/processed/seqs/S_protein_align/hCoV_19Hong.protein.fasta\n"
     ]
    },
    {
     "name": "stderr",
     "output_type": "stream",
     "text": [
      "\r",
      " 29%|██▉       | 5/17 [15:49<37:01, 185.15s/it]"
     ]
    },
    {
     "name": "stdout",
     "output_type": "stream",
     "text": [
      "s all proteins [SeqRecord(seq=Seq('MFVFLVLLPLVSSQCVNLTTRTQLPPAYTNSFTRGVYYPDKVFRSSVLHSTQDL...HYT'), id='hCoV_19SwitzerlandBL09022020_EPI_ISL_414021_2020_02_27', name='<unknown name>', description='<unknown description>', dbxrefs=[])]\n",
      "to save /data2/isshamie/covid/data/processed/seqs/S_protein_align/hCoV_19SwitzerlandBL09022020_EPI_ISL_414021_2020_02_27.protein.fasta\n"
     ]
    },
    {
     "name": "stderr",
     "output_type": "stream",
     "text": [
      "\r",
      " 29%|██▉       | 5/17 [15:51<36:43, 183.60s/it]"
     ]
    },
    {
     "name": "stdout",
     "output_type": "stream",
     "text": [
      "s all proteins [SeqRecord(seq=Seq('MFVFLVLLPLVSSQCVNLTTRTQLPPAYTNSFTRGVYYPDKVFRSSVLHSTQDL...HYT'), id='hCoV_19NetherlandsZuidHolland_172020_EPI_ISL_414559_2020_03_07', name='<unknown name>', description='<unknown description>', dbxrefs=[])]\n",
      "to save /data2/isshamie/covid/data/processed/seqs/S_protein_align/hCoV_19NetherlandsZuidHolland_172020_EPI_ISL_414559_2020_03_07.protein.fasta\n"
     ]
    },
    {
     "name": "stderr",
     "output_type": "stream",
     "text": [
      "\r",
      " 29%|██▉       | 5/17 [16:03<37:46, 188.88s/it]"
     ]
    },
    {
     "name": "stdout",
     "output_type": "stream",
     "text": [
      "s all proteins [SeqRecord(seq=Seq('MFVFLVLLPLVSSQCVNLTTRTQLPPAYTNSFTRGVYYPDKVFRSSVLHSTQDL...CCC'), id='hCoV_19ScotlandCVR032020_EPI_ISL_414025_2020_03_01', name='<unknown name>', description='<unknown description>', dbxrefs=[])]\n",
      "to save /data2/isshamie/covid/data/processed/seqs/S_protein_align/hCoV_19ScotlandCVR032020_EPI_ISL_414025_2020_03_01.protein.fasta\n"
     ]
    },
    {
     "name": "stderr",
     "output_type": "stream",
     "text": [
      "\r",
      " 29%|██▉       | 5/17 [16:08<37:56, 189.69s/it]"
     ]
    },
    {
     "name": "stdout",
     "output_type": "stream",
     "text": [
      "s all proteins [SeqRecord(seq=Seq('MFVFLVLLPLVSSQCVNLTTRTQLPPAYTNSFTRGVYYPDKVFRSSVLHSTQDL...HYT'), id='hCoV_19USAWA15_UW112020_EPI_ISL_413650_2020_03_05', name='<unknown name>', description='<unknown description>', dbxrefs=[])]\n",
      "to save /data2/isshamie/covid/data/processed/seqs/S_protein_align/hCoV_19USAWA15_UW112020_EPI_ISL_413650_2020_03_05.protein.fasta\n"
     ]
    },
    {
     "name": "stderr",
     "output_type": "stream",
     "text": [
      "\r",
      " 29%|██▉       | 5/17 [16:19<38:30, 192.50s/it]"
     ]
    },
    {
     "name": "stdout",
     "output_type": "stream",
     "text": [
      "s all proteins [SeqRecord(seq=Seq('MFVFLVLLPLVSSQCVNLTTRTQLPPAYTNSFTRGVYYPDKVFRSSVLHSTQDL...CCC'), id='hCoV_19GuangdongGDFS2020127_P00262020_EPI_ISL_413874_2020_02_12', name='<unknown name>', description='<unknown description>', dbxrefs=[])]\n",
      "to save /data2/isshamie/covid/data/processed/seqs/S_protein_align/hCoV_19GuangdongGDFS2020127_P00262020_EPI_ISL_413874_2020_02_12.protein.fasta\n"
     ]
    },
    {
     "name": "stderr",
     "output_type": "stream",
     "text": [
      "\r",
      " 29%|██▉       | 5/17 [16:23<38:46, 193.90s/it]"
     ]
    },
    {
     "name": "stdout",
     "output_type": "stream",
     "text": [
      "s all proteins [SeqRecord(seq=Seq('MFVFLVLLPLVSSQCVNLTTRTQLPPAYTNSFTRGVYYPDKVFRSSVLHSTQDL...HYT'), id='hCoV_19Guangzhou20SF2062020_EPI_ISL_406533_2020_01_22', name='<unknown name>', description='<unknown description>', dbxrefs=[])]\n",
      "to save /data2/isshamie/covid/data/processed/seqs/S_protein_align/hCoV_19Guangzhou20SF2062020_EPI_ISL_406533_2020_01_22.protein.fasta\n"
     ]
    },
    {
     "name": "stderr",
     "output_type": "stream",
     "text": [
      "\r",
      " 35%|███▌      | 6/17 [16:37<30:27, 166.12s/it]"
     ]
    },
    {
     "name": "stdout",
     "output_type": "stream",
     "text": [
      "s all proteins [SeqRecord(seq=Seq('MFVFLVLLPLVSSQCVNLTTRTQLPPAYTNSFTRGVYYPDKVFRSSVLHSTQDL...TSI'), id='hCoV_19NetherlandsNoordBrabant_192020_EPI_ISL_414459_2020_03_06', name='<unknown name>', description='<unknown description>', dbxrefs=[])]\n",
      "to save /data2/isshamie/covid/data/processed/seqs/S_protein_align/hCoV_19NetherlandsNoordBrabant_192020_EPI_ISL_414459_2020_03_06.protein.fasta\n"
     ]
    },
    {
     "name": "stderr",
     "output_type": "stream",
     "text": [
      "\r",
      "  6%|▌         | 1/17 [16:53<4:30:16, 1013.53s/it]"
     ]
    },
    {
     "name": "stdout",
     "output_type": "stream",
     "text": [
      "s all proteins [SeqRecord(seq=Seq('MFVFLVLLPLVSSQCVNLTTRTQLPPAYTNSFTRGVYYPDKVFRSSVLHSTQDL...HYT'), id='hCoV_19FinlandFIN03032020B2020_EPI_ISL_413603_2020_03_03', name='<unknown name>', description='<unknown description>', dbxrefs=[])]\n",
      "to save /data2/isshamie/covid/data/processed/seqs/S_protein_align/hCoV_19FinlandFIN03032020B2020_EPI_ISL_413603_2020_03_03.protein.fasta\n"
     ]
    },
    {
     "name": "stderr",
     "output_type": "stream",
     "text": [
      "\r",
      " 35%|███▌      | 6/17 [16:57<31:18, 170.79s/it]"
     ]
    },
    {
     "name": "stdout",
     "output_type": "stream",
     "text": [
      "s all proteins [SeqRecord(seq=Seq('IGLALYYPSARIVYTACSHAAVDALCEKALKYLPIDKCSRIIPARARVECFDKF...SLQ'), id='hCoV_19pangolinGuangxiP5L2017_EPI_ISL_410540_2017', name='<unknown name>', description='<unknown description>', dbxrefs=[])]\n",
      "to save /data2/isshamie/covid/data/processed/seqs/S_protein_align/hCoV_19pangolinGuangxiP5L2017_EPI_ISL_410540_2017.protein.fasta\n"
     ]
    },
    {
     "name": "stderr",
     "output_type": "stream",
     "text": [
      "\r",
      " 12%|█▏        | 2/17 [17:10<2:14:50, 539.39s/it]"
     ]
    },
    {
     "name": "stdout",
     "output_type": "stream",
     "text": [
      "s all proteins [SeqRecord(seq=Seq('MFVFLVLLPLVSSQCVNLTTRTQLPPAYTNSFTRGVYYPDKVFRSSVLHSTQDL...HYT'), id='hCoV_19GermanyNRW_02_12020_EPI_ISL_414497_2020_02_25', name='<unknown name>', description='<unknown description>', dbxrefs=[])]\n",
      "to save /data2/isshamie/covid/data/processed/seqs/S_protein_align/hCoV_19GermanyNRW_02_12020_EPI_ISL_414497_2020_02_25.protein.fasta\n"
     ]
    },
    {
     "name": "stderr",
     "output_type": "stream",
     "text": [
      "\r",
      " 29%|██▉       | 5/17 [17:12<41:58, 209.91s/it]"
     ]
    },
    {
     "name": "stdout",
     "output_type": "stream",
     "text": [
      "s all proteins [SeqRecord(seq=Seq('MFVFLVLLPLVSSQCVNLTTRTQLPPAYTNSFTRGVYYPDKVFRSSVLHSTQDL...HYT'), id='hCoV_19ItalySPL12020_EPI_ISL_412974_2020_01_29', name='<unknown name>', description='<unknown description>', dbxrefs=[])]\n",
      "to save /data2/isshamie/covid/data/processed/seqs/S_protein_align/hCoV_19ItalySPL12020_EPI_ISL_412974_2020_01_29.protein.fasta\n"
     ]
    },
    {
     "name": "stderr",
     "output_type": "stream",
     "text": [
      "\r",
      " 35%|███▌      | 6/17 [17:13<31:52, 173.82s/it]"
     ]
    },
    {
     "name": "stdout",
     "output_type": "stream",
     "text": [
      "s all proteins [SeqRecord(seq=Seq('MFVFLVLLPLVSSQCVNLTTRTQLPPAYTNSFTRGVYYPDKVFRSSVLHSTQDL...HYT'), id='hCoV_19USAMA12020_EPI_ISL_409067_2020_01_29', name='<unknown name>', description='<unknown description>', dbxrefs=[])]\n",
      "to save /data2/isshamie/covid/data/processed/seqs/S_protein_align/hCoV_19USAMA12020_EPI_ISL_409067_2020_01_29.protein.fasta\n"
     ]
    },
    {
     "name": "stderr",
     "output_type": "stream",
     "text": [
      "\r",
      " 35%|███▌      | 6/17 [17:14<31:52, 173.91s/it]"
     ]
    },
    {
     "name": "stdout",
     "output_type": "stream",
     "text": [
      "s all proteins [SeqRecord(seq=Seq('MFVFLVLLPLVSSQCVNLTTRTQLPPAYTNSFTRGVYYPDKVFRSSVLHSTQDL...HYT'), id='hCoV_19NetherlandsDelft_13634242020_EPI_ISL_413569_2020_02_28', name='<unknown name>', description='<unknown description>', dbxrefs=[])]\n",
      "to save /data2/isshamie/covid/data/processed/seqs/S_protein_align/hCoV_19NetherlandsDelft_13634242020_EPI_ISL_413569_2020_02_28.protein.fasta\n"
     ]
    },
    {
     "name": "stderr",
     "output_type": "stream",
     "text": [
      "\r",
      " 35%|███▌      | 6/17 [17:24<31:26, 171.54s/it]"
     ]
    },
    {
     "name": "stdout",
     "output_type": "stream",
     "text": [
      "s all proteins [SeqRecord(seq=Seq('MFVFLVLLPLVSSQCVNLTTRTQLPPAYTNSFTRGVYYPDKVFRSSVLHSTQDL...HYT'), id='hCoV_19South', name='<unknown name>', description='<unknown description>', dbxrefs=[])]\n",
      "to save /data2/isshamie/covid/data/processed/seqs/S_protein_align/hCoV_19South.protein.fasta\n"
     ]
    },
    {
     "name": "stderr",
     "output_type": "stream",
     "text": [
      "\r",
      " 35%|███▌      | 6/17 [17:27<31:27, 171.60s/it]"
     ]
    },
    {
     "name": "stdout",
     "output_type": "stream",
     "text": [
      "s all proteins [SeqRecord(seq=Seq('IYLQPLEYFYKTSEFRKCGFQCCKRTLWTTGSTSFHHHCLHKSWCCRIIKQNNI...HLL'), id='hCoV_19pangolinGuangdong12019_EPI_ISL_410721_2019', name='<unknown name>', description='<unknown description>', dbxrefs=[])]\n",
      "to save /data2/isshamie/covid/data/processed/seqs/S_protein_align/hCoV_19pangolinGuangdong12019_EPI_ISL_410721_2019.protein.fasta\n"
     ]
    },
    {
     "name": "stderr",
     "output_type": "stream",
     "text": [
      "\r",
      " 18%|█▊        | 3/17 [17:40<1:20:55, 346.79s/it]"
     ]
    },
    {
     "name": "stdout",
     "output_type": "stream",
     "text": [
      "s all proteins [SeqRecord(seq=Seq('MFVFLVLLPLVSSQCVNLTTRTQLPPAYTNSFTRGVYYPDKVFRSSVLHSTQDL...HYT'), id='hCoV_19USACruiseA_192020_EPI_ISL_414479_2020_02_18', name='<unknown name>', description='<unknown description>', dbxrefs=[])]\n",
      "to save /data2/isshamie/covid/data/processed/seqs/S_protein_align/hCoV_19USACruiseA_192020_EPI_ISL_414479_2020_02_18.protein.fasta\n"
     ]
    },
    {
     "name": "stderr",
     "output_type": "stream",
     "text": [
      "\r",
      " 35%|███▌      | 6/17 [17:41<31:19, 170.90s/it]"
     ]
    },
    {
     "name": "stdout",
     "output_type": "stream",
     "text": [
      "s all proteins [SeqRecord(seq=Seq('MFVFLVLLPLVSSQCVNLTTRTQLPPAYTNSFTRGVYYPDKVFRSSVLHSTQDL...HYT'), id='hCoV_19Guangdong20SF0252020_EPI_ISL_403935_2020_01_15', name='<unknown name>', description='<unknown description>', dbxrefs=[])]\n",
      "to save /data2/isshamie/covid/data/processed/seqs/S_protein_align/hCoV_19Guangdong20SF0252020_EPI_ISL_403935_2020_01_15.protein.fasta\n"
     ]
    },
    {
     "name": "stderr",
     "output_type": "stream",
     "text": [
      "\r",
      " 35%|███▌      | 6/17 [17:46<31:34, 172.22s/it]"
     ]
    },
    {
     "name": "stdout",
     "output_type": "stream",
     "text": [
      "s all proteins [SeqRecord(seq=Seq('MFVFLVLLPLVSSQCVNLTTRTQLPPAYTNSFTRGVYYPDKVFRSSVLHSTQDL...CCC'), id='hCoV_19CanadaBC_37_0_22020_EPI_ISL_412965_2020_02_16', name='<unknown name>', description='<unknown description>', dbxrefs=[])]\n",
      "to save /data2/isshamie/covid/data/processed/seqs/S_protein_align/hCoV_19CanadaBC_37_0_22020_EPI_ISL_412965_2020_02_16.protein.fasta\n"
     ]
    },
    {
     "name": "stderr",
     "output_type": "stream",
     "text": [
      "\r",
      " 35%|███▌      | 6/17 [17:51<31:52, 173.90s/it]"
     ]
    },
    {
     "name": "stdout",
     "output_type": "stream",
     "text": [
      "s all proteins [SeqRecord(seq=Seq('MFVFLVLLPLVSSQCVNLTTRTQLPPAYTNSFTRGVYYPDKVFRSSVLHSTQDL...HYT'), id='hCoV_19VietnamVR03_381422020_EPI_ISL_408668_2020_01_24', name='<unknown name>', description='<unknown description>', dbxrefs=[])]\n",
      "to save /data2/isshamie/covid/data/processed/seqs/S_protein_align/hCoV_19VietnamVR03_381422020_EPI_ISL_408668_2020_01_24.protein.fasta\n"
     ]
    },
    {
     "name": "stderr",
     "output_type": "stream",
     "text": [
      "\r",
      " 35%|███▌      | 6/17 [17:51<31:23, 171.22s/it]"
     ]
    },
    {
     "name": "stdout",
     "output_type": "stream",
     "text": [
      "s all proteins [SeqRecord(seq=Seq('MFVFLVLLPLVSSQCVNLTTRTQLPPAYTNSFTRGVYYPDKVFRSSVLHSTQDL...HYT'), id='hCoV_19USACA_CDPH_UC32020_EPI_ISL_413559_2020_02_27', name='<unknown name>', description='<unknown description>', dbxrefs=[])]\n",
      "to save /data2/isshamie/covid/data/processed/seqs/S_protein_align/hCoV_19USACA_CDPH_UC32020_EPI_ISL_413559_2020_02_27.protein.fasta\n"
     ]
    },
    {
     "name": "stderr",
     "output_type": "stream",
     "text": [
      "\r",
      " 35%|███▌      | 6/17 [17:54<31:25, 171.42s/it]"
     ]
    },
    {
     "name": "stdout",
     "output_type": "stream",
     "text": [
      "s all proteins [SeqRecord(seq=Seq('MFVFLVLLPLVSSQCVNLTTRTQLPPAYTNSFTRGVYYPDKVFRSSVLHSTQDL...HYT'), id='hCoV_19Cambodia00122020_EPI_ISL_411902_2020_01_27', name='<unknown name>', description='<unknown description>', dbxrefs=[])]\n",
      "to save /data2/isshamie/covid/data/processed/seqs/S_protein_align/hCoV_19Cambodia00122020_EPI_ISL_411902_2020_01_27.protein.fasta\n"
     ]
    },
    {
     "name": "stderr",
     "output_type": "stream",
     "text": [
      "\r",
      " 35%|███▌      | 6/17 [17:55<31:28, 171.64s/it]"
     ]
    },
    {
     "name": "stdout",
     "output_type": "stream",
     "text": [
      "s all proteins [SeqRecord(seq=Seq('MFVFLVLLPLVSSQCVNLTTRTQLPPAYTNSFTRGVYYPDKVFRSSVLHSTQDL...HYT'), id='hCoV_19NetherlandsUtrecht_13636282020_EPI_ISL_413589_2020_03_01', name='<unknown name>', description='<unknown description>', dbxrefs=[])]\n",
      "to save /data2/isshamie/covid/data/processed/seqs/S_protein_align/hCoV_19NetherlandsUtrecht_13636282020_EPI_ISL_413589_2020_03_01.protein.fasta\n"
     ]
    },
    {
     "name": "stderr",
     "output_type": "stream",
     "text": [
      "\r",
      " 35%|███▌      | 6/17 [17:55<31:17, 170.65s/it]"
     ]
    },
    {
     "name": "stdout",
     "output_type": "stream",
     "text": [
      "s all proteins [SeqRecord(seq=Seq('MFVFLVLLPLVSSQCVNLTTRTQLPPAYTNSFTRGVYYPDKVFRSSVLHSTQDL...HYT'), id='hCoV_19HangzhouHZCDC00012020_EPI_ISL_407313_2020_01_19', name='<unknown name>', description='<unknown description>', dbxrefs=[])]\n",
      "to save /data2/isshamie/covid/data/processed/seqs/S_protein_align/hCoV_19HangzhouHZCDC00012020_EPI_ISL_407313_2020_01_19.protein.fasta\n"
     ]
    },
    {
     "name": "stderr",
     "output_type": "stream",
     "text": [
      "\r",
      " 41%|████      | 7/17 [17:56<24:14, 145.43s/it]"
     ]
    },
    {
     "name": "stdout",
     "output_type": "stream",
     "text": [
      "s all proteins [SeqRecord(seq=Seq('MFVFLVLLPLVSSQCVNLTTRTQLPPAYTNSFTRGVYYPDKVFRSSVLHSTQDL...HYT'), id='hCoV_19AustraliaNSW062020_EPI_ISL_413213_2020_02_29', name='<unknown name>', description='<unknown description>', dbxrefs=[])]\n",
      "to save /data2/isshamie/covid/data/processed/seqs/S_protein_align/hCoV_19AustraliaNSW062020_EPI_ISL_413213_2020_02_29.protein.fasta\n"
     ]
    },
    {
     "name": "stderr",
     "output_type": "stream",
     "text": [
      "\r",
      " 35%|███▌      | 6/17 [17:56<31:19, 170.82s/it]"
     ]
    },
    {
     "name": "stdout",
     "output_type": "stream",
     "text": [
      "s all proteins [SeqRecord(seq=Seq('MFVFLVLLPLVSSQCVNLTTRTQLPPAYTNSFTRGVYYPDKVFRSSVLHSTQDL...HYT'), id='hCoV_19WuhanIVDC_HB_envF13_212020_EPI_ISL_408515_2020_01_01', name='<unknown name>', description='<unknown description>', dbxrefs=[])]\n",
      "to save /data2/isshamie/covid/data/processed/seqs/S_protein_align/hCoV_19WuhanIVDC_HB_envF13_212020_EPI_ISL_408515_2020_01_01.protein.fasta\n"
     ]
    },
    {
     "name": "stderr",
     "output_type": "stream",
     "text": [
      "\r",
      " 41%|████      | 7/17 [17:57<24:15, 145.52s/it]"
     ]
    },
    {
     "name": "stdout",
     "output_type": "stream",
     "text": [
      "s all proteins [SeqRecord(seq=Seq('MFVFLVLLPLVSSQCVNLTTRTQLPPAYTNSFTRGVYYPDKVFRSSVLHSTQDL...HYT'), id='hCoV_19NetherlandsZuidHolland_112020_EPI_ISL_414469_2020_03_04', name='<unknown name>', description='<unknown description>', dbxrefs=[])]\n",
      "to save /data2/isshamie/covid/data/processed/seqs/S_protein_align/hCoV_19NetherlandsZuidHolland_112020_EPI_ISL_414469_2020_03_04.protein.fasta\n"
     ]
    },
    {
     "name": "stderr",
     "output_type": "stream",
     "text": [
      "\r",
      " 35%|███▌      | 6/17 [17:57<31:27, 171.57s/it]"
     ]
    },
    {
     "name": "stdout",
     "output_type": "stream",
     "text": [
      "s all proteins [SeqRecord(seq=Seq('MFVFLVLLPLVSSQCVNLTTRTQLPPAYTNSFTRGVYYPDKVFRSSVLHSTQDL...HYT'), id='hCoV_19ChinaWF00022020_EPI_ISL_413692_2020_01', name='<unknown name>', description='<unknown description>', dbxrefs=[])]\n",
      "to save /data2/isshamie/covid/data/processed/seqs/S_protein_align/hCoV_19ChinaWF00022020_EPI_ISL_413692_2020_01.protein.fasta\n"
     ]
    },
    {
     "name": "stderr",
     "output_type": "stream",
     "text": [
      "\r",
      " 35%|███▌      | 6/17 [18:03<31:31, 171.97s/it]"
     ]
    },
    {
     "name": "stdout",
     "output_type": "stream",
     "text": [
      "s all proteins [SeqRecord(seq=Seq('MFVFLVLLPLVSSQCVNLTTRTQLPPAYTNSFTRGVYYPDKVFRSSVLHSTQDL...HYT'), id='hCoV_19USACruiseA_152020_EPI_ISL_413620_2020_02_18', name='<unknown name>', description='<unknown description>', dbxrefs=[])]\n",
      "to save /data2/isshamie/covid/data/processed/seqs/S_protein_align/hCoV_19USACruiseA_152020_EPI_ISL_413620_2020_02_18.protein.fasta\n"
     ]
    },
    {
     "name": "stderr",
     "output_type": "stream",
     "text": [
      "\r",
      " 35%|███▌      | 6/17 [18:10<31:52, 173.83s/it]"
     ]
    },
    {
     "name": "stdout",
     "output_type": "stream",
     "text": [
      "s all proteins [SeqRecord(seq=Seq('MFVFLVLLPLVSSQCVNLTTRTQLPPAYTNSFTRGVYYPDKVFRSSVLHSTQDL...HYT'), id='hCoV_19NetherlandsUtrecht_22020_EPI_ISL_414436_2020_03_03', name='<unknown name>', description='<unknown description>', dbxrefs=[])]\n",
      "to save /data2/isshamie/covid/data/processed/seqs/S_protein_align/hCoV_19NetherlandsUtrecht_22020_EPI_ISL_414436_2020_03_03.protein.fasta\n"
     ]
    },
    {
     "name": "stderr",
     "output_type": "stream",
     "text": [
      "\r",
      " 35%|███▌      | 6/17 [18:11<31:49, 173.56s/it]"
     ]
    },
    {
     "name": "stdout",
     "output_type": "stream",
     "text": [
      "s all proteins [SeqRecord(seq=Seq('MFVFLVLLPLVSSQCVNLTTRTQLPPAYTNSFTRGVYYPDKVFRSSVLHSTQDL...HYT'), id='hCoV_19Hong', name='<unknown name>', description='<unknown description>', dbxrefs=[])]\n",
      "to save /data2/isshamie/covid/data/processed/seqs/S_protein_align/hCoV_19Hong.protein.fasta\n"
     ]
    },
    {
     "name": "stderr",
     "output_type": "stream",
     "text": [
      "\r",
      " 35%|███▌      | 6/17 [18:20<32:05, 175.02s/it]"
     ]
    },
    {
     "name": "stdout",
     "output_type": "stream",
     "text": [
      "s all proteins [SeqRecord(seq=Seq('MFVFLVLLPLVSSQCVNLTTRTQLPPAYTNSFTRGVYYPDKVFRSSVLHSTQDL...HYT'), id='hCoV_19SwitzerlandGE53732020_EPI_ISL_414020_2020_02_27', name='<unknown name>', description='<unknown description>', dbxrefs=[])]\n",
      "to save /data2/isshamie/covid/data/processed/seqs/S_protein_align/hCoV_19SwitzerlandGE53732020_EPI_ISL_414020_2020_02_27.protein.fasta\n"
     ]
    },
    {
     "name": "stderr",
     "output_type": "stream",
     "text": [
      "\r",
      " 35%|███▌      | 6/17 [18:26<32:03, 174.90s/it]"
     ]
    },
    {
     "name": "stdout",
     "output_type": "stream",
     "text": [
      "s all proteins [SeqRecord(seq=Seq('MFVFLVLLPLVSSQCVNLTTRTQLPPAYTNSFTRGVYYPDKVFRSSVLHSTQDL...HYT'), id='hCoV_19NetherlandsZuidHolland_162020_EPI_ISL_414558_2020_03_06', name='<unknown name>', description='<unknown description>', dbxrefs=[])]\n",
      "to save /data2/isshamie/covid/data/processed/seqs/S_protein_align/hCoV_19NetherlandsZuidHolland_162020_EPI_ISL_414558_2020_03_06.protein.fasta\n"
     ]
    },
    {
     "name": "stderr",
     "output_type": "stream",
     "text": [
      "\r",
      " 35%|███▌      | 6/17 [18:38<32:45, 178.68s/it]"
     ]
    },
    {
     "name": "stdout",
     "output_type": "stream",
     "text": [
      "s all proteins [SeqRecord(seq=Seq('MFVFLVLLPLVSSQCVNLTTRTQLPPAYTNSFTRGVYYPDKVFRSSVLHSTQDL...CCC'), id='hCoV_19ScotlandCVR022020_EPI_ISL_414024_2020_03_02', name='<unknown name>', description='<unknown description>', dbxrefs=[])]\n",
      "to save /data2/isshamie/covid/data/processed/seqs/S_protein_align/hCoV_19ScotlandCVR022020_EPI_ISL_414024_2020_03_02.protein.fasta\n"
     ]
    },
    {
     "name": "stderr",
     "output_type": "stream",
     "text": [
      "\r",
      " 35%|███▌      | 6/17 [18:43<32:52, 179.35s/it]"
     ]
    },
    {
     "name": "stdout",
     "output_type": "stream",
     "text": [
      "s all proteins [SeqRecord(seq=Seq('MFVFLVLLPLVSSQCVNLTTRTQLPPAYTNSFTRGVYYPDKVFRSSVLHSTQDL...HYT'), id='hCoV_19USAWA16_UW122020_EPI_ISL_413651_2020_03_05', name='<unknown name>', description='<unknown description>', dbxrefs=[])]\n",
      "to save /data2/isshamie/covid/data/processed/seqs/S_protein_align/hCoV_19USAWA16_UW122020_EPI_ISL_413651_2020_03_05.protein.fasta\n"
     ]
    },
    {
     "name": "stderr",
     "output_type": "stream",
     "text": [
      "\r",
      " 35%|███▌      | 6/17 [19:07<33:57, 185.24s/it]"
     ]
    },
    {
     "name": "stdout",
     "output_type": "stream",
     "text": [
      "s all proteins [SeqRecord(seq=Seq('MFVFLVLLPLVSSQCVNLTTRTQLPPAYTNSFTRGVYYPDKVFRSSVLHSTQDL...HYT'), id='hCoV_19Foshan20SF2072020_EPI_ISL_406534_2020_01_22', name='<unknown name>', description='<unknown description>', dbxrefs=[])]\n",
      "to save /data2/isshamie/covid/data/processed/seqs/S_protein_align/hCoV_19Foshan20SF2072020_EPI_ISL_406534_2020_01_22.protein.fasta\n"
     ]
    },
    {
     "name": "stderr",
     "output_type": "stream",
     "text": [
      "\r",
      " 41%|████      | 7/17 [19:13<27:11, 163.14s/it]"
     ]
    },
    {
     "name": "stdout",
     "output_type": "stream",
     "text": [
      "s all proteins [SeqRecord(seq=Seq('MFVFLVLLPLVSSQCVNLTTRTQLPPAYTNSFTRGVYYPDKVFRSSVLHSTQDL...CCC'), id='hCoV_19GuangdongGD2020139_P00072020_EPI_ISL_413882_2020_02_02', name='<unknown name>', description='<unknown description>', dbxrefs=[])]\n",
      "to save /data2/isshamie/covid/data/processed/seqs/S_protein_align/hCoV_19GuangdongGD2020139_P00072020_EPI_ISL_413882_2020_02_02.protein.fasta\n"
     ]
    },
    {
     "name": "stderr",
     "output_type": "stream",
     "text": [
      "\r",
      " 35%|███▌      | 6/17 [19:15<34:18, 187.17s/it]"
     ]
    },
    {
     "name": "stdout",
     "output_type": "stream",
     "text": [
      "s all proteins [SeqRecord(seq=Seq('MFVFLVLLPLVSSQCVNLTTRTQLPPAYTNSFTRGVYYPDKVFRSSVLHSTQDL...HYT'), id='hCoV_19FinlandFIN03032020A2020_EPI_ISL_413602_2020_03_03', name='<unknown name>', description='<unknown description>', dbxrefs=[])]\n",
      "to save /data2/isshamie/covid/data/processed/seqs/S_protein_align/hCoV_19FinlandFIN03032020A2020_EPI_ISL_413602_2020_03_03.protein.fasta\n"
     ]
    },
    {
     "name": "stderr",
     "output_type": "stream",
     "text": [
      "/home/isshamie/software/anaconda2/envs/coevolve/lib/python3.7/site-packages/Bio/Seq.py:2859: BiopythonWarning: Partial codon, len(sequence) not a multiple of three. Explicitly trim the sequence or add trailing N before translation. This may become an error in future.\n",
      "  BiopythonWarning,\n"
     ]
    },
    {
     "name": "stdout",
     "output_type": "stream",
     "text": [
      "s all proteins [SeqRecord(seq=Seq('MFVFLVLLPLVSSQCVNLTTRTQLPPAYTNSFTRGVYYPDKVFRSSVLHSTQDL...HYT'), id='hCoV_19NetherlandsNoordBrabant_162020_EPI_ISL_414456_2020_03_04', name='<unknown name>', description='<unknown description>', dbxrefs=[])]\n"
     ]
    },
    {
     "name": "stderr",
     "output_type": "stream",
     "text": [
      "\r",
      " 41%|████      | 7/17 [19:23<27:14, 163.41s/it]"
     ]
    },
    {
     "name": "stdout",
     "output_type": "stream",
     "text": [
      "to save /data2/isshamie/covid/data/processed/seqs/S_protein_align/hCoV_19NetherlandsNoordBrabant_162020_EPI_ISL_414456_2020_03_04.protein.fasta\n"
     ]
    },
    {
     "name": "stderr",
     "output_type": "stream",
     "text": [
      "\r",
      " 12%|█▏        | 2/17 [19:24<3:08:39, 754.63s/it] "
     ]
    },
    {
     "name": "stdout",
     "output_type": "stream",
     "text": [
      "s all proteins [SeqRecord(seq=Seq('MFVFLVLLPLVSSQCVNLTTRTQLPPAYTNSFTRGVYYPDKVFRSSVLHSTQDL...HYT'), id='hCoV_19AustraliaNSW052020_EPI_ISL_412975_2020_02_28', name='<unknown name>', description='<unknown description>', dbxrefs=[])]\n",
      "to save /data2/isshamie/covid/data/processed/seqs/S_protein_align/hCoV_19AustraliaNSW052020_EPI_ISL_412975_2020_02_28.protein.fasta\n"
     ]
    },
    {
     "name": "stderr",
     "output_type": "stream",
     "text": [
      "\r",
      " 41%|████      | 7/17 [19:34<27:20, 164.05s/it]"
     ]
    },
    {
     "name": "stdout",
     "output_type": "stream",
     "text": [
      "s all proteins [SeqRecord(seq=Seq('MFVFLVLLPLVSSQCVNLTTRTQLPPAYTNSFTRGVYYPDKVFRSSVLHSTQDL...HYT'), id='hCoV_19ChongqingYC012020_EPI_ISL_408478_2020_01_21', name='<unknown name>', description='<unknown description>', dbxrefs=[])]\n",
      "to save /data2/isshamie/covid/data/processed/seqs/S_protein_align/hCoV_19ChongqingYC012020_EPI_ISL_408478_2020_01_21.protein.fasta\n"
     ]
    },
    {
     "name": "stderr",
     "output_type": "stream",
     "text": [
      "\r",
      " 41%|████      | 7/17 [19:41<27:38, 165.84s/it]"
     ]
    },
    {
     "name": "stdout",
     "output_type": "stream",
     "text": [
      "s all proteins [SeqRecord(seq=Seq('MFVFLVLLPLVSSQCVNLTTRTQLPPAYTNSFTRGVYYPDKVFRSSVLHSTQDL...HYT'), id='hCoV_19GermanyNRW_032020_EPI_ISL_414498_2020_02_26', name='<unknown name>', description='<unknown description>', dbxrefs=[])]\n",
      "to save /data2/isshamie/covid/data/processed/seqs/S_protein_align/hCoV_19GermanyNRW_032020_EPI_ISL_414498_2020_02_26.protein.fasta\n"
     ]
    },
    {
     "name": "stderr",
     "output_type": "stream",
     "text": [
      "\r",
      " 35%|███▌      | 6/17 [19:43<35:14, 192.21s/it]"
     ]
    },
    {
     "name": "stdout",
     "output_type": "stream",
     "text": [
      "s all proteins [SeqRecord(seq=Seq('MFVFLVLLPLVSSQCVNLTTRTQLPPAYTNSFTRGVYYPDKVFRSSVLHSTQDL...HYT'), id='hCoV_19NetherlandsDalen_13636242020_EPI_ISL_413568_2020_03_01', name='<unknown name>', description='<unknown description>', dbxrefs=[])]\n",
      "to save /data2/isshamie/covid/data/processed/seqs/S_protein_align/hCoV_19NetherlandsDalen_13636242020_EPI_ISL_413568_2020_03_01.protein.fasta\n"
     ]
    },
    {
     "name": "stderr",
     "output_type": "stream",
     "text": [
      "\r",
      " 41%|████      | 7/17 [19:46<27:05, 162.60s/it]"
     ]
    },
    {
     "name": "stdout",
     "output_type": "stream",
     "text": [
      "s all proteins [SeqRecord(seq=Seq('MFVFLVLLPLVSSQCVNLTTRTQLPPAYTNSFTRGVYYPDKVFRSSVLHSTQDL...HYT'), id='hCoV_19South', name='<unknown name>', description='<unknown description>', dbxrefs=[])]\n",
      "to save /data2/isshamie/covid/data/processed/seqs/S_protein_align/hCoV_19South.protein.fasta\n"
     ]
    },
    {
     "name": "stderr",
     "output_type": "stream",
     "text": [
      "\r",
      " 41%|████      | 7/17 [19:49<27:08, 162.82s/it]"
     ]
    },
    {
     "name": "stdout",
     "output_type": "stream",
     "text": [
      "s all proteins [SeqRecord(seq=Seq('MFVFLVLLPLVSSQCVNLTTRTQLPPAYTNSFTRGVYYPDKVFRSSVLHSTQDL...HYT'), id='hCoV_19USACruiseA_212020_EPI_ISL_414480_2020_02_21', name='<unknown name>', description='<unknown description>', dbxrefs=[])]\n",
      "to save /data2/isshamie/covid/data/processed/seqs/S_protein_align/hCoV_19USACruiseA_212020_EPI_ISL_414480_2020_02_21.protein.fasta\n"
     ]
    },
    {
     "name": "stderr",
     "output_type": "stream",
     "text": [
      "\r",
      " 41%|████      | 7/17 [19:50<26:22, 158.28s/it]"
     ]
    },
    {
     "name": "stdout",
     "output_type": "stream",
     "text": [
      "s all proteins [SeqRecord(seq=Seq('MFVFLVLLPLVSSQCVNLTTRTQLPPAYTNSFTRGVYYPDKVFRSSVLYSTQDL...HYT'), id='hCoV_19Guangdong20SF0282020_EPI_ISL_403936_2020_01_17', name='<unknown name>', description='<unknown description>', dbxrefs=[])]\n",
      "to save /data2/isshamie/covid/data/processed/seqs/S_protein_align/hCoV_19Guangdong20SF0282020_EPI_ISL_403936_2020_01_17.protein.fasta\n"
     ]
    },
    {
     "name": "stderr",
     "output_type": "stream",
     "text": [
      "\r",
      " 41%|████      | 7/17 [20:04<27:00, 162.03s/it]"
     ]
    },
    {
     "name": "stdout",
     "output_type": "stream",
     "text": [
      "s all proteins [SeqRecord(seq=Seq('MFVFLVLLPLVSSQCVNLTTRTQLPPAYTNSFTRGVYYPDKVFRSSVLHSTQDL...HYT'), id='hCoV_19IrelandCOR_201342020_EPI_ISL_414487_2020_03_04', name='<unknown name>', description='<unknown description>', dbxrefs=[])]\n",
      "to save /data2/isshamie/covid/data/processed/seqs/S_protein_align/hCoV_19IrelandCOR_201342020_EPI_ISL_414487_2020_03_04.protein.fasta\n"
     ]
    },
    {
     "name": "stderr",
     "output_type": "stream",
     "text": [
      "\r",
      " 24%|██▎       | 4/17 [20:06<1:02:06, 286.62s/it]"
     ]
    },
    {
     "name": "stdout",
     "output_type": "stream",
     "text": [
      "s all proteins [SeqRecord(seq=Seq('MFVFLVLLPLVSSQCVNLTTRTQLPPAYTNSFTRGVYYPDKVFRSSVLHSTQDL...HYT'), id='hCoV_19AustraliaNSW012020_EPI_ISL_407893_2020_01_24', name='<unknown name>', description='<unknown description>', dbxrefs=[])]\n",
      "to save /data2/isshamie/covid/data/processed/seqs/S_protein_align/hCoV_19AustraliaNSW012020_EPI_ISL_407893_2020_01_24.protein.fasta\n"
     ]
    },
    {
     "name": "stderr",
     "output_type": "stream",
     "text": [
      "\r",
      " 47%|████▋     | 8/17 [20:08<21:12, 141.42s/it]"
     ]
    },
    {
     "name": "stdout",
     "output_type": "stream",
     "text": [
      "s all proteins [SeqRecord(seq=Seq('MFVFLVLLPLVSSQCVNLTTRTQLPPAYTNSFTRGVYYPDKVFRSSVLHSTQDL...HYT'), id='hCoV_19USAWA_S32020_EPI_ISL_413560_2020_02_28', name='<unknown name>', description='<unknown description>', dbxrefs=[])]\n",
      "to save /data2/isshamie/covid/data/processed/seqs/S_protein_align/hCoV_19USAWA_S32020_EPI_ISL_413560_2020_02_28.protein.fasta\n"
     ]
    },
    {
     "name": "stderr",
     "output_type": "stream",
     "text": [
      "\r",
      " 41%|████      | 7/17 [20:10<26:46, 160.67s/it]"
     ]
    },
    {
     "name": "stdout",
     "output_type": "stream",
     "text": [
      "s all proteins [SeqRecord(seq=Seq('MFVFLVLLPLVSSQCVNLTTRTQLPPAYTNSFTRGVYYPDKVFRSSVLHSTQDL...HYT'), id='hCoV_19AustraliaNSW072020_EPI_ISL_413214_2020_02_29', name='<unknown name>', description='<unknown description>', dbxrefs=[])]\n",
      "to save /data2/isshamie/covid/data/processed/seqs/S_protein_align/hCoV_19AustraliaNSW072020_EPI_ISL_413214_2020_02_29.protein.fasta\n"
     ]
    },
    {
     "name": "stderr",
     "output_type": "stream",
     "text": [
      "\r",
      " 41%|████      | 7/17 [20:14<26:48, 160.85s/it]"
     ]
    },
    {
     "name": "stdout",
     "output_type": "stream",
     "text": [
      "s all proteins [SeqRecord(seq=Seq('MFVFLVLLPLVSSQCVNLTTRTQLPPAYTNSFTRGVYYPDKVFRSSVLHSTQDL...HYT'), id='hCoV_19JingzhouHBCDC_HB_012020_EPI_ISL_412459_2020_01_08', name='<unknown name>', description='<unknown description>', dbxrefs=[])]\n",
      "to save /data2/isshamie/covid/data/processed/seqs/S_protein_align/hCoV_19JingzhouHBCDC_HB_012020_EPI_ISL_412459_2020_01_08.protein.fasta\n"
     ]
    },
    {
     "name": "stderr",
     "output_type": "stream",
     "text": [
      "\r",
      " 41%|████      | 7/17 [20:14<27:07, 162.74s/it]"
     ]
    },
    {
     "name": "stdout",
     "output_type": "stream",
     "text": [
      "s all proteins [SeqRecord(seq=Seq('MFVFLVLLPLVSSQCVNLTTRTQLPPAYTNSFTRGVYYPDKVFRSSVLHSTQDL...HYT'), id='hCoV_19JapanTY_WK_0122020_EPI_ISL_408665_2020_01_29', name='<unknown name>', description='<unknown description>', dbxrefs=[])]\n",
      "to save /data2/isshamie/covid/data/processed/seqs/S_protein_align/hCoV_19JapanTY_WK_0122020_EPI_ISL_408665_2020_01_29.protein.fasta\n"
     ]
    },
    {
     "name": "stderr",
     "output_type": "stream",
     "text": [
      "\r",
      " 47%|████▋     | 8/17 [20:15<21:27, 143.04s/it]"
     ]
    },
    {
     "name": "stdout",
     "output_type": "stream",
     "text": [
      "s all proteins [SeqRecord(seq=Seq('MFVFLVLLPLVSSQCVNLTTRTQLPPAYTNSFTRGVYYPDKVFRSSVLHSTQDL...HYT'), id='hCoV_19TaiwanCGMH_CGU_012020_EPI_ISL_411915_2020_01_25', name='<unknown name>', description='<unknown description>', dbxrefs=[])]\n",
      "to save /data2/isshamie/covid/data/processed/seqs/S_protein_align/hCoV_19TaiwanCGMH_CGU_012020_EPI_ISL_411915_2020_01_25.protein.fasta\n"
     ]
    },
    {
     "name": "stderr",
     "output_type": "stream",
     "text": [
      "\r",
      " 41%|████      | 7/17 [20:17<27:06, 162.66s/it]"
     ]
    },
    {
     "name": "stdout",
     "output_type": "stream",
     "text": [
      "s all proteins [SeqRecord(seq=Seq('MFVFLVLLPLVSSQCVNLTTRTQLPPAYTNSFTRGVYYPDKVFRSSVLHSTQDL...TTN'), id='hCoV_19BeijingIVDC_BJ_0052020_EPI_ISL_408485_2020_01_18', name='<unknown name>', description='<unknown description>', dbxrefs=[])]\n",
      "to save /data2/isshamie/covid/data/processed/seqs/S_protein_align/hCoV_19BeijingIVDC_BJ_0052020_EPI_ISL_408485_2020_01_18.protein.fasta\n"
     ]
    },
    {
     "name": "stderr",
     "output_type": "stream",
     "text": [
      "\r",
      " 41%|████      | 7/17 [20:20<27:46, 166.68s/it]"
     ]
    },
    {
     "name": "stdout",
     "output_type": "stream",
     "text": [
      "s all proteins [SeqRecord(seq=Seq('MFVFLVLLPLVSSQCVNLTTRTQLPPAYTNSFTRGVYYPDKVFRSSVLHSTQDL...HYT'), id='hCoV_19NetherlandsNootdorp_13642222020_EPI_ISL_413579_2020_03_03', name='<unknown name>', description='<unknown description>', dbxrefs=[])]\n",
      "to save /data2/isshamie/covid/data/processed/seqs/S_protein_align/hCoV_19NetherlandsNootdorp_13642222020_EPI_ISL_413579_2020_03_03.protein.fasta\n"
     ]
    },
    {
     "name": "stderr",
     "output_type": "stream",
     "text": [
      "\r",
      " 41%|████      | 7/17 [20:25<27:24, 164.42s/it]"
     ]
    },
    {
     "name": "stdout",
     "output_type": "stream",
     "text": [
      "s all proteins [SeqRecord(seq=Seq('MHYVRRHNICLINVVECCLNFNGHKLFECCQCQITCALCVHWRPCSITCTTHIA...LPF'), id='hCoV_19ChinaWF00092020_EPI_ISL_413696_2020_01', name='<unknown name>', description='<unknown description>', dbxrefs=[])]\n",
      "to save /data2/isshamie/covid/data/processed/seqs/S_protein_align/hCoV_19ChinaWF00092020_EPI_ISL_413696_2020_01.protein.fasta\n"
     ]
    },
    {
     "name": "stderr",
     "output_type": "stream",
     "text": [
      "\r",
      " 24%|██▎       | 4/17 [20:32<1:12:47, 335.95s/it]"
     ]
    },
    {
     "name": "stdout",
     "output_type": "stream",
     "text": [
      "s all proteins [SeqRecord(seq=Seq('MFVFLVLLPLVSSQCVNLTTRTQLPPAYTNSFTRGVYYPDKVFRSSVLHSTQDL...HYT'), id='hCoV_19NetherlandsZuidHolland_142020_EPI_ISL_414471_2020_03_05', name='<unknown name>', description='<unknown description>', dbxrefs=[])]\n",
      "to save /data2/isshamie/covid/data/processed/seqs/S_protein_align/hCoV_19NetherlandsZuidHolland_142020_EPI_ISL_414471_2020_03_05.protein.fasta\n"
     ]
    },
    {
     "name": "stderr",
     "output_type": "stream",
     "text": [
      "\r",
      " 41%|████      | 7/17 [20:41<28:12, 169.29s/it]"
     ]
    },
    {
     "name": "stdout",
     "output_type": "stream",
     "text": [
      "s all proteins [SeqRecord(seq=Seq('MFVFLVLLPLVSSQCVNLTTRTQLPPAYTNSFTRGVYYPDKVFRSSVLHSTQDL...HYT'), id='hCoV_19ChinaWF00032020_EPI_ISL_413693_2020_01', name='<unknown name>', description='<unknown description>', dbxrefs=[])]\n",
      "to save /data2/isshamie/covid/data/processed/seqs/S_protein_align/hCoV_19ChinaWF00032020_EPI_ISL_413693_2020_01.protein.fasta\n"
     ]
    },
    {
     "name": "stderr",
     "output_type": "stream",
     "text": [
      "\r",
      " 41%|████      | 7/17 [20:44<28:07, 168.73s/it]"
     ]
    },
    {
     "name": "stdout",
     "output_type": "stream",
     "text": [
      "s all proteins [SeqRecord(seq=Seq('MFVFLVLLPLVSSQCVNLTTRTQLPPAYTNSFTRGVYYPDKVFRSSVLHSTQDL...HYT'), id='hCoV_19NetherlandsOverijssel_12020_EPI_ISL_414434_2020_03_03', name='<unknown name>', description='<unknown description>', dbxrefs=[])]\n",
      "to save /data2/isshamie/covid/data/processed/seqs/S_protein_align/hCoV_19NetherlandsOverijssel_12020_EPI_ISL_414434_2020_03_03.protein.fasta\n"
     ]
    },
    {
     "name": "stderr",
     "output_type": "stream",
     "text": [
      "\r",
      " 41%|████      | 7/17 [21:32<30:15, 181.54s/it]"
     ]
    },
    {
     "name": "stdout",
     "output_type": "stream",
     "text": [
      "s all proteins [SeqRecord(seq=Seq('MFVFLVLLPLVSSQCVNLTTRTQLPPAYTNSFTRGVYYPDKVFRSSVLHSTQDL...HYT'), id='hCoV_19USACruiseA_162020_EPI_ISL_413621_2020_02_18', name='<unknown name>', description='<unknown description>', dbxrefs=[])]\n",
      "to save /data2/isshamie/covid/data/processed/seqs/S_protein_align/hCoV_19USACruiseA_162020_EPI_ISL_413621_2020_02_18.protein.fasta\n"
     ]
    },
    {
     "name": "stderr",
     "output_type": "stream",
     "text": [
      "\r",
      " 41%|████      | 7/17 [21:32<30:24, 182.48s/it]"
     ]
    },
    {
     "name": "stdout",
     "output_type": "stream",
     "text": [
      "s all proteins [SeqRecord(seq=Seq('MFVFLVLLPLVSSQCVNLTTRTQLPPAYTNSFTRGVYYPDKVFRSSVLHSTQDL...HYT'), id='hCoV_19SwitzerlandGE31212020_EPI_ISL_414019_2020_02_27', name='<unknown name>', description='<unknown description>', dbxrefs=[])]\n",
      "to save /data2/isshamie/covid/data/processed/seqs/S_protein_align/hCoV_19SwitzerlandGE31212020_EPI_ISL_414019_2020_02_27.protein.fasta\n"
     ]
    },
    {
     "name": "stderr",
     "output_type": "stream",
     "text": [
      "\r",
      " 41%|████      | 7/17 [21:37<29:56, 179.69s/it]"
     ]
    },
    {
     "name": "stdout",
     "output_type": "stream",
     "text": [
      "s all proteins [SeqRecord(seq=Seq('MFVFLVLLPLVSSQCVNLTTRTQLPPAYTNSFTRGVYYPDKVFRSSVLHSTQDL...HYT'), id='hCoV_19ChileTalca_12020_EPI_ISL_414577_2020_03_02', name='<unknown name>', description='<unknown description>', dbxrefs=[])]\n",
      "to save /data2/isshamie/covid/data/processed/seqs/S_protein_align/hCoV_19ChileTalca_12020_EPI_ISL_414577_2020_03_02.protein.fasta\n"
     ]
    },
    {
     "name": "stderr",
     "output_type": "stream",
     "text": [
      "\r",
      " 41%|████      | 7/17 [21:39<30:20, 182.01s/it]"
     ]
    },
    {
     "name": "stdout",
     "output_type": "stream",
     "text": [
      "s all proteins [SeqRecord(seq=Seq('MFVFLVLLPLVSSQCVNLTTRTQLPPAYTNSFTRGVYYPDKVFRSSVLHSTQDL...HYT'), id='hCoV_19Foshan20SF2102020_EPI_ISL_406535_2020_01_22', name='<unknown name>', description='<unknown description>', dbxrefs=[])]\n",
      "to save /data2/isshamie/covid/data/processed/seqs/S_protein_align/hCoV_19Foshan20SF2102020_EPI_ISL_406535_2020_01_22.protein.fasta\n"
     ]
    },
    {
     "name": "stderr",
     "output_type": "stream",
     "text": [
      "\r",
      " 47%|████▋     | 8/17 [21:41<23:45, 158.42s/it]"
     ]
    },
    {
     "name": "stdout",
     "output_type": "stream",
     "text": [
      "s all proteins [SeqRecord(seq=Seq('MFVFLVLLPLVSSQCVNLTTRTQLPPAYTNSFTRGVYYPDKVFRSSVLHSTQDL...HYT'), id='hCoV_19NetherlandsZuidHolland_152020_EPI_ISL_414557_2020_03_08', name='<unknown name>', description='<unknown description>', dbxrefs=[])]\n",
      "to save /data2/isshamie/covid/data/processed/seqs/S_protein_align/hCoV_19NetherlandsZuidHolland_152020_EPI_ISL_414557_2020_03_08.protein.fasta\n"
     ]
    },
    {
     "name": "stderr",
     "output_type": "stream",
     "text": [
      "\r",
      " 41%|████      | 7/17 [21:42<30:02, 180.26s/it]"
     ]
    },
    {
     "name": "stdout",
     "output_type": "stream",
     "text": [
      "s all proteins [SeqRecord(seq=Seq('MFVFLVLLPLVSSQCVNLTTRTQLPPAYTNSFTRGVYYPDKVFRSSVLHSTQDL...HYT'), id='hCoV_19NetherlandsNoordBrabant_182020_EPI_ISL_414458_2020_03_05', name='<unknown name>', description='<unknown description>', dbxrefs=[])]\n",
      "to save /data2/isshamie/covid/data/processed/seqs/S_protein_align/hCoV_19NetherlandsNoordBrabant_182020_EPI_ISL_414458_2020_03_05.protein.fasta\n"
     ]
    },
    {
     "name": "stderr",
     "output_type": "stream",
     "text": [
      "\r",
      " 18%|█▊        | 3/17 [21:43<2:13:00, 570.04s/it]"
     ]
    },
    {
     "name": "stdout",
     "output_type": "stream",
     "text": [
      "s all proteins [SeqRecord(seq=Seq('MFVFLVLLPLVSSQCVNLTTRTQLPPAYTNSFTRGVYYPDKVFRSSVLHSTQDL...CCC'), id='hCoV_19ScotlandCVR012020_EPI_ISL_413221_2020_03_02', name='<unknown name>', description='<unknown description>', dbxrefs=[])]\n",
      "to save /data2/isshamie/covid/data/processed/seqs/S_protein_align/hCoV_19ScotlandCVR012020_EPI_ISL_413221_2020_03_02.protein.fasta\n"
     ]
    },
    {
     "name": "stderr",
     "output_type": "stream",
     "text": [
      "\r",
      " 41%|████      | 7/17 [21:45<30:02, 180.24s/it]"
     ]
    },
    {
     "name": "stdout",
     "output_type": "stream",
     "text": [
      "s all proteins [SeqRecord(seq=Seq('MFVFLVLLPLVSSQCVNLTTRTQLPPAYTNSFTRGVYYPDKVFRSSVLHSTQDL...HYT'), id='hCoV_19FinlandFIN010320202020_EPI_ISL_413605_2020_03_01', name='<unknown name>', description='<unknown description>', dbxrefs=[])]\n",
      "to save /data2/isshamie/covid/data/processed/seqs/S_protein_align/hCoV_19FinlandFIN010320202020_EPI_ISL_413605_2020_03_01.protein.fasta\n"
     ]
    },
    {
     "name": "stderr",
     "output_type": "stream",
     "text": [
      "\r",
      " 47%|████▋     | 8/17 [21:47<23:37, 157.46s/it]"
     ]
    },
    {
     "name": "stdout",
     "output_type": "stream",
     "text": [
      "s all proteins [SeqRecord(seq=Seq('MFVFLVLLPLVSSQCVNLTTRTQLPPAYTNSFTRGVYYPDKVFRSSVLHSTQDL...HYT'), id='hCoV_19WuhanHBCDC_HB_022020_EPI_ISL_412978_2020_01_17', name='<unknown name>', description='<unknown description>', dbxrefs=[])]\n",
      "to save /data2/isshamie/covid/data/processed/seqs/S_protein_align/hCoV_19WuhanHBCDC_HB_022020_EPI_ISL_412978_2020_01_17.protein.fasta\n"
     ]
    },
    {
     "name": "stderr",
     "output_type": "stream",
     "text": [
      "\r",
      " 47%|████▋     | 8/17 [21:48<23:13, 154.87s/it]"
     ]
    },
    {
     "name": "stdout",
     "output_type": "stream",
     "text": [
      "s all proteins [SeqRecord(seq=Seq('MFVFLVLLPLVSSQCVNLTTRTQLPPAYTNSFTRGVYYPDKVFRSSVLHSTQDL...HYT'), id='hCoV_19USAWA17_UW132020_EPI_ISL_413652_2020_03_05', name='<unknown name>', description='<unknown description>', dbxrefs=[])]\n",
      "to save /data2/isshamie/covid/data/processed/seqs/S_protein_align/hCoV_19USAWA17_UW132020_EPI_ISL_413652_2020_03_05.protein.fasta\n"
     ]
    },
    {
     "name": "stderr",
     "output_type": "stream",
     "text": [
      "\r",
      " 41%|████      | 7/17 [21:50<29:44, 178.47s/it]"
     ]
    },
    {
     "name": "stdout",
     "output_type": "stream",
     "text": [
      "s all proteins [SeqRecord(seq=Seq('MFVFLVLLPLVSSQCVNLTTRTQLPPAYTNSFTRGVYYPDKVFRSSVLHSTQDL...CCC'), id='hCoV_19Guangdong2020XN4239_P00342020_EPI_ISL_413888_2020_01_30', name='<unknown name>', description='<unknown description>', dbxrefs=[])]\n",
      "to save /data2/isshamie/covid/data/processed/seqs/S_protein_align/hCoV_19Guangdong2020XN4239_P00342020_EPI_ISL_413888_2020_01_30.protein.fasta\n"
     ]
    },
    {
     "name": "stderr",
     "output_type": "stream",
     "text": [
      "\r",
      " 41%|████      | 7/17 [21:57<29:56, 179.65s/it]"
     ]
    },
    {
     "name": "stdout",
     "output_type": "stream",
     "text": [
      "s all proteins [SeqRecord(seq=Seq('MFVFLVLLPLVSSQCVNLTTRTQLPPAYTNSFTRGVYYPDKVFRSSVLHSTQDL...HYT'), id='hCoV_19ChongqingZX012020_EPI_ISL_408479_2020_01_23', name='<unknown name>', description='<unknown description>', dbxrefs=[])]\n",
      "to save /data2/isshamie/covid/data/processed/seqs/S_protein_align/hCoV_19ChongqingZX012020_EPI_ISL_408479_2020_01_23.protein.fasta\n"
     ]
    },
    {
     "name": "stderr",
     "output_type": "stream",
     "text": [
      "\r",
      " 47%|████▋     | 8/17 [22:03<23:49, 158.79s/it]"
     ]
    },
    {
     "name": "stdout",
     "output_type": "stream",
     "text": [
      "s all proteins [SeqRecord(seq=Seq('MFVFLVLLPLVSSQCVNLTTRTQLPPAYTNSFTRGVYYPDKVFRSSVLHSTQDL...HYT'), id='hCoV_19USACruiseA_222020_EPI_ISL_414481_2020_02_21', name='<unknown name>', description='<unknown description>', dbxrefs=[])]\n",
      "to save /data2/isshamie/covid/data/processed/seqs/S_protein_align/hCoV_19USACruiseA_222020_EPI_ISL_414481_2020_02_21.protein.fasta\n"
     ]
    },
    {
     "name": "stderr",
     "output_type": "stream",
     "text": [
      "\r",
      " 47%|████▋     | 8/17 [22:04<22:39, 151.07s/it]"
     ]
    },
    {
     "name": "stdout",
     "output_type": "stream",
     "text": [
      "s all proteins [SeqRecord(seq=Seq('MFVFLVLLPLVSSQCVNLTTRTQLPPAYTNSFTRGVYYPDKVFRSSVLHSTQDL...HYT'), id='hCoV_19South', name='<unknown name>', description='<unknown description>', dbxrefs=[])]\n",
      "to save /data2/isshamie/covid/data/processed/seqs/S_protein_align/hCoV_19South.protein.fasta\n"
     ]
    },
    {
     "name": "stderr",
     "output_type": "stream",
     "text": [
      "\r",
      " 47%|████▋     | 8/17 [22:12<23:30, 156.76s/it]"
     ]
    },
    {
     "name": "stdout",
     "output_type": "stream",
     "text": [
      "s all proteins [SeqRecord(seq=Seq('MFVFLVLLPLVSSQCVNLTTRTQLPPAYTNSFTRGVYYPDKVFRSSVLHSTQDL...HYT'), id='hCoV_19BelgiumGHB_030212020_EPI_ISL_407976_2020_02_03', name='<unknown name>', description='<unknown description>', dbxrefs=[])]\n",
      "to save /data2/isshamie/covid/data/processed/seqs/S_protein_align/hCoV_19BelgiumGHB_030212020_EPI_ISL_407976_2020_02_03.protein.fasta\n"
     ]
    },
    {
     "name": "stderr",
     "output_type": "stream",
     "text": [
      "\r",
      " 53%|█████▎    | 9/17 [22:14<18:14, 136.87s/it]"
     ]
    },
    {
     "name": "stdout",
     "output_type": "stream",
     "text": [
      "s all proteins [SeqRecord(seq=Seq('MFVFLVLLPLVSSQCVNLTTRTQLPPAYTNSFTRGVYYPDKVFRSSVLHSTQDL...HYT'), id='hCoV_19GermanyNRW_042020_EPI_ISL_414499_2020_02_26', name='<unknown name>', description='<unknown description>', dbxrefs=[])]\n",
      "to save /data2/isshamie/covid/data/processed/seqs/S_protein_align/hCoV_19GermanyNRW_042020_EPI_ISL_414499_2020_02_26.protein.fasta\n"
     ]
    },
    {
     "name": "stderr",
     "output_type": "stream",
     "text": [
      "\r",
      " 41%|████      | 7/17 [22:17<30:08, 180.80s/it]"
     ]
    },
    {
     "name": "stdout",
     "output_type": "stream",
     "text": [
      "s all proteins [SeqRecord(seq=Seq('MFVFLVLLPLVSSQCVNLTTRTQLPPAYTNSFTRGVYYPDKVFRSSVLHSTQDL...HYT'), id='hCoV_19NetherlandsHelmond_13635482020_EPI_ISL_413574_2020_02_29', name='<unknown name>', description='<unknown description>', dbxrefs=[])]\n",
      "to save /data2/isshamie/covid/data/processed/seqs/S_protein_align/hCoV_19NetherlandsHelmond_13635482020_EPI_ISL_413574_2020_02_29.protein.fasta\n",
      "s all proteins [SeqRecord(seq=Seq('MFVFLVLLPLVSSQCVNLTTRTQLPPAYTNSFTRGVYYPDKVFRSSVLHSTQDL...HYT'), id='hCoV_19JapanTY_WK_5012020_EPI_ISL_408666_2020_01_31', name='<unknown name>', description='<unknown description>', dbxrefs=[])]\n",
      "to save /data2/isshamie/covid/data/processed/seqs/S_protein_align/hCoV_19JapanTY_WK_5012020_EPI_ISL_408666_2020_01_31.protein.fasta\n"
     ]
    },
    {
     "name": "stderr",
     "output_type": "stream",
     "text": [
      " 53%|█████▎    | 9/17 [22:20<18:22, 137.77s/it]"
     ]
    },
    {
     "name": "stdout",
     "output_type": "stream",
     "text": [
      "s all proteins [SeqRecord(seq=Seq('MFVFLVLLPLVSSQCVNLTTRTQLPPAYTNSFTRGVYYPDKVFRSSVLYSTQDL...HYT'), id='hCoV_19Guangdong20SF0402020_EPI_ISL_403937_2020_01_18', name='<unknown name>', description='<unknown description>', dbxrefs=[])]\n",
      "to save /data2/isshamie/covid/data/processed/seqs/S_protein_align/hCoV_19Guangdong20SF0402020_EPI_ISL_403937_2020_01_18.protein.fasta\n"
     ]
    },
    {
     "name": "stderr",
     "output_type": "stream",
     "text": [
      "\r",
      " 47%|████▋     | 8/17 [22:31<23:36, 157.38s/it]"
     ]
    },
    {
     "name": "stdout",
     "output_type": "stream",
     "text": [
      "s all proteins [SeqRecord(seq=Seq('MFVFLVLLPLVSSQCVNLTTRTQLPPAYTNSFTRGVYYPDKVFRSSVLHSTQDL...QLE'), id='hCoV_19USACA_CDPH_UC42020_EPI_ISL_413561_2020_02_27', name='<unknown name>', description='<unknown description>', dbxrefs=[])]\n",
      "to save /data2/isshamie/covid/data/processed/seqs/S_protein_align/hCoV_19USACA_CDPH_UC42020_EPI_ISL_413561_2020_02_27.protein.fasta\n"
     ]
    },
    {
     "name": "stderr",
     "output_type": "stream",
     "text": [
      "\r",
      " 47%|████▋     | 8/17 [22:38<23:32, 156.95s/it]"
     ]
    },
    {
     "name": "stdout",
     "output_type": "stream",
     "text": [
      "s all proteins [SeqRecord(seq=Seq('MFVFLVLLPLVSSQCVNLTTRTQLPPAYTNSFTRGVYYPDKVFRSSVLHSTQDL...HYT'), id='hCoV_19USAWA_S22020_EPI_ISL_413456_2020_02_20', name='<unknown name>', description='<unknown description>', dbxrefs=[])]\n",
      "to save /data2/isshamie/covid/data/processed/seqs/S_protein_align/hCoV_19USAWA_S22020_EPI_ISL_413456_2020_02_20.protein.fasta\n"
     ]
    },
    {
     "name": "stderr",
     "output_type": "stream",
     "text": [
      "\r",
      " 47%|████▋     | 8/17 [22:38<23:22, 155.81s/it]"
     ]
    },
    {
     "name": "stdout",
     "output_type": "stream",
     "text": [
      "s all proteins [SeqRecord(seq=Seq('MFVFLVLLPLVSSQCVNLTTRTQLPPAYTNSFTRGVYYPDKVFRSSVLHSTQDL...LFF'), id='hCoV_19ChinaWF00172020_EPI_ISL_413747_2020_02', name='<unknown name>', description='<unknown description>', dbxrefs=[])]\n",
      "to save /data2/isshamie/covid/data/processed/seqs/S_protein_align/hCoV_19ChinaWF00172020_EPI_ISL_413747_2020_02.protein.fasta\n"
     ]
    },
    {
     "name": "stderr",
     "output_type": "stream",
     "text": [
      "\r",
      " 29%|██▉       | 5/17 [22:39<54:38, 273.18s/it]  "
     ]
    },
    {
     "name": "stdout",
     "output_type": "stream",
     "text": [
      "s all proteins [SeqRecord(seq=Seq('MFVFLVLLPLVSSQCVNLTTRTQLPPAYTNSFTRGVYYPDKVFRSSVLHSTQDL...HYT'), id='hCoV_19Taiwan32020_EPI_ISL_411926_2020_01_24', name='<unknown name>', description='<unknown description>', dbxrefs=[])]\n",
      "to save /data2/isshamie/covid/data/processed/seqs/S_protein_align/hCoV_19Taiwan32020_EPI_ISL_411926_2020_01_24.protein.fasta\n"
     ]
    },
    {
     "name": "stderr",
     "output_type": "stream",
     "text": [
      "\r",
      " 47%|████▋     | 8/17 [22:46<23:48, 158.68s/it]"
     ]
    },
    {
     "name": "stdout",
     "output_type": "stream",
     "text": [
      "s all proteins [SeqRecord(seq=Seq('MFVFLVLLPLVSSQCVNLTTRTQLPPAYTNSFTRGVYYPDKVFRSSVLHSTQDL...LWI'), id='hCoV_19ShanghaiIVDC_SH_0012020_EPI_ISL_408483_2020_01_20', name='<unknown name>', description='<unknown description>', dbxrefs=[])]\n",
      "to save /data2/isshamie/covid/data/processed/seqs/S_protein_align/hCoV_19ShanghaiIVDC_SH_0012020_EPI_ISL_408483_2020_01_20.protein.fasta\n"
     ]
    },
    {
     "name": "stderr",
     "output_type": "stream",
     "text": [
      "\r",
      " 47%|████▋     | 8/17 [22:54<24:25, 162.78s/it]"
     ]
    },
    {
     "name": "stdout",
     "output_type": "stream",
     "text": [
      "s all proteins [SeqRecord(seq=Seq('MFVFLVLLPLVSSQCVNLTTRTQLPPAYTNSFTRGVYYPDKVFRSSVLHSTQDL...HYT'), id='hCoV_19NetherlandsOisterwijk_13640722020_EPI_ISL_413580_2020_03_02', name='<unknown name>', description='<unknown description>', dbxrefs=[])]\n",
      "to save /data2/isshamie/covid/data/processed/seqs/S_protein_align/hCoV_19NetherlandsOisterwijk_13640722020_EPI_ISL_413580_2020_03_02.protein.fasta\n"
     ]
    },
    {
     "name": "stderr",
     "output_type": "stream",
     "text": [
      " 47%|████▋     | 8/17 [23:22<25:12, 168.10s/it]/home/isshamie/software/anaconda2/envs/coevolve/lib/python3.7/site-packages/Bio/Seq.py:2859: BiopythonWarning: Partial codon, len(sequence) not a multiple of three. Explicitly trim the sequence or add trailing N before translation. This may become an error in future.\n",
      "  BiopythonWarning,\n"
     ]
    },
    {
     "name": "stdout",
     "output_type": "stream",
     "text": [
      "s all proteins [SeqRecord(seq=Seq('IGLALYYPSARIVYTACSHAAVDALCEKALKYLPIDKCSRIIPARARVECFDKF...SLQ'), id='hCoV_19pangolinGuangxiP4L2017_EPI_ISL_410538_2017', name='<unknown name>', description='<unknown description>', dbxrefs=[])]\n",
      "to save /data2/isshamie/covid/data/processed/seqs/S_protein_align/hCoV_19pangolinGuangxiP4L2017_EPI_ISL_410538_2017.protein.fasta\n"
     ]
    },
    {
     "name": "stderr",
     "output_type": "stream",
     "text": [
      "\r",
      " 18%|█▊        | 3/17 [23:43<1:55:34, 495.35s/it]"
     ]
    },
    {
     "name": "stdout",
     "output_type": "stream",
     "text": [
      "s all proteins [SeqRecord(seq=Seq('MFVFLVLLPLVSSQCVNLTTRTQLPPAYTNSFTRGVYYPDKVFRSSVLHSTQDL...HYT'), id='hCoV_19Foshan20SF2112020_EPI_ISL_406536_2020_01_22', name='<unknown name>', description='<unknown description>', dbxrefs=[])]\n",
      "to save /data2/isshamie/covid/data/processed/seqs/S_protein_align/hCoV_19Foshan20SF2112020_EPI_ISL_406536_2020_01_22.protein.fasta\n"
     ]
    },
    {
     "name": "stderr",
     "output_type": "stream",
     "text": [
      "\r",
      " 53%|█████▎    | 9/17 [23:44<19:42, 147.77s/it]"
     ]
    },
    {
     "name": "stdout",
     "output_type": "stream",
     "text": [
      "s all proteins [SeqRecord(seq=Seq('MFVFLVLLPLVSSQCVNLTTRTQLPPAYTNSFTRGVYYPDKVFRSSVLHSTQDL...HYT'), id='hCoV_19NetherlandsZuidHolland_132020_EPI_ISL_414470_2020_03_06', name='<unknown name>', description='<unknown description>', dbxrefs=[])]\n",
      "to save /data2/isshamie/covid/data/processed/seqs/S_protein_align/hCoV_19NetherlandsZuidHolland_132020_EPI_ISL_414470_2020_03_06.protein.fasta\n"
     ]
    },
    {
     "name": "stderr",
     "output_type": "stream",
     "text": [
      "\r",
      " 47%|████▋     | 8/17 [23:46<26:03, 173.77s/it]"
     ]
    },
    {
     "name": "stdout",
     "output_type": "stream",
     "text": [
      "s all proteins [SeqRecord(seq=Seq('MFVFLVLLPLVSSQCVNLTTRTQLPPAYTNSFTRGVYYPDKVFRSSVLHSTQDL...HYT'), id='hCoV_19ChinaWF00042020_EPI_ISL_413694_2020_01', name='<unknown name>', description='<unknown description>', dbxrefs=[])]\n",
      "to save /data2/isshamie/covid/data/processed/seqs/S_protein_align/hCoV_19ChinaWF00042020_EPI_ISL_413694_2020_01.protein.fasta\n"
     ]
    },
    {
     "name": "stderr",
     "output_type": "stream",
     "text": [
      "\r",
      " 47%|████▋     | 8/17 [23:49<26:01, 173.45s/it]"
     ]
    },
    {
     "name": "stdout",
     "output_type": "stream",
     "text": [
      "s all proteins [SeqRecord(seq=Seq('MFVFLVLLPLVSSQCVNLTTRTQLPPAYTNSFTRGVYYPDKVFRSSVLHSTQDL...HYT'), id='hCoV_19NetherlandsNoordBrabant_172020_EPI_ISL_414457_2020_03_06', name='<unknown name>', description='<unknown description>', dbxrefs=[])]\n",
      "to save /data2/isshamie/covid/data/processed/seqs/S_protein_align/hCoV_19NetherlandsNoordBrabant_172020_EPI_ISL_414457_2020_03_06.protein.fasta\n"
     ]
    },
    {
     "name": "stderr",
     "output_type": "stream",
     "text": [
      "\r",
      " 24%|██▎       | 4/17 [23:53<1:34:54, 438.06s/it]"
     ]
    },
    {
     "name": "stdout",
     "output_type": "stream",
     "text": [
      "s all proteins [SeqRecord(seq=Seq('MFVFLVLLPLVSSQCVNLTTRTQLPPAYTNSFTRGVYYPDKVFRSSVLHSTQDL...HYT'), id='hCoV_19WuhanHBCDC_HB_032020_EPI_ISL_412979_2020_01_18', name='<unknown name>', description='<unknown description>', dbxrefs=[])]\n",
      "to save /data2/isshamie/covid/data/processed/seqs/S_protein_align/hCoV_19WuhanHBCDC_HB_032020_EPI_ISL_412979_2020_01_18.protein.fasta\n"
     ]
    },
    {
     "name": "stderr",
     "output_type": "stream",
     "text": [
      "\r",
      " 53%|█████▎    | 9/17 [23:54<19:29, 146.13s/it]"
     ]
    },
    {
     "name": "stdout",
     "output_type": "stream",
     "text": [
      "s all proteins [SeqRecord(seq=Seq('MFVFLVLLPLVSSQCVNLTTRTQLPPAYTNSFTRGVYYPDKVFRSSVLHSTQDL...HYT'), id='hCoV_19USACruiseA_12020_EPI_ISL_413606_2020_02_17', name='<unknown name>', description='<unknown description>', dbxrefs=[])]\n",
      "to save /data2/isshamie/covid/data/processed/seqs/S_protein_align/hCoV_19USACruiseA_12020_EPI_ISL_413606_2020_02_17.protein.fasta\n"
     ]
    },
    {
     "name": "stderr",
     "output_type": "stream",
     "text": [
      "\r",
      " 53%|█████▎    | 9/17 [23:56<19:52, 149.05s/it]"
     ]
    },
    {
     "name": "stdout",
     "output_type": "stream",
     "text": [
      "s all proteins [SeqRecord(seq=Seq('MFVFLVLLPLVSSQCVNLTTRTQLPPAYTNSFTRGVYYPDKVFRSSVLHSTQDL...HYT'), id='hCoV_19USACruiseA_172020_EPI_ISL_413622_2020_02_24', name='<unknown name>', description='<unknown description>', dbxrefs=[])]\n",
      "to save /data2/isshamie/covid/data/processed/seqs/S_protein_align/hCoV_19USACruiseA_172020_EPI_ISL_413622_2020_02_24.protein.fasta\n"
     ]
    },
    {
     "name": "stderr",
     "output_type": "stream",
     "text": [
      "\r",
      " 47%|████▋     | 8/17 [23:57<25:38, 171.00s/it]"
     ]
    },
    {
     "name": "stdout",
     "output_type": "stream",
     "text": [
      "s all proteins [SeqRecord(seq=Seq('MFVFLVLLPLVSSQCVNLTTRTQLPPAYTNSFTRGVYYPDKVFRSSVLHSTQDL...HYT'), id='hCoV_19NetherlandsUtrecht_12020_EPI_ISL_414435_2020_03_03', name='<unknown name>', description='<unknown description>', dbxrefs=[])]\n",
      "to save /data2/isshamie/covid/data/processed/seqs/S_protein_align/hCoV_19NetherlandsUtrecht_12020_EPI_ISL_414435_2020_03_03.protein.fasta\n"
     ]
    },
    {
     "name": "stderr",
     "output_type": "stream",
     "text": [
      "\r",
      " 47%|████▋     | 8/17 [23:58<25:37, 170.86s/it]"
     ]
    },
    {
     "name": "stdout",
     "output_type": "stream",
     "text": [
      "s all proteins [SeqRecord(seq=Seq('MFVFLVLLPLVSSQCVNLTTRTQLPPAYTNSFTRGVYYPDKVFRSSVLHSTQDL...HYT'), id='hCoV_19ChileSantiago_22020_EPI_ISL_414580_2020_03_05', name='<unknown name>', description='<unknown description>', dbxrefs=[])]\n",
      "to save /data2/isshamie/covid/data/processed/seqs/S_protein_align/hCoV_19ChileSantiago_22020_EPI_ISL_414580_2020_03_05.protein.fasta\n"
     ]
    },
    {
     "name": "stderr",
     "output_type": "stream",
     "text": [
      "\r",
      " 47%|████▋     | 8/17 [24:00<25:28, 169.84s/it]"
     ]
    },
    {
     "name": "stdout",
     "output_type": "stream",
     "text": [
      "s all proteins [SeqRecord(seq=Seq('MFVFLVLLPLVSSQCVNLTTRTQLPPAYTNSFTRGVYYPDKVFRSSVLHSTQDL...HYT'), id='hCoV_19England2009405272020_EPI_ISL_414005_2020_02_25', name='<unknown name>', description='<unknown description>', dbxrefs=[])]\n",
      "to save /data2/isshamie/covid/data/processed/seqs/S_protein_align/hCoV_19England2009405272020_EPI_ISL_414005_2020_02_25.protein.fasta\n"
     ]
    },
    {
     "name": "stderr",
     "output_type": "stream",
     "text": [
      "\r",
      " 47%|████▋     | 8/17 [24:01<25:21, 169.00s/it]"
     ]
    },
    {
     "name": "stdout",
     "output_type": "stream",
     "text": [
      "s all proteins [SeqRecord(seq=Seq('MFVFLVLLPLVSSQCVNLTTRTQLPPAYTNSFTRGVYYPDKVFRSSVLHSTQDL...HYT'), id='hCoV_19USACruiseA_232020_EPI_ISL_414482_2020_02_18', name='<unknown name>', description='<unknown description>', dbxrefs=[])]\n",
      "to save /data2/isshamie/covid/data/processed/seqs/S_protein_align/hCoV_19USACruiseA_232020_EPI_ISL_414482_2020_02_18.protein.fasta\n"
     ]
    },
    {
     "name": "stderr",
     "output_type": "stream",
     "text": [
      "\r",
      " 53%|█████▎    | 9/17 [24:02<18:47, 140.99s/it]"
     ]
    },
    {
     "name": "stdout",
     "output_type": "stream",
     "text": [
      "s all proteins [SeqRecord(seq=Seq('MFVFLVLLPLVSSQCVNLTTRTQLPPAYTNSFTRGVYYPDKVFRSSVLHSTQDL...HYT'), id='hCoV_19FranceRA7392020_EPI_ISL_410486_2020_02_08', name='<unknown name>', description='<unknown description>', dbxrefs=[])]\n",
      "to save /data2/isshamie/covid/data/processed/seqs/S_protein_align/hCoV_19FranceRA7392020_EPI_ISL_410486_2020_02_08.protein.fasta\n"
     ]
    },
    {
     "name": "stderr",
     "output_type": "stream",
     "text": [
      "\r",
      " 53%|█████▎    | 9/17 [24:03<19:38, 147.26s/it]"
     ]
    },
    {
     "name": "stdout",
     "output_type": "stream",
     "text": [
      "s all proteins [SeqRecord(seq=Seq('MFVFLVLLPLVSSQCVNLTTRTQLPPAYTNSFTRGVYYPDKVFRSSVLHSTQDL...HYT'), id='hCoV_19GermanyBavPat22020_EPI_ISL_414520_2020_03_02', name='<unknown name>', description='<unknown description>', dbxrefs=[])]\n",
      "to save /data2/isshamie/covid/data/processed/seqs/S_protein_align/hCoV_19GermanyBavPat22020_EPI_ISL_414520_2020_03_02.protein.fasta\n"
     ]
    },
    {
     "name": "stderr",
     "output_type": "stream",
     "text": [
      "\r",
      " 47%|████▋     | 8/17 [24:16<25:51, 172.37s/it]"
     ]
    },
    {
     "name": "stdout",
     "output_type": "stream",
     "text": [
      "s all proteins [SeqRecord(seq=Seq('MFVFLVLLPLVSSQCVNLTTRTQLPPAYTNSFTRGVYYPDKVFRSSVLHSTQDL...CCC'), id='hCoV_19Guangdong2020XN4291_P00382020_EPI_ISL_413889_2020_01_30', name='<unknown name>', description='<unknown description>', dbxrefs=[])]\n",
      "to save /data2/isshamie/covid/data/processed/seqs/S_protein_align/hCoV_19Guangdong2020XN4291_P00382020_EPI_ISL_413889_2020_01_30.protein.fasta\n"
     ]
    },
    {
     "name": "stderr",
     "output_type": "stream",
     "text": [
      "\r",
      " 47%|████▋     | 8/17 [24:24<25:30, 170.05s/it]"
     ]
    },
    {
     "name": "stdout",
     "output_type": "stream",
     "text": [
      "s all proteins [SeqRecord(seq=Seq('MFVFLVLLPLVSSQCVNLTTRTQLPPAYTNSFTRGVYYPDKVFRSSVLHSTQDL...HYT'), id='hCoV_19Singapore32020_EPI_ISL_407988_2020_02_01', name='<unknown name>', description='<unknown description>', dbxrefs=[])]\n",
      "to save /data2/isshamie/covid/data/processed/seqs/S_protein_align/hCoV_19Singapore32020_EPI_ISL_407988_2020_02_01.protein.fasta\n"
     ]
    },
    {
     "name": "stderr",
     "output_type": "stream",
     "text": [
      "\r",
      " 59%|█████▉    | 10/17 [24:25<15:45, 135.08s/it]"
     ]
    },
    {
     "name": "stdout",
     "output_type": "stream",
     "text": [
      "s all proteins [SeqRecord(seq=Seq('MFVFLVLLPLVSSQCVNLTTRTQLPPAYTNSFTRGVYYPDKVFRSSVLHSTQDL...HYT'), id='hCoV_19USAWA18_UW142020_EPI_ISL_413653_2020_03_05', name='<unknown name>', description='<unknown description>', dbxrefs=[])]\n",
      "to save /data2/isshamie/covid/data/processed/seqs/S_protein_align/hCoV_19USAWA18_UW142020_EPI_ISL_413653_2020_03_05.protein.fasta\n"
     ]
    },
    {
     "name": "stderr",
     "output_type": "stream",
     "text": [
      "\r",
      " 47%|████▋     | 8/17 [24:26<25:46, 171.81s/it]"
     ]
    },
    {
     "name": "stdout",
     "output_type": "stream",
     "text": [
      "s all proteins [SeqRecord(seq=Seq('MFVFLVLLPLVSSQCVNLTTRTQLPPAYTNSFTRGVYYPDKVFRSSVLHSTQDL...HYT'), id='hCoV_19JapanTY_WK_5212020_EPI_ISL_408667_2020_01_31', name='<unknown name>', description='<unknown description>', dbxrefs=[])]\n",
      "to save /data2/isshamie/covid/data/processed/seqs/S_protein_align/hCoV_19JapanTY_WK_5212020_EPI_ISL_408667_2020_01_31.protein.fasta\n"
     ]
    },
    {
     "name": "stderr",
     "output_type": "stream",
     "text": [
      "\r",
      " 59%|█████▉    | 10/17 [24:37<16:02, 137.50s/it]"
     ]
    },
    {
     "name": "stdout",
     "output_type": "stream",
     "text": [
      "s all proteins [SeqRecord(seq=Seq('MFVFLVLLPLVSSQCVNLTTRTQLPPAYTNSFTRGVYYPDKVFRSSVLHSTQDL...HYT'), id='hCoV_19NetherlandsCoevorden_13636182020_EPI_ISL_413567_2020', name='<unknown name>', description='<unknown description>', dbxrefs=[])]\n",
      "to save /data2/isshamie/covid/data/processed/seqs/S_protein_align/hCoV_19NetherlandsCoevorden_13636182020_EPI_ISL_413567_2020.protein.fasta\n"
     ]
    },
    {
     "name": "stderr",
     "output_type": "stream",
     "text": [
      "\r",
      " 53%|█████▎    | 9/17 [24:44<20:43, 155.43s/it]"
     ]
    },
    {
     "name": "stdout",
     "output_type": "stream",
     "text": [
      "s all proteins [SeqRecord(seq=Seq('MFVFLVLLPLVSSQCVNLTTRTQLPPAYTNSFTRGVYYPDKVFRSSVLHSTQDL...HYT'), id='hCoV_19England2009900022020_EPI_ISL_414522_2020_02_28', name='<unknown name>', description='<unknown description>', dbxrefs=[])]\n",
      "to save /data2/isshamie/covid/data/processed/seqs/S_protein_align/hCoV_19England2009900022020_EPI_ISL_414522_2020_02_28.protein.fasta\n"
     ]
    },
    {
     "name": "stderr",
     "output_type": "stream",
     "text": [
      "\r",
      " 53%|█████▎    | 9/17 [24:47<20:50, 156.29s/it]"
     ]
    },
    {
     "name": "stdout",
     "output_type": "stream",
     "text": [
      "s all proteins [SeqRecord(seq=Seq('MFVFLVLLPLVSSQCVNLTTRTQLPPAYTNSFTRGVYYPDKVFRSSVLHSTQDL...HYT'), id='hCoV_19GermanyNRW_062020_EPI_ISL_414505_2020_02_27', name='<unknown name>', description='<unknown description>', dbxrefs=[])]\n",
      "to save /data2/isshamie/covid/data/processed/seqs/S_protein_align/hCoV_19GermanyNRW_062020_EPI_ISL_414505_2020_02_27.protein.fasta\n"
     ]
    },
    {
     "name": "stderr",
     "output_type": "stream",
     "text": [
      "\r",
      " 47%|████▋     | 8/17 [24:57<26:10, 174.46s/it]"
     ]
    },
    {
     "name": "stdout",
     "output_type": "stream",
     "text": [
      "s all proteins [SeqRecord(seq=Seq('MYSVMLTNDNTSRYWEPEFYEAMYTPHTVLQAVGACVLCNSQTSLRCGACIRRP...IAS'), id='hCoV_19pangolinChinaMP7892019_EPI_ISL_412860_2019_03_19', name='<unknown name>', description='<unknown description>', dbxrefs=[])]\n",
      "to save /data2/isshamie/covid/data/processed/seqs/S_protein_align/hCoV_19pangolinChinaMP7892019_EPI_ISL_412860_2019_03_19.protein.fasta\n"
     ]
    },
    {
     "name": "stderr",
     "output_type": "stream",
     "text": [
      "\r",
      " 47%|████▋     | 8/17 [25:05<30:09, 201.09s/it]"
     ]
    },
    {
     "name": "stdout",
     "output_type": "stream",
     "text": [
      "s all proteins [SeqRecord(seq=Seq('MFVFLVLLPLVSSQCVNLTTRTQLPPAYTNSFTRGVYYPDKVFRSSVLHSTQDL...HYT'), id='hCoV_19WuhanIPBCAMS_WH_032019_EPI_ISL_403930_2019_12_30', name='<unknown name>', description='<unknown description>', dbxrefs=[])]\n",
      "to save /data2/isshamie/covid/data/processed/seqs/S_protein_align/hCoV_19WuhanIPBCAMS_WH_032019_EPI_ISL_403930_2019_12_30.protein.fasta\n"
     ]
    },
    {
     "name": "stderr",
     "output_type": "stream",
     "text": [
      "\r",
      " 53%|█████▎    | 9/17 [25:12<21:09, 158.64s/it]"
     ]
    },
    {
     "name": "stdout",
     "output_type": "stream",
     "text": [
      "s all proteins [SeqRecord(seq=Seq('MFVFLVLLPLVSSQCVNLTTRTQLPPAYTNSFTRGVYYPDKVFRSSVLHSTQDL...TIG'), id='hCoV_19ChinaWF00232020_EPI_ISL_413752_2020_02', name='<unknown name>', description='<unknown description>', dbxrefs=[])]\n",
      "to save /data2/isshamie/covid/data/processed/seqs/S_protein_align/hCoV_19ChinaWF00232020_EPI_ISL_413752_2020_02.protein.fasta\n"
     ]
    },
    {
     "name": "stderr",
     "output_type": "stream",
     "text": [
      "\r",
      " 35%|███▌      | 6/17 [25:56<45:53, 250.29s/it]"
     ]
    },
    {
     "name": "stdout",
     "output_type": "stream",
     "text": [
      "s all proteins [SeqRecord(seq=Seq('MFVFLVLLPLVSSQCVNLTTRTQLPPAYTNSFTRGVYYPDKVFRSSVLHSTQDL...HYT'), id='hCoV_19Guangdong20SF2012020_EPI_ISL_406538_2020_01_23', name='<unknown name>', description='<unknown description>', dbxrefs=[])]\n",
      "to save /data2/isshamie/covid/data/processed/seqs/S_protein_align/hCoV_19Guangdong20SF2012020_EPI_ISL_406538_2020_01_23.protein.fasta\n"
     ]
    },
    {
     "name": "stderr",
     "output_type": "stream",
     "text": [
      "\r",
      " 59%|█████▉    | 10/17 [26:00<16:50, 144.33s/it]"
     ]
    },
    {
     "name": "stdout",
     "output_type": "stream",
     "text": [
      "s all proteins [SeqRecord(seq=Seq('MFVFLVLLPLVSSQCVNLTTRTQLPPAYTNSFTRGVYYPDKVFRSSVLHSTQDL...HYT'), id='hCoV_19CanadaON_VIDO_012020_EPI_ISL_413015_2020_01_23', name='<unknown name>', description='<unknown description>', dbxrefs=[])]\n",
      "to save /data2/isshamie/covid/data/processed/seqs/S_protein_align/hCoV_19CanadaON_VIDO_012020_EPI_ISL_413015_2020_01_23.protein.fasta\n"
     ]
    },
    {
     "name": "stderr",
     "output_type": "stream",
     "text": [
      "\r",
      " 53%|█████▎    | 9/17 [26:03<22:44, 170.59s/it]"
     ]
    },
    {
     "name": "stdout",
     "output_type": "stream",
     "text": [
      "s all proteins [SeqRecord(seq=Seq('MFVFLVLLPLVSSQCVNLTTRTQLPPAYTNSFTRGVYYPDKVFRSSVLHSTQDL...HYT'), id='hCoV_19Beijing2352020_EPI_ISL_413521_2020_01_28', name='<unknown name>', description='<unknown description>', dbxrefs=[])]\n",
      "to save /data2/isshamie/covid/data/processed/seqs/S_protein_align/hCoV_19Beijing2352020_EPI_ISL_413521_2020_01_28.protein.fasta\n"
     ]
    },
    {
     "name": "stderr",
     "output_type": "stream",
     "text": [
      "\r",
      " 53%|█████▎    | 9/17 [26:03<22:51, 171.46s/it]"
     ]
    },
    {
     "name": "stdout",
     "output_type": "stream",
     "text": [
      "s all proteins [SeqRecord(seq=Seq('MFVFLVLLPLVSSQCVNLTTRTQLPPAYTNSFTRGVYYPDKVFRSSVLHSTQDL...HYT'), id='hCoV_19WuhanHBCDC_HB_042020_EPI_ISL_412980_2020_01_18', name='<unknown name>', description='<unknown description>', dbxrefs=[])]\n",
      "to save /data2/isshamie/covid/data/processed/seqs/S_protein_align/hCoV_19WuhanHBCDC_HB_042020_EPI_ISL_412980_2020_01_18.protein.fasta\n"
     ]
    },
    {
     "name": "stderr",
     "output_type": "stream",
     "text": [
      "\r",
      " 59%|█████▉    | 10/17 [26:05<16:32, 141.73s/it]"
     ]
    },
    {
     "name": "stdout",
     "output_type": "stream",
     "text": [
      "s all proteins [SeqRecord(seq=Seq('MFVFLVLLPLVSSQCVNLTTRTQLPPAYTNSFTRGVYYPDKVFRSSVLHSTQDL...HYT'), id='hCoV_19Taiwan42020_EPI_ISL_411927_2020_01_28', name='<unknown name>', description='<unknown description>', dbxrefs=[])]\n",
      "to save /data2/isshamie/covid/data/processed/seqs/S_protein_align/hCoV_19Taiwan42020_EPI_ISL_411927_2020_01_28.protein.fasta\n"
     ]
    },
    {
     "name": "stderr",
     "output_type": "stream",
     "text": [
      "\r",
      " 53%|█████▎    | 9/17 [26:07<22:50, 171.34s/it]"
     ]
    },
    {
     "name": "stdout",
     "output_type": "stream",
     "text": [
      "s all proteins [SeqRecord(seq=Seq('MFVFLVLLPLVSSQCVNLTTRTQLPPAYTNSFTRGVYYPDKVFRSSVLHSTQDL...HYT'), id='hCoV_19NetherlandsTilburg_13642862020_EPI_ISL_413587_2020_03_03', name='<unknown name>', description='<unknown description>', dbxrefs=[])]\n",
      "to save /data2/isshamie/covid/data/processed/seqs/S_protein_align/hCoV_19NetherlandsTilburg_13642862020_EPI_ISL_413587_2020_03_03.protein.fasta\n"
     ]
    },
    {
     "name": "stderr",
     "output_type": "stream",
     "text": [
      "\r",
      " 53%|█████▎    | 9/17 [26:08<22:20, 167.54s/it]"
     ]
    },
    {
     "name": "stdout",
     "output_type": "stream",
     "text": [
      "s all proteins [SeqRecord(seq=Seq('MFVFLVLLPLVSSQCVNLTTRTQLPPADIFFHTWCLLPQSFQILSFTFNSGLVL...INE'), id='hCoV_19HenanIVDC_HeN_0022020_EPI_ISL_408487_2020_01_20', name='<unknown name>', description='<unknown description>', dbxrefs=[])]\n",
      "to save /data2/isshamie/covid/data/processed/seqs/S_protein_align/hCoV_19HenanIVDC_HeN_0022020_EPI_ISL_408487_2020_01_20.protein.fasta\n"
     ]
    },
    {
     "name": "stderr",
     "output_type": "stream",
     "text": [
      "\r",
      " 53%|█████▎    | 9/17 [26:12<23:05, 173.15s/it]"
     ]
    },
    {
     "name": "stdout",
     "output_type": "stream",
     "text": [
      "s all proteins [SeqRecord(seq=Seq('MFVFLVLLPLVSSQCVNLTTRTQLPPAYTNSFTRGVYYPDKVFRSSVLHSTQDL...HYT'), id='hCoV_19USACruiseA_242020_EPI_ISL_414483_2020_02_17', name='<unknown name>', description='<unknown description>', dbxrefs=[])]\n",
      "to save /data2/isshamie/covid/data/processed/seqs/S_protein_align/hCoV_19USACruiseA_242020_EPI_ISL_414483_2020_02_17.protein.fasta\n"
     ]
    },
    {
     "name": "stderr",
     "output_type": "stream",
     "text": [
      "\r",
      " 59%|█████▉    | 10/17 [26:14<16:07, 138.25s/it]"
     ]
    },
    {
     "name": "stdout",
     "output_type": "stream",
     "text": [
      "s all proteins [SeqRecord(seq=Seq('MFVFLVLLPLVSSQCVNLTTRTQLPPAYTNSFTRGVYYPDKVFRSSVLHSTQDL...HYT'), id='hCoV_19ChinaWF00122020_EPI_ISL_413697_2020_02', name='<unknown name>', description='<unknown description>', dbxrefs=[])]\n",
      "to save /data2/isshamie/covid/data/processed/seqs/S_protein_align/hCoV_19ChinaWF00122020_EPI_ISL_413697_2020_02.protein.fasta\n"
     ]
    },
    {
     "name": "stderr",
     "output_type": "stream",
     "text": [
      "\r",
      " 53%|█████▎    | 9/17 [26:15<22:01, 165.20s/it]"
     ]
    },
    {
     "name": "stdout",
     "output_type": "stream",
     "text": [
      "s all proteins [SeqRecord(seq=Seq('MFVFLVLLPLVSSQCVNLTTRTQLPPAYTNSFTRGVYYPDKVFRSSVLHSTQDL...HYT'), id='hCoV_19USACruiseA_22020_EPI_ISL_413607_2020_02_18', name='<unknown name>', description='<unknown description>', dbxrefs=[])]\n",
      "to save /data2/isshamie/covid/data/processed/seqs/S_protein_align/hCoV_19USACruiseA_22020_EPI_ISL_413607_2020_02_18.protein.fasta\n"
     ]
    },
    {
     "name": "stderr",
     "output_type": "stream",
     "text": [
      "\r",
      " 59%|█████▉    | 10/17 [26:17<17:05, 146.49s/it]"
     ]
    },
    {
     "name": "stdout",
     "output_type": "stream",
     "text": [
      "s all proteins [SeqRecord(seq=Seq('MFVFLVLLPLVSSQCVNLTTRTQLPPAYTNSFTRGVYYPDKVFRSSVLHSTQDL...HYT'), id='hCoV_19Nepal612020_EPI_ISL_410301_2020_01_13', name='<unknown name>', description='<unknown description>', dbxrefs=[])]\n",
      "to save /data2/isshamie/covid/data/processed/seqs/S_protein_align/hCoV_19Nepal612020_EPI_ISL_410301_2020_01_13.protein.fasta\n"
     ]
    },
    {
     "name": "stderr",
     "output_type": "stream",
     "text": [
      " 59%|█████▉    | 10/17 [26:18<16:44, 143.50s/it]/home/isshamie/software/anaconda2/envs/coevolve/lib/python3.7/site-packages/Bio/Seq.py:2859: BiopythonWarning: Partial codon, len(sequence) not a multiple of three. Explicitly trim the sequence or add trailing N before translation. This may become an error in future.\n",
      "  BiopythonWarning,\n"
     ]
    },
    {
     "name": "stdout",
     "output_type": "stream",
     "text": [
      "s all proteins [SeqRecord(seq=Seq('MFVFLVLLPLVSSQCVNLTTRTQLPPAYTNSFTRGVYYPDKVFRSSVLHSTQDL...HYT'), id='hCoV_19LuxembourgLux12020_EPI_ISL_413593_2020_02_29', name='<unknown name>', description='<unknown description>', dbxrefs=[])]\n",
      "to save /data2/isshamie/covid/data/processed/seqs/S_protein_align/hCoV_19LuxembourgLux12020_EPI_ISL_413593_2020_02_29.protein.fasta\n"
     ]
    },
    {
     "name": "stderr",
     "output_type": "stream",
     "text": [
      "\r",
      " 53%|█████▎    | 9/17 [26:30<22:06, 165.79s/it]"
     ]
    },
    {
     "name": "stdout",
     "output_type": "stream",
     "text": [
      "s all proteins [SeqRecord(seq=Seq('MFVFLVLLPLVSSQCVNLTTRTQLPPAYTNSFTRGVYYPDKVFRSSVLHSTQDL...HYT'), id='hCoV_19USAMN1_MDH12020_EPI_ISL_414588_2020_03_05', name='<unknown name>', description='<unknown description>', dbxrefs=[])]\n",
      "to save /data2/isshamie/covid/data/processed/seqs/S_protein_align/hCoV_19USAMN1_MDH12020_EPI_ISL_414588_2020_03_05.protein.fasta\n"
     ]
    },
    {
     "name": "stderr",
     "output_type": "stream",
     "text": [
      "\r",
      " 53%|█████▎    | 9/17 [26:32<21:56, 164.54s/it]"
     ]
    },
    {
     "name": "stdout",
     "output_type": "stream",
     "text": [
      "s all proteins [SeqRecord(seq=Seq('MFVFLVLLPLVSSQCVNLTTRTQLPPAYTNSFTRGVYYPDKVFRSSVLHSTQDL...HYT'), id='hCoV_19England2009907242020_EPI_ISL_414006_2020_02_28', name='<unknown name>', description='<unknown description>', dbxrefs=[])]\n",
      "s all proteins [SeqRecord(seq=Seq('ICIVKSMVMHMLVVMQSLGVLSTSALLSVLTGLLNILLVMNRLMRLVERFNTWL...ICL'), id='hCoV_19SpainValencia32020_EPI_ISL_414598_2020_03_05', name='<unknown name>', description='<unknown description>', dbxrefs=[])]\n",
      "to save /data2/isshamie/covid/data/processed/seqs/S_protein_align/hCoV_19England2009907242020_EPI_ISL_414006_2020_02_28.protein.fasta\n",
      "to save /data2/isshamie/covid/data/processed/seqs/S_protein_align/hCoV_19SpainValencia32020_EPI_ISL_414598_2020_03_05.protein.fasta\n"
     ]
    },
    {
     "name": "stderr",
     "output_type": "stream",
     "text": [
      "\r",
      " 53%|█████▎    | 9/17 [26:34<21:54, 164.35s/it]"
     ]
    },
    {
     "name": "stdout",
     "output_type": "stream",
     "text": [
      "s all proteins [SeqRecord(seq=Seq('MFVFLVLLPLVSSQCVNLTTRTQLPPAYTNSFTRGVYYPDKVFRSSVLHSTQDL...HYT'), id='hCoV_19NetherlandsNoordHolland_12020_EPI_ISL_414433_2020_03_03', name='<unknown name>', description='<unknown description>', dbxrefs=[])]\n",
      "to save /data2/isshamie/covid/data/processed/seqs/S_protein_align/hCoV_19NetherlandsNoordHolland_12020_EPI_ISL_414433_2020_03_03.protein.fasta\n"
     ]
    },
    {
     "name": "stderr",
     "output_type": "stream",
     "text": [
      " 53%|█████▎    | 9/17 [26:36<22:17, 167.17s/it]t]"
     ]
    },
    {
     "name": "stdout",
     "output_type": "stream",
     "text": [
      "s all proteins [SeqRecord(seq=Seq('MFVFLVLLPLVSSQCVNLTTRTQLPPAYTNSFTRGVYYPDKVFRSSVLHSTQDL...HYT'), id='hCoV_19Singapore22020_EPI_ISL_407987_2020_01_25', name='<unknown name>', description='<unknown description>', dbxrefs=[])]\n",
      "to save /data2/isshamie/covid/data/processed/seqs/S_protein_align/hCoV_19Singapore22020_EPI_ISL_407987_2020_01_25.protein.fasta\n"
     ]
    },
    {
     "name": "stderr",
     "output_type": "stream",
     "text": [
      "\r",
      " 65%|██████▍   | 11/17 [26:40<13:30, 135.08s/it]"
     ]
    },
    {
     "name": "stdout",
     "output_type": "stream",
     "text": [
      "s all proteins [SeqRecord(seq=Seq('MFVFLVLLPLVSSQCVNLTTRTQLPPAYTNSFTRGVYYPDKVFRSSVLHSTQDL...HYT'), id='hCoV_19NetherlandsZuidHolland_22020_EPI_ISL_414556_2020_03_06', name='<unknown name>', description='<unknown description>', dbxrefs=[])]\n",
      "to save /data2/isshamie/covid/data/processed/seqs/S_protein_align/hCoV_19NetherlandsZuidHolland_22020_EPI_ISL_414556_2020_03_06.protein.fasta\n"
     ]
    },
    {
     "name": "stderr",
     "output_type": "stream",
     "text": [
      "\r",
      " 53%|█████▎    | 9/17 [26:45<22:03, 165.48s/it]"
     ]
    },
    {
     "name": "stdout",
     "output_type": "stream",
     "text": [
      "s all proteins [SeqRecord(seq=Seq('MFVFLVLLPLVSSQCVNLTTRTQLPPAYTNSFTRGVYYPDKVFRSSVLHSTQDL...HYT'), id='hCoV_19JapanKY_V_0292020_EPI_ISL_408669_2020_01_29', name='<unknown name>', description='<unknown description>', dbxrefs=[])]\n",
      "to save /data2/isshamie/covid/data/processed/seqs/S_protein_align/hCoV_19JapanKY_V_0292020_EPI_ISL_408669_2020_01_29.protein.fasta\n"
     ]
    },
    {
     "name": "stderr",
     "output_type": "stream",
     "text": [
      "\r",
      " 65%|██████▍   | 11/17 [26:45<13:28, 134.73s/it]"
     ]
    },
    {
     "name": "stdout",
     "output_type": "stream",
     "text": [
      "s all proteins [SeqRecord(seq=Seq('MFVFLVLLPLVSSQCVNLTTRTQLPPAYTNSFTRGVYYPDKVFRSSVLHSTQDL...LWI'), id='hCoV_19GuangdongGDSZ202008_P00202020_EPI_ISL_413866_2020_02_05', name='<unknown name>', description='<unknown description>', dbxrefs=[])]\n",
      "to save /data2/isshamie/covid/data/processed/seqs/S_protein_align/hCoV_19GuangdongGDSZ202008_P00202020_EPI_ISL_413866_2020_02_05.protein.fasta\n"
     ]
    },
    {
     "name": "stderr",
     "output_type": "stream",
     "text": [
      "\r",
      " 53%|█████▎    | 9/17 [26:54<21:52, 164.01s/it]"
     ]
    },
    {
     "name": "stdout",
     "output_type": "stream",
     "text": [
      "s all proteins [SeqRecord(seq=Seq('MFVFLVLLPLVSSQCVNLTTRTQLPPAYTNSFTRGVYYPDKVFRSSVLHSTQDL...HYT'), id='hCoV_19USAWA11_UW72020_EPI_ISL_413562_2020_03_02', name='<unknown name>', description='<unknown description>', dbxrefs=[])]\n",
      "to save /data2/isshamie/covid/data/processed/seqs/S_protein_align/hCoV_19USAWA11_UW72020_EPI_ISL_413562_2020_03_02.protein.fasta\n"
     ]
    },
    {
     "name": "stderr",
     "output_type": "stream",
     "text": [
      "\r",
      " 53%|█████▎    | 9/17 [27:05<22:24, 168.08s/it]"
     ]
    },
    {
     "name": "stdout",
     "output_type": "stream",
     "text": [
      "s all proteins [SeqRecord(seq=Seq('MFVFLVLLPLVSSQCVNLTTRTQLPPAYTNSFTRGVYYPDKVFRSSVLHSTQDL...LHF'), id='hCoV_19NetherlandsBerlicum_13635642020_EPI_ISL_413565_2020_02_24', name='<unknown name>', description='<unknown description>', dbxrefs=[])]\n",
      "to save /data2/isshamie/covid/data/processed/seqs/S_protein_align/hCoV_19NetherlandsBerlicum_13635642020_EPI_ISL_413565_2020_02_24.protein.fasta\n"
     ]
    },
    {
     "name": "stderr",
     "output_type": "stream",
     "text": [
      "\r",
      " 59%|█████▉    | 10/17 [27:20<18:09, 155.61s/it]"
     ]
    },
    {
     "name": "stdout",
     "output_type": "stream",
     "text": [
      "s all proteins [SeqRecord(seq=Seq('MFVFLVLLPLVSSQCVNLTTRTQLPPAYTNSFTRGVYYPDKVFRSSVLHSTQDL...HYT'), id='hCoV_19England2009906602020_EPI_ISL_414523_2020_02_27', name='<unknown name>', description='<unknown description>', dbxrefs=[])]\n",
      "to save /data2/isshamie/covid/data/processed/seqs/S_protein_align/hCoV_19England2009906602020_EPI_ISL_414523_2020_02_27.protein.fasta\n"
     ]
    },
    {
     "name": "stderr",
     "output_type": "stream",
     "text": [
      "\r",
      " 59%|█████▉    | 10/17 [27:22<18:12, 156.06s/it]"
     ]
    },
    {
     "name": "stdout",
     "output_type": "stream",
     "text": [
      "s all proteins [SeqRecord(seq=Seq('MFVFLVLLPLVSSQCVNLTTRTQLPPAYTNSFTRGVYYPDKVFRSSVLHSTQDL...HYT'), id='hCoV_19GuangdongGD2020087_P00082020_EPI_ISL_413863_2020_02_01', name='<unknown name>', description='<unknown description>', dbxrefs=[])]\n",
      "to save /data2/isshamie/covid/data/processed/seqs/S_protein_align/hCoV_19GuangdongGD2020087_P00082020_EPI_ISL_413863_2020_02_01.protein.fasta\n"
     ]
    },
    {
     "name": "stderr",
     "output_type": "stream",
     "text": [
      "\r",
      " 41%|████      | 7/17 [28:14<36:06, 216.63s/it]"
     ]
    },
    {
     "name": "stdout",
     "output_type": "stream",
     "text": [
      "s all proteins [SeqRecord(seq=Seq('MFVFLVLLPLVSSQCVNLTTRTQLPPAYTNSFTRGVYYPDKVFRSSVLHSTQDL...HYT'), id='hCoV_19ChileTalca_22020_EPI_ISL_414578_2020_03_04', name='<unknown name>', description='<unknown description>', dbxrefs=[])]\n",
      "to save /data2/isshamie/covid/data/processed/seqs/S_protein_align/hCoV_19ChileTalca_22020_EPI_ISL_414578_2020_03_04.protein.fasta\n"
     ]
    },
    {
     "name": "stderr",
     "output_type": "stream",
     "text": [
      "\r",
      " 53%|█████▎    | 9/17 [28:16<24:15, 182.00s/it]"
     ]
    },
    {
     "name": "stdout",
     "output_type": "stream",
     "text": [
      "s all proteins [SeqRecord(seq=Seq('MFVFLVLLPLVSSQCVNLTTRTQLPPAYTNSFTRGVYYPDKVFRSSVLHSTQDL...HYT'), id='hCoV_19USACA92020_EPI_ISL_412862_2020_02_23', name='<unknown name>', description='<unknown description>', dbxrefs=[])]\n",
      "to save /data2/isshamie/covid/data/processed/seqs/S_protein_align/hCoV_19USACA92020_EPI_ISL_412862_2020_02_23.protein.fasta\n"
     ]
    },
    {
     "name": "stderr",
     "output_type": "stream",
     "text": [
      "\r",
      " 53%|█████▎    | 9/17 [28:19<26:31, 198.97s/it]"
     ]
    },
    {
     "name": "stdout",
     "output_type": "stream",
     "text": [
      "s all proteins [SeqRecord(seq=Seq('MFVFLVLLPLVSSQCVNLTTRTQLPPAYTNSFTRGVYYPDKVFRSSVLHSTQDL...HYT'), id='hCoV_19ShenzhenSZTH_0012020_EPI_ISL_406592_2020_01_13', name='<unknown name>', description='<unknown description>', dbxrefs=[])]\n",
      "to save /data2/isshamie/covid/data/processed/seqs/S_protein_align/hCoV_19ShenzhenSZTH_0012020_EPI_ISL_406592_2020_01_13.protein.fasta\n"
     ]
    },
    {
     "name": "stderr",
     "output_type": "stream",
     "text": [
      "\r",
      " 65%|██████▍   | 11/17 [28:21<14:20, 143.37s/it]"
     ]
    },
    {
     "name": "stdout",
     "output_type": "stream",
     "text": [
      "s all proteins [SeqRecord(seq=Seq('MFVFLVLLPLVSSQCVNLTTRTQLPPAYTNSFTRGVYYPDKVFRSSVLHSTQDL...HYT'), id='hCoV_19WuhanHBCDC_HB_052020_EPI_ISL_412981_2020_01_18', name='<unknown name>', description='<unknown description>', dbxrefs=[])]\n",
      "to save /data2/isshamie/covid/data/processed/seqs/S_protein_align/hCoV_19WuhanHBCDC_HB_052020_EPI_ISL_412981_2020_01_18.protein.fasta\n"
     ]
    },
    {
     "name": "stderr",
     "output_type": "stream",
     "text": [
      "\r",
      " 65%|██████▍   | 11/17 [28:22<14:01, 140.30s/it]"
     ]
    },
    {
     "name": "stdout",
     "output_type": "stream",
     "text": [
      "s all proteins [SeqRecord(seq=Seq('MFVFLVLLPLVSSQCVNLTTRTQLPPAYTNSITRGVYYPDKVFRSSVLHSTQDL...HYT'), id='hCoV_19WuhanHBCDC_HB_012019_EPI_ISL_402132_2019_12_30', name='<unknown name>', description='<unknown description>', dbxrefs=[])]\n",
      "to save /data2/isshamie/covid/data/processed/seqs/S_protein_align/hCoV_19WuhanHBCDC_HB_012019_EPI_ISL_402132_2019_12_30.protein.fasta\n"
     ]
    },
    {
     "name": "stderr",
     "output_type": "stream",
     "text": [
      "\r",
      " 59%|█████▉    | 10/17 [28:23<19:37, 168.29s/it]"
     ]
    },
    {
     "name": "stdout",
     "output_type": "stream",
     "text": [
      "s all proteins [SeqRecord(seq=Seq('MFVFLVLLPLVSSQCVNLTTRTQLPPAYTNSFTRGVYYPDKVFRSSVLHSTQDL...HYT'), id='hCoV_19South', name='<unknown name>', description='<unknown description>', dbxrefs=[])]\n",
      "to save /data2/isshamie/covid/data/processed/seqs/S_protein_align/hCoV_19South.protein.fasta\n"
     ]
    },
    {
     "name": "stderr",
     "output_type": "stream",
     "text": [
      "\r",
      " 59%|█████▉    | 10/17 [28:33<19:06, 163.77s/it]"
     ]
    },
    {
     "name": "stdout",
     "output_type": "stream",
     "text": [
      "s all proteins [SeqRecord(seq=Seq('MFVFLVLLPLVSSQCVNLTTRTQLPPAYTNSFTRGVYYPDKVFRSSVLHSTQDL...HYT'), id='hCoV_19JapanOS_20_07_12020_EPI_ISL_410532_2020_01_23', name='<unknown name>', description='<unknown description>', dbxrefs=[])]\n",
      "to save /data2/isshamie/covid/data/processed/seqs/S_protein_align/hCoV_19JapanOS_20_07_12020_EPI_ISL_410532_2020_01_23.protein.fasta\n"
     ]
    },
    {
     "name": "stderr",
     "output_type": "stream",
     "text": [
      "\r",
      " 65%|██████▍   | 11/17 [28:35<14:09, 141.61s/it]"
     ]
    },
    {
     "name": "stdout",
     "output_type": "stream",
     "text": [
      "s all proteins [SeqRecord(seq=Seq('MFVFLVLLPLVSSQCVNLTTRTQLPPAYTNSFTRGVYYPDKVFRSSVLHSTQDL...HYT'), id='hCoV_19NetherlandsOss_13635002020_EPI_ISL_413581_2020_02_29', name='<unknown name>', description='<unknown description>', dbxrefs=[])]\n",
      "to save /data2/isshamie/covid/data/processed/seqs/S_protein_align/hCoV_19NetherlandsOss_13635002020_EPI_ISL_413581_2020_02_29.protein.fasta\n"
     ]
    },
    {
     "name": "stderr",
     "output_type": "stream",
     "text": [
      "\r",
      " 59%|█████▉    | 10/17 [28:39<18:57, 162.44s/it]"
     ]
    },
    {
     "name": "stdout",
     "output_type": "stream",
     "text": [
      "s all proteins [SeqRecord(seq=Seq('MFVFLVLLPLVSSQCVNLTTRTQLPPAYTNSFTRGVYYPDKVFRSSVLHSTQDL...HYT'), id='hCoV_19USACruiseA_32020_EPI_ISL_413608_2020_02_18', name='<unknown name>', description='<unknown description>', dbxrefs=[])]\n",
      "to save /data2/isshamie/covid/data/processed/seqs/S_protein_align/hCoV_19USACruiseA_32020_EPI_ISL_413608_2020_02_18.protein.fasta\n"
     ]
    },
    {
     "name": "stderr",
     "output_type": "stream",
     "text": [
      "\r",
      " 65%|██████▍   | 11/17 [28:39<14:31, 145.24s/it]"
     ]
    },
    {
     "name": "stdout",
     "output_type": "stream",
     "text": [
      "s all proteins [SeqRecord(seq=Seq('MFVFLVLLPLVSSQCVNLTTRTQLPPAYTNSFTRGVYYPDKVFRSSVLHSTQDL...HYT'), id='hCoV_19Beijing2332020_EPI_ISL_413520_2020_01_28', name='<unknown name>', description='<unknown description>', dbxrefs=[])]\n",
      "to save /data2/isshamie/covid/data/processed/seqs/S_protein_align/hCoV_19Beijing2332020_EPI_ISL_413520_2020_01_28.protein.fasta\n"
     ]
    },
    {
     "name": "stderr",
     "output_type": "stream",
     "text": [
      "\r",
      " 59%|█████▉    | 10/17 [28:40<19:30, 167.20s/it]"
     ]
    },
    {
     "name": "stdout",
     "output_type": "stream",
     "text": [
      "s all proteins [SeqRecord(seq=Seq('MFVFLVLLPLVSSQCVNLTTRTQLPPAYTNSFTRGVYYPDKVFRSSVLHSTQDL...HYT'), id='hCoV_19ChinaWF00142020_EPI_ISL_413711_2020_02', name='<unknown name>', description='<unknown description>', dbxrefs=[])]\n",
      "to save /data2/isshamie/covid/data/processed/seqs/S_protein_align/hCoV_19ChinaWF00142020_EPI_ISL_413711_2020_02.protein.fasta\n"
     ]
    },
    {
     "name": "stderr",
     "output_type": "stream",
     "text": [
      "\r",
      " 59%|█████▉    | 10/17 [28:41<18:35, 159.38s/it]"
     ]
    },
    {
     "name": "stdout",
     "output_type": "stream",
     "text": [
      "s all proteins [SeqRecord(seq=Seq('MFVFLVLLPLVSSQCVNLTTRTQLPPAYTNSFTRGVYYPDKVFRSSVLHSTQDL...HYT'), id='hCoV_19JapanTK20_31_32020_EPI_ISL_413459_2020_02_20', name='<unknown name>', description='<unknown description>', dbxrefs=[])]\n",
      "to save /data2/isshamie/covid/data/processed/seqs/S_protein_align/hCoV_19JapanTK20_31_32020_EPI_ISL_413459_2020_02_20.protein.fasta\n"
     ]
    },
    {
     "name": "stderr",
     "output_type": "stream",
     "text": [
      "\r",
      " 59%|█████▉    | 10/17 [28:41<19:27, 166.75s/it]"
     ]
    },
    {
     "name": "stdout",
     "output_type": "stream",
     "text": [
      "s all proteins [SeqRecord(seq=Seq('MFVFLVLLPLVSSQCVNLTTRTQLPPAYTNSFTRGVYYPDKVFRSSVLHSTQDL...HYT'), id='hCoV_19USACruiseA_252020_EPI_ISL_414484_2020_02_17', name='<unknown name>', description='<unknown description>', dbxrefs=[])]\n",
      "to save /data2/isshamie/covid/data/processed/seqs/S_protein_align/hCoV_19USACruiseA_252020_EPI_ISL_414484_2020_02_17.protein.fasta\n"
     ]
    },
    {
     "name": "stderr",
     "output_type": "stream",
     "text": [
      "\r",
      " 65%|██████▍   | 11/17 [28:42<14:07, 141.19s/it]"
     ]
    },
    {
     "name": "stdout",
     "output_type": "stream",
     "text": [
      "s all proteins [SeqRecord(seq=Seq('MFVFLVLLPLVSSQCVNLTTRTQLPPAYTNSFTRGVYYPDKVFRSSVLHSTQDL...HYT'), id='hCoV_19WuhanWIV042019_EPI_ISL_402124_2019_12_30', name='<unknown name>', description='<unknown description>', dbxrefs=[])]\n",
      "to save /data2/isshamie/covid/data/processed/seqs/S_protein_align/hCoV_19WuhanWIV042019_EPI_ISL_402124_2019_12_30.protein.fasta\n"
     ]
    },
    {
     "name": "stderr",
     "output_type": "stream",
     "text": [
      "\r",
      " 59%|█████▉    | 10/17 [28:46<19:33, 167.65s/it]"
     ]
    },
    {
     "name": "stdout",
     "output_type": "stream",
     "text": [
      "s all proteins [SeqRecord(seq=Seq('MFVFLVLLPLVSSQCVNLTTRTQLPPAYTNSFTRGVYYPDKVFRSSVLYSTQDL...HYT'), id='hCoV_19USACA52020_EPI_ISL_408010_2020_01_29', name='<unknown name>', description='<unknown description>', dbxrefs=[])]\n",
      "to save /data2/isshamie/covid/data/processed/seqs/S_protein_align/hCoV_19USACA52020_EPI_ISL_408010_2020_01_29.protein.fasta\n"
     ]
    },
    {
     "name": "stderr",
     "output_type": "stream",
     "text": [
      "\r",
      " 71%|███████   | 12/17 [28:54<11:12, 134.54s/it]"
     ]
    },
    {
     "name": "stdout",
     "output_type": "stream",
     "text": [
      "s all proteins [SeqRecord(seq=Seq('MFVFLVLLPLVSSQCVNLTTRTQLPPAYTNSFTRGVYYPDKVFRSSVLHSTQDL...HYT'), id='hCoV_19USACruiseA_182020_EPI_ISL_413623_2020_02_24', name='<unknown name>', description='<unknown description>', dbxrefs=[])]\n",
      "to save /data2/isshamie/covid/data/processed/seqs/S_protein_align/hCoV_19USACruiseA_182020_EPI_ISL_413623_2020_02_24.protein.fasta\n"
     ]
    },
    {
     "name": "stderr",
     "output_type": "stream",
     "text": [
      "\r",
      " 59%|█████▉    | 10/17 [28:58<18:43, 160.44s/it]"
     ]
    },
    {
     "name": "stdout",
     "output_type": "stream",
     "text": [
      "s all proteins [SeqRecord(seq=Seq('MFVFLVLLPLVSSQCVNLTTRTQLPPAYTNSFTRGVYYPDKVFRSSVLHSTQDL...HYT'), id='hCoV_19England2009907252020_EPI_ISL_414007_2020_02_28', name='<unknown name>', description='<unknown description>', dbxrefs=[])]\n",
      "to save /data2/isshamie/covid/data/processed/seqs/S_protein_align/hCoV_19England2009907252020_EPI_ISL_414007_2020_02_28.protein.fasta\n"
     ]
    },
    {
     "name": "stderr",
     "output_type": "stream",
     "text": [
      "\r",
      " 59%|█████▉    | 10/17 [29:03<18:38, 159.83s/it]"
     ]
    },
    {
     "name": "stdout",
     "output_type": "stream",
     "text": [
      "s all proteins [SeqRecord(seq=Seq('MFVFLVLLPLVSSQCVNLTTRTQLPPAYTNSFTRGVYYPDKVFRSSVLHSTQDL...TTN'), id='hCoV_19USAWA_UW292020_EPI_ISL_414616_2020_03_08', name='<unknown name>', description='<unknown description>', dbxrefs=[])]\n",
      "to save /data2/isshamie/covid/data/processed/seqs/S_protein_align/hCoV_19USAWA_UW292020_EPI_ISL_414616_2020_03_08.protein.fasta\n"
     ]
    },
    {
     "name": "stderr",
     "output_type": "stream",
     "text": [
      "\r",
      " 35%|███▌      | 6/17 [29:06<49:02, 267.48s/it]  "
     ]
    },
    {
     "name": "stdout",
     "output_type": "stream",
     "text": [
      "s all proteins [SeqRecord(seq=Seq('MFVFLVLLPLVSSQCVNLTTRTQLPPAYTNSFTRGVYYPDKVFRSSVLHSTQDL...HYT'), id='hCoV_19USAMN2_MDH22020_EPI_ISL_414589_2020_03_07', name='<unknown name>', description='<unknown description>', dbxrefs=[])]\n",
      "to save /data2/isshamie/covid/data/processed/seqs/S_protein_align/hCoV_19USAMN2_MDH22020_EPI_ISL_414589_2020_03_07.protein.fasta\n"
     ]
    },
    {
     "name": "stderr",
     "output_type": "stream",
     "text": [
      "\r",
      " 59%|█████▉    | 10/17 [29:07<18:51, 161.69s/it]"
     ]
    },
    {
     "name": "stdout",
     "output_type": "stream",
     "text": [
      "s all proteins [SeqRecord(seq=Seq('MFVFLVLLPLVSSQCVNLTTRTQLPPAYTNSFTRGVYYPDKVFRSSVLHSTQDL...HYT'), id='hCoV_19NetherlandsNoordBrabant_102020_EPI_ISL_414431_2020_03_02', name='<unknown name>', description='<unknown description>', dbxrefs=[])]\n",
      "to save /data2/isshamie/covid/data/processed/seqs/S_protein_align/hCoV_19NetherlandsNoordBrabant_102020_EPI_ISL_414431_2020_03_02.protein.fasta\n"
     ]
    },
    {
     "name": "stderr",
     "output_type": "stream",
     "text": [
      "\r",
      " 59%|█████▉    | 10/17 [29:09<19:01, 163.04s/it]"
     ]
    },
    {
     "name": "stdout",
     "output_type": "stream",
     "text": [
      "s all proteins [SeqRecord(seq=Seq('MFVFLVLLPLVSSQCVNLTTRTQLPPAYTNSFTRGVYYPDKVFRSSVLHSTQDL...HYT'), id='hCoV_19JapanAII_0042020_EPI_ISL_407084_2020_01_25', name='<unknown name>', description='<unknown description>', dbxrefs=[])]\n",
      "to save /data2/isshamie/covid/data/processed/seqs/S_protein_align/hCoV_19JapanAII_0042020_EPI_ISL_407084_2020_01_25.protein.fasta\n"
     ]
    },
    {
     "name": "stderr",
     "output_type": "stream",
     "text": [
      "\r",
      " 71%|███████   | 12/17 [29:10<11:28, 137.79s/it]"
     ]
    },
    {
     "name": "stdout",
     "output_type": "stream",
     "text": [
      "s all proteins [SeqRecord(seq=Seq('MFVFLVLLPLVSSQCVNLTTRTQLPPAYTNSFTRGVYYPDKVFRSSVLHSTQDL...HYT'), id='hCoV_19NetherlandsUtrecht_162020_EPI_ISL_414555_2020_03_08', name='<unknown name>', description='<unknown description>', dbxrefs=[])]\n",
      "to save /data2/isshamie/covid/data/processed/seqs/S_protein_align/hCoV_19NetherlandsUtrecht_162020_EPI_ISL_414555_2020_03_08.protein.fasta\n"
     ]
    },
    {
     "name": "stderr",
     "output_type": "stream",
     "text": [
      "\r",
      " 59%|█████▉    | 10/17 [29:26<19:08, 164.09s/it]"
     ]
    },
    {
     "name": "stdout",
     "output_type": "stream",
     "text": [
      "s all proteins [SeqRecord(seq=Seq('MFVFLVLLPLVSSQCVNLTTRTQLPPAYTNSFTRGVYYPDKVFRSSVLHSTQDL...HYT'), id='hCoV_19USAWA_UW182020_EPI_ISL_414366_2020_03_05', name='<unknown name>', description='<unknown description>', dbxrefs=[])]\n",
      "to save /data2/isshamie/covid/data/processed/seqs/S_protein_align/hCoV_19USAWA_UW182020_EPI_ISL_414366_2020_03_05.protein.fasta\n"
     ]
    },
    {
     "name": "stderr",
     "output_type": "stream",
     "text": [
      "\r",
      " 59%|█████▉    | 10/17 [29:46<19:20, 165.76s/it]"
     ]
    },
    {
     "name": "stdout",
     "output_type": "stream",
     "text": [
      "s all proteins [SeqRecord(seq=Seq('SAFVNLKQLPFFYYSDSPCESHGKQVVSDIDYVPLKSATCITRCNLGGAVCRHH...MRI'), id='hCoV_19SpainValencia12020_EPI_ISL_414495_2020_03_08', name='<unknown name>', description='<unknown description>', dbxrefs=[])]\n",
      "to save /data2/isshamie/covid/data/processed/seqs/S_protein_align/hCoV_19SpainValencia12020_EPI_ISL_414495_2020_03_08.protein.fasta\n"
     ]
    },
    {
     "name": "stderr",
     "output_type": "stream",
     "text": [
      "\r",
      " 47%|████▋     | 8/17 [29:48<40:39, 271.02s/it]"
     ]
    },
    {
     "name": "stdout",
     "output_type": "stream",
     "text": [
      "s all proteins [SeqRecord(seq=Seq('MFVFLVLLPLVSSQCVNLTTRTQLPPAYTNSFTRGVYYPDKVFRSSVLHSTQDL...LWI'), id='hCoV_19GuangdongGD2020086_P00212020_EPI_ISL_413862_2020_02_01', name='<unknown name>', description='<unknown description>', dbxrefs=[])]\n",
      "to save /data2/isshamie/covid/data/processed/seqs/S_protein_align/hCoV_19GuangdongGD2020086_P00212020_EPI_ISL_413862_2020_02_01.protein.fasta\n"
     ]
    },
    {
     "name": "stderr",
     "output_type": "stream",
     "text": [
      "\r",
      " 47%|████▋     | 8/17 [30:36<29:08, 194.29s/it]"
     ]
    },
    {
     "name": "stdout",
     "output_type": "stream",
     "text": [
      "s all proteins [SeqRecord(seq=Seq('MFVFLVLLPLVSSQCVNLTTRTQLPPAYTNSFTRGVYYPDKVFRSSVLHSTQDL...HYT'), id='hCoV_19WuhanHBCDC_HB_062020_EPI_ISL_412982_2020_02_07', name='<unknown name>', description='<unknown description>', dbxrefs=[])]\n",
      "to save /data2/isshamie/covid/data/processed/seqs/S_protein_align/hCoV_19WuhanHBCDC_HB_062020_EPI_ISL_412982_2020_02_07.protein.fasta\n"
     ]
    },
    {
     "name": "stderr",
     "output_type": "stream",
     "text": [
      "\r",
      " 71%|███████   | 12/17 [30:37<11:32, 138.54s/it]"
     ]
    },
    {
     "name": "stdout",
     "output_type": "stream",
     "text": [
      "s all proteins [SeqRecord(seq=Seq('IGLALYYPSARIVYTACSHAAVDALCEKALKYLPIDKCSRIIPARARVECFDKF...CSL'), id='hCoV_19pangolinGuangxiP2V2017_EPI_ISL_410542_2017', name='<unknown name>', description='<unknown description>', dbxrefs=[])]\n",
      "to save /data2/isshamie/covid/data/processed/seqs/S_protein_align/hCoV_19pangolinGuangxiP2V2017_EPI_ISL_410542_2017.protein.fasta\n"
     ]
    },
    {
     "name": "stderr",
     "output_type": "stream",
     "text": [
      "\r",
      " 24%|██▎       | 4/17 [30:40<1:42:12, 471.76s/it]"
     ]
    },
    {
     "name": "stdout",
     "output_type": "stream",
     "text": [
      "s all proteins [SeqRecord(seq=Seq('MFVFLVLLPLVSSQCVNLTTRTQLPPAYTNSFTRGVYYPDKVFRSSVLHSTQDL...HYT'), id='hCoV_19ShenzhenSZTH_0022020_EPI_ISL_406593_2020_01_13', name='<unknown name>', description='<unknown description>', dbxrefs=[])]\n",
      "to save /data2/isshamie/covid/data/processed/seqs/S_protein_align/hCoV_19ShenzhenSZTH_0022020_EPI_ISL_406593_2020_01_13.protein.fasta\n"
     ]
    },
    {
     "name": "stderr",
     "output_type": "stream",
     "text": [
      "\r",
      " 71%|███████   | 12/17 [30:40<11:50, 142.05s/it]"
     ]
    },
    {
     "name": "stdout",
     "output_type": "stream",
     "text": [
      "s all proteins [SeqRecord(seq=Seq('MFVFLVLLPLVSSQCVNLTTRTQLPPAYTNSFTRGVYYPDKVFRSSVLHSTQDL...HYT'), id='hCoV_19NetherlandsDiemen_13634542020_EPI_ISL_413570_2020_02_28', name='<unknown name>', description='<unknown description>', dbxrefs=[])]\n",
      "to save /data2/isshamie/covid/data/processed/seqs/S_protein_align/hCoV_19NetherlandsDiemen_13634542020_EPI_ISL_413570_2020_02_28.protein.fasta\n"
     ]
    },
    {
     "name": "stderr",
     "output_type": "stream",
     "text": [
      "\r",
      " 65%|██████▍   | 11/17 [30:43<16:58, 169.74s/it]"
     ]
    },
    {
     "name": "stdout",
     "output_type": "stream",
     "text": [
      "s all proteins [SeqRecord(seq=Seq('MFVFLVLLPLVSSQCVNLTTRTQLPPAYTNSFTRGVYYPDKVFRSSVLHSTQDL...HYT'), id='hCoV_19England2009910762020_EPI_ISL_414524_2020_03_01', name='<unknown name>', description='<unknown description>', dbxrefs=[])]\n",
      "to save /data2/isshamie/covid/data/processed/seqs/S_protein_align/hCoV_19England2009910762020_EPI_ISL_414524_2020_03_01.protein.fasta\n"
     ]
    },
    {
     "name": "stderr",
     "output_type": "stream",
     "text": [
      "\r",
      " 65%|██████▍   | 11/17 [30:44<16:58, 169.77s/it]"
     ]
    },
    {
     "name": "stdout",
     "output_type": "stream",
     "text": [
      "s all proteins [SeqRecord(seq=Seq('MFVFLVLLPLVSSQCVNLTTRTQLPPAYTNSFTRGVYYPDKVFRSSVLHSTQDL...HYT'), id='hCoV_19JapanNA_20_05_12020_EPI_ISL_410531_2020_01_25', name='<unknown name>', description='<unknown description>', dbxrefs=[])]\n",
      "to save /data2/isshamie/covid/data/processed/seqs/S_protein_align/hCoV_19JapanNA_20_05_12020_EPI_ISL_410531_2020_01_25.protein.fasta\n"
     ]
    },
    {
     "name": "stderr",
     "output_type": "stream",
     "text": [
      "\r",
      " 71%|███████   | 12/17 [30:49<11:36, 139.34s/it]"
     ]
    },
    {
     "name": "stdout",
     "output_type": "stream",
     "text": [
      "s all proteins [SeqRecord(seq=Seq('MFVFLVLLPLVSSQCVNLTTRTQLPPAYTNSFTRGVYYPDKVFRSSVLHSTQDL...HYT'), id='hCoV_19ZhejiangWZ_012020_EPI_ISL_404227_2020_01_16', name='<unknown name>', description='<unknown description>', dbxrefs=[])]\n",
      "to save /data2/isshamie/covid/data/processed/seqs/S_protein_align/hCoV_19ZhejiangWZ_012020_EPI_ISL_404227_2020_01_16.protein.fasta\n"
     ]
    },
    {
     "name": "stderr",
     "output_type": "stream",
     "text": [
      "\r",
      " 65%|██████▍   | 11/17 [30:57<16:24, 164.07s/it]"
     ]
    },
    {
     "name": "stdout",
     "output_type": "stream",
     "text": [
      "s all proteins [SeqRecord(seq=Seq('MFVFLVLLPLVSSQCVNLTTRTQLPPAYTNSFTRGVYYPDKVFRSSVLHSTQDL...HYT'), id='hCoV_19USACruiseA_262020_EPI_ISL_414485_2020_02_24', name='<unknown name>', description='<unknown description>', dbxrefs=[])]\n",
      "to save /data2/isshamie/covid/data/processed/seqs/S_protein_align/hCoV_19USACruiseA_262020_EPI_ISL_414485_2020_02_24.protein.fasta\n"
     ]
    },
    {
     "name": "stderr",
     "output_type": "stream",
     "text": [
      "\r",
      " 71%|███████   | 12/17 [31:01<11:42, 140.53s/it]"
     ]
    },
    {
     "name": "stdout",
     "output_type": "stream",
     "text": [
      "s all proteins [SeqRecord(seq=Seq('MFVFLVLLPLVSSQCVNLTTRTQLPPAYTNSFTRGVYYPDKVFRSSVLHSTQDL...HYT'), id='hCoV_19USACruiseA_42020_EPI_ISL_413609_2020_02_21', name='<unknown name>', description='<unknown description>', dbxrefs=[])]\n",
      "to save /data2/isshamie/covid/data/processed/seqs/S_protein_align/hCoV_19USACruiseA_42020_EPI_ISL_413609_2020_02_21.protein.fasta\n"
     ]
    },
    {
     "name": "stderr",
     "output_type": "stream",
     "text": [
      "\r",
      " 71%|███████   | 12/17 [31:01<12:01, 144.22s/it]"
     ]
    },
    {
     "name": "stdout",
     "output_type": "stream",
     "text": [
      "s all proteins [SeqRecord(seq=Seq('MFVFLVLLPLVSSQCVNLTTRTQLPPAYTNSFTRGVYYPDKVFRSSVLHSTQDL...HYT'), id='hCoV_19ChileSantiago_12020_EPI_ISL_414579_2020_03_03', name='<unknown name>', description='<unknown description>', dbxrefs=[])]\n",
      "to save /data2/isshamie/covid/data/processed/seqs/S_protein_align/hCoV_19ChileSantiago_12020_EPI_ISL_414579_2020_03_03.protein.fasta\n"
     ]
    },
    {
     "name": "stderr",
     "output_type": "stream",
     "text": [
      "\r",
      " 59%|█████▉    | 10/17 [31:03<20:41, 177.32s/it]"
     ]
    },
    {
     "name": "stdout",
     "output_type": "stream",
     "text": [
      "s all proteins [SeqRecord(seq=Seq('MFVFLVLLPLVSSQCVNLTTRTQLPPAYTNSFTRGVYYPDKVFRSSVLHSTQDL...HYT'), id='hCoV_19WuhanHBCDC_HB_022019_EPI_ISL_412898_2019_12_30', name='<unknown name>', description='<unknown description>', dbxrefs=[])]\n",
      "to save /data2/isshamie/covid/data/processed/seqs/S_protein_align/hCoV_19WuhanHBCDC_HB_022019_EPI_ISL_412898_2019_12_30.protein.fasta\n"
     ]
    },
    {
     "name": "stderr",
     "output_type": "stream",
     "text": [
      "\r",
      " 59%|█████▉    | 10/17 [31:03<21:59, 188.51s/it]"
     ]
    },
    {
     "name": "stdout",
     "output_type": "stream",
     "text": [
      "s all proteins [SeqRecord(seq=Seq('MFVFLVLLPLVSSQCVNLTTRTQLPPAYTNSFTRGVYYPDKVFRSSVLHSTQDL...HYT'), id='hCoV_19USACA42020_EPI_ISL_408009_2020_01_29', name='<unknown name>', description='<unknown description>', dbxrefs=[])]\n",
      "to save /data2/isshamie/covid/data/processed/seqs/S_protein_align/hCoV_19USACA42020_EPI_ISL_408009_2020_01_29.protein.fasta\n"
     ]
    },
    {
     "name": "stderr",
     "output_type": "stream",
     "text": [
      "\r",
      " 76%|███████▋  | 13/17 [31:10<09:00, 135.16s/it]"
     ]
    },
    {
     "name": "stdout",
     "output_type": "stream",
     "text": [
      "s all proteins [SeqRecord(seq=Seq('MFVFLVLLPLVSSQCVNLTTRTQLPPAYTNSFTRGVYYPDKVFRSSVLHSTQDL...HYT'), id='hCoV_19JiangsuJS012020_EPI_ISL_411950_2020_01_23', name='<unknown name>', description='<unknown description>', dbxrefs=[])]\n",
      "to save /data2/isshamie/covid/data/processed/seqs/S_protein_align/hCoV_19JiangsuJS012020_EPI_ISL_411950_2020_01_23.protein.fasta\n"
     ]
    },
    {
     "name": "stderr",
     "output_type": "stream",
     "text": [
      "\r",
      " 65%|██████▍   | 11/17 [31:13<16:16, 162.69s/it]"
     ]
    },
    {
     "name": "stdout",
     "output_type": "stream",
     "text": [
      "s all proteins [SeqRecord(seq=Seq('MFVFLVLLPLVSSQCVNLTTRTQLPPAYTNSFTRGVYYPDKVFRSSVLHSTQDL...HYT'), id='hCoV_19NetherlandsRotterdam_13637902020_EPI_ISL_413582_2020_03_01', name='<unknown name>', description='<unknown description>', dbxrefs=[])]\n",
      "to save /data2/isshamie/covid/data/processed/seqs/S_protein_align/hCoV_19NetherlandsRotterdam_13637902020_EPI_ISL_413582_2020_03_01.protein.fasta\n"
     ]
    },
    {
     "name": "stderr",
     "output_type": "stream",
     "text": [
      "\r",
      " 65%|██████▍   | 11/17 [31:13<16:00, 160.10s/it]"
     ]
    },
    {
     "name": "stdout",
     "output_type": "stream",
     "text": [
      "s all proteins [SeqRecord(seq=Seq('MFVFLVLLPLVSSQCVNLTTRTQLPPAYTNSFTRGVYYPDKVFRSSVLHSTQDL...HYT'), id='hCoV_19AnhuiSZ0052020_EPI_ISL_413485_2020_01_24', name='<unknown name>', description='<unknown description>', dbxrefs=[])]\n",
      "to save /data2/isshamie/covid/data/processed/seqs/S_protein_align/hCoV_19AnhuiSZ0052020_EPI_ISL_413485_2020_01_24.protein.fasta\n"
     ]
    },
    {
     "name": "stderr",
     "output_type": "stream",
     "text": [
      "\r",
      " 65%|██████▍   | 11/17 [31:14<16:15, 162.62s/it]"
     ]
    },
    {
     "name": "stdout",
     "output_type": "stream",
     "text": [
      "s all proteins [SeqRecord(seq=Seq('MFVFLVLLPLVSSQCVNLTTRTQLPPAYTNSFTRGVYYPDKVFRSSVLHSTQDL...HYT'), id='hCoV_19Beijing2312020_EPI_ISL_413519_2020_01_28', name='<unknown name>', description='<unknown description>', dbxrefs=[])]\n",
      "to save /data2/isshamie/covid/data/processed/seqs/S_protein_align/hCoV_19Beijing2312020_EPI_ISL_413519_2020_01_28.protein.fasta\n"
     ]
    },
    {
     "name": "stderr",
     "output_type": "stream",
     "text": [
      "\r",
      " 65%|██████▍   | 11/17 [31:18<16:25, 164.23s/it]"
     ]
    },
    {
     "name": "stdout",
     "output_type": "stream",
     "text": [
      "s all proteins [SeqRecord(seq=Seq('MFVFLVLLPLVSSQCVNLTTRTQLPPAYTNSFTRGVYYPDKVFRSSVLHSTQDL...HYT'), id='hCoV_19ChinaWF00152020_EPI_ISL_413729_2020_02', name='<unknown name>', description='<unknown description>', dbxrefs=[])]\n",
      "to save /data2/isshamie/covid/data/processed/seqs/S_protein_align/hCoV_19ChinaWF00152020_EPI_ISL_413729_2020_02.protein.fasta\n"
     ]
    },
    {
     "name": "stderr",
     "output_type": "stream",
     "text": [
      "\r",
      " 65%|██████▍   | 11/17 [31:27<16:08, 161.34s/it]"
     ]
    },
    {
     "name": "stdout",
     "output_type": "stream",
     "text": [
      "s all proteins [SeqRecord(seq=Seq('MFVFLVLLPLVSSQCVNLTTRTQLPPAYTNSFTRGVYYPDKVFRSSVLHSTQDL...HYT'), id='hCoV_19WuhanIPBCAMS_WH_012019_EPI_ISL_402123_2019_12_24', name='<unknown name>', description='<unknown description>', dbxrefs=[])]\n",
      "to save /data2/isshamie/covid/data/processed/seqs/S_protein_align/hCoV_19WuhanIPBCAMS_WH_012019_EPI_ISL_402123_2019_12_24.protein.fasta\n"
     ]
    },
    {
     "name": "stderr",
     "output_type": "stream",
     "text": [
      "\r",
      " 65%|██████▍   | 11/17 [31:32<16:43, 167.18s/it]"
     ]
    },
    {
     "name": "stdout",
     "output_type": "stream",
     "text": [
      "s all proteins [SeqRecord(seq=Seq('MFVFLVLLPLVSSQCVNLTTRTQLPPAYTNSFTRGVYYPDKVFRSSVLHSTQDL...HYT'), id='hCoV_19PortugalCV632020_EPI_ISL_413648_2020_03_01', name='<unknown name>', description='<unknown description>', dbxrefs=[])]\n",
      "to save /data2/isshamie/covid/data/processed/seqs/S_protein_align/hCoV_19PortugalCV632020_EPI_ISL_413648_2020_03_01.protein.fasta\n"
     ]
    },
    {
     "name": "stderr",
     "output_type": "stream",
     "text": [
      "\r",
      " 65%|██████▍   | 11/17 [31:38<16:01, 160.29s/it]"
     ]
    },
    {
     "name": "stdout",
     "output_type": "stream",
     "text": [
      "s all proteins [SeqRecord(seq=Seq('MFVFLVLLPLVSSQCVNLTTRTQLPPAYTNSFTRGVYYPDKVFRSSVLHSTQDL...HYT'), id='hCoV_19WuhanIPBCAMS_WH_022019_EPI_ISL_403931_2019_12_30', name='<unknown name>', description='<unknown description>', dbxrefs=[])]\n",
      "to save /data2/isshamie/covid/data/processed/seqs/S_protein_align/hCoV_19WuhanIPBCAMS_WH_022019_EPI_ISL_403931_2019_12_30.protein.fasta\n"
     ]
    },
    {
     "name": "stderr",
     "output_type": "stream",
     "text": [
      "\r",
      " 76%|███████▋  | 13/17 [31:40<09:25, 141.50s/it]"
     ]
    },
    {
     "name": "stdout",
     "output_type": "stream",
     "text": [
      "s all proteins [SeqRecord(seq=Seq('MFVFLVLLPLVSSQCVNLTTRTQLPPXYTNSFTRGVYYPDKVFRSSVLHSTQDL...HYT'), id='hCoV_19England2009600412020_EPI_ISL_414008_2020_02_27', name='<unknown name>', description='<unknown description>', dbxrefs=[])]\n",
      "to save /data2/isshamie/covid/data/processed/seqs/S_protein_align/hCoV_19England2009600412020_EPI_ISL_414008_2020_02_27.protein.fasta\n"
     ]
    },
    {
     "name": "stderr",
     "output_type": "stream",
     "text": [
      "\r",
      " 65%|██████▍   | 11/17 [31:42<15:56, 159.45s/it]"
     ]
    },
    {
     "name": "stdout",
     "output_type": "stream",
     "text": [
      "s all proteins [SeqRecord(seq=Seq('MFVFLVLLPLVSSQCVNLTTRTQLPPAYTNSFTRGVYYPDKVFRSSVLHSTQDL...HYT'), id='hCoV_19NetherlandsNoordBrabant_112020_EPI_ISL_414432_2020_03_02', name='<unknown name>', description='<unknown description>', dbxrefs=[])]\n",
      "to save /data2/isshamie/covid/data/processed/seqs/S_protein_align/hCoV_19NetherlandsNoordBrabant_112020_EPI_ISL_414432_2020_03_02.protein.fasta\n"
     ]
    },
    {
     "name": "stderr",
     "output_type": "stream",
     "text": [
      "\r",
      " 65%|██████▍   | 11/17 [31:50<16:12, 162.14s/it]"
     ]
    },
    {
     "name": "stdout",
     "output_type": "stream",
     "text": [
      "s all proteins [SeqRecord(seq=Seq('MFVFLVLLPLVSSQCVNLTTRTQLPPAYTNSFTRGVYYPDKVFRSSVLHSTQDL...HYT'), id='hCoV_19USAMN3_MDH32020_EPI_ISL_414590_2020_03_09', name='<unknown name>', description='<unknown description>', dbxrefs=[])]\n",
      "to save /data2/isshamie/covid/data/processed/seqs/S_protein_align/hCoV_19USAMN3_MDH32020_EPI_ISL_414590_2020_03_09.protein.fasta\n"
     ]
    },
    {
     "name": "stderr",
     "output_type": "stream",
     "text": [
      "\r",
      " 65%|██████▍   | 11/17 [31:50<16:11, 161.88s/it]"
     ]
    },
    {
     "name": "stdout",
     "output_type": "stream",
     "text": [
      "s all proteins [SeqRecord(seq=Seq('MFVFLVLLPLVSSQCVNLTTRTQLPPAYTNSFTRGVYYPDKVFRSSVLHSTQDL...HYT'), id='hCoV_19USAWA_UW342020_EPI_ISL_414621_2020_03_08', name='<unknown name>', description='<unknown description>', dbxrefs=[])]\n",
      "to save /data2/isshamie/covid/data/processed/seqs/S_protein_align/hCoV_19USAWA_UW342020_EPI_ISL_414621_2020_03_08.protein.fasta\n"
     ]
    },
    {
     "name": "stderr",
     "output_type": "stream",
     "text": [
      "\r",
      " 41%|████      | 7/17 [31:55<39:38, 237.84s/it]"
     ]
    },
    {
     "name": "stdout",
     "output_type": "stream",
     "text": [
      "s all proteins [SeqRecord(seq=Seq('MFVFLVLLPLVSSQCVNLTTRTQLPPAYTNSFTRGVYYPDKVFRSSVLHSTQDL...SPS'), id='hCoV_19NetherlandsUtrecht_142020_EPI_ISL_414553_2020_03_09', name='<unknown name>', description='<unknown description>', dbxrefs=[])]\n",
      "to save /data2/isshamie/covid/data/processed/seqs/S_protein_align/hCoV_19NetherlandsUtrecht_142020_EPI_ISL_414553_2020_03_09.protein.fasta\n"
     ]
    },
    {
     "name": "stderr",
     "output_type": "stream",
     "text": [
      "\r",
      " 65%|██████▍   | 11/17 [32:09<16:23, 163.86s/it]"
     ]
    },
    {
     "name": "stdout",
     "output_type": "stream",
     "text": [
      "s all proteins [SeqRecord(seq=Seq('MFVFLVLLPLVSSQCVNLTTRTQLPPAYTNSFTRGVYYPDKVFRSSVLHSTQDL...HYT'), id='hCoV_19USAWA_UW152020_EPI_ISL_414363_2020_03_04', name='<unknown name>', description='<unknown description>', dbxrefs=[])]\n",
      "to save /data2/isshamie/covid/data/processed/seqs/S_protein_align/hCoV_19USAWA_UW152020_EPI_ISL_414363_2020_03_04.protein.fasta\n"
     ]
    },
    {
     "name": "stderr",
     "output_type": "stream",
     "text": [
      "\r",
      " 65%|██████▍   | 11/17 [32:30<16:32, 165.37s/it]"
     ]
    },
    {
     "name": "stdout",
     "output_type": "stream",
     "text": [
      "s all proteins [SeqRecord(seq=Seq('MFVFLVLLPLVSSQCVNLTTRTQLPPAYTNSFTRGVYYPDKVFRSSVLHSTQDL...HYT'), id='hCoV_19TianmenHBCDC_HB_072020_EPI_ISL_412983_2020_02_08', name='<unknown name>', description='<unknown description>', dbxrefs=[])]\n",
      "to save /data2/isshamie/covid/data/processed/seqs/S_protein_align/hCoV_19TianmenHBCDC_HB_072020_EPI_ISL_412983_2020_02_08.protein.fasta\n"
     ]
    },
    {
     "name": "stderr",
     "output_type": "stream",
     "text": [
      "\r",
      " 76%|███████▋  | 13/17 [32:35<08:50, 132.68s/it]"
     ]
    },
    {
     "name": "stdout",
     "output_type": "stream",
     "text": [
      "s all proteins [SeqRecord(seq=Seq('MFVFLVLLPLVSSQCVNLTTRTQLPPAYTNSFTRGVYYPDKVFRSSVLHSTQDL...HYT'), id='hCoV_19GuangdongGD2020080_P00102020_EPI_ISL_413861_2020_02_01', name='<unknown name>', description='<unknown description>', dbxrefs=[])]\n",
      "to save /data2/isshamie/covid/data/processed/seqs/S_protein_align/hCoV_19GuangdongGD2020080_P00102020_EPI_ISL_413861_2020_02_01.protein.fasta\n"
     ]
    },
    {
     "name": "stderr",
     "output_type": "stream",
     "text": [
      "\r",
      " 53%|█████▎    | 9/17 [32:40<23:06, 173.25s/it]"
     ]
    },
    {
     "name": "stdout",
     "output_type": "stream",
     "text": [
      "s all proteins [SeqRecord(seq=Seq('MFVFLVLLPLVSSQCVNLTTRTQLPPAYTNSFTRGVYYPDKVFRSSVLHSTQDL...HYT'), id='hCoV_19ShenzhenSZTH_0032020_EPI_ISL_406594_2020_01_16', name='<unknown name>', description='<unknown description>', dbxrefs=[])]\n",
      "to save /data2/isshamie/covid/data/processed/seqs/S_protein_align/hCoV_19ShenzhenSZTH_0032020_EPI_ISL_406594_2020_01_16.protein.fasta\n"
     ]
    },
    {
     "name": "stderr",
     "output_type": "stream",
     "text": [
      "\r",
      " 76%|███████▋  | 13/17 [32:41<09:03, 135.76s/it]"
     ]
    },
    {
     "name": "stdout",
     "output_type": "stream",
     "text": [
      "s all proteins [SeqRecord(seq=Seq('MFVFLVLLPLVSSQCVNLTTRTQLPPAYTNSFTRGVYYPDKVFRSSVLHSTQDL...HYT'), id='hCoV_19Singapore42020_EPI_ISL_410535_2020_02_03', name='<unknown name>', description='<unknown description>', dbxrefs=[])]\n",
      "to save /data2/isshamie/covid/data/processed/seqs/S_protein_align/hCoV_19Singapore42020_EPI_ISL_410535_2020_02_03.protein.fasta\n"
     ]
    },
    {
     "name": "stderr",
     "output_type": "stream",
     "text": [
      "\r",
      " 76%|███████▋  | 13/17 [32:43<08:46, 131.66s/it]"
     ]
    },
    {
     "name": "stdout",
     "output_type": "stream",
     "text": [
      "s all proteins [SeqRecord(seq=Seq('MFVFLVLLPLVSSQCVNLTTRTQLPPAYTNSFTRGVYYPDKVFRSSVLHSTQDL...HYT'), id='hCoV_19USAWA4_UW22020_EPI_ISL_413455_2020_02_28', name='<unknown name>', description='<unknown description>', dbxrefs=[])]\n",
      "to save /data2/isshamie/covid/data/processed/seqs/S_protein_align/hCoV_19USAWA4_UW22020_EPI_ISL_413455_2020_02_28.protein.fasta\n"
     ]
    },
    {
     "name": "stderr",
     "output_type": "stream",
     "text": [
      "\r",
      " 76%|███████▋  | 13/17 [32:53<08:48, 132.23s/it]"
     ]
    },
    {
     "name": "stdout",
     "output_type": "stream",
     "text": [
      "s all proteins [SeqRecord(seq=Seq('MFVFLVLLPLVSSQCVNLTTRTQLPPAYTNSFTRGVYYPDKVFRSSVLHSTQDL...HYT'), id='hCoV_19USACruiseA_52020_EPI_ISL_413610_2020_02_21', name='<unknown name>', description='<unknown description>', dbxrefs=[])]\n",
      "to save /data2/isshamie/covid/data/processed/seqs/S_protein_align/hCoV_19USACruiseA_52020_EPI_ISL_413610_2020_02_21.protein.fasta\n"
     ]
    },
    {
     "name": "stderr",
     "output_type": "stream",
     "text": [
      "\r",
      " 76%|███████▋  | 13/17 [32:55<09:00, 135.15s/it]"
     ]
    },
    {
     "name": "stdout",
     "output_type": "stream",
     "text": [
      "s all proteins [SeqRecord(seq=Seq('MFVFLVLLPLVSSQCVNLTTRTQLPPAYTNSFTRGVYYPDKVFRSSVLHSTQDL...HYT'), id='hCoV_19AustraliaQLD032020_EPI_ISL_410717_2020_02_05', name='<unknown name>', description='<unknown description>', dbxrefs=[])]\n",
      "to save /data2/isshamie/covid/data/processed/seqs/S_protein_align/hCoV_19AustraliaQLD032020_EPI_ISL_410717_2020_02_05.protein.fasta\n"
     ]
    },
    {
     "name": "stderr",
     "output_type": "stream",
     "text": [
      "\r",
      " 29%|██▉       | 5/17 [32:59<1:14:26, 372.23s/it]"
     ]
    },
    {
     "name": "stdout",
     "output_type": "stream",
     "text": [
      "s all proteins [SeqRecord(seq=Seq('MFVFLVLLPLVSSQCVNLTTRTQLPPAYTNSFTRGVYYPDKVFRSSVLHSTQDL...HYT'), id='hCoV_19USACA32020_EPI_ISL_408008_2020_01_29', name='<unknown name>', description='<unknown description>', dbxrefs=[])]\n",
      "to save /data2/isshamie/covid/data/processed/seqs/S_protein_align/hCoV_19USACA32020_EPI_ISL_408008_2020_01_29.protein.fasta\n"
     ]
    },
    {
     "name": "stderr",
     "output_type": "stream",
     "text": [
      "\r",
      " 82%|████████▏ | 14/17 [33:03<06:25, 128.47s/it]"
     ]
    },
    {
     "name": "stdout",
     "output_type": "stream",
     "text": [
      "s all proteins [SeqRecord(seq=Seq('MFVFLVLLPLVSSQCVNLTTRTQLPPAYTNSFTRGVYYPDKVFRSSVLHSTQDL...HYT'), id='hCoV_19NetherlandsAndel_13650662020_EPI_ISL_413564_2020_03_01', name='<unknown name>', description='<unknown description>', dbxrefs=[])]\n",
      "to save /data2/isshamie/covid/data/processed/seqs/S_protein_align/hCoV_19NetherlandsAndel_13650662020_EPI_ISL_413564_2020_03_01.protein.fasta\n"
     ]
    },
    {
     "name": "stderr",
     "output_type": "stream",
     "text": [
      "\r",
      " 71%|███████   | 12/17 [33:06<13:28, 161.70s/it]"
     ]
    },
    {
     "name": "stdout",
     "output_type": "stream",
     "text": [
      "s all proteins [SeqRecord(seq=Seq('MFVFLVLLPLVSSQCVNLTTRTQLPPAYTNSFTRGVYYPDKVFRSSVLHSTQDL...HYT'), id='hCoV_19ZhejiangWZ_022020_EPI_ISL_404228_2020_01_17', name='<unknown name>', description='<unknown description>', dbxrefs=[])]\n",
      "to save /data2/isshamie/covid/data/processed/seqs/S_protein_align/hCoV_19ZhejiangWZ_022020_EPI_ISL_404228_2020_01_17.protein.fasta\n"
     ]
    },
    {
     "name": "stderr",
     "output_type": "stream",
     "text": [
      "\r",
      " 71%|███████   | 12/17 [33:06<12:47, 153.58s/it]"
     ]
    },
    {
     "name": "stdout",
     "output_type": "stream",
     "text": [
      "s all proteins [SeqRecord(seq=Seq('MFVFLVLLPLVSSQCVNLTTRTQLPPAYTNSFTRGVYYPDKVFRSSVLHSTQDL...HYT'), id='hCoV_19New', name='<unknown name>', description='<unknown description>', dbxrefs=[])]\n",
      "to save /data2/isshamie/covid/data/processed/seqs/S_protein_align/hCoV_19New.protein.fasta\n"
     ]
    },
    {
     "name": "stderr",
     "output_type": "stream",
     "text": [
      "\r",
      " 71%|███████   | 12/17 [33:11<12:24, 148.87s/it]"
     ]
    },
    {
     "name": "stdout",
     "output_type": "stream",
     "text": [
      "s all proteins [SeqRecord(seq=Seq('MFVFLVLLPLVSSQCVNLTTRTQLPPAYTNSFTRGVYYPDKVFRSSVLHSTQDL...HYT'), id='hCoV_19England2010400812020_EPI_ISL_414525_2020_03_02', name='<unknown name>', description='<unknown description>', dbxrefs=[])]\n",
      "to save /data2/isshamie/covid/data/processed/seqs/S_protein_align/hCoV_19England2010400812020_EPI_ISL_414525_2020_03_02.protein.fasta\n"
     ]
    },
    {
     "name": "stderr",
     "output_type": "stream",
     "text": [
      "\r",
      " 71%|███████   | 12/17 [33:11<13:34, 162.87s/it]"
     ]
    },
    {
     "name": "stdout",
     "output_type": "stream",
     "text": [
      "s all proteins [SeqRecord(seq=Seq('MFVFLVLLPLVSSQCVNLTTRTQLPPAYTNSFTRGVYYPDKVFRSSVLHSTQDL...HYT'), id='hCoV_19WuhanHBCDC_HB_032019_EPI_ISL_412899_2019_12_30', name='<unknown name>', description='<unknown description>', dbxrefs=[])]\n",
      "to save /data2/isshamie/covid/data/processed/seqs/S_protein_align/hCoV_19WuhanHBCDC_HB_032019_EPI_ISL_412899_2019_12_30.protein.fasta\n"
     ]
    },
    {
     "name": "stderr",
     "output_type": "stream",
     "text": [
      "\r",
      " 65%|██████▍   | 11/17 [33:19<17:16, 172.79s/it]"
     ]
    },
    {
     "name": "stdout",
     "output_type": "stream",
     "text": [
      "s all proteins [SeqRecord(seq=Seq('MFVFLVLLPLVSSQCVNLTTRTQLPPAYTNSFTRGVYYPDKVFRSSVLHSTQDL...HYT'), id='hCoV_19USAWA_UW282020_EPI_ISL_414597_2020_03_04', name='<unknown name>', description='<unknown description>', dbxrefs=[])]\n",
      "to save /data2/isshamie/covid/data/processed/seqs/S_protein_align/hCoV_19USAWA_UW282020_EPI_ISL_414597_2020_03_04.protein.fasta\n"
     ]
    },
    {
     "name": "stderr",
     "output_type": "stream",
     "text": [
      "\r",
      " 65%|██████▍   | 11/17 [33:22<16:34, 165.83s/it]"
     ]
    },
    {
     "name": "stdout",
     "output_type": "stream",
     "text": [
      "s all proteins [SeqRecord(seq=Seq('MFVFLVLLPLVSSQCVNLTTRTQLPPAYTNSFTRGVYYPDKVFRSSVLHSTQDL...HYT'), id='hCoV_19NetherlandsRotterdam_13640402020_EPI_ISL_413583_2020_03_02', name='<unknown name>', description='<unknown description>', dbxrefs=[])]\n",
      "to save /data2/isshamie/covid/data/processed/seqs/S_protein_align/hCoV_19NetherlandsRotterdam_13640402020_EPI_ISL_413583_2020_03_02.protein.fasta\n"
     ]
    },
    {
     "name": "stderr",
     "output_type": "stream",
     "text": [
      "\r",
      " 71%|███████   | 12/17 [33:27<12:40, 152.13s/it]"
     ]
    },
    {
     "name": "stdout",
     "output_type": "stream",
     "text": [
      "s all proteins [SeqRecord(seq=Seq('MFVFLVLLPLVSSQCVNLTTRTQLPPAYTNSFTRGVYYPDKVFRSSVLHSTQDL...HYT'), id='hCoV_19JiangsuJS032020_EPI_ISL_411953_2020_01_24', name='<unknown name>', description='<unknown description>', dbxrefs=[])]\n",
      "to save /data2/isshamie/covid/data/processed/seqs/S_protein_align/hCoV_19JiangsuJS032020_EPI_ISL_411953_2020_01_24.protein.fasta\n"
     ]
    },
    {
     "name": "stderr",
     "output_type": "stream",
     "text": [
      "\r",
      " 71%|███████   | 12/17 [33:28<12:51, 154.20s/it]"
     ]
    },
    {
     "name": "stdout",
     "output_type": "stream",
     "text": [
      "s all proteins [SeqRecord(seq=Seq('MFVFLVLLPLVSSQCVNLTTRTQLPPAYTNSFTRGVYYPDKVFRSSVLHSTQDL...HYT'), id='hCoV_19WuhanIPBCAMS_WH_042019_EPI_ISL_403929_2019_12_30', name='<unknown name>', description='<unknown description>', dbxrefs=[])]\n",
      "to save /data2/isshamie/covid/data/processed/seqs/S_protein_align/hCoV_19WuhanIPBCAMS_WH_042019_EPI_ISL_403929_2019_12_30.protein.fasta\n"
     ]
    },
    {
     "name": "stderr",
     "output_type": "stream",
     "text": [
      "\r",
      " 82%|████████▏ | 14/17 [33:29<06:34, 131.58s/it]"
     ]
    },
    {
     "name": "stdout",
     "output_type": "stream",
     "text": [
      "s all proteins [SeqRecord(seq=Seq('MFVFLVLLPLVSSQCVNLTTRTQLPPAYTNSFTRGVYYPDKVFRSSVLHSTQDL...HYT'), id='hCoV_19Beijing1052020_EPI_ISL_413518_2020_01_26', name='<unknown name>', description='<unknown description>', dbxrefs=[])]\n",
      "to save /data2/isshamie/covid/data/processed/seqs/S_protein_align/hCoV_19Beijing1052020_EPI_ISL_413518_2020_01_26.protein.fasta\n"
     ]
    },
    {
     "name": "stderr",
     "output_type": "stream",
     "text": [
      "\r",
      " 71%|███████   | 12/17 [33:29<12:52, 154.46s/it]"
     ]
    },
    {
     "name": "stdout",
     "output_type": "stream",
     "text": [
      "s all proteins [SeqRecord(seq=Seq('MFVFLVLLPLVSSQCVNLTTRTQLPPAYTNSFTRGVYYPDKVFRSSVLHSTQDL...HYT'), id='hCoV_19ChinaWF00182020_EPI_ISL_413748_2020_02', name='<unknown name>', description='<unknown description>', dbxrefs=[])]\n",
      "to save /data2/isshamie/covid/data/processed/seqs/S_protein_align/hCoV_19ChinaWF00182020_EPI_ISL_413748_2020_02.protein.fasta\n"
     ]
    },
    {
     "name": "stderr",
     "output_type": "stream",
     "text": [
      "\r",
      " 71%|███████   | 12/17 [33:33<12:34, 150.88s/it]"
     ]
    },
    {
     "name": "stdout",
     "output_type": "stream",
     "text": [
      "s all proteins [SeqRecord(seq=Seq('MFVFLVLLPLVSSQCVNLTTRTQLPPAYTNSFTRGVYYPDKVFRSSVLHSTQDL...HYT'), id='hCoV_19WuhanIVDC_HB_042020_EPI_ISL_402120_2020_01_01', name='<unknown name>', description='<unknown description>', dbxrefs=[])]\n",
      "to save /data2/isshamie/covid/data/processed/seqs/S_protein_align/hCoV_19WuhanIVDC_HB_042020_EPI_ISL_402120_2020_01_01.protein.fasta\n"
     ]
    },
    {
     "name": "stderr",
     "output_type": "stream",
     "text": [
      "\r",
      " 71%|███████   | 12/17 [33:43<13:00, 156.19s/it]"
     ]
    },
    {
     "name": "stdout",
     "output_type": "stream",
     "text": [
      "s all proteins [SeqRecord(seq=Seq('MFVFLVLLPLVSSQCVNLTTRTQLPPAYTNSFTRGVYYPDKVFRSSVLHSTQDL...HYT'), id='hCoV_19England2009605152020_EPI_ISL_414009_2020_02_25', name='<unknown name>', description='<unknown description>', dbxrefs=[])]\n",
      "to save /data2/isshamie/covid/data/processed/seqs/S_protein_align/hCoV_19England2009605152020_EPI_ISL_414009_2020_02_25.protein.fasta\n"
     ]
    },
    {
     "name": "stderr",
     "output_type": "stream",
     "text": [
      "\r",
      " 71%|███████   | 12/17 [33:45<12:23, 148.67s/it]"
     ]
    },
    {
     "name": "stdout",
     "output_type": "stream",
     "text": [
      "s all proteins [SeqRecord(seq=Seq('MFVFLVLLPLVSSQCVNLTTRTQLPPAYTNSFTRGVYYPDKVFRSSVLHSTQDL...HYT'), id='hCoV_19PortugalCV622020_EPI_ISL_413647_2020_03_01', name='<unknown name>', description='<unknown description>', dbxrefs=[])]\n",
      "to save /data2/isshamie/covid/data/processed/seqs/S_protein_align/hCoV_19PortugalCV622020_EPI_ISL_413647_2020_03_01.protein.fasta\n"
     ]
    },
    {
     "name": "stderr",
     "output_type": "stream",
     "text": [
      "\r",
      " 71%|███████   | 12/17 [33:46<12:32, 150.54s/it]"
     ]
    },
    {
     "name": "stdout",
     "output_type": "stream",
     "text": [
      "s all proteins [SeqRecord(seq=Seq('MFVFLVLLPLVSSQCVNLTTRTQLPPAYTNSFTRGVYYPDKVFRSSVLHSTQDL...HYT'), id='hCoV_19NetherlandsNoordBrabant_52020_EPI_ISL_414430_2020_03_05', name='<unknown name>', description='<unknown description>', dbxrefs=[])]\n",
      "to save /data2/isshamie/covid/data/processed/seqs/S_protein_align/hCoV_19NetherlandsNoordBrabant_52020_EPI_ISL_414430_2020_03_05.protein.fasta\n"
     ]
    },
    {
     "name": "stderr",
     "output_type": "stream",
     "text": [
      "\r",
      " 71%|███████   | 12/17 [33:55<12:35, 151.12s/it]"
     ]
    },
    {
     "name": "stdout",
     "output_type": "stream",
     "text": [
      "s all proteins [SeqRecord(seq=Seq('MFVFLVLLPLVSSQCVNLTTRTQLPPAYTNSFTRGVYYPDKVFRSSVLHSTQDL...HYT'), id='hCoV_19USAWA_UW352020_EPI_ISL_414622_2020_03_08', name='<unknown name>', description='<unknown description>', dbxrefs=[])]\n",
      "to save /data2/isshamie/covid/data/processed/seqs/S_protein_align/hCoV_19USAWA_UW352020_EPI_ISL_414622_2020_03_08.protein.fasta\n"
     ]
    },
    {
     "name": "stderr",
     "output_type": "stream",
     "text": [
      "\r",
      " 47%|████▋     | 8/17 [34:00<30:35, 203.89s/it]"
     ]
    },
    {
     "name": "stdout",
     "output_type": "stream",
     "text": [
      "s all proteins [SeqRecord(seq=Seq('MFVFLVLLPLVSSQCVNLTTRTQLPPAYTNSFTRGVYYPDKVFRSSVLHSTQDL...CCC'), id='hCoV_19IrelandLimerick_199332020_EPI_ISL_414585_2020_03_03', name='<unknown name>', description='<unknown description>', dbxrefs=[])]\n",
      "to save /data2/isshamie/covid/data/processed/seqs/S_protein_align/hCoV_19IrelandLimerick_199332020_EPI_ISL_414585_2020_03_03.protein.fasta\n"
     ]
    },
    {
     "name": "stderr",
     "output_type": "stream",
     "text": [
      "\r",
      " 71%|███████   | 12/17 [34:07<12:51, 154.37s/it]"
     ]
    },
    {
     "name": "stdout",
     "output_type": "stream",
     "text": [
      "s all proteins [SeqRecord(seq=Seq('MFVFLVLLPLVSSQCVNLTTRTQLPPAYTNSFTRGVYYPDKVFRSSVLHSTQDL...HYT'), id='hCoV_19NetherlandsUtrecht_152020_EPI_ISL_414554_2020_03_08', name='<unknown name>', description='<unknown description>', dbxrefs=[])]\n",
      "to save /data2/isshamie/covid/data/processed/seqs/S_protein_align/hCoV_19NetherlandsUtrecht_152020_EPI_ISL_414554_2020_03_08.protein.fasta\n"
     ]
    },
    {
     "name": "stderr",
     "output_type": "stream",
     "text": [
      "\r",
      " 71%|███████   | 12/17 [34:10<12:35, 151.09s/it]"
     ]
    },
    {
     "name": "stdout",
     "output_type": "stream",
     "text": [
      "s all proteins [SeqRecord(seq=Seq('MFVFLVLLPLVSSQCVNLTTRTQLPPAYTNSFTRGVYYPDKVFRSSVLHSTQDL...HYT'), id='hCoV_19CanadaON_PHL24452020_EPI_ISL_413014_2020_01_25', name='<unknown name>', description='<unknown description>', dbxrefs=[])]\n",
      "to save /data2/isshamie/covid/data/processed/seqs/S_protein_align/hCoV_19CanadaON_PHL24452020_EPI_ISL_413014_2020_01_25.protein.fasta\n"
     ]
    },
    {
     "name": "stderr",
     "output_type": "stream",
     "text": [
      "\r",
      " 82%|████████▏ | 14/17 [34:22<06:14, 124.88s/it]"
     ]
    },
    {
     "name": "stdout",
     "output_type": "stream",
     "text": [
      "s all proteins [SeqRecord(seq=Seq('MFVFLVLLPLVSSQCVNLTTRTQLPPAYTNSFTRGVYYPDKVFRSSVLHSTQDL...HYT'), id='hCoV_19USAWA_UW212020_EPI_ISL_414369_2020_03_05', name='<unknown name>', description='<unknown description>', dbxrefs=[])]\n",
      "to save /data2/isshamie/covid/data/processed/seqs/S_protein_align/hCoV_19USAWA_UW212020_EPI_ISL_414369_2020_03_05.protein.fasta\n"
     ]
    },
    {
     "name": "stderr",
     "output_type": "stream",
     "text": [
      "\r",
      " 71%|███████   | 12/17 [34:28<12:35, 151.01s/it]"
     ]
    },
    {
     "name": "stdout",
     "output_type": "stream",
     "text": [
      "s all proteins [SeqRecord(seq=Seq('MFVFLVLLPLVSSQCVNLTTRTQLPPAYTNSFTRGVYYPDKVFRSSVLHSTQDL...HYT'), id='hCoV_19Guangdong2020XN4273_P00362020_EPI_ISL_413860_2020_01_30', name='<unknown name>', description='<unknown description>', dbxrefs=[])]\n",
      "to save /data2/isshamie/covid/data/processed/seqs/S_protein_align/hCoV_19Guangdong2020XN4273_P00362020_EPI_ISL_413860_2020_01_30.protein.fasta\n"
     ]
    },
    {
     "name": "stderr",
     "output_type": "stream",
     "text": [
      "\r",
      " 59%|█████▉    | 10/17 [34:34<18:07, 155.39s/it]"
     ]
    },
    {
     "name": "stdout",
     "output_type": "stream",
     "text": [
      "s all proteins [SeqRecord(seq=Seq('MFVFLVLLPLVSSQCVNLTTRTQLPPAYTNSFTRGVYYPDKVFRSSVLHSTQDL...HYT'), id='hCoV_19FranceIDF03732020_EPI_ISL_406597_2020_01_23', name='<unknown name>', description='<unknown description>', dbxrefs=[])]\n",
      "to save /data2/isshamie/covid/data/processed/seqs/S_protein_align/hCoV_19FranceIDF03732020_EPI_ISL_406597_2020_01_23.protein.fasta\n"
     ]
    },
    {
     "name": "stderr",
     "output_type": "stream",
     "text": [
      "\r",
      " 82%|████████▏ | 14/17 [34:35<06:27, 129.10s/it]"
     ]
    },
    {
     "name": "stdout",
     "output_type": "stream",
     "text": [
      "s all proteins [SeqRecord(seq=Seq('MFVFLVLLPLVSSQCVNLTTRTQLPPAYTNSFTRGVYYPDKVFRSSVLHSTQDL...HYT'), id='hCoV_19Singapore62020_EPI_ISL_410537_2020_02_09', name='<unknown name>', description='<unknown description>', dbxrefs=[])]\n",
      "to save /data2/isshamie/covid/data/processed/seqs/S_protein_align/hCoV_19Singapore62020_EPI_ISL_410537_2020_02_09.protein.fasta\n"
     ]
    },
    {
     "name": "stderr",
     "output_type": "stream",
     "text": [
      "\r",
      " 82%|████████▏ | 14/17 [34:39<06:20, 126.83s/it]"
     ]
    },
    {
     "name": "stdout",
     "output_type": "stream",
     "text": [
      "s all proteins [SeqRecord(seq=Seq('MFVFLVLLPLVSSQCVNLTTRTQLPPAYTNSFTRGVYYPDKVFRSSVLHSTQDL...HYT'), id='hCoV_19USAWA3_UW12020_EPI_ISL_413025_2020_02_27', name='<unknown name>', description='<unknown description>', dbxrefs=[])]\n",
      "to save /data2/isshamie/covid/data/processed/seqs/S_protein_align/hCoV_19USAWA3_UW12020_EPI_ISL_413025_2020_02_27.protein.fasta\n"
     ]
    },
    {
     "name": "stderr",
     "output_type": "stream",
     "text": [
      "\r",
      " 82%|████████▏ | 14/17 [34:45<06:18, 126.17s/it]"
     ]
    },
    {
     "name": "stdout",
     "output_type": "stream",
     "text": [
      "s all proteins [SeqRecord(seq=Seq('MFVFLVLLPLVSSQCVNLTTRTQLPPAYTNSFTRGVYYPDKVFRSSVLHSTQDL...HYT'), id='hCoV_19USACruiseA_62020_EPI_ISL_413611_2020_02_21', name='<unknown name>', description='<unknown description>', dbxrefs=[])]\n",
      "to save /data2/isshamie/covid/data/processed/seqs/S_protein_align/hCoV_19USACruiseA_62020_EPI_ISL_413611_2020_02_21.protein.fasta\n"
     ]
    },
    {
     "name": "stderr",
     "output_type": "stream",
     "text": [
      "\r",
      " 82%|████████▏ | 14/17 [34:49<06:26, 128.88s/it]"
     ]
    },
    {
     "name": "stdout",
     "output_type": "stream",
     "text": [
      "s all proteins [SeqRecord(seq=Seq('MFVFLVLLPLVSSQCVNLTTRTQLPPAYTNSFTRGVYYPDKVFRSSVLHSTQDL...HYT'), id='hCoV_19FranceIDF05152020_EPI_ISL_408430_2020_01_29', name='<unknown name>', description='<unknown description>', dbxrefs=[])]\n",
      "to save /data2/isshamie/covid/data/processed/seqs/S_protein_align/hCoV_19FranceIDF05152020_EPI_ISL_408430_2020_01_29.protein.fasta\n"
     ]
    },
    {
     "name": "stderr",
     "output_type": "stream",
     "text": [
      "\r",
      " 88%|████████▊ | 15/17 [34:51<04:04, 122.48s/it]"
     ]
    },
    {
     "name": "stdout",
     "output_type": "stream",
     "text": [
      "s all proteins [SeqRecord(seq=Seq('MFVFLVLLPLVSSQCVNLTTRTQLPPAYTNSFTRGVYYPDKVFRSSVLHSTQDL...VLE'), id='hCoV_19NetherlandsNoordBrabant_132020_EPI_ISL_414453_2020_03_06', name='<unknown name>', description='<unknown description>', dbxrefs=[])]\n",
      "to save /data2/isshamie/covid/data/processed/seqs/S_protein_align/hCoV_19NetherlandsNoordBrabant_132020_EPI_ISL_414453_2020_03_06.protein.fasta\n"
     ]
    },
    {
     "name": "stderr",
     "output_type": "stream",
     "text": [
      "\r",
      " 29%|██▉       | 5/17 [35:03<1:41:31, 507.59s/it]"
     ]
    },
    {
     "name": "stdout",
     "output_type": "stream",
     "text": [
      "s all proteins [SeqRecord(seq=Seq('MFVFLVLLPLVSSQCVNLTTRTQLPPAYTNSFTRGVYYPDKVFRSSVLHSTQDL...HYT'), id='hCoV_19AustraliaQLD042020_EPI_ISL_410718_2020_02_05', name='<unknown name>', description='<unknown description>', dbxrefs=[])]\n",
      "to save /data2/isshamie/covid/data/processed/seqs/S_protein_align/hCoV_19AustraliaQLD042020_EPI_ISL_410718_2020_02_05.protein.fasta\n"
     ]
    },
    {
     "name": "stderr",
     "output_type": "stream",
     "text": [
      " 35%|███▌      | 6/17 [35:06<54:42, 298.42s/it]  /home/isshamie/software/anaconda2/envs/coevolve/lib/python3.7/site-packages/Bio/Seq.py:2859: BiopythonWarning: Partial codon, len(sequence) not a multiple of three. Explicitly trim the sequence or add trailing N before translation. This may become an error in future.\n",
      "  BiopythonWarning,\n"
     ]
    },
    {
     "name": "stdout",
     "output_type": "stream",
     "text": [
      "s all proteins [SeqRecord(seq=Seq('MFVFLVLLPLVSSQCVNLTTRTQLPPAYTNSFTRGVYYPDKVFRSSVLHSTQDL...SVL'), id='hCoV_19NetherlandsNoordBrabant_382020_EPI_ISL_414547_2020_03_06', name='<unknown name>', description='<unknown description>', dbxrefs=[])]\n",
      "to save /data2/isshamie/covid/data/processed/seqs/S_protein_align/hCoV_19NetherlandsNoordBrabant_382020_EPI_ISL_414547_2020_03_06.protein.fasta\n",
      "s all proteins [SeqRecord(seq=Seq('MFVFLVLLPLVSSQCVNLTTRTQLPPAYTNSFTRGVYYPDKVFRSSVLHSTQDL...HYT'), id='hCoV_19England2010401412020_EPI_ISL_414526_2020_03_03', name='<unknown name>', description='<unknown description>', dbxrefs=[])]\n",
      "to save /data2/isshamie/covid/data/processed/seqs/S_protein_align/hCoV_19England2010401412020_EPI_ISL_414526_2020_03_03.protein.fasta\n"
     ]
    },
    {
     "name": "stderr",
     "output_type": "stream",
     "text": [
      "  6%|▌         | 1/17 [35:09<9:22:24, 2109.04s/it]"
     ]
    },
    {
     "name": "stdout",
     "output_type": "stream",
     "text": [
      "s all proteins [SeqRecord(seq=Seq('MFVFLVLLPLVSSQCVNLTTRTQLPPAYTNSFTRGVYYPDKVFRSSVLHSTQDL...HYT'), id='hCoV_19NetherlandsUtrecht_13635642020_EPI_ISL_413588_2020_03_01', name='<unknown name>', description='<unknown description>', dbxrefs=[])]\n",
      "to save /data2/isshamie/covid/data/processed/seqs/S_protein_align/hCoV_19NetherlandsUtrecht_13635642020_EPI_ISL_413588_2020_03_01.protein.fasta\n"
     ]
    },
    {
     "name": "stderr",
     "output_type": "stream",
     "text": [
      "\r",
      " 76%|███████▋  | 13/17 [35:11<10:02, 150.69s/it]"
     ]
    },
    {
     "name": "stdout",
     "output_type": "stream",
     "text": [
      "s all proteins [SeqRecord(seq=Seq('MFVFLVLLPLVSSQCVNLTTRTQLPPAYTNSSTRGVYYPDKVFRSSVLHLTQDL...ATC'), id='hCoV_19batYunnanRaTG132013_EPI_ISL_402131_2013_07_24', name='<unknown name>', description='<unknown description>', dbxrefs=[])]\n",
      "to save /data2/isshamie/covid/data/processed/seqs/S_protein_align/hCoV_19batYunnanRaTG132013_EPI_ISL_402131_2013_07_24.protein.fasta\n",
      "s all proteins [SeqRecord(seq=Seq('MFVFLVLLPLVSSQCVNLTTRTQLPPAYTNSFTRGVYYPDKVFRSSVLHSTQDL...HYT'), id='hCoV_19ItalyUniSR12020_EPI_ISL_413489_2020_03_03', name='<unknown name>', description='<unknown description>', dbxrefs=[])]\n",
      "to save /data2/isshamie/covid/data/processed/seqs/S_protein_align/hCoV_19ItalyUniSR12020_EPI_ISL_413489_2020_03_03.protein.fasta\n"
     ]
    },
    {
     "name": "stderr",
     "output_type": "stream",
     "text": [
      " 76%|███████▋  | 13/17 [35:15<09:44, 146.07s/it]"
     ]
    },
    {
     "name": "stdout",
     "output_type": "stream",
     "text": [
      "s all proteins [SeqRecord(seq=Seq('MFVFLVLLPLVSSQCVNLTTRTQLPPAYTNSFTRGVYYPDKVFRSSVLHSTQDL...HYT'), id='hCoV_19South', name='<unknown name>', description='<unknown description>', dbxrefs=[])]\n",
      "to save /data2/isshamie/covid/data/processed/seqs/S_protein_align/hCoV_19South.protein.fasta\n"
     ]
    },
    {
     "name": "stderr",
     "output_type": "stream",
     "text": [
      "\r",
      " 76%|███████▋  | 13/17 [35:16<09:20, 140.24s/it]"
     ]
    },
    {
     "name": "stdout",
     "output_type": "stream",
     "text": [
      "s all proteins [SeqRecord(seq=Seq('MFVFLVLLPLVSSQCVNLTTRTQLPPAYTNSFTRGVYYPDKVFRSSVLHSTQDL...HYT'), id='hCoV_19NetherlandsRotterdam_13647402020_EPI_ISL_413584_2020_03_03', name='<unknown name>', description='<unknown description>', dbxrefs=[])]\n",
      "to save /data2/isshamie/covid/data/processed/seqs/S_protein_align/hCoV_19NetherlandsRotterdam_13647402020_EPI_ISL_413584_2020_03_03.protein.fasta\n"
     ]
    },
    {
     "name": "stderr",
     "output_type": "stream",
     "text": [
      "\r",
      " 76%|███████▋  | 13/17 [35:18<09:18, 139.74s/it]"
     ]
    },
    {
     "name": "stdout",
     "output_type": "stream",
     "text": [
      "s all proteins [SeqRecord(seq=Seq('MFVFLVLLPLVSSQCVNLTTRTQLPPAYTNSFTRGVYYPDKVFRSSVLHSTQDL...HYT'), id='hCoV_19WuhanIPBCAMS_WH_052020_EPI_ISL_403928_2020_01_01', name='<unknown name>', description='<unknown description>', dbxrefs=[])]\n",
      "to save /data2/isshamie/covid/data/processed/seqs/S_protein_align/hCoV_19WuhanIPBCAMS_WH_052020_EPI_ISL_403928_2020_01_01.protein.fasta\n"
     ]
    },
    {
     "name": "stderr",
     "output_type": "stream",
     "text": [
      "\r",
      " 88%|████████▊ | 15/17 [35:23<04:12, 126.29s/it]"
     ]
    },
    {
     "name": "stdout",
     "output_type": "stream",
     "text": [
      "s all proteins [SeqRecord(seq=Seq('MFVFLVLLPLVSSQCVNLTTRTQLPPAYTNSVTRGVYYPDKVFRSSVLHSTQDL...HYT'), id='hCoV_19WuhanHBCDC_HB_042019_EPI_ISL_412900_2019_12_30', name='<unknown name>', description='<unknown description>', dbxrefs=[])]\n",
      "to save /data2/isshamie/covid/data/processed/seqs/S_protein_align/hCoV_19WuhanHBCDC_HB_042019_EPI_ISL_412900_2019_12_30.protein.fasta\n"
     ]
    },
    {
     "name": "stderr",
     "output_type": "stream",
     "text": [
      "\r",
      " 71%|███████   | 12/17 [35:23<13:10, 158.05s/it]"
     ]
    },
    {
     "name": "stdout",
     "output_type": "stream",
     "text": [
      "s all proteins [SeqRecord(seq=Seq('MFVFLVLLPLVSSQCVNLTTRTQLPPAYTNSFTRGVYYPDKVFRSSVLYSTQDL...HYT'), id='hCoV_19JiangsuJS022020_EPI_ISL_411952_2020_01_24', name='<unknown name>', description='<unknown description>', dbxrefs=[])]\n",
      "to save /data2/isshamie/covid/data/processed/seqs/S_protein_align/hCoV_19JiangsuJS022020_EPI_ISL_411952_2020_01_24.protein.fasta\n"
     ]
    },
    {
     "name": "stderr",
     "output_type": "stream",
     "text": [
      "\r",
      " 76%|███████▋  | 13/17 [35:30<09:38, 144.58s/it]"
     ]
    },
    {
     "name": "stdout",
     "output_type": "stream",
     "text": [
      "s all proteins [SeqRecord(seq=Seq('MFVFLVLLPLVSSQCVNLTTRTQLPPAYTNSFTRGVYYPDKVFRSSVLHSTQDL...HYT'), id='hCoV_19USAWA_UW222020_EPI_ISL_414591_2020_03_06', name='<unknown name>', description='<unknown description>', dbxrefs=[])]\n",
      "to save /data2/isshamie/covid/data/processed/seqs/S_protein_align/hCoV_19USAWA_UW222020_EPI_ISL_414591_2020_03_06.protein.fasta\n"
     ]
    },
    {
     "name": "stderr",
     "output_type": "stream",
     "text": [
      "\r",
      " 71%|███████   | 12/17 [35:32<12:55, 155.16s/it]"
     ]
    },
    {
     "name": "stdout",
     "output_type": "stream",
     "text": [
      "s all proteins [SeqRecord(seq=Seq('MFVFLVLLPLVSSQCVNLTTRTQLPPAYTNSFTRGVYYPDKVFRSSVLHSTQDL...HYT'), id='hCoV_19ChinaWF00192020_EPI_ISL_413749_2020_02', name='<unknown name>', description='<unknown description>', dbxrefs=[])]\n",
      "to save /data2/isshamie/covid/data/processed/seqs/S_protein_align/hCoV_19ChinaWF00192020_EPI_ISL_413749_2020_02.protein.fasta\n"
     ]
    },
    {
     "name": "stderr",
     "output_type": "stream",
     "text": [
      "\r",
      " 76%|███████▋  | 13/17 [35:35<09:28, 142.19s/it]"
     ]
    },
    {
     "name": "stdout",
     "output_type": "stream",
     "text": [
      "s all proteins [SeqRecord(seq=Seq('MFVFLVLLPLVSSQCVNLTTRTQLPPAYTNSFTRGVYYPDKVFRSSVLHSTQDL...HYT'), id='hCoV_19USAUC_CDPH_UC112020_EPI_ISL_413931_2020_03_05', name='<unknown name>', description='<unknown description>', dbxrefs=[])]\n",
      "to save /data2/isshamie/covid/data/processed/seqs/S_protein_align/hCoV_19USAUC_CDPH_UC112020_EPI_ISL_413931_2020_03_05.protein.fasta\n"
     ]
    },
    {
     "name": "stderr",
     "output_type": "stream",
     "text": [
      "\r",
      " 76%|███████▋  | 13/17 [35:49<09:29, 142.34s/it]"
     ]
    },
    {
     "name": "stdout",
     "output_type": "stream",
     "text": [
      "s all proteins [SeqRecord(seq=Seq('MFVFLVLLPLVSSQCVNLTTRTQLPPAYTNSFTRGVYYPDKVFRSSVLHSTQDL...HYT'), id='hCoV_19WuhanIVDC_HB_012019_EPI_ISL_402119_2019_12_30', name='<unknown name>', description='<unknown description>', dbxrefs=[])]\n",
      "to save /data2/isshamie/covid/data/processed/seqs/S_protein_align/hCoV_19WuhanIVDC_HB_012019_EPI_ISL_402119_2019_12_30.protein.fasta\n"
     ]
    },
    {
     "name": "stderr",
     "output_type": "stream",
     "text": [
      "\r",
      " 76%|███████▋  | 13/17 [35:50<09:49, 147.45s/it]"
     ]
    },
    {
     "name": "stdout",
     "output_type": "stream",
     "text": [
      "s all proteins [SeqRecord(seq=Seq('MFVFLVLLPLVSSQCVNLTTRTQLPPAYTNSFTRGVYYPDKVFRSSVLHSTQDL...LFA'), id='hCoV_19NetherlandsLimburg_62020_EPI_ISL_414427_2020_03_03', name='<unknown name>', description='<unknown description>', dbxrefs=[])]\n",
      "to save /data2/isshamie/covid/data/processed/seqs/S_protein_align/hCoV_19NetherlandsLimburg_62020_EPI_ISL_414427_2020_03_03.protein.fasta\n"
     ]
    },
    {
     "name": "stderr",
     "output_type": "stream",
     "text": [
      "\r",
      " 76%|███████▋  | 13/17 [35:59<09:31, 142.92s/it]"
     ]
    },
    {
     "name": "stdout",
     "output_type": "stream",
     "text": [
      "s all proteins [SeqRecord(seq=Seq('MFVFLVLLPLVSSQCVNLTTRTQLPPAYTNSFTRGVYYPDKVFRSSVLHSTQDL...CCC'), id='hCoV_19IrelandDublin_190722020_EPI_ISL_414584_2020_03_02', name='<unknown name>', description='<unknown description>', dbxrefs=[])]\n",
      "to save /data2/isshamie/covid/data/processed/seqs/S_protein_align/hCoV_19IrelandDublin_190722020_EPI_ISL_414584_2020_03_02.protein.fasta\n"
     ]
    },
    {
     "name": "stderr",
     "output_type": "stream",
     "text": [
      "\r",
      " 76%|███████▋  | 13/17 [35:59<09:27, 141.81s/it]"
     ]
    },
    {
     "name": "stdout",
     "output_type": "stream",
     "text": [
      "s all proteins [SeqRecord(seq=Seq('MFVFLVLLPLVSSQCVNLTTRTQLPPAYTNSFTRGVYYPDKVFRSSVLHSTQDL...HYT'), id='hCoV_19FranceHF18712020_EPI_ISL_414630_2020_03_03', name='<unknown name>', description='<unknown description>', dbxrefs=[])]\n",
      "to save /data2/isshamie/covid/data/processed/seqs/S_protein_align/hCoV_19FranceHF18712020_EPI_ISL_414630_2020_03_03.protein.fasta\n"
     ]
    },
    {
     "name": "stderr",
     "output_type": "stream",
     "text": [
      "\r",
      " 53%|█████▎    | 9/17 [36:03<23:56, 179.60s/it]"
     ]
    },
    {
     "name": "stdout",
     "output_type": "stream",
     "text": [
      "s all proteins [SeqRecord(seq=Seq('MFVFLVLLPLVSSQCVNLTTRTQLPPAYTNSFTRGVYYPDKVFRSSVLHSTQDL...SVL'), id='hCoV_19NetherlandsZuidHolland_62020_EPI_ISL_414466_2020_03_04', name='<unknown name>', description='<unknown description>', dbxrefs=[])]\n",
      "to save /data2/isshamie/covid/data/processed/seqs/S_protein_align/hCoV_19NetherlandsZuidHolland_62020_EPI_ISL_414466_2020_03_04.protein.fasta\n"
     ]
    },
    {
     "name": "stderr",
     "output_type": "stream",
     "text": [
      "\r",
      " 53%|█████▎    | 9/17 [36:06<45:49, 343.70s/it]"
     ]
    },
    {
     "name": "stdout",
     "output_type": "stream",
     "text": [
      "s all proteins [SeqRecord(seq=Seq('MSFTHICVNISQYSLTMLLCVSIALMHLKVWLARTLSQFFIIKTMFLCLKQNVG...STN'), id='hCoV_19SpainValencia22020_EPI_ISL_414496_2020_03_04', name='<unknown name>', description='<unknown description>', dbxrefs=[])]\n",
      "to save /data2/isshamie/covid/data/processed/seqs/S_protein_align/hCoV_19SpainValencia22020_EPI_ISL_414496_2020_03_04.protein.fasta\n",
      "s all proteins [SeqRecord(seq=Seq('MFVFLVLLPLVSSQCVNLTTRTQLPPAYTNSFTRGVYYPDKVFRSSVLHSTQDL...HYT'), id='hCoV_19South', name='<unknown name>', description='<unknown description>', dbxrefs=[])]\n",
      "to save /data2/isshamie/covid/data/processed/seqs/S_protein_align/hCoV_19South.protein.fasta\n"
     ]
    },
    {
     "name": "stderr",
     "output_type": "stream",
     "text": [
      " 53%|█████▎    | 9/17 [36:08<40:29, 303.70s/it]]"
     ]
    },
    {
     "name": "stdout",
     "output_type": "stream",
     "text": [
      "s all proteins [SeqRecord(seq=Seq('MFVFLVLLPLVSSQCVNLTTRTQLPPAYTNSFTRGVYYPDKVFRSSVLHSTQDL...HYT'), id='hCoV_19NetherlandsUtrecht_132020_EPI_ISL_414552_2020_03_07', name='<unknown name>', description='<unknown description>', dbxrefs=[])]\n",
      "to save /data2/isshamie/covid/data/processed/seqs/S_protein_align/hCoV_19NetherlandsUtrecht_132020_EPI_ISL_414552_2020_03_07.protein.fasta\n"
     ]
    },
    {
     "name": "stderr",
     "output_type": "stream",
     "text": [
      "\r",
      " 76%|███████▋  | 13/17 [36:09<09:24, 141.21s/it]"
     ]
    },
    {
     "name": "stdout",
     "output_type": "stream",
     "text": [
      "s all proteins [SeqRecord(seq=Seq('MFVFLVLLPLVSSQCVNLTTRTQLPPAYTNSFTRGVYYPDKVFRSSVLHSTQDL...HYT'), id='hCoV_19USAWA_UW202020_EPI_ISL_414368_2020_03_05', name='<unknown name>', description='<unknown description>', dbxrefs=[])]\n",
      "to save /data2/isshamie/covid/data/processed/seqs/S_protein_align/hCoV_19USAWA_UW202020_EPI_ISL_414368_2020_03_05.protein.fasta\n"
     ]
    },
    {
     "name": "stderr",
     "output_type": "stream",
     "text": [
      "\r",
      " 76%|███████▋  | 13/17 [36:15<09:12, 138.07s/it]"
     ]
    },
    {
     "name": "stdout",
     "output_type": "stream",
     "text": [
      "s all proteins [SeqRecord(seq=Seq('MFVFLVLLPLVSSQCVNLTTRTQLPPAYTNSFTRGVYYPDKVFRSSVLHSTQDL...HYT'), id='hCoV_19Singapore52020_EPI_ISL_410536_2020_02_06', name='<unknown name>', description='<unknown description>', dbxrefs=[])]\n",
      "to save /data2/isshamie/covid/data/processed/seqs/S_protein_align/hCoV_19Singapore52020_EPI_ISL_410536_2020_02_06.protein.fasta\n"
     ]
    },
    {
     "name": "stderr",
     "output_type": "stream",
     "text": [
      "\r",
      " 88%|████████▊ | 15/17 [36:19<03:57, 118.86s/it]"
     ]
    },
    {
     "name": "stdout",
     "output_type": "stream",
     "text": [
      "s all proteins [SeqRecord(seq=Seq('MFVFLVLLPLVSSQCVNLTTRTQLPPAYTNSFTRGVYYPDKVFRSSVLHSTQDL...HYT'), id='hCoV_19FranceIDF03722020_EPI_ISL_406596_2020_01_23', name='<unknown name>', description='<unknown description>', dbxrefs=[])]\n",
      "to save /data2/isshamie/covid/data/processed/seqs/S_protein_align/hCoV_19FranceIDF03722020_EPI_ISL_406596_2020_01_23.protein.fasta\n"
     ]
    },
    {
     "name": "stderr",
     "output_type": "stream",
     "text": [
      "\r",
      " 88%|████████▊ | 15/17 [36:27<04:08, 124.12s/it]"
     ]
    },
    {
     "name": "stdout",
     "output_type": "stream",
     "text": [
      "s all proteins [SeqRecord(seq=Seq('MFVFLVLLPLVSSQCVNLTTRTQLPPAYTNSFTRGVYYPDKVFRSSVLHSTQDL...HYT'), id='hCoV_19USAWA6_UW32020_EPI_ISL_413457_2020_02_29', name='<unknown name>', description='<unknown description>', dbxrefs=[])]\n",
      "to save /data2/isshamie/covid/data/processed/seqs/S_protein_align/hCoV_19USAWA6_UW32020_EPI_ISL_413457_2020_02_29.protein.fasta\n"
     ]
    },
    {
     "name": "stderr",
     "output_type": "stream",
     "text": [
      "\r",
      " 88%|████████▊ | 15/17 [36:27<03:57, 118.91s/it]"
     ]
    },
    {
     "name": "stdout",
     "output_type": "stream",
     "text": [
      "s all proteins [SeqRecord(seq=Seq('MFVFLVLLPLVSSQCVNLTTRTQLPPAYTNSFTRGVYYPDKVFRSSVLHSTQDL...HYT'), id='hCoV_19YunnanIVDC_YN_0032020_EPI_ISL_408480_2020_01_17', name='<unknown name>', description='<unknown description>', dbxrefs=[])]\n",
      "to save /data2/isshamie/covid/data/processed/seqs/S_protein_align/hCoV_19YunnanIVDC_YN_0032020_EPI_ISL_408480_2020_01_17.protein.fasta\n"
     ]
    },
    {
     "name": "stderr",
     "output_type": "stream",
     "text": [
      "\r",
      " 94%|█████████▍| 16/17 [36:31<01:55, 115.53s/it]"
     ]
    },
    {
     "name": "stdout",
     "output_type": "stream",
     "text": [
      "s all proteins [SeqRecord(seq=Seq('MFVFLVLLPLVSSQCVNLTTRTQLPPAYTNSFTRGVYYPDKVFRSSVLHSTQDL...HYT'), id='hCoV_19Guangdong2020XN4459_P00412020_EPI_ISL_413858_2020_01_30', name='<unknown name>', description='<unknown description>', dbxrefs=[])]\n",
      "to save /data2/isshamie/covid/data/processed/seqs/S_protein_align/hCoV_19Guangdong2020XN4459_P00412020_EPI_ISL_413858_2020_01_30.protein.fasta\n"
     ]
    },
    {
     "name": "stderr",
     "output_type": "stream",
     "text": [
      "\r",
      " 65%|██████▍   | 11/17 [36:31<14:23, 143.93s/it]"
     ]
    },
    {
     "name": "stdout",
     "output_type": "stream",
     "text": [
      "s all proteins [SeqRecord(seq=Seq('MFVFLVLLPLVSSQCVNLTTRTQLPPAYTNSFTRGVYYPDKVFRSSVLHSTQDL...HYT'), id='hCoV_19USACruiseA_72020_EPI_ISL_413612_2020_02_17', name='<unknown name>', description='<unknown description>', dbxrefs=[])]\n",
      "to save /data2/isshamie/covid/data/processed/seqs/S_protein_align/hCoV_19USACruiseA_72020_EPI_ISL_413612_2020_02_17.protein.fasta\n"
     ]
    },
    {
     "name": "stderr",
     "output_type": "stream",
     "text": [
      "\r",
      " 88%|████████▊ | 15/17 [36:37<04:04, 122.47s/it]"
     ]
    },
    {
     "name": "stdout",
     "output_type": "stream",
     "text": [
      "s all proteins [SeqRecord(seq=Seq('MFVFLVLLPLVSSQCVNLTTRTQLPPAYTNSFTRGVYYPDKVFRSSVLHSTQDL...HYT'), id='hCoV_19NetherlandsNoordBrabant_152020_EPI_ISL_414455_2020_03_06', name='<unknown name>', description='<unknown description>', dbxrefs=[])]\n",
      "to save /data2/isshamie/covid/data/processed/seqs/S_protein_align/hCoV_19NetherlandsNoordBrabant_152020_EPI_ISL_414455_2020_03_06.protein.fasta\n"
     ]
    },
    {
     "name": "stderr",
     "output_type": "stream",
     "text": [
      "\r",
      " 35%|███▌      | 6/17 [36:49<1:10:58, 387.15s/it]"
     ]
    },
    {
     "name": "stdout",
     "output_type": "stream",
     "text": [
      "s all proteins [SeqRecord(seq=Seq('MFVFLVLLPLVSSQCVNLTTRTQLPPAYTNSFTRGVYYPDKVFRSSVLHSTQDL...HYT'), id='hCoV_19South', name='<unknown name>', description='<unknown description>', dbxrefs=[])]\n",
      "to save /data2/isshamie/covid/data/processed/seqs/S_protein_align/hCoV_19South.protein.fasta\n"
     ]
    },
    {
     "name": "stderr",
     "output_type": "stream",
     "text": [
      "\r",
      " 82%|████████▏ | 14/17 [36:59<06:26, 128.87s/it]"
     ]
    },
    {
     "name": "stdout",
     "output_type": "stream",
     "text": [
      "s all proteins [SeqRecord(seq=Seq('MFVFLVLLPLVSSQCVNLTTRTQLPPAYTNSFTRGVYYPDKVFRSSVLHSTQDL...HYT'), id='hCoV_19USAWI12020_EPI_ISL_408670_2020_01_31', name='<unknown name>', description='<unknown description>', dbxrefs=[])]\n",
      "to save /data2/isshamie/covid/data/processed/seqs/S_protein_align/hCoV_19USAWI12020_EPI_ISL_408670_2020_01_31.protein.fasta\n"
     ]
    },
    {
     "name": "stderr",
     "output_type": "stream",
     "text": [
      "\r",
      " 94%|█████████▍| 16/17 [37:11<02:00, 120.95s/it]"
     ]
    },
    {
     "name": "stdout",
     "output_type": "stream",
     "text": [
      "s all proteins [SeqRecord(seq=Seq('MFVFLVLLPLVSSQCVNLTTRTQLPPAYTNSFTRGVYYPDKVFRSSVLHSTQDL...HYT'), id='hCoV_19NetherlandsZuidHolland_242020_EPI_ISL_414566_2020_03_06', name='<unknown name>', description='<unknown description>', dbxrefs=[])]\n",
      "to save /data2/isshamie/covid/data/processed/seqs/S_protein_align/hCoV_19NetherlandsZuidHolland_242020_EPI_ISL_414566_2020_03_06.protein.fasta\n"
     ]
    },
    {
     "name": "stderr",
     "output_type": "stream",
     "text": [
      "\r",
      " 82%|████████▏ | 14/17 [37:12<07:04, 141.52s/it]"
     ]
    },
    {
     "name": "stdout",
     "output_type": "stream",
     "text": [
      "s all proteins [SeqRecord(seq=Seq('MFVFLVLLPLVSSQCVNLTTRTQLPPAYTNSFTRGVYYPDKVFRSSVLHSTQDL...HYT'), id='hCoV_19Singapore72020_EPI_ISL_410713_2020_01_27', name='<unknown name>', description='<unknown description>', dbxrefs=[])]\n",
      "to save /data2/isshamie/covid/data/processed/seqs/S_protein_align/hCoV_19Singapore72020_EPI_ISL_410713_2020_01_27.protein.fasta\n"
     ]
    },
    {
     "name": "stderr",
     "output_type": "stream",
     "text": [
      "\r",
      " 41%|████      | 7/17 [37:14<41:12, 247.24s/it]"
     ]
    },
    {
     "name": "stdout",
     "output_type": "stream",
     "text": [
      "s all proteins [SeqRecord(seq=Seq('MFVFLVLLPLVSSQCVNLTTRTQLPPAYTNSFTRGVYYPDKVFRSSVLHSTQDL...YTT'), id='hCoV_19USACA_CDPH_UC12020_EPI_ISL_413557_2020', name='<unknown name>', description='<unknown description>', dbxrefs=[])]\n",
      "to save /data2/isshamie/covid/data/processed/seqs/S_protein_align/hCoV_19USACA_CDPH_UC12020_EPI_ISL_413557_2020.protein.fasta\n"
     ]
    },
    {
     "name": "stderr",
     "output_type": "stream",
     "text": [
      "\r",
      " 82%|████████▏ | 14/17 [37:17<06:41, 133.74s/it]"
     ]
    },
    {
     "name": "stdout",
     "output_type": "stream",
     "text": [
      "s all proteins [SeqRecord(seq=Seq('MFVFLVLLPLVSSQCVNLTTRTQLPPAYTNSFTRGVYYPDKVFRSSVLHSTQDL...HYT'), id='hCoV_19AustraliaVIC012020_EPI_ISL_406844_2020_01_25', name='<unknown name>', description='<unknown description>', dbxrefs=[])]\n",
      "to save /data2/isshamie/covid/data/processed/seqs/S_protein_align/hCoV_19AustraliaVIC012020_EPI_ISL_406844_2020_01_25.protein.fasta\n"
     ]
    },
    {
     "name": "stderr",
     "output_type": "stream",
     "text": [
      "\r",
      " 82%|████████▏ | 14/17 [37:18<06:47, 135.90s/it]"
     ]
    },
    {
     "name": "stdout",
     "output_type": "stream",
     "text": [
      "s all proteins [SeqRecord(seq=Seq('MFVFLVLLPLVSSQCVNLTTRTQLPPAYTNSFTRGVYYPDKVFRSSVLHSTQDL...HYT'), id='hCoV_19USAWA12020_EPI_ISL_404895_2020_01_19', name='<unknown name>', description='<unknown description>', dbxrefs=[])]\n",
      "to save /data2/isshamie/covid/data/processed/seqs/S_protein_align/hCoV_19USAWA12020_EPI_ISL_404895_2020_01_19.protein.fasta\n"
     ]
    },
    {
     "name": "stderr",
     "output_type": "stream",
     "text": [
      "\r",
      " 82%|████████▏ | 14/17 [37:19<06:58, 139.65s/it]"
     ]
    },
    {
     "name": "stdout",
     "output_type": "stream",
     "text": [
      "s all proteins [SeqRecord(seq=Seq('MFVFLVLLPLVSSQCVNLTTRTQLPPAYTNSFTRGVYYPDKVFRSSVLHSTQDL...HYT'), id='hCoV_19GermanyBaden_Wuerttemberg_12020_EPI_ISL_412912_2020_02_25', name='<unknown name>', description='<unknown description>', dbxrefs=[])]\n",
      "to save /data2/isshamie/covid/data/processed/seqs/S_protein_align/hCoV_19GermanyBaden_Wuerttemberg_12020_EPI_ISL_412912_2020_02_25.protein.fasta\n"
     ]
    },
    {
     "name": "stderr",
     "output_type": "stream",
     "text": [
      "\r",
      " 76%|███████▋  | 13/17 [37:21<09:44, 146.07s/it]"
     ]
    },
    {
     "name": "stdout",
     "output_type": "stream",
     "text": [
      "s all proteins [SeqRecord(seq=Seq('MFVFLVLLPLVSSQCVNLTTRTQLPPAYTNSFTRGVYYPDKVFRSSVLHSTQDL...HYT'), id='hCoV_19USAWA_UW232020_EPI_ISL_414592_2020_03_06', name='<unknown name>', description='<unknown description>', dbxrefs=[])]\n",
      "to save /data2/isshamie/covid/data/processed/seqs/S_protein_align/hCoV_19USAWA_UW232020_EPI_ISL_414592_2020_03_06.protein.fasta\n"
     ]
    },
    {
     "name": "stderr",
     "output_type": "stream",
     "text": [
      "\r",
      " 76%|███████▋  | 13/17 [37:29<09:35, 143.76s/it]"
     ]
    },
    {
     "name": "stdout",
     "output_type": "stream",
     "text": [
      "s all proteins [SeqRecord(seq=Seq('MFVFLVLLPLVSSQCVNLTTRTQLPPAYTNSFTRGVYYPDKVFRSSVLHSTQDL...HYT'), id='hCoV_19South', name='<unknown name>', description='<unknown description>', dbxrefs=[])]\n",
      "to save /data2/isshamie/covid/data/processed/seqs/S_protein_align/hCoV_19South.protein.fasta\n"
     ]
    },
    {
     "name": "stderr",
     "output_type": "stream",
     "text": [
      "\r",
      " 82%|████████▏ | 14/17 [37:34<06:55, 138.56s/it]"
     ]
    },
    {
     "name": "stdout",
     "output_type": "stream",
     "text": [
      "s all proteins [SeqRecord(seq=Seq('MFVFLVLLPLVSSQCVNLTTRTQLPPAYTNSFTRGVYYPDKVFRSSVLHSTQDL...HYT'), id='hCoV_19ChinaWF00202020_EPI_ISL_413750_2020_02', name='<unknown name>', description='<unknown description>', dbxrefs=[])]\n",
      "to save /data2/isshamie/covid/data/processed/seqs/S_protein_align/hCoV_19ChinaWF00202020_EPI_ISL_413750_2020_02.protein.fasta\n"
     ]
    },
    {
     "name": "stderr",
     "output_type": "stream",
     "text": [
      "\r",
      " 82%|████████▏ | 14/17 [37:35<06:46, 135.65s/it]"
     ]
    },
    {
     "name": "stdout",
     "output_type": "stream",
     "text": [
      "s all proteins [SeqRecord(seq=Seq('MFVFLVLLPLVSSQCVNLTTRTQLPPAYTNSFTRGVYYPDKVFRSSVLHSTQDL...HYT'), id='hCoV_19USACA_CDPH_UC92020_EPI_ISL_413928_2020_03_05', name='<unknown name>', description='<unknown description>', dbxrefs=[])]\n",
      "to save /data2/isshamie/covid/data/processed/seqs/S_protein_align/hCoV_19USACA_CDPH_UC92020_EPI_ISL_413928_2020_03_05.protein.fasta\n"
     ]
    },
    {
     "name": "stderr",
     "output_type": "stream",
     "text": [
      "\r",
      " 82%|████████▏ | 14/17 [37:43<06:41, 133.80s/it]"
     ]
    },
    {
     "name": "stdout",
     "output_type": "stream",
     "text": [
      "s all proteins [SeqRecord(seq=Seq('MFVFLVLLPLVSSQCVNLTTRTQLPPAYTNSFTRGVYYPDKVFRSSVLHSTQDL...HYT'), id='hCoV_19IrelandLimerick_199342020_EPI_ISL_414586_2020_03_03', name='<unknown name>', description='<unknown description>', dbxrefs=[])]\n",
      "to save /data2/isshamie/covid/data/processed/seqs/S_protein_align/hCoV_19IrelandLimerick_199342020_EPI_ISL_414586_2020_03_03.protein.fasta\n"
     ]
    },
    {
     "name": "stderr",
     "output_type": "stream",
     "text": [
      "\r",
      " 82%|████████▏ | 14/17 [37:47<06:35, 131.74s/it]"
     ]
    },
    {
     "name": "stdout",
     "output_type": "stream",
     "text": [
      "s all proteins [SeqRecord(seq=Seq('MFVFLVLLPLVSSQCVNLTTRTQLPPAYTNSFTRGVYYPDKVFRSSVLHSTQDL...HYT'), id='hCoV_19WuhanIVDC_HB_052019_EPI_ISL_402121_2019_12_30', name='<unknown name>', description='<unknown description>', dbxrefs=[])]\n",
      "to save /data2/isshamie/covid/data/processed/seqs/S_protein_align/hCoV_19WuhanIVDC_HB_052019_EPI_ISL_402121_2019_12_30.protein.fasta\n"
     ]
    },
    {
     "name": "stderr",
     "output_type": "stream",
     "text": [
      "\r",
      " 82%|████████▏ | 14/17 [37:50<06:57, 139.33s/it]"
     ]
    },
    {
     "name": "stdout",
     "output_type": "stream",
     "text": [
      "s all proteins [SeqRecord(seq=Seq('MFVFLVLLPLVSSQCVNLTTRTQLPPAYTNSFTRGVYYPDKVFRSSVLHSTQDL...HYT'), id='hCoV_19South', name='<unknown name>', description='<unknown description>', dbxrefs=[])]\n",
      "to save /data2/isshamie/covid/data/processed/seqs/S_protein_align/hCoV_19South.protein.fasta\n"
     ]
    },
    {
     "name": "stderr",
     "output_type": "stream",
     "text": [
      "\r",
      " 94%|█████████▍| 16/17 [37:54<01:55, 115.42s/it]"
     ]
    },
    {
     "name": "stdout",
     "output_type": "stream",
     "text": [
      "s all proteins [SeqRecord(seq=Seq('MFVFLVLLPLVSSQCVNLTTRTQLPPAYTNSFTRGVYYPDKVFRSSVLHSTQDL...HYT'), id='hCoV_19NetherlandsNoordBrabant_32020_EPI_ISL_414429_2020_03_02', name='<unknown name>', description='<unknown description>', dbxrefs=[])]\n",
      "to save /data2/isshamie/covid/data/processed/seqs/S_protein_align/hCoV_19NetherlandsNoordBrabant_32020_EPI_ISL_414429_2020_03_02.protein.fasta\n"
     ]
    },
    {
     "name": "stderr",
     "output_type": "stream",
     "text": [
      "\r",
      " 82%|████████▏ | 14/17 [38:04<06:52, 137.51s/it]"
     ]
    },
    {
     "name": "stdout",
     "output_type": "stream",
     "text": [
      "s all proteins [SeqRecord(seq=Seq('MFVFLVLLPLVSSQCVNLTTRTQLPPAYTNSFTRGVYYPDKVFRSSVLHSTQDL...YTT'), id='hCoV_19NetherlandsZuidHolland_72020_EPI_ISL_414467_2020_03_05', name='<unknown name>', description='<unknown description>', dbxrefs=[])]\n",
      "to save /data2/isshamie/covid/data/processed/seqs/S_protein_align/hCoV_19NetherlandsZuidHolland_72020_EPI_ISL_414467_2020_03_05.protein.fasta\n"
     ]
    },
    {
     "name": "stderr",
     "output_type": "stream",
     "text": [
      "\r",
      " 59%|█████▉    | 10/17 [38:06<32:16, 276.66s/it]"
     ]
    },
    {
     "name": "stdout",
     "output_type": "stream",
     "text": [
      "s all proteins [SeqRecord(seq=Seq('MFVFLVLLPLVSSQCVNLTTRTQLPPAYTNSFTRGVYYPDKVFRSSVLHSTQDL...HYT'), id='hCoV_19FranceHF18702020_EPI_ISL_414629_2020_03_03', name='<unknown name>', description='<unknown description>', dbxrefs=[])]\n",
      "to save /data2/isshamie/covid/data/processed/seqs/S_protein_align/hCoV_19FranceHF18702020_EPI_ISL_414629_2020_03_03.protein.fasta\n"
     ]
    },
    {
     "name": "stderr",
     "output_type": "stream",
     "text": [
      "\r",
      " 59%|█████▉    | 10/17 [38:07<19:01, 163.03s/it]"
     ]
    },
    {
     "name": "stdout",
     "output_type": "stream",
     "text": [
      "s all proteins [SeqRecord(seq=Seq('MFVFLVLLPLVSSQCVNLTTRTQLPPAYTNSFTRGVYYPDKVFRSSVLHSTQDL...HYT'), id='hCoV_19USAWA_UW192020_EPI_ISL_414367_2020_03_05', name='<unknown name>', description='<unknown description>', dbxrefs=[])]\n",
      "to save /data2/isshamie/covid/data/processed/seqs/S_protein_align/hCoV_19USAWA_UW192020_EPI_ISL_414367_2020_03_05.protein.fasta\n"
     ]
    },
    {
     "name": "stderr",
     "output_type": "stream",
     "text": [
      "\r",
      " 82%|████████▏ | 14/17 [38:09<06:31, 130.57s/it]"
     ]
    },
    {
     "name": "stdout",
     "output_type": "stream",
     "text": [
      "s all proteins [SeqRecord(seq=Seq('MFVFLVLLPLVSSQCVNLTTRTQLPPAYTNSFTRGVYYPDKVFRSSVLHSTQDL...HYT'), id='hCoV_19USAWA1_F62020_EPI_ISL_407215_2020_01_25', name='<unknown name>', description='<unknown description>', dbxrefs=[])]\n",
      "to save /data2/isshamie/covid/data/processed/seqs/S_protein_align/hCoV_19USAWA1_F62020_EPI_ISL_407215_2020_01_25.protein.fasta\n",
      "s all proteins [SeqRecord(seq=Seq('MFVFLVLLPLVSSQCVNLTTRTQLPPAYTNSFTRGVYYPDKVFRSSVLHSTQDL...CCC'), id='hCoV_19WalesPHW052020_EPI_ISL_414488_2020_03_08', name='<unknown name>', description='<unknown description>', dbxrefs=[])]\n",
      "to save /data2/isshamie/covid/data/processed/seqs/S_protein_align/hCoV_19WalesPHW052020_EPI_ISL_414488_2020_03_08.protein.fasta\n"
     ]
    },
    {
     "name": "stderr",
     "output_type": "stream",
     "text": [
      " 59%|█████▉    | 10/17 [38:11<29:05, 249.37s/it]"
     ]
    },
    {
     "name": "stdout",
     "output_type": "stream",
     "text": [
      "s all proteins [SeqRecord(seq=Seq('MFVFLVLLPLVSSQCVNLTTRTQLPPAYTNSFTRGVYYPDKVFRSSVLHSTQDL...HYT'), id='hCoV_19GermanyBavPat12020_EPI_ISL_406862_2020_01_28', name='<unknown name>', description='<unknown description>', dbxrefs=[])]\n",
      "to save /data2/isshamie/covid/data/processed/seqs/S_protein_align/hCoV_19GermanyBavPat12020_EPI_ISL_406862_2020_01_28.protein.fasta\n"
     ]
    },
    {
     "name": "stderr",
     "output_type": "stream",
     "text": [
      "\r",
      " 94%|█████████▍| 16/17 [38:13<01:58, 118.57s/it]"
     ]
    },
    {
     "name": "stdout",
     "output_type": "stream",
     "text": [
      "s all proteins [SeqRecord(seq=Seq('MFVFLVLLPLVSSQCVNLTTRTQLPPAYTNSFTRGVYYPDKVFRSSVLHSTQDL...KRD'), id='hCoV_19NetherlandsOverijssel_22020_EPI_ISL_414550_2020_03_06', name='<unknown name>', description='<unknown description>', dbxrefs=[])]\n",
      "to save /data2/isshamie/covid/data/processed/seqs/S_protein_align/hCoV_19NetherlandsOverijssel_22020_EPI_ISL_414550_2020_03_06.protein.fasta\n"
     ]
    },
    {
     "name": "stderr",
     "output_type": "stream",
     "text": [
      "\r",
      " 82%|████████▏ | 14/17 [38:14<06:49, 136.37s/it]"
     ]
    },
    {
     "name": "stdout",
     "output_type": "stream",
     "text": [
      "s all proteins [SeqRecord(seq=Seq('MFVFLVLLPLVSSQCVNLTTRTQLPPAYTNSFTRGVYYPDKVFRSSVLHSTQDL...HYT'), id='hCoV_19USAWA7_UW42020_EPI_ISL_413458_2020_03_01', name='<unknown name>', description='<unknown description>', dbxrefs=[])]\n",
      "to save /data2/isshamie/covid/data/processed/seqs/S_protein_align/hCoV_19USAWA7_UW42020_EPI_ISL_413458_2020_03_01.protein.fasta\n"
     ]
    },
    {
     "name": "stderr",
     "output_type": "stream",
     "text": [
      "\r",
      " 94%|█████████▍| 16/17 [38:26<01:58, 118.90s/it]"
     ]
    },
    {
     "name": "stdout",
     "output_type": "stream",
     "text": [
      "s all proteins [SeqRecord(seq=Seq('MFVFLVLLPLVSSQCVNLTTRTQLPPAYTNSFTRGVYYPDKVFRSSVLHSTQDL...HYT'), id='hCoV_19ChongqingIVDC_CQ_0012020_EPI_ISL_408481_2020_01_18', name='<unknown name>', description='<unknown description>', dbxrefs=[])]\n",
      "to save /data2/isshamie/covid/data/processed/seqs/S_protein_align/hCoV_19ChongqingIVDC_CQ_0012020_EPI_ISL_408481_2020_01_18.protein.fasta\n"
     ]
    },
    {
     "name": "stderr",
     "output_type": "stream",
     "text": [
      "100%|██████████| 17/17 [38:28<00:00, 115.96s/it]\n",
      "  0%|          | 0/17 [00:00<?, ?it/s]"
     ]
    },
    {
     "name": "stdout",
     "output_type": "stream",
     "text": [
      "s all proteins [SeqRecord(seq=Seq('MFVFLVLLPLVSSQCVNLTTRTQLPPAYTNSFTRGVYYPDKVFRSSVLHSTQDL...HYT'), id='hCoV_19Guangdong2020XN4448_P00022020_EPI_ISL_413857_2020_01_31', name='<unknown name>', description='<unknown description>', dbxrefs=[])]\n",
      "to save /data2/isshamie/covid/data/processed/seqs/S_protein_align/hCoV_19Guangdong2020XN4448_P00022020_EPI_ISL_413857_2020_01_31.protein.fasta\n"
     ]
    },
    {
     "name": "stderr",
     "output_type": "stream",
     "text": [
      "\r",
      " 71%|███████   | 12/17 [38:30<11:21, 136.33s/it]"
     ]
    },
    {
     "name": "stdout",
     "output_type": "stream",
     "text": [
      "s all proteins [SeqRecord(seq=Seq('MFVFLVLLPLVSSQCVNLTTRTQLPPAYTNSFTRGVYYPDKVFRSSVLHSTQDL...HYT'), id='hCoV_19USACruiseA_82020_EPI_ISL_413613_2020_02_17', name='<unknown name>', description='<unknown description>', dbxrefs=[])]\n",
      "to save /data2/isshamie/covid/data/processed/seqs/S_protein_align/hCoV_19USACruiseA_82020_EPI_ISL_413613_2020_02_17.protein.fasta\n"
     ]
    },
    {
     "name": "stderr",
     "output_type": "stream",
     "text": [
      "\r",
      " 94%|█████████▍| 16/17 [38:30<01:59, 119.62s/it]"
     ]
    },
    {
     "name": "stdout",
     "output_type": "stream",
     "text": [
      "s all proteins [SeqRecord(seq=Seq('MFVFLVLLPLVSSQCVNLTTRTQLPPAYTNSFTRGVYYPDKVFRSSVLHSTQDL...HYT'), id='hCoV_19NetherlandsNoordBrabant_142020_EPI_ISL_414454_2020_03_05', name='<unknown name>', description='<unknown description>', dbxrefs=[])]\n",
      "to save /data2/isshamie/covid/data/processed/seqs/S_protein_align/hCoV_19NetherlandsNoordBrabant_142020_EPI_ISL_414454_2020_03_05.protein.fasta\n"
     ]
    },
    {
     "name": "stderr",
     "output_type": "stream",
     "text": [
      "\r",
      " 41%|████      | 7/17 [38:46<51:00, 306.06s/it]  "
     ]
    },
    {
     "name": "stdout",
     "output_type": "stream",
     "text": [
      "s all proteins [SeqRecord(seq=Seq('MFVFLVLLPLVSSQCVNLTTRTQLPPAYTNSFTRGVYYPDKVFRSSVLHSTQDL...YTT'), id='hCoV_19ShenzhenSZTH_0042020_EPI_ISL_406595_2020_01_16', name='<unknown name>', description='<unknown description>', dbxrefs=[])]\n",
      "to save /data2/isshamie/covid/data/processed/seqs/S_protein_align/hCoV_19ShenzhenSZTH_0042020_EPI_ISL_406595_2020_01_16.protein.fasta\n"
     ]
    },
    {
     "name": "stderr",
     "output_type": "stream",
     "text": [
      "100%|██████████| 17/17 [38:59<00:00, 116.92s/it]\n",
      "  0%|          | 0/2 [00:00<?, ?it/s]"
     ]
    },
    {
     "name": "stdout",
     "output_type": "stream",
     "text": [
      "s all proteins [SeqRecord(seq=Seq('MFVFLVLLPLVSSQCVNLTTRTQLPPAYTNSFTRGVYYPDKVFRSSVLHSTQDL...HYT'), id='hCoV_19South', name='<unknown name>', description='<unknown description>', dbxrefs=[])]\n",
      "to save /data2/isshamie/covid/data/processed/seqs/S_protein_align/hCoV_19South.protein.fasta\n"
     ]
    },
    {
     "name": "stderr",
     "output_type": "stream",
     "text": [
      "\r",
      " 88%|████████▊ | 15/17 [39:00<04:13, 126.62s/it]"
     ]
    },
    {
     "name": "stdout",
     "output_type": "stream",
     "text": [
      "s all proteins [SeqRecord(seq=Seq('MFVFLVLLPLVSSQCVNLTTRTQLPPAYTNSFTRGVYYPDKVFRSSVLHSTQDL...HYT'), id='hCoV_19NetherlandsZuidHolland_222020_EPI_ISL_414564_2020_03_08', name='<unknown name>', description='<unknown description>', dbxrefs=[])]\n",
      "to save /data2/isshamie/covid/data/processed/seqs/S_protein_align/hCoV_19NetherlandsZuidHolland_222020_EPI_ISL_414564_2020_03_08.protein.fasta\n"
     ]
    },
    {
     "name": "stderr",
     "output_type": "stream",
     "text": [
      "\r",
      " 88%|████████▊ | 15/17 [39:09<04:28, 134.18s/it]"
     ]
    },
    {
     "name": "stdout",
     "output_type": "stream",
     "text": [
      "s all proteins [SeqRecord(seq=Seq('MFVFLVLLPLVSSQCVNLTTRTQLPPAYTNSFTRGVYYPDKVFRSSVLHSTQDL...HYT'), id='hCoV_19Singapore102020_EPI_ISL_410716_2020_02_04', name='<unknown name>', description='<unknown description>', dbxrefs=[])]\n",
      "to save /data2/isshamie/covid/data/processed/seqs/S_protein_align/hCoV_19Singapore102020_EPI_ISL_410716_2020_02_04.protein.fasta\n"
     ]
    },
    {
     "name": "stderr",
     "output_type": "stream",
     "text": [
      "\r",
      " 47%|████▋     | 8/17 [39:18<31:33, 210.44s/it]"
     ]
    },
    {
     "name": "stdout",
     "output_type": "stream",
     "text": [
      "s all proteins [SeqRecord(seq=Seq('MFVFLVLLPLVSSQCVNLTTRTQLPPAYTNSFTRGVYYPDKVFRSSVLHSTQDL...HYT'), id='hCoV_19AustraliaNSW082020_EPI_ISL_413594_2020_02_28', name='<unknown name>', description='<unknown description>', dbxrefs=[])]\n",
      "to save /data2/isshamie/covid/data/processed/seqs/S_protein_align/hCoV_19AustraliaNSW082020_EPI_ISL_413594_2020_02_28.protein.fasta\n"
     ]
    },
    {
     "name": "stderr",
     "output_type": "stream",
     "text": [
      "\r",
      " 88%|████████▊ | 15/17 [39:24<04:23, 131.55s/it]"
     ]
    },
    {
     "name": "stdout",
     "output_type": "stream",
     "text": [
      "s all proteins [SeqRecord(seq=Seq('MFVFLVLLPLVSSQCVNLTTRTQLPPAYTNSFTRGVYYPDKVFRSSVLHSTQDL...HYT'), id='hCoV_19FranceIDF06262020_EPI_ISL_408431_2020_01_29', name='<unknown name>', description='<unknown description>', dbxrefs=[])]\n",
      "to save /data2/isshamie/covid/data/processed/seqs/S_protein_align/hCoV_19FranceIDF06262020_EPI_ISL_408431_2020_01_29.protein.fasta\n"
     ]
    },
    {
     "name": "stderr",
     "output_type": "stream",
     "text": [
      "\r",
      " 88%|████████▊ | 15/17 [39:24<04:26, 133.02s/it]"
     ]
    },
    {
     "name": "stdout",
     "output_type": "stream",
     "text": [
      "s all proteins [SeqRecord(seq=Seq('MFVFLVLLPLVSSQCVNLTTRTQLPPAYTNSFTRGVYYPDKVFRSSVLHSTQDL...HYT'), id='hCoV_19USAWA_UW242020_EPI_ISL_414593_2020_03_05', name='<unknown name>', description='<unknown description>', dbxrefs=[])]\n",
      "to save /data2/isshamie/covid/data/processed/seqs/S_protein_align/hCoV_19USAWA_UW242020_EPI_ISL_414593_2020_03_05.protein.fasta\n"
     ]
    },
    {
     "name": "stderr",
     "output_type": "stream",
     "text": [
      "\r",
      " 82%|████████▏ | 14/17 [39:26<06:47, 135.75s/it]"
     ]
    },
    {
     "name": "stdout",
     "output_type": "stream",
     "text": [
      "s all proteins [SeqRecord(seq=Seq('MFVFLVLLPLVSSQCVNLTTRTQLPPAYTNSFTRGVYYPDKVFRSSVLHSTQDL...HYT'), id='hCoV_19USACA72020_EPI_ISL_411954_2020_02_06', name='<unknown name>', description='<unknown description>', dbxrefs=[])]\n",
      "to save /data2/isshamie/covid/data/processed/seqs/S_protein_align/hCoV_19USACA72020_EPI_ISL_411954_2020_02_06.protein.fasta\n"
     ]
    },
    {
     "name": "stderr",
     "output_type": "stream",
     "text": [
      "\r",
      " 88%|████████▊ | 15/17 [39:37<04:27, 133.78s/it]"
     ]
    },
    {
     "name": "stdout",
     "output_type": "stream",
     "text": [
      "s all proteins [SeqRecord(seq=Seq('MFVFLVLLPLVSSQCVNLTTRTQLPPAYTNSFTRGVYYPDKVFRSSVLHSTQDL...HYT'), id='hCoV_19ChinaWF00212020_EPI_ISL_413751_2020_02', name='<unknown name>', description='<unknown description>', dbxrefs=[])]\n",
      "to save /data2/isshamie/covid/data/processed/seqs/S_protein_align/hCoV_19ChinaWF00212020_EPI_ISL_413751_2020_02.protein.fasta\n"
     ]
    },
    {
     "name": "stderr",
     "output_type": "stream",
     "text": [
      "\r",
      " 88%|████████▊ | 15/17 [39:39<04:24, 132.00s/it]"
     ]
    },
    {
     "name": "stdout",
     "output_type": "stream",
     "text": [
      "s all proteins [SeqRecord(seq=Seq('MFVFLVLLPLVSSQCVNLTTRTQLPPAYTNSFTRGVYYPDKVFRSSVLHSTQDL...HYT'), id='hCoV_19Switzerland10004771022020_EPI_ISL_413019_2020_02_26', name='<unknown name>', description='<unknown description>', dbxrefs=[])]\n",
      "to save /data2/isshamie/covid/data/processed/seqs/S_protein_align/hCoV_19Switzerland10004771022020_EPI_ISL_413019_2020_02_26.protein.fasta\n"
     ]
    },
    {
     "name": "stderr",
     "output_type": "stream",
     "text": [
      "100%|██████████| 17/17 [39:43<00:00, 113.25s/it]\n"
     ]
    },
    {
     "name": "stdout",
     "output_type": "stream",
     "text": [
      "s all proteins [SeqRecord(seq=Seq('MNCLKIKQHYLLMHLSFGLSATLNQYQRKYSIIWVWTLLLILSGTTKEMLQHIY...TTN'), id='hCoV_19GuangdongGDFS2020054_P00052020_EPI_ISL_413850_2020_02_10', name='<unknown name>', description='<unknown description>', dbxrefs=[])]\n",
      "to save /data2/isshamie/covid/data/processed/seqs/S_protein_align/hCoV_19GuangdongGDFS2020054_P00052020_EPI_ISL_413850_2020_02_10.protein.fasta\n",
      "s all proteins [SeqRecord(seq=Seq('MFVFLVLLPLVSSQCVNLTTRTQLPPAYTNSFTRGVYYPDKVFRSSVLHSTQDL...HYT'), id='hCoV_19USACA_CDPH_UC62020_EPI_ISL_413924_2020_03_05', name='<unknown name>', description='<unknown description>', dbxrefs=[])]\n",
      "to save /data2/isshamie/covid/data/processed/seqs/S_protein_align/hCoV_19USACA_CDPH_UC62020_EPI_ISL_413924_2020_03_05.protein.fasta\n"
     ]
    },
    {
     "name": "stderr",
     "output_type": "stream",
     "text": [
      " 59%|█████▉    | 10/17 [39:47<40:25, 346.52s/it]"
     ]
    },
    {
     "name": "stdout",
     "output_type": "stream",
     "text": [
      "s all proteins [SeqRecord(seq=Seq('MFVFLVLLPLVSSQCVNLTTRTQLPPAYTNSFTRGVYYPDKVFRSSVLHSTQDL...HYT'), id='hCoV_19USAWA_UW172020_EPI_ISL_414365_2020_03_06', name='<unknown name>', description='<unknown description>', dbxrefs=[])]\n",
      "to save /data2/isshamie/covid/data/processed/seqs/S_protein_align/hCoV_19USAWA_UW172020_EPI_ISL_414365_2020_03_06.protein.fasta\n"
     ]
    },
    {
     "name": "stderr",
     "output_type": "stream",
     "text": [
      "\r",
      " 88%|████████▊ | 15/17 [39:54<04:06, 123.10s/it]"
     ]
    },
    {
     "name": "stdout",
     "output_type": "stream",
     "text": [
      "s all proteins [SeqRecord(seq=Seq('MFVFLVLLPLVSSQCVNLTTRTQLPPAYTNSFTRGVYYPDKVFRSSVLHSTQDL...HYT'), id='hCoV_19WuhanWIV052019_EPI_ISL_402128_2019_12_30', name='<unknown name>', description='<unknown description>', dbxrefs=[])]\n",
      "to save /data2/isshamie/covid/data/processed/seqs/S_protein_align/hCoV_19WuhanWIV052019_EPI_ISL_402128_2019_12_30.protein.fasta\n"
     ]
    },
    {
     "name": "stderr",
     "output_type": "stream",
     "text": [
      "\r",
      " 88%|████████▊ | 15/17 [39:57<04:31, 135.52s/it]"
     ]
    },
    {
     "name": "stdout",
     "output_type": "stream",
     "text": [
      "s all proteins [SeqRecord(seq=Seq('MFVFLVLLPLVSSQCVNLTTRTQLPPAYTNSFTRGVYYPDKVFRSSVLHSTQDL...HYT'), id='hCoV_19ChinaWHU012020_EPI_ISL_406716_2020_01_02', name='<unknown name>', description='<unknown description>', dbxrefs=[])]\n",
      "to save /data2/isshamie/covid/data/processed/seqs/S_protein_align/hCoV_19ChinaWHU012020_EPI_ISL_406716_2020_01_02.protein.fasta\n"
     ]
    },
    {
     "name": "stderr",
     "output_type": "stream",
     "text": [
      "100%|██████████| 17/17 [39:58<00:00, 114.66s/it]\n"
     ]
    },
    {
     "name": "stdout",
     "output_type": "stream",
     "text": [
      "s all proteins [SeqRecord(seq=Seq('MFVFLVLLPLVSSQCVNLTTRTQLPPAYTNSFTRGVYYPDKVFRSSVLHSTQDL...HYT'), id='hCoV_19NetherlandsZuidHolland_82020_EPI_ISL_414468_2020_03_06', name='<unknown name>', description='<unknown description>', dbxrefs=[])]\n",
      "to save /data2/isshamie/covid/data/processed/seqs/S_protein_align/hCoV_19NetherlandsZuidHolland_82020_EPI_ISL_414468_2020_03_06.protein.fasta\n"
     ]
    },
    {
     "name": "stderr",
     "output_type": "stream",
     "text": [
      "\r",
      " 65%|██████▍   | 11/17 [40:04<22:53, 228.91s/it]"
     ]
    },
    {
     "name": "stdout",
     "output_type": "stream",
     "text": [
      "s all proteins [SeqRecord(seq=Seq('MFVFLVLLPLVSSQCVNLTTRTQLPPAYTNSFTRGVYYPDKVFRSSVLHSTQDL...LFA'), id='hCoV_19BrazilSPBR_012020_EPI_ISL_412964_2020_02_25', name='<unknown name>', description='<unknown description>', dbxrefs=[])]\n",
      "to save /data2/isshamie/covid/data/processed/seqs/S_protein_align/hCoV_19BrazilSPBR_012020_EPI_ISL_412964_2020_02_25.protein.fasta\n"
     ]
    },
    {
     "name": "stderr",
     "output_type": "stream",
     "text": [
      "\r",
      " 82%|████████▏ | 14/17 [40:06<07:34, 151.62s/it]"
     ]
    },
    {
     "name": "stdout",
     "output_type": "stream",
     "text": [
      "s all proteins [SeqRecord(seq=Seq('MFVFLVLLPLVSSQCVNLTTRTQLPPAYTNSFTRGVYYPDKVFRSSVLHSTQDL...HYT'), id='hCoV_19NetherlandsNoordBrabant_12020_EPI_ISL_414428_2020_03_02', name='<unknown name>', description='<unknown description>', dbxrefs=[])]\n",
      "to save /data2/isshamie/covid/data/processed/seqs/S_protein_align/hCoV_19NetherlandsNoordBrabant_12020_EPI_ISL_414428_2020_03_02.protein.fasta\n"
     ]
    },
    {
     "name": "stderr",
     "output_type": "stream",
     "text": [
      "\r",
      " 88%|████████▊ | 15/17 [40:06<04:25, 132.94s/it]"
     ]
    },
    {
     "name": "stdout",
     "output_type": "stream",
     "text": [
      "s all proteins [SeqRecord(seq=Seq('MFVFLVLLPLVSSQCVNLTTRTQLPPAYTNSFTRGVYYPDKVFRSSVLHSTQDL...HYT'), id='hCoV_19FranceHF18052020_EPI_ISL_414628_2020_03_02', name='<unknown name>', description='<unknown description>', dbxrefs=[])]\n",
      "to save /data2/isshamie/covid/data/processed/seqs/S_protein_align/hCoV_19FranceHF18052020_EPI_ISL_414628_2020_03_02.protein.fasta\n"
     ]
    },
    {
     "name": "stderr",
     "output_type": "stream",
     "text": [
      "\r",
      " 65%|██████▍   | 11/17 [40:10<15:05, 150.97s/it]"
     ]
    },
    {
     "name": "stdout",
     "output_type": "stream",
     "text": [
      "s all proteins [SeqRecord(seq=Seq('MFVFLVLLPLVSSQCVNLTTRTQLPPAYTNSFTRGVYYPDKVFRSSVLHSTQDL...CCC'), id='hCoV_19WalesPHW032020_EPI_ISL_414486_2020_03_07', name='<unknown name>', description='<unknown description>', dbxrefs=[])]\n",
      "to save /data2/isshamie/covid/data/processed/seqs/S_protein_align/hCoV_19WalesPHW032020_EPI_ISL_414486_2020_03_07.protein.fasta\n"
     ]
    },
    {
     "name": "stderr",
     "output_type": "stream",
     "text": [
      "\r",
      " 65%|██████▍   | 11/17 [40:11<21:04, 210.80s/it]"
     ]
    },
    {
     "name": "stdout",
     "output_type": "stream",
     "text": [
      "s all proteins [SeqRecord(seq=Seq('MFVFLVLLPLVSSQCVNLTTRTQLPPAYTNSFTRGVYYPDKVFRSSVLHSTQDL...HYT'), id='hCoV_19NetherlandsUtrecht_122020_EPI_ISL_414551_2020_03_07', name='<unknown name>', description='<unknown description>', dbxrefs=[])]\n",
      "to save /data2/isshamie/covid/data/processed/seqs/S_protein_align/hCoV_19NetherlandsUtrecht_122020_EPI_ISL_414551_2020_03_07.protein.fasta\n"
     ]
    },
    {
     "name": "stderr",
     "output_type": "stream",
     "text": [
      "\r",
      " 88%|████████▊ | 15/17 [40:16<04:24, 132.29s/it]"
     ]
    },
    {
     "name": "stdout",
     "output_type": "stream",
     "text": [
      "s all proteins [SeqRecord(seq=Seq('MFVFLVLLPLVSSQCVNLTTRTQLPPAYTNSFTRGVYYPDKVFRSSVLHSTQDL...HYT'), id='hCoV_19GuangdongGD2020233_P00272020_EPI_ISL_413856_2020_02_07', name='<unknown name>', description='<unknown description>', dbxrefs=[])]\n",
      "to save /data2/isshamie/covid/data/processed/seqs/S_protein_align/hCoV_19GuangdongGD2020233_P00272020_EPI_ISL_413856_2020_02_07.protein.fasta\n"
     ]
    },
    {
     "name": "stderr",
     "output_type": "stream",
     "text": [
      "\r",
      " 76%|███████▋  | 13/17 [40:22<08:36, 129.05s/it]"
     ]
    },
    {
     "name": "stdout",
     "output_type": "stream",
     "text": [
      "s all proteins [SeqRecord(seq=Seq('MFVFLVLLPLVSSQCVNLTTRTQLPPAYTNSFTRGVYYPDKVFRSSVLHSTQDL...HYT'), id='hCoV_19USACruiseA_92020_EPI_ISL_413614_2020_02_17', name='<unknown name>', description='<unknown description>', dbxrefs=[])]\n",
      "to save /data2/isshamie/covid/data/processed/seqs/S_protein_align/hCoV_19USACruiseA_92020_EPI_ISL_413614_2020_02_17.protein.fasta\n"
     ]
    },
    {
     "name": "stderr",
     "output_type": "stream",
     "text": [
      "100%|██████████| 17/17 [40:22<00:00, 117.46s/it]\n"
     ]
    },
    {
     "name": "stdout",
     "output_type": "stream",
     "text": [
      "s all proteins [SeqRecord(seq=Seq('MFVFLVLLPLVSSQCVNLTTRTQLPPAYTNSFTRGVYYPDKVFRSSVLHSTQDL...HYT'), id='hCoV_19FranceHF19932020_EPI_ISL_414637_2020_03_04', name='<unknown name>', description='<unknown description>', dbxrefs=[])]\n",
      "to save /data2/isshamie/covid/data/processed/seqs/S_protein_align/hCoV_19FranceHF19932020_EPI_ISL_414637_2020_03_04.protein.fasta\n"
     ]
    },
    {
     "name": "stderr",
     "output_type": "stream",
     "text": [
      "\r",
      "  6%|▌         | 1/17 [01:54<30:33, 114.59s/it]"
     ]
    },
    {
     "name": "stdout",
     "output_type": "stream",
     "text": [
      "s all proteins [SeqRecord(seq=Seq('MFVFLVLLPLVSSQCVNLTTRTQLPPAYTNSFTRGVYYPDKVFRSSVLHSTQDL...HYT'), id='hCoV_19USAWA8_UW52020_EPI_ISL_413486_2020_03_01', name='<unknown name>', description='<unknown description>', dbxrefs=[])]\n",
      "to save /data2/isshamie/covid/data/processed/seqs/S_protein_align/hCoV_19USAWA8_UW52020_EPI_ISL_413486_2020_03_01.protein.fasta\n"
     ]
    },
    {
     "name": "stderr",
     "output_type": "stream",
     "text": [
      "100%|██████████| 17/17 [40:26<00:00, 119.03s/it]\n"
     ]
    },
    {
     "name": "stdout",
     "output_type": "stream",
     "text": [
      "s all proteins [SeqRecord(seq=Seq('MFVFLVLLPLVSSQCVNLTTRTQLPPAYTNSFTRGVYYPDKVFRSSVLHSTQDL...YTT'), id='hCoV_19NetherlandsNoordBrabant_42020_EPI_ISL_414450_2020_03_06', name='<unknown name>', description='<unknown description>', dbxrefs=[])]\n",
      "to save /data2/isshamie/covid/data/processed/seqs/S_protein_align/hCoV_19NetherlandsNoordBrabant_42020_EPI_ISL_414450_2020_03_06.protein.fasta\n"
     ]
    },
    {
     "name": "stderr",
     "output_type": "stream",
     "text": [
      "\r",
      " 47%|████▋     | 8/17 [40:33<36:57, 246.39s/it]"
     ]
    },
    {
     "name": "stdout",
     "output_type": "stream",
     "text": [
      "s all proteins [SeqRecord(seq=Seq('MFVFLVLLPLVSSQCVNLTTRTQLPPAYTNSFTRGVYYPDKVFRSSVLHSTQDL...HYT'), id='hCoV_19CongoKN_132020_EPI_ISL_414647_2020_03_09', name='<unknown name>', description='<unknown description>', dbxrefs=[])]\n",
      "to save /data2/isshamie/covid/data/processed/seqs/S_protein_align/hCoV_19CongoKN_132020_EPI_ISL_414647_2020_03_09.protein.fasta\n"
     ]
    },
    {
     "name": "stderr",
     "output_type": "stream",
     "text": [
      "\r",
      " 50%|█████     | 1/2 [01:46<01:46, 106.78s/it]"
     ]
    },
    {
     "name": "stdout",
     "output_type": "stream",
     "text": [
      "s all proteins [SeqRecord(seq=Seq('MFVFLVLLPLVSSQCVNLTTRTQLPPAYTNSFTRGVYYPDKVFRSSVLHSTQDL...HYT'), id='hCoV_19South', name='<unknown name>', description='<unknown description>', dbxrefs=[])]\n",
      "to save /data2/isshamie/covid/data/processed/seqs/S_protein_align/hCoV_19South.protein.fasta\n"
     ]
    },
    {
     "name": "stderr",
     "output_type": "stream",
     "text": [
      "\r",
      " 94%|█████████▍| 16/17 [40:59<02:04, 124.37s/it]"
     ]
    },
    {
     "name": "stdout",
     "output_type": "stream",
     "text": [
      "s all proteins [SeqRecord(seq=Seq('MFVFLVLLPLVSSQCVNLTTRTQLPPAYTNSFTRGVYYPDKVFRSSVLHSTQDL...HYT'), id='hCoV_19NetherlandsZuidHolland_202020_EPI_ISL_414562_2020_03_03', name='<unknown name>', description='<unknown description>', dbxrefs=[])]\n",
      "to save /data2/isshamie/covid/data/processed/seqs/S_protein_align/hCoV_19NetherlandsZuidHolland_202020_EPI_ISL_414562_2020_03_03.protein.fasta\n"
     ]
    },
    {
     "name": "stderr",
     "output_type": "stream",
     "text": [
      "\r",
      " 94%|█████████▍| 16/17 [41:06<02:09, 129.27s/it]"
     ]
    },
    {
     "name": "stdout",
     "output_type": "stream",
     "text": [
      "s all proteins [SeqRecord(seq=Seq('MFVFLVLLPLVSSQCVNLTTRTQLPPAYTNSFTRGVYYPDKVFRSSVLHSTQDL...HYT'), id='hCoV_19AustraliaNSW102020_EPI_ISL_413596_2020_02_28', name='<unknown name>', description='<unknown description>', dbxrefs=[])]\n",
      "to save /data2/isshamie/covid/data/processed/seqs/S_protein_align/hCoV_19AustraliaNSW102020_EPI_ISL_413596_2020_02_28.protein.fasta\n"
     ]
    },
    {
     "name": "stderr",
     "output_type": "stream",
     "text": [
      "\r",
      " 94%|█████████▍| 16/17 [41:15<02:05, 125.40s/it]"
     ]
    },
    {
     "name": "stdout",
     "output_type": "stream",
     "text": [
      "s all proteins [SeqRecord(seq=Seq('MFVFLVLLPLVSSQCVNLTTRTQLPPAYTNSFTRGVYYPDKVFRSSVLHSTQDL...HYT'), id='hCoV_19AustraliaQLD012020_EPI_ISL_407894_2020_01_28', name='<unknown name>', description='<unknown description>', dbxrefs=[])]\n",
      "to save /data2/isshamie/covid/data/processed/seqs/S_protein_align/hCoV_19AustraliaQLD012020_EPI_ISL_407894_2020_01_28.protein.fasta\n"
     ]
    },
    {
     "name": "stderr",
     "output_type": "stream",
     "text": [
      "\r",
      " 53%|█████▎    | 9/17 [41:22<24:35, 184.43s/it]"
     ]
    },
    {
     "name": "stdout",
     "output_type": "stream",
     "text": [
      "s all proteins [SeqRecord(seq=Seq('MFVFLVLLPLVSSQCVNLTTRTQLPPAYTNSFTRGVYYPDKVFRSSVLHSTQDL...HYT'), id='hCoV_19TaiwanNTU022020_EPI_ISL_410218_2020_02_05', name='<unknown name>', description='<unknown description>', dbxrefs=[])]\n",
      "to save /data2/isshamie/covid/data/processed/seqs/S_protein_align/hCoV_19TaiwanNTU022020_EPI_ISL_410218_2020_02_05.protein.fasta\n"
     ]
    },
    {
     "name": "stderr",
     "output_type": "stream",
     "text": [
      "\r",
      " 94%|█████████▍| 16/17 [41:25<02:09, 129.47s/it]"
     ]
    },
    {
     "name": "stdout",
     "output_type": "stream",
     "text": [
      "s all proteins [SeqRecord(seq=Seq('MFVFLVLLPLVSSQCVNLTTRTQLPPAYTNSFTRGVYYPDKVFRSSVLHSTQDL...HYT'), id='hCoV_19USAWA_UW252020_EPI_ISL_414594_2020_03_05', name='<unknown name>', description='<unknown description>', dbxrefs=[])]\n",
      "to save /data2/isshamie/covid/data/processed/seqs/S_protein_align/hCoV_19USAWA_UW252020_EPI_ISL_414594_2020_03_05.protein.fasta\n"
     ]
    },
    {
     "name": "stderr",
     "output_type": "stream",
     "text": [
      "\r",
      " 88%|████████▊ | 15/17 [41:26<04:22, 131.11s/it]"
     ]
    },
    {
     "name": "stdout",
     "output_type": "stream",
     "text": [
      "s all proteins [SeqRecord(seq=Seq('MFVFLVLLPLVSSQCVNLTTRTQLPPAYTNSFTRGVYYPDKVFRSSVLHSTQDL...HYT'), id='hCoV_19USAWA_UW162020_EPI_ISL_414364_2020_03_05', name='<unknown name>', description='<unknown description>', dbxrefs=[])]\n",
      "to save /data2/isshamie/covid/data/processed/seqs/S_protein_align/hCoV_19USAWA_UW162020_EPI_ISL_414364_2020_03_05.protein.fasta\n"
     ]
    },
    {
     "name": "stderr",
     "output_type": "stream",
     "text": [
      "\r",
      " 94%|█████████▍| 16/17 [41:27<01:54, 114.11s/it]"
     ]
    },
    {
     "name": "stdout",
     "output_type": "stream",
     "text": [
      "s all proteins [SeqRecord(seq=Seq('MFVFLVLLPLVSSQCVNLTTRTQLPPAYTNSFTRGVYYPDKVFRSSVLHSTQDL...TNL'), id='hCoV_19ChinaWF00242020_EPI_ISL_413753_2020_02', name='<unknown name>', description='<unknown description>', dbxrefs=[])]\n",
      "to save /data2/isshamie/covid/data/processed/seqs/S_protein_align/hCoV_19ChinaWF00242020_EPI_ISL_413753_2020_02.protein.fasta\n"
     ]
    },
    {
     "name": "stderr",
     "output_type": "stream",
     "text": [
      "\r",
      " 94%|█████████▍| 16/17 [41:36<02:07, 127.50s/it]"
     ]
    },
    {
     "name": "stdout",
     "output_type": "stream",
     "text": [
      "s all proteins [SeqRecord(seq=Seq('MLIHLIIQIFPELVLNHRLEINLNTSYHLCTKDFLGMCVRLYKCVTHLKISLTE...WLT'), id='hCoV_19NetherlandsNoordBrabant_372020_EPI_ISL_414546_2020_03_06', name='<unknown name>', description='<unknown description>', dbxrefs=[])]\n",
      "to save /data2/isshamie/covid/data/processed/seqs/S_protein_align/hCoV_19NetherlandsNoordBrabant_372020_EPI_ISL_414546_2020_03_06.protein.fasta\n",
      "s all proteins [SeqRecord(seq=Seq('MFVFLVLLPLVSSQCVNLTTRTQLPPAYTNSFTRGVYYPDKVFRSSVLHSTQDL...HYT'), id='hCoV_19USACA82020_EPI_ISL_411955_2020_02_10', name='<unknown name>', description='<unknown description>', dbxrefs=[])]\n",
      "to save /data2/isshamie/covid/data/processed/seqs/S_protein_align/hCoV_19USACA82020_EPI_ISL_411955_2020_02_10.protein.fasta\n"
     ]
    },
    {
     "name": "stderr",
     "output_type": "stream",
     "text": [
      " 12%|█▏        | 2/17 [41:40<6:38:26, 1593.73s/it]"
     ]
    },
    {
     "name": "stdout",
     "output_type": "stream",
     "text": [
      "s all proteins [SeqRecord(seq=Seq('MFVFLVLLPLVSSQCVNLTTRTQLPPAYTNSFTRGVYYPDKVFRSSVLHSTQDL...HYT'), id='hCoV_19Wuhan_Hu_12019_EPI_ISL_402125_2019_12_31', name='<unknown name>', description='<unknown description>', dbxrefs=[])]\n",
      "to save /data2/isshamie/covid/data/processed/seqs/S_protein_align/hCoV_19Wuhan_Hu_12019_EPI_ISL_402125_2019_12_31.protein.fasta\n"
     ]
    },
    {
     "name": "stderr",
     "output_type": "stream",
     "text": [
      "\r",
      " 94%|█████████▍| 16/17 [41:44<02:07, 127.02s/it]"
     ]
    },
    {
     "name": "stdout",
     "output_type": "stream",
     "text": [
      "s all proteins [SeqRecord(seq=Seq('MFVFLVLLPLVSSQCVNLTTRTQLPPAYTNSFTRGVYYPDKVFRSSVLHSTQDL...HYT'), id='hCoV_19USACA_CDPH_UC72020_EPI_ISL_413925_2020_03_05', name='<unknown name>', description='<unknown description>', dbxrefs=[])]\n",
      "to save /data2/isshamie/covid/data/processed/seqs/S_protein_align/hCoV_19USACA_CDPH_UC72020_EPI_ISL_413925_2020_03_05.protein.fasta\n"
     ]
    },
    {
     "name": "stderr",
     "output_type": "stream",
     "text": [
      "\r",
      " 94%|█████████▍| 16/17 [41:48<02:08, 128.04s/it]"
     ]
    },
    {
     "name": "stdout",
     "output_type": "stream",
     "text": [
      "s all proteins [SeqRecord(seq=Seq('MPVMVFLLQKVVLKVYNHLVPNKLVLMESHLEKPKHSSIIIRKLMVLSNNYLKL...LLL'), id='hCoV_19NigeriaLagos012020_EPI_ISL_413550_2020_02_27', name='<unknown name>', description='<unknown description>', dbxrefs=[])]\n",
      "to save /data2/isshamie/covid/data/processed/seqs/S_protein_align/hCoV_19NigeriaLagos012020_EPI_ISL_413550_2020_02_27.protein.fasta\n"
     ]
    },
    {
     "name": "stderr",
     "output_type": "stream",
     "text": [
      "\r",
      " 82%|████████▏ | 14/17 [41:50<11:15, 225.05s/it]"
     ]
    },
    {
     "name": "stdout",
     "output_type": "stream",
     "text": [
      "s all proteins [SeqRecord(seq=Seq('MFVFLVLLPLVSSQCVNLTTRTQLPPAYTNSFTRGVYYPXXXXXXXXXXSTQDL...QRY'), id='hCoV_19Guangdong2020XN4276_P00372020_EPI_ISL_413859_2020_01_31', name='<unknown name>', description='<unknown description>', dbxrefs=[])]\n",
      "to save /data2/isshamie/covid/data/processed/seqs/S_protein_align/hCoV_19Guangdong2020XN4276_P00372020_EPI_ISL_413859_2020_01_31.protein.fasta\n"
     ]
    },
    {
     "name": "stderr",
     "output_type": "stream",
     "text": [
      "\r",
      " 65%|██████▍   | 11/17 [41:54<28:04, 280.74s/it]"
     ]
    },
    {
     "name": "stdout",
     "output_type": "stream",
     "text": [
      "s all proteins [SeqRecord(seq=Seq('MFVFLVLLPLVSSQCVNLTTRTQLPPAYTNSFTRGVYYPDKVFRSSVLHSTQDL...HYT'), id='hCoV_19FranceHF19892020_EPI_ISL_414636_2020_03_04', name='<unknown name>', description='<unknown description>', dbxrefs=[])]\n",
      "to save /data2/isshamie/covid/data/processed/seqs/S_protein_align/hCoV_19FranceHF19892020_EPI_ISL_414636_2020_03_04.protein.fasta\n"
     ]
    },
    {
     "name": "stderr",
     "output_type": "stream",
     "text": [
      "\r",
      " 12%|█▏        | 2/17 [03:28<27:06, 108.42s/it]"
     ]
    },
    {
     "name": "stdout",
     "output_type": "stream",
     "text": [
      "s all proteins [SeqRecord(seq=Seq('MFVFLVLLPLVSSQCVNLTTRTQLPPAYTNSFTRGVYYPDKVFRSSVLHSTQDL...HYT'), id='hCoV_19ChinaIQTC012020_EPI_ISL_412966_2020_02_05', name='<unknown name>', description='<unknown description>', dbxrefs=[])]\n",
      "to save /data2/isshamie/covid/data/processed/seqs/S_protein_align/hCoV_19ChinaIQTC012020_EPI_ISL_412966_2020_02_05.protein.fasta\n"
     ]
    },
    {
     "name": "stderr",
     "output_type": "stream",
     "text": [
      "\r",
      " 88%|████████▊ | 15/17 [41:59<04:40, 140.30s/it]"
     ]
    },
    {
     "name": "stdout",
     "output_type": "stream",
     "text": [
      "s all proteins [SeqRecord(seq=Seq('MFVFLVLLPLVSSQCVNLTTRTQLPPAYTNSFTRGVYYPDKVFRSSVLHSTQDL...HYT'), id='hCoV_19NetherlandsLimburg_42020_EPI_ISL_414426_2020_03_03', name='<unknown name>', description='<unknown description>', dbxrefs=[])]\n",
      "to save /data2/isshamie/covid/data/processed/seqs/S_protein_align/hCoV_19NetherlandsLimburg_42020_EPI_ISL_414426_2020_03_03.protein.fasta\n"
     ]
    },
    {
     "name": "stderr",
     "output_type": "stream",
     "text": [
      "\r",
      " 94%|█████████▍| 16/17 [42:00<02:07, 127.18s/it]"
     ]
    },
    {
     "name": "stdout",
     "output_type": "stream",
     "text": [
      "s all proteins [SeqRecord(seq=Seq('MFVFLVLLPLVSSQCVNLTTRTQLPPAYTNSFTRGVYYPDKVFRSSVLHSTQDL...HYT'), id='hCoV_19NetherlandsZuidHolland_52020_EPI_ISL_414465_2020_03_04', name='<unknown name>', description='<unknown description>', dbxrefs=[])]\n",
      "to save /data2/isshamie/covid/data/processed/seqs/S_protein_align/hCoV_19NetherlandsZuidHolland_52020_EPI_ISL_414465_2020_03_04.protein.fasta\n"
     ]
    },
    {
     "name": "stderr",
     "output_type": "stream",
     "text": [
      "\r",
      " 71%|███████   | 12/17 [42:00<16:16, 195.23s/it]"
     ]
    },
    {
     "name": "stdout",
     "output_type": "stream",
     "text": [
      "s all proteins [SeqRecord(seq=Seq('MFVFLVLLPLVSSQCVNLTTRTQLPPAYTNSFTRGVYYPDKVFRSSVLHSTQDL...TNL'), id='hCoV_19IrelandLimerick_199352020_EPI_ISL_414587_2020_03_03', name='<unknown name>', description='<unknown description>', dbxrefs=[])]\n",
      "to save /data2/isshamie/covid/data/processed/seqs/S_protein_align/hCoV_19IrelandLimerick_199352020_EPI_ISL_414587_2020_03_03.protein.fasta\n"
     ]
    },
    {
     "name": "stderr",
     "output_type": "stream",
     "text": [
      "\r",
      " 88%|████████▊ | 15/17 [42:02<05:37, 168.61s/it]"
     ]
    },
    {
     "name": "stdout",
     "output_type": "stream",
     "text": [
      "s all proteins [SeqRecord(seq=Seq('MFVFLVLLPLVSSQCVNLTTRTQLPPAYTNSFTRGVYYPDKVFRSSVLHSTQDL...HYT'), id='hCoV_19Guangdong2020XN4475_P00422020_EPI_ISL_413854_2020_01_30', name='<unknown name>', description='<unknown description>', dbxrefs=[])]\n",
      "to save /data2/isshamie/covid/data/processed/seqs/S_protein_align/hCoV_19Guangdong2020XN4475_P00422020_EPI_ISL_413854_2020_01_30.protein.fasta\n"
     ]
    },
    {
     "name": "stderr",
     "output_type": "stream",
     "text": [
      "\r",
      " 82%|████████▏ | 14/17 [42:03<06:01, 120.62s/it]"
     ]
    },
    {
     "name": "stdout",
     "output_type": "stream",
     "text": [
      "s all proteins [SeqRecord(seq=Seq('MFVFLVLLPLVSSQCVNLTTRTQLPPAYTNSFTRGVYYPDKVFRSSVLHSTQDL...HYT'), id='hCoV_19NetherlandsNoordBrabant_122020_EPI_ISL_414452_2020_03_06', name='<unknown name>', description='<unknown description>', dbxrefs=[])]\n",
      "to save /data2/isshamie/covid/data/processed/seqs/S_protein_align/hCoV_19NetherlandsNoordBrabant_122020_EPI_ISL_414452_2020_03_06.protein.fasta\n"
     ]
    },
    {
     "name": "stderr",
     "output_type": "stream",
     "text": [
      "\r",
      " 53%|█████▎    | 9/17 [42:11<26:55, 201.97s/it]"
     ]
    },
    {
     "name": "stdout",
     "output_type": "stream",
     "text": [
      "s all proteins [SeqRecord(seq=Seq('MFVFLVLLPLVSSQCVNLTTRTQLPPAYTNSFTRGVYYPDKVFRSSVLHSTQDL...HYT'), id='hCoV_19FranceHF17952020_EPI_ISL_414627_2020_03_02', name='<unknown name>', description='<unknown description>', dbxrefs=[])]\n",
      "to save /data2/isshamie/covid/data/processed/seqs/S_protein_align/hCoV_19FranceHF17952020_EPI_ISL_414627_2020_03_02.protein.fasta\n"
     ]
    },
    {
     "name": "stderr",
     "output_type": "stream",
     "text": [
      "\r",
      " 71%|███████   | 12/17 [42:16<11:56, 143.38s/it]"
     ]
    },
    {
     "name": "stdout",
     "output_type": "stream",
     "text": [
      "s all proteins [SeqRecord(seq=Seq('MFVFLVLLPLVSSQCVNLTTRTQLPPAYTNSFTRGVYYPDKVFRSSVLHSTQDL...CCC'), id='hCoV_19EnglandSheff022020_EPI_ISL_414501_2020_03_03', name='<unknown name>', description='<unknown description>', dbxrefs=[])]\n",
      "to save /data2/isshamie/covid/data/processed/seqs/S_protein_align/hCoV_19EnglandSheff022020_EPI_ISL_414501_2020_03_03.protein.fasta\n"
     ]
    },
    {
     "name": "stderr",
     "output_type": "stream",
     "text": [
      "\r",
      " 71%|███████   | 12/17 [42:16<15:24, 184.96s/it]"
     ]
    },
    {
     "name": "stdout",
     "output_type": "stream",
     "text": [
      "s all proteins [SeqRecord(seq=Seq('MFVFLVLLPLVSSQCVNLTTRTQLPPAYTNSFTRGVYYPDKVFRSSVLHSTQDL...HYT'), id='hCoV_19NetherlandsNoordHolland_22020_EPI_ISL_414549_2020_03_03', name='<unknown name>', description='<unknown description>', dbxrefs=[])]\n",
      "to save /data2/isshamie/covid/data/processed/seqs/S_protein_align/hCoV_19NetherlandsNoordHolland_22020_EPI_ISL_414549_2020_03_03.protein.fasta\n"
     ]
    },
    {
     "name": "stderr",
     "output_type": "stream",
     "text": [
      "\r",
      " 94%|█████████▍| 16/17 [42:17<02:08, 128.86s/it]"
     ]
    },
    {
     "name": "stdout",
     "output_type": "stream",
     "text": [
      "s all proteins [SeqRecord(seq=Seq('MFVFLVLLPLVSSQCVNLTTRTQLPPAYTNSFTRGVYYPDKVFRSSVLHSTQDL...HYT'), id='hCoV_19USACA_PC101P2020_EPI_ISL_414648_2020_03_11', name='<unknown name>', description='<unknown description>', dbxrefs=[])]\n",
      "to save /data2/isshamie/covid/data/processed/seqs/S_protein_align/hCoV_19USACA_PC101P2020_EPI_ISL_414648_2020_03_11.protein.fasta\n"
     ]
    },
    {
     "name": "stderr",
     "output_type": "stream",
     "text": [
      "100%|██████████| 2/2 [03:35<00:00, 107.34s/it]\n"
     ]
    },
    {
     "name": "stdout",
     "output_type": "stream",
     "text": [
      "s all proteins [SeqRecord(seq=Seq('MFVFLVLLPLVSSQCVNLTTRTQLPPAYTNSFTRGVYYPDKVFRSSVLHSTQDL...HYT'), id='hCoV_19NetherlandsHaarlem_13636882020_EPI_ISL_413572_2020_03_01', name='<unknown name>', description='<unknown description>', dbxrefs=[])]\n",
      "to save /data2/isshamie/covid/data/processed/seqs/S_protein_align/hCoV_19NetherlandsHaarlem_13636882020_EPI_ISL_413572_2020_03_01.protein.fasta\n"
     ]
    },
    {
     "name": "stderr",
     "output_type": "stream",
     "text": [
      "100%|██████████| 17/17 [42:58<00:00, 122.79s/it]\n"
     ]
    },
    {
     "name": "stdout",
     "output_type": "stream",
     "text": [
      "s all proteins [SeqRecord(seq=Seq('MFVFLVLLPLVSSQCVNLTTRTQLPPAYTNSFTRGVYYPDKVFRSSVLHSTQDL...HYT'), id='hCoV_19England012020_EPI_ISL_407071_2020_01_29', name='<unknown name>', description='<unknown description>', dbxrefs=[])]\n",
      "to save /data2/isshamie/covid/data/processed/seqs/S_protein_align/hCoV_19England012020_EPI_ISL_407071_2020_01_29.protein.fasta\n"
     ]
    },
    {
     "name": "stderr",
     "output_type": "stream",
     "text": [
      "100%|██████████| 17/17 [43:07<00:00, 109.72s/it]\n"
     ]
    },
    {
     "name": "stdout",
     "output_type": "stream",
     "text": [
      "s all proteins [SeqRecord(seq=Seq('IGLALYYPSARIVYTACSHAAVDALCEKALKYLPIDKCSRIIPARARVECFDKF...SLQ'), id='hCoV_19pangolinGuangxiP1E2017_EPI_ISL_410539_2017', name='<unknown name>', description='<unknown description>', dbxrefs=[])]\n",
      "to save /data2/isshamie/covid/data/processed/seqs/S_protein_align/hCoV_19pangolinGuangxiP1E2017_EPI_ISL_410539_2017.protein.fasta\n"
     ]
    },
    {
     "name": "stderr",
     "output_type": "stream",
     "text": [
      "100%|██████████| 17/17 [43:08<00:00, 170.97s/it]\n"
     ]
    },
    {
     "name": "stdout",
     "output_type": "stream",
     "text": [
      "s all proteins [SeqRecord(seq=Seq('MFVFLVLLPLVSSQCVNLTTRTQLPPAYTNSFTRGVYYPDKVFRSSVLHSTQDL...HYT'), id='hCoV_19AustraliaNSW112020_EPI_ISL_413597_2020_03_02', name='<unknown name>', description='<unknown description>', dbxrefs=[])]\n",
      "to save /data2/isshamie/covid/data/processed/seqs/S_protein_align/hCoV_19AustraliaNSW112020_EPI_ISL_413597_2020_03_02.protein.fasta\n"
     ]
    },
    {
     "name": "stderr",
     "output_type": "stream",
     "text": [
      "100%|██████████| 17/17 [43:12<00:00, 122.90s/it]\n"
     ]
    },
    {
     "name": "stdout",
     "output_type": "stream",
     "text": [
      "s all proteins [SeqRecord(seq=Seq('MFVFLVLLPLVSSQCVNLTTRTQLPPAYTNSFTRGVYYPDKVFRSSVLHSTQDL...HYT'), id='hCoV_19WuhanWH012019_EPI_ISL_406798_2019_12_26', name='<unknown name>', description='<unknown description>', dbxrefs=[])]\n",
      "to save /data2/isshamie/covid/data/processed/seqs/S_protein_align/hCoV_19WuhanWH012019_EPI_ISL_406798_2019_12_26.protein.fasta\n"
     ]
    },
    {
     "name": "stderr",
     "output_type": "stream",
     "text": [
      "100%|██████████| 17/17 [43:18<00:00, 124.52s/it]\n"
     ]
    },
    {
     "name": "stdout",
     "output_type": "stream",
     "text": [
      "s all proteins [SeqRecord(seq=Seq('MFVFLVLLPLVSSQCVNLTTRTQLPPAYTNSFTRGVYYPDKVFRSSVLHSTQDL...HYT'), id='hCoV_19AustraliaQLD022020_EPI_ISL_407896_2020_01_30', name='<unknown name>', description='<unknown description>', dbxrefs=[])]\n",
      "to save /data2/isshamie/covid/data/processed/seqs/S_protein_align/hCoV_19AustraliaQLD022020_EPI_ISL_407896_2020_01_30.protein.fasta\n"
     ]
    },
    {
     "name": "stderr",
     "output_type": "stream",
     "text": [
      "\r",
      " 59%|█████▉    | 10/17 [43:18<19:08, 164.01s/it]"
     ]
    },
    {
     "name": "stdout",
     "output_type": "stream",
     "text": [
      "s all proteins [SeqRecord(seq=Seq('MFVFLVLLPLVSSQCVNLTTRTQLPPAYTNSFTRGVYYPDKVFRSSVLHSTQDL...HYT'), id='hCoV_19ChinaWF00262020_EPI_ISL_413761_2020_02', name='<unknown name>', description='<unknown description>', dbxrefs=[])]\n",
      "to save /data2/isshamie/covid/data/processed/seqs/S_protein_align/hCoV_19ChinaWF00262020_EPI_ISL_413761_2020_02.protein.fasta\n"
     ]
    },
    {
     "name": "stderr",
     "output_type": "stream",
     "text": [
      "100%|██████████| 17/17 [43:20<00:00, 120.39s/it]\n"
     ]
    },
    {
     "name": "stdout",
     "output_type": "stream",
     "text": [
      "s all proteins [SeqRecord(seq=Seq('MFVFLVLLPLVSSQCVNLTTRTQLPPAYTNSFTRGVYYPDKVFRSSVLHSTQDL...HYT'), id='hCoV_19USATX12020_EPI_ISL_411956_2020_02_11', name='<unknown name>', description='<unknown description>', dbxrefs=[])]\n",
      "to save /data2/isshamie/covid/data/processed/seqs/S_protein_align/hCoV_19USATX12020_EPI_ISL_411956_2020_02_11.protein.fasta\n"
     ]
    },
    {
     "name": "stderr",
     "output_type": "stream",
     "text": [
      "100%|██████████| 17/17 [43:25<00:00, 122.80s/it]\n"
     ]
    },
    {
     "name": "stdout",
     "output_type": "stream",
     "text": [
      "s all proteins [SeqRecord(seq=Seq('MFVFLVLLPLVSSQCVNLTTRTQLPPAYTNSFTRGVYYPDKVFRSSVLHSTQDL...HYT'), id='hCoV_19USAWA_UW262020_EPI_ISL_414595_2020_03_05', name='<unknown name>', description='<unknown description>', dbxrefs=[])]\n",
      "to save /data2/isshamie/covid/data/processed/seqs/S_protein_align/hCoV_19USAWA_UW262020_EPI_ISL_414595_2020_03_05.protein.fasta\n"
     ]
    },
    {
     "name": "stderr",
     "output_type": "stream",
     "text": [
      "\r",
      " 94%|█████████▍| 16/17 [43:29<02:08, 128.49s/it]"
     ]
    },
    {
     "name": "stdout",
     "output_type": "stream",
     "text": [
      "s all proteins [SeqRecord(seq=Seq('MFVFLVLLPLVSSQCVNLTTRTQLPPAYTNSFTRGVYYPDKVFRSSVLHSTQDL...HYT'), id='hCoV_19FranceHF19952020_EPI_ISL_414638_2020_03_04', name='<unknown name>', description='<unknown description>', dbxrefs=[])]\n",
      "to save /data2/isshamie/covid/data/processed/seqs/S_protein_align/hCoV_19FranceHF19952020_EPI_ISL_414638_2020_03_04.protein.fasta\n"
     ]
    },
    {
     "name": "stderr",
     "output_type": "stream",
     "text": [
      "\r",
      " 18%|█▊        | 3/17 [05:04<24:23, 104.54s/it]"
     ]
    },
    {
     "name": "stdout",
     "output_type": "stream",
     "text": [
      "s all proteins [SeqRecord(seq=Seq('MFVFLVLLPLVSSQCVNLTTRTQLPPAYTNSFTRGVYYPDKVFRSSVLHSTQDL...TSD'), id='hCoV_19WuhanIVDC_HB_envF542020_EPI_ISL_408512_2020_01_01', name='<unknown name>', description='<unknown description>', dbxrefs=[])]\n",
      "to save /data2/isshamie/covid/data/processed/seqs/S_protein_align/hCoV_19WuhanIVDC_HB_envF542020_EPI_ISL_408512_2020_01_01.protein.fasta\n"
     ]
    },
    {
     "name": "stderr",
     "output_type": "stream",
     "text": [
      "\r",
      " 88%|████████▊ | 15/17 [43:33<06:17, 188.55s/it]"
     ]
    },
    {
     "name": "stdout",
     "output_type": "stream",
     "text": [
      "s all proteins [SeqRecord(seq=Seq('MFVFLVLLPLVSSQCVNLTTRTQLPPAYTNSFTRGVYYPDKVFRSSVLHSTQDL...HYT'), id='hCoV_19NetherlandsNoordBrabant_362020_EPI_ISL_414545_2020_03_03', name='<unknown name>', description='<unknown description>', dbxrefs=[])]\n",
      "to save /data2/isshamie/covid/data/processed/seqs/S_protein_align/hCoV_19NetherlandsNoordBrabant_362020_EPI_ISL_414545_2020_03_03.protein.fasta\n"
     ]
    },
    {
     "name": "stderr",
     "output_type": "stream",
     "text": [
      "\r",
      " 18%|█▊        | 3/17 [43:35<4:28:21, 1150.14s/it]"
     ]
    },
    {
     "name": "stdout",
     "output_type": "stream",
     "text": [
      "s all proteins [SeqRecord(seq=Seq('MFVFLVLLPLVSSQCVNLTTRTQLPPAYTNSFTRGVYYPDKVFRSSVLHSTQDL...HYT'), id='hCoV_19Guangdong2020XN4243_P00352020_EPI_ISL_413853_2020_01_30', name='<unknown name>', description='<unknown description>', dbxrefs=[])]\n",
      "to save /data2/isshamie/covid/data/processed/seqs/S_protein_align/hCoV_19Guangdong2020XN4243_P00352020_EPI_ISL_413853_2020_01_30.protein.fasta\n"
     ]
    },
    {
     "name": "stderr",
     "output_type": "stream",
     "text": [
      "\r",
      " 88%|████████▊ | 15/17 [43:36<03:44, 112.34s/it]"
     ]
    },
    {
     "name": "stdout",
     "output_type": "stream",
     "text": [
      "s all proteins [SeqRecord(seq=Seq('MFVFLVLLPLVSSQCVNLTTRTQLPPAYTNSFTRGVYYPDKVFRSSVLHSTQDL...HYT'), id='hCoV_19SwitzerlandGE38952020_EPI_ISL_413997_2020_02_26', name='<unknown name>', description='<unknown description>', dbxrefs=[])]\n",
      "to save /data2/isshamie/covid/data/processed/seqs/S_protein_align/hCoV_19SwitzerlandGE38952020_EPI_ISL_413997_2020_02_26.protein.fasta\n"
     ]
    },
    {
     "name": "stderr",
     "output_type": "stream",
     "text": [
      "100%|██████████| 17/17 [43:36<00:00, 121.89s/it]\n"
     ]
    },
    {
     "name": "stdout",
     "output_type": "stream",
     "text": [
      "s all proteins [SeqRecord(seq=Seq('MFVFLVLLPLVSSQCVNLTTRTQLPPAYTNSFTRGVYYPDKVFRSSVLHSTQDL...CCC'), id='hCoV_19GermanyNRW_102020_EPI_ISL_414574_2020_02_28', name='<unknown name>', description='<unknown description>', dbxrefs=[])]\n",
      "to save /data2/isshamie/covid/data/processed/seqs/S_protein_align/hCoV_19GermanyNRW_102020_EPI_ISL_414574_2020_02_28.protein.fasta\n"
     ]
    },
    {
     "name": "stderr",
     "output_type": "stream",
     "text": [
      "\r",
      " 94%|█████████▍| 16/17 [43:37<02:26, 146.68s/it]"
     ]
    },
    {
     "name": "stdout",
     "output_type": "stream",
     "text": [
      "s all proteins [SeqRecord(seq=Seq('MFVFLVLLPLVSSQCVNLTTRTQLPPAYTNSFTRGVYYPDKVFRSSVLHSTQDL...HYT'), id='hCoV_19Nonthaburi612020_EPI_ISL_403962_2020_01_08', name='<unknown name>', description='<unknown description>', dbxrefs=[])]\n",
      "to save /data2/isshamie/covid/data/processed/seqs/S_protein_align/hCoV_19Nonthaburi612020_EPI_ISL_403962_2020_01_08.protein.fasta\n"
     ]
    },
    {
     "name": "stderr",
     "output_type": "stream",
     "text": [
      "100%|██████████| 17/17 [43:39<00:00, 123.49s/it]\n"
     ]
    },
    {
     "name": "stdout",
     "output_type": "stream",
     "text": [
      "s all proteins [SeqRecord(seq=Seq('MFVFLVLLPLVSSQCVNLTTRTQLPPAYTNSFTRGVYYPDKVFRSSVLHSTQDL...HYT'), id='hCoV_19NetherlandsNoordBrabant_62020_EPI_ISL_414451_2020_03_06', name='<unknown name>', description='<unknown description>', dbxrefs=[])]\n",
      "to save /data2/isshamie/covid/data/processed/seqs/S_protein_align/hCoV_19NetherlandsNoordBrabant_62020_EPI_ISL_414451_2020_03_06.protein.fasta\n"
     ]
    },
    {
     "name": "stderr",
     "output_type": "stream",
     "text": [
      "\r",
      " 59%|█████▉    | 10/17 [43:44<19:43, 169.10s/it]"
     ]
    },
    {
     "name": "stdout",
     "output_type": "stream",
     "text": [
      "s all proteins [SeqRecord(seq=Seq('MFVFLVLLPLVSSQCVNLTTRTQLPPAYTNSFTRGVYYPDKVFRSSVLHSTQDL...HYT'), id='hCoV_19ChinaIQTC022020_EPI_ISL_412967_2020_01_29', name='<unknown name>', description='<unknown description>', dbxrefs=[])]\n",
      "to save /data2/isshamie/covid/data/processed/seqs/S_protein_align/hCoV_19ChinaIQTC022020_EPI_ISL_412967_2020_01_29.protein.fasta\n"
     ]
    },
    {
     "name": "stderr",
     "output_type": "stream",
     "text": [
      "\r",
      " 94%|█████████▍| 16/17 [43:45<02:09, 129.94s/it]"
     ]
    },
    {
     "name": "stdout",
     "output_type": "stream",
     "text": [
      "s all proteins [SeqRecord(seq=Seq('MFVFLVLLPLVSSQCVNLTTRTQLPPAYTNSFTRGVYYPDKVFRSSVLHSTQDL...HYT'), id='hCoV_19EnglandSheff012020_EPI_ISL_414500_2020_03_04', name='<unknown name>', description='<unknown description>', dbxrefs=[])]\n",
      "to save /data2/isshamie/covid/data/processed/seqs/S_protein_align/hCoV_19EnglandSheff012020_EPI_ISL_414500_2020_03_04.protein.fasta\n"
     ]
    },
    {
     "name": "stderr",
     "output_type": "stream",
     "text": [
      "\r",
      " 76%|███████▋  | 13/17 [43:51<10:32, 158.09s/it]"
     ]
    },
    {
     "name": "stdout",
     "output_type": "stream",
     "text": [
      "s all proteins [SeqRecord(seq=Seq('MFVFLVLLPLVSSQCVNLTTRTQLPPAYTNSFTRGVYYPDKVFRSSVLHLTQDL...CCC'), id='hCoV_19GuangdongFS_S42_P00462020_EPI_ISL_413869_2020_02_28', name='<unknown name>', description='<unknown description>', dbxrefs=[])]\n",
      "to save /data2/isshamie/covid/data/processed/seqs/S_protein_align/hCoV_19GuangdongFS_S42_P00462020_EPI_ISL_413869_2020_02_28.protein.fasta\n"
     ]
    },
    {
     "name": "stderr",
     "output_type": "stream",
     "text": [
      "\r",
      " 71%|███████   | 12/17 [43:52<19:19, 232.00s/it]"
     ]
    },
    {
     "name": "stdout",
     "output_type": "stream",
     "text": [
      "s all proteins [SeqRecord(seq=Seq('MFVFLVLLPLVSSQCVNLTTRTQLPPAYTNSFTRGVYYPDKVFRSSVLHSTQDL...HYT'), id='hCoV_19NetherlandsLimburg_32020_EPI_ISL_414425_2020_03_03', name='<unknown name>', description='<unknown description>', dbxrefs=[])]\n",
      "to save /data2/isshamie/covid/data/processed/seqs/S_protein_align/hCoV_19NetherlandsLimburg_32020_EPI_ISL_414425_2020_03_03.protein.fasta\n"
     ]
    },
    {
     "name": "stderr",
     "output_type": "stream",
     "text": [
      "100%|██████████| 17/17 [43:54<00:00, 123.48s/it]\n"
     ]
    },
    {
     "name": "stdout",
     "output_type": "stream",
     "text": [
      "s all proteins [SeqRecord(seq=Seq('MFVFLVLLPLVSSQCVNLTTRTQLPPAYTNSFTRGVYYPDKVFRSSVLHSTQDL...HYT'), id='hCoV_19NetherlandsUtrecht_142020_EPI_ISL_414464_2020_03_04', name='<unknown name>', description='<unknown description>', dbxrefs=[])]\n",
      "to save /data2/isshamie/covid/data/processed/seqs/S_protein_align/hCoV_19NetherlandsUtrecht_142020_EPI_ISL_414464_2020_03_04.protein.fasta\n"
     ]
    },
    {
     "name": "stderr",
     "output_type": "stream",
     "text": [
      "\r",
      " 76%|███████▋  | 13/17 [43:55<11:23, 170.98s/it]"
     ]
    },
    {
     "name": "stdout",
     "output_type": "stream",
     "text": [
      "s all proteins [SeqRecord(seq=Seq('MFVFLVLLPLVSSQCVNLTTRTQLPPAYTNSFTRGVYYPDKVFRSSVLHSTQDL...HYT'), id='hCoV_19FranceGE19732020_EPI_ISL_414631_2020_03_04', name='<unknown name>', description='<unknown description>', dbxrefs=[])]\n",
      "to save /data2/isshamie/covid/data/processed/seqs/S_protein_align/hCoV_19FranceGE19732020_EPI_ISL_414631_2020_03_04.protein.fasta\n"
     ]
    },
    {
     "name": "stderr",
     "output_type": "stream",
     "text": [
      "\r",
      " 76%|███████▋  | 13/17 [43:59<08:45, 131.46s/it]"
     ]
    },
    {
     "name": "stdout",
     "output_type": "stream",
     "text": [
      "s all proteins [SeqRecord(seq=Seq('MFVFLVLLPLVSSQCVNLTTRTQLPPAYTNSFTRGVYYPDKVFRSSVLHSTQDL...HYT'), id='hCoV_19NetherlandsNoordBrabant_392020_EPI_ISL_414548_2020_03_04', name='<unknown name>', description='<unknown description>', dbxrefs=[])]\n",
      "to save /data2/isshamie/covid/data/processed/seqs/S_protein_align/hCoV_19NetherlandsNoordBrabant_392020_EPI_ISL_414548_2020_03_04.protein.fasta\n"
     ]
    },
    {
     "name": "stderr",
     "output_type": "stream",
     "text": [
      "100%|██████████| 17/17 [44:07<00:00, 123.04s/it]\n"
     ]
    },
    {
     "name": "stdout",
     "output_type": "stream",
     "text": [
      "s all proteins [SeqRecord(seq=Seq('MFVFLVLVPLVSSQCVNLTTRTQLPPAYTNSFTRGVYYPDKVFRSSVLHSTQDL...HYT'), id='hCoV_19canineHong', name='<unknown name>', description='<unknown description>', dbxrefs=[])]\n",
      "to save /data2/isshamie/covid/data/processed/seqs/S_protein_align/hCoV_19canineHong.protein.fasta\n"
     ]
    },
    {
     "name": "stderr",
     "output_type": "stream",
     "text": [
      "\r",
      " 24%|██▎       | 4/17 [06:09<20:07, 92.88s/it] "
     ]
    },
    {
     "name": "stdout",
     "output_type": "stream",
     "text": [
      "s all proteins [SeqRecord(seq=Seq('MFVFLVLLPLVSSQCVNLTTRTQLPPAYTNSFTRGVYYPDKVFRSSVLHSTQDL...HYT'), id='hCoV_19Singapore82020_EPI_ISL_410714_2020_02_03', name='<unknown name>', description='<unknown description>', dbxrefs=[])]\n",
      "to save /data2/isshamie/covid/data/processed/seqs/S_protein_align/hCoV_19Singapore82020_EPI_ISL_410714_2020_02_03.protein.fasta\n"
     ]
    },
    {
     "name": "stderr",
     "output_type": "stream",
     "text": [
      "\r",
      " 65%|██████▍   | 11/17 [44:40<13:55, 139.21s/it]"
     ]
    },
    {
     "name": "stdout",
     "output_type": "stream",
     "text": [
      "s all proteins [SeqRecord(seq=Seq('MFVFLVLLPLVSSQCVNLTTRTQLPPAYTNSFTRGVYYPDKVFRSSVLHSTQDL...NLW'), id='hCoV_19Guangdong2020XN4433_P00402020_EPI_ISL_413852_2020_01_30', name='<unknown name>', description='<unknown description>', dbxrefs=[])]\n",
      "to save /data2/isshamie/covid/data/processed/seqs/S_protein_align/hCoV_19Guangdong2020XN4433_P00402020_EPI_ISL_413852_2020_01_30.protein.fasta\n"
     ]
    },
    {
     "name": "stderr",
     "output_type": "stream",
     "text": [
      "\r",
      " 94%|█████████▍| 16/17 [44:46<01:39, 99.81s/it] "
     ]
    },
    {
     "name": "stdout",
     "output_type": "stream",
     "text": [
      "s all proteins [SeqRecord(seq=Seq('MFVFLVLLPLVSSQCVNLTTRTQLPPAYTNSFTRGVYYPDKVFRSSVLHSTQDL...HYT'), id='hCoV_19GermanyNRW_092020_EPI_ISL_414509_2020_02_28', name='<unknown name>', description='<unknown description>', dbxrefs=[])]\n",
      "to save /data2/isshamie/covid/data/processed/seqs/S_protein_align/hCoV_19GermanyNRW_092020_EPI_ISL_414509_2020_02_28.protein.fasta\n"
     ]
    },
    {
     "name": "stderr",
     "output_type": "stream",
     "text": [
      "100%|██████████| 17/17 [44:46<00:00, 123.36s/it]\n"
     ]
    },
    {
     "name": "stdout",
     "output_type": "stream",
     "text": [
      "s all proteins [SeqRecord(seq=Seq('MFVFLVLLPLVSSQCVNLTTRTQLPPAYTNSFTRGVYYPDKVFRSSVLHSTQDL...HYT'), id='hCoV_19USAWA_UW272020_EPI_ISL_414596_2020_03_04', name='<unknown name>', description='<unknown description>', dbxrefs=[])]\n",
      "to save /data2/isshamie/covid/data/processed/seqs/S_protein_align/hCoV_19USAWA_UW272020_EPI_ISL_414596_2020_03_04.protein.fasta\n"
     ]
    },
    {
     "name": "stderr",
     "output_type": "stream",
     "text": [
      "100%|██████████| 17/17 [44:48<00:00, 113.60s/it]\n"
     ]
    },
    {
     "name": "stdout",
     "output_type": "stream",
     "text": [
      "s all proteins [SeqRecord(seq=Seq('MFVFLVLLPLVSSQCVNLTTRTQLPPAYTNSFTRGVYYPDKVFRSSVLHSTQDL...HYT'), id='hCoV_19NetherlandsNoordBrabant_22020_EPI_ISL_414449_2020_03_03', name='<unknown name>', description='<unknown description>', dbxrefs=[])]\n",
      "to save /data2/isshamie/covid/data/processed/seqs/S_protein_align/hCoV_19NetherlandsNoordBrabant_22020_EPI_ISL_414449_2020_03_03.protein.fasta\n"
     ]
    },
    {
     "name": "stderr",
     "output_type": "stream",
     "text": [
      "\r",
      " 65%|██████▍   | 11/17 [44:53<13:55, 139.23s/it]"
     ]
    },
    {
     "name": "stdout",
     "output_type": "stream",
     "text": [
      "s all proteins [SeqRecord(seq=Seq('MFVFLVLLPLVSSQCVNLTTRTQLPPAYTNSFTRGVYYPDKVFRSSVLHSTQDL...HYT'), id='hCoV_19WuhanIVDC_HB_envF132020_EPI_ISL_408511_2020_01_01', name='<unknown name>', description='<unknown description>', dbxrefs=[])]\n",
      "to save /data2/isshamie/covid/data/processed/seqs/S_protein_align/hCoV_19WuhanIVDC_HB_envF132020_EPI_ISL_408511_2020_01_01.protein.fasta\n"
     ]
    },
    {
     "name": "stderr",
     "output_type": "stream",
     "text": [
      "\r",
      " 94%|█████████▍| 16/17 [44:54<02:36, 156.29s/it]"
     ]
    },
    {
     "name": "stdout",
     "output_type": "stream",
     "text": [
      "s all proteins [SeqRecord(seq=Seq('MFVFLVLLPLVSSQCVNLTTRTQLPPAYTNSFTRGVYYPDKVFRSSVLHSTQDL...HYT'), id='hCoV_19NetherlandsNoordBrabant_352020_EPI_ISL_414544_2020_03_09', name='<unknown name>', description='<unknown description>', dbxrefs=[])]\n",
      "to save /data2/isshamie/covid/data/processed/seqs/S_protein_align/hCoV_19NetherlandsNoordBrabant_352020_EPI_ISL_414544_2020_03_09.protein.fasta\n"
     ]
    },
    {
     "name": "stderr",
     "output_type": "stream",
     "text": [
      "\r",
      " 24%|██▎       | 4/17 [44:54<2:59:35, 828.90s/it] "
     ]
    },
    {
     "name": "stdout",
     "output_type": "stream",
     "text": [
      "s all proteins [SeqRecord(seq=Seq('MFVFLVLLPLVSSQCVNLTTRTQLPPAYTNSFTRGVYYPDKVFRSSVLHSTQDL...HYT'), id='hCoV_19JapanHu_DP_Kng_19_0202020_EPI_ISL_412968_2020_02_10', name='<unknown name>', description='<unknown description>', dbxrefs=[])]\n",
      "to save /data2/isshamie/covid/data/processed/seqs/S_protein_align/hCoV_19JapanHu_DP_Kng_19_0202020_EPI_ISL_412968_2020_02_10.protein.fasta\n"
     ]
    },
    {
     "name": "stderr",
     "output_type": "stream",
     "text": [
      "100%|██████████| 17/17 [45:00<00:00, 113.35s/it]\n"
     ]
    },
    {
     "name": "stdout",
     "output_type": "stream",
     "text": [
      "s all proteins [SeqRecord(seq=Seq('MFVFLVLLPLVSSQCVNLTTRTQLPPAYTNSFTRGVYYPDKVFRSSVLHSTQDL...HTF'), id='hCoV_19BrazilSPBR_042020_EPI_ISL_414017_2020_03_04', name='<unknown name>', description='<unknown description>', dbxrefs=[])]\n",
      "to save /data2/isshamie/covid/data/processed/seqs/S_protein_align/hCoV_19BrazilSPBR_042020_EPI_ISL_414017_2020_03_04.protein.fasta\n"
     ]
    },
    {
     "name": "stderr",
     "output_type": "stream",
     "text": [
      "\r",
      " 76%|███████▋  | 13/17 [45:06<20:33, 308.40s/it]"
     ]
    },
    {
     "name": "stdout",
     "output_type": "stream",
     "text": [
      "s all proteins [SeqRecord(seq=Seq('MFVFLVLLPLVSSQCVNLTTRTQLPPAYTNSFTRGVYYPDKVFRSSVLHSTQDL...HYT'), id='hCoV_19ChinaWF00162020_EPI_ISL_413746_2020_02', name='<unknown name>', description='<unknown description>', dbxrefs=[])]\n",
      "to save /data2/isshamie/covid/data/processed/seqs/S_protein_align/hCoV_19ChinaWF00162020_EPI_ISL_413746_2020_02.protein.fasta\n"
     ]
    },
    {
     "name": "stderr",
     "output_type": "stream",
     "text": [
      "\r",
      " 82%|████████▏ | 14/17 [45:10<06:42, 134.14s/it]"
     ]
    },
    {
     "name": "stdout",
     "output_type": "stream",
     "text": [
      "s all proteins [SeqRecord(seq=Seq('MFVFLVLLPLVSSQCVNLTTRTQLPPAYTNSFTRGVYYPDKVFRSSVLHSTQDL...HYT'), id='hCoV_19FranceGE19772020_EPI_ISL_414632_2020_03_04', name='<unknown name>', description='<unknown description>', dbxrefs=[])]\n",
      "to save /data2/isshamie/covid/data/processed/seqs/S_protein_align/hCoV_19FranceGE19772020_EPI_ISL_414632_2020_03_04.protein.fasta\n"
     ]
    },
    {
     "name": "stderr",
     "output_type": "stream",
     "text": [
      "\r",
      " 82%|████████▏ | 14/17 [45:12<05:41, 113.87s/it]"
     ]
    },
    {
     "name": "stdout",
     "output_type": "stream",
     "text": [
      "s all proteins [SeqRecord(seq=Seq('MFVFLVLLPLVSSQCVNLTTRTQLPPAYTNSFTRGVYYPDKVFRSSVLHSTQDL...HYT'), id='hCoV_19NetherlandsUtrecht_132020_EPI_ISL_414463_2020_03_04', name='<unknown name>', description='<unknown description>', dbxrefs=[])]\n",
      "to save /data2/isshamie/covid/data/processed/seqs/S_protein_align/hCoV_19NetherlandsUtrecht_132020_EPI_ISL_414463_2020_03_04.protein.fasta\n"
     ]
    },
    {
     "name": "stderr",
     "output_type": "stream",
     "text": [
      "\r",
      " 82%|████████▏ | 14/17 [45:13<07:09, 143.12s/it]"
     ]
    },
    {
     "name": "stdout",
     "output_type": "stream",
     "text": [
      "s all proteins [SeqRecord(seq=Seq('MFVFLVLLPLVSSQCVNLTTRTQLPPAYTNSFTRGVYYPDKVFRSSVLHSTQDL...HYT'), id='hCoV_19GuangdongGD2020234_P00232020_EPI_ISL_413855_2020_02_07', name='<unknown name>', description='<unknown description>', dbxrefs=[])]\n",
      "to save /data2/isshamie/covid/data/processed/seqs/S_protein_align/hCoV_19GuangdongGD2020234_P00232020_EPI_ISL_413855_2020_02_07.protein.fasta\n"
     ]
    },
    {
     "name": "stderr",
     "output_type": "stream",
     "text": [
      "\r",
      " 76%|███████▋  | 13/17 [45:17<12:31, 187.96s/it]"
     ]
    },
    {
     "name": "stdout",
     "output_type": "stream",
     "text": [
      "s all proteins [SeqRecord(seq=Seq('MFVFLVLLPLVSSQCVNLTTRTQLPPAYTNSFTRGVYYPDKVFRSSVLHSTQDL...HYT'), id='hCoV_19Brazil_RJ3142020_EPI_ISL_414045_2020_03_04', name='<unknown name>', description='<unknown description>', dbxrefs=[])]\n",
      "to save /data2/isshamie/covid/data/processed/seqs/S_protein_align/hCoV_19Brazil_RJ3142020_EPI_ISL_414045_2020_03_04.protein.fasta\n"
     ]
    },
    {
     "name": "stderr",
     "output_type": "stream",
     "text": [
      "\r",
      " 29%|██▉       | 5/17 [07:15<16:55, 84.62s/it]"
     ]
    },
    {
     "name": "stdout",
     "output_type": "stream",
     "text": [
      "s all proteins [SeqRecord(seq=Seq('MFVFLVLLPLVSSQCVNLTTRTQLPPAYTNSFTRGVYYPDKVFRSSVLHSTQDL...CCC'), id='hCoV_19GuangdongGDFS2020052_P00252020_EPI_ISL_413875_2020_02_10', name='<unknown name>', description='<unknown description>', dbxrefs=[])]\n",
      "to save /data2/isshamie/covid/data/processed/seqs/S_protein_align/hCoV_19GuangdongGDFS2020052_P00252020_EPI_ISL_413875_2020_02_10.protein.fasta\n"
     ]
    },
    {
     "name": "stderr",
     "output_type": "stream",
     "text": [
      "100%|██████████| 17/17 [45:51<00:00, 89.26s/it]\n"
     ]
    },
    {
     "name": "stdout",
     "output_type": "stream",
     "text": [
      "s all proteins [SeqRecord(seq=Seq('MFVFLVLLPLVSSQCVNLTTRTQLPPAYTNSFTRGVYYPDKVFRSSVLHSTQDL...HYT'), id='hCoV_19Singapore92020_EPI_ISL_410715_2020_02_04', name='<unknown name>', description='<unknown description>', dbxrefs=[])]\n",
      "to save /data2/isshamie/covid/data/processed/seqs/S_protein_align/hCoV_19Singapore92020_EPI_ISL_410715_2020_02_04.protein.fasta\n"
     ]
    },
    {
     "name": "stderr",
     "output_type": "stream",
     "text": [
      "\r",
      " 71%|███████   | 12/17 [45:55<10:00, 120.08s/it]"
     ]
    },
    {
     "name": "stdout",
     "output_type": "stream",
     "text": [
      "s all proteins [SeqRecord(seq=Seq('MFVFLVLLPLVSSQCVNLTTRTQLPPAYTNSFTRGVYYPDKVFRSSVLHSTQDL...HYT'), id='hCoV_19NetherlandsLimburg_52020_EPI_ISL_414448_2020_03_04', name='<unknown name>', description='<unknown description>', dbxrefs=[])]\n",
      "to save /data2/isshamie/covid/data/processed/seqs/S_protein_align/hCoV_19NetherlandsLimburg_52020_EPI_ISL_414448_2020_03_04.protein.fasta\n"
     ]
    },
    {
     "name": "stderr",
     "output_type": "stream",
     "text": [
      "\r",
      " 71%|███████   | 12/17 [46:00<09:47, 117.45s/it]"
     ]
    },
    {
     "name": "stdout",
     "output_type": "stream",
     "text": [
      "s all proteins [SeqRecord(seq=Seq('MFVFLVLLPLVSSQCVNLTTRTQLPPAYTNSFTRGVYYPDKVFRSSVLHSTQDL...HYT'), id='hCoV_19NetherlandsNoordBrabant_342020_EPI_ISL_414543_2020_03', name='<unknown name>', description='<unknown description>', dbxrefs=[])]\n",
      "to save /data2/isshamie/covid/data/processed/seqs/S_protein_align/hCoV_19NetherlandsNoordBrabant_342020_EPI_ISL_414543_2020_03.protein.fasta\n"
     ]
    },
    {
     "name": "stderr",
     "output_type": "stream",
     "text": [
      "\r",
      " 29%|██▉       | 5/17 [46:07<2:00:23, 601.97s/it]"
     ]
    },
    {
     "name": "stdout",
     "output_type": "stream",
     "text": [
      "s all proteins [SeqRecord(seq=Seq('MFVFLVLLPLVSSQCVNLTTRTQLPPAYTNSFTRGVYYPDKVFRSSVLHSTQDL...HYT'), id='hCoV_19England2006410942020_EPI_ISL_414040_2020_02_05', name='<unknown name>', description='<unknown description>', dbxrefs=[])]\n",
      "to save /data2/isshamie/covid/data/processed/seqs/S_protein_align/hCoV_19England2006410942020_EPI_ISL_414040_2020_02_05.protein.fasta\n"
     ]
    },
    {
     "name": "stderr",
     "output_type": "stream",
     "text": [
      "100%|██████████| 17/17 [46:11<00:00, 132.54s/it]\n"
     ]
    },
    {
     "name": "stdout",
     "output_type": "stream",
     "text": [
      "s all proteins [SeqRecord(seq=Seq('MFVFLVLLPLVSSQCVNLTTRTQLPPAYTNSFTRGVYYPDKVFRSSVLHSTQDL...TTN'), id='hCoV_19England2009813862020_EPI_ISL_414010_2020_02_26', name='<unknown name>', description='<unknown description>', dbxrefs=[])]\n",
      "to save /data2/isshamie/covid/data/processed/seqs/S_protein_align/hCoV_19England2009813862020_EPI_ISL_414010_2020_02_26.protein.fasta\n"
     ]
    },
    {
     "name": "stderr",
     "output_type": "stream",
     "text": [
      "\r",
      " 82%|████████▏ | 14/17 [46:21<11:54, 238.33s/it]"
     ]
    },
    {
     "name": "stdout",
     "output_type": "stream",
     "text": [
      "s all proteins [SeqRecord(seq=Seq('MFVFLVLLPLVSSQCVNLTTRTQLPPAYTNSFTRGVYYPDKVFRSSVLHSTQDL...CCC'), id='hCoV_19GermanyNRW_0112020_EPI_ISL_414507_2020_03_03', name='<unknown name>', description='<unknown description>', dbxrefs=[])]\n",
      "to save /data2/isshamie/covid/data/processed/seqs/S_protein_align/hCoV_19GermanyNRW_0112020_EPI_ISL_414507_2020_03_03.protein.fasta\n"
     ]
    },
    {
     "name": "stderr",
     "output_type": "stream",
     "text": [
      "\r",
      " 88%|████████▊ | 15/17 [46:23<03:51, 115.97s/it]"
     ]
    },
    {
     "name": "stdout",
     "output_type": "stream",
     "text": [
      "s all proteins [SeqRecord(seq=Seq('MFVFLVLLPLVSSQCVNLTTRTQLPPAYTNSFTRGVYYPDKVFRSSVLHSTQDL...YTT'), id='hCoV_19NetherlandsUtrecht_62020_EPI_ISL_414461_2020_03_04', name='<unknown name>', description='<unknown description>', dbxrefs=[])]\n",
      "to save /data2/isshamie/covid/data/processed/seqs/S_protein_align/hCoV_19NetherlandsUtrecht_62020_EPI_ISL_414461_2020_03_04.protein.fasta\n"
     ]
    },
    {
     "name": "stderr",
     "output_type": "stream",
     "text": [
      "\r",
      " 88%|████████▊ | 15/17 [46:27<04:04, 122.49s/it]"
     ]
    },
    {
     "name": "stdout",
     "output_type": "stream",
     "text": [
      "s all proteins [SeqRecord(seq=Seq('MFVFLVLLPLVSSQCVNLTTRTQLPPAYTNSFTRGVYYPDKVFRSSVLHSTQDL...HYT'), id='hCoV_19FranceIDF19802020_EPI_ISL_414633_2020_03_04', name='<unknown name>', description='<unknown description>', dbxrefs=[])]\n",
      "to save /data2/isshamie/covid/data/processed/seqs/S_protein_align/hCoV_19FranceIDF19802020_EPI_ISL_414633_2020_03_04.protein.fasta\n"
     ]
    },
    {
     "name": "stderr",
     "output_type": "stream",
     "text": [
      "\r",
      " 88%|████████▊ | 15/17 [46:30<03:25, 102.96s/it]"
     ]
    },
    {
     "name": "stdout",
     "output_type": "stream",
     "text": [
      "s all proteins [SeqRecord(seq=Seq('MFVFLVLLPLVSSQCVNLTTRTQLPPAYTNSFTRGVYYPDKVFRSSVLHSTQDL...HYT'), id='hCoV_19GuangdongGD2020246_P00282020_EPI_ISL_413864_2020_02_09', name='<unknown name>', description='<unknown description>', dbxrefs=[])]\n",
      "to save /data2/isshamie/covid/data/processed/seqs/S_protein_align/hCoV_19GuangdongGD2020246_P00282020_EPI_ISL_413864_2020_02_09.protein.fasta\n"
     ]
    },
    {
     "name": "stderr",
     "output_type": "stream",
     "text": [
      "\r",
      " 82%|████████▏ | 14/17 [46:32<07:41, 153.83s/it]"
     ]
    },
    {
     "name": "stdout",
     "output_type": "stream",
     "text": [
      "s all proteins [SeqRecord(seq=Seq('MFVFLVLLPLVSSQCVNLTTRTQLPPAYTNSFTRGVYYPDKVFRSSVLHSTQDL...YTT'), id='hCoV_19FinlandFIN_3132020_EPI_ISL_414641_2020_03_05', name='<unknown name>', description='<unknown description>', dbxrefs=[])]\n",
      "to save /data2/isshamie/covid/data/processed/seqs/S_protein_align/hCoV_19FinlandFIN_3132020_EPI_ISL_414641_2020_03_05.protein.fasta\n"
     ]
    },
    {
     "name": "stderr",
     "output_type": "stream",
     "text": [
      "\r",
      " 35%|███▌      | 6/17 [08:23<14:38, 79.82s/it]"
     ]
    },
    {
     "name": "stdout",
     "output_type": "stream",
     "text": [
      "s all proteins [SeqRecord(seq=Seq('MFVFLVLLPLVSSQCVNLTTRTQLPPAYTNSFTRGVYYPDKVFRSSVLHSTQDL...HYT'), id='hCoV_19NetherlandsZuidHolland_102020_EPI_ISL_414446_2020_03_03', name='<unknown name>', description='<unknown description>', dbxrefs=[])]\n",
      "to save /data2/isshamie/covid/data/processed/seqs/S_protein_align/hCoV_19NetherlandsZuidHolland_102020_EPI_ISL_414446_2020_03_03.protein.fasta\n"
     ]
    },
    {
     "name": "stderr",
     "output_type": "stream",
     "text": [
      "\r",
      " 76%|███████▋  | 13/17 [47:03<06:44, 101.24s/it]"
     ]
    },
    {
     "name": "stdout",
     "output_type": "stream",
     "text": [
      "s all proteins [SeqRecord(seq=Seq('MFVFLVLLPLVSSQCVNLTTRTQLPPAYTNSFTRGVYYPDKVFRSSVLHSTQDL...HYT'), id='hCoV_19Singapore112020_EPI_ISL_410719_2020_02_02', name='<unknown name>', description='<unknown description>', dbxrefs=[])]\n",
      "to save /data2/isshamie/covid/data/processed/seqs/S_protein_align/hCoV_19Singapore112020_EPI_ISL_410719_2020_02_02.protein.fasta\n"
     ]
    },
    {
     "name": "stderr",
     "output_type": "stream",
     "text": [
      "\r",
      " 76%|███████▋  | 13/17 [47:08<07:04, 106.03s/it]"
     ]
    },
    {
     "name": "stdout",
     "output_type": "stream",
     "text": [
      "s all proteins [SeqRecord(seq=Seq('MFVFLVLLPLVSSQCVNLTTRTQLPPAYTNSFTRGVYYPDKVFRSSVLHSTQDL...HYT'), id='hCoV_19NetherlandsNoordBrabant_332020_EPI_ISL_414542_2020_03', name='<unknown name>', description='<unknown description>', dbxrefs=[])]\n",
      "to save /data2/isshamie/covid/data/processed/seqs/S_protein_align/hCoV_19NetherlandsNoordBrabant_332020_EPI_ISL_414542_2020_03.protein.fasta\n"
     ]
    },
    {
     "name": "stderr",
     "output_type": "stream",
     "text": [
      "\r",
      " 35%|███▌      | 6/17 [47:21<1:21:19, 443.57s/it]"
     ]
    },
    {
     "name": "stdout",
     "output_type": "stream",
     "text": [
      "s all proteins [SeqRecord(seq=Seq('MFVFLVLLPLVSSQCVNLTTRTQLPPAYTNSFTRGVYYPDKVFRSSVLHSTQDL...HYT'), id='hCoV_19Hong', name='<unknown name>', description='<unknown description>', dbxrefs=[])]\n",
      "to save /data2/isshamie/covid/data/processed/seqs/S_protein_align/hCoV_19Hong.protein.fasta\n"
     ]
    },
    {
     "name": "stderr",
     "output_type": "stream",
     "text": [
      "\r",
      " 94%|█████████▍| 16/17 [47:32<01:41, 101.72s/it]"
     ]
    },
    {
     "name": "stdout",
     "output_type": "stream",
     "text": [
      "s all proteins [SeqRecord(seq=Seq('MFVFLVLLPLVSSQCVNLTTRTQLPPAYTNSFTRGVYYPDKVFRSSVLHSTQDL...HYT'), id='hCoV_19England2009900062020_EPI_ISL_414011_2020_02_26', name='<unknown name>', description='<unknown description>', dbxrefs=[])]\n",
      "to save /data2/isshamie/covid/data/processed/seqs/S_protein_align/hCoV_19England2009900062020_EPI_ISL_414011_2020_02_26.protein.fasta\n"
     ]
    },
    {
     "name": "stderr",
     "output_type": "stream",
     "text": [
      "\r",
      " 88%|████████▊ | 15/17 [47:34<06:17, 188.51s/it]"
     ]
    },
    {
     "name": "stdout",
     "output_type": "stream",
     "text": [
      "s all proteins [SeqRecord(seq=Seq('SRHTLHNVRPLQVAIYKSNSTECGNFTSKCNRTLRLGNHWVTSYTGTYTPQCHI...LSL'), id='hCoV_19NetherlandsZuidHolland_232020_EPI_ISL_414565_2020_03_09', name='<unknown name>', description='<unknown description>', dbxrefs=[])]\n",
      "to save /data2/isshamie/covid/data/processed/seqs/S_protein_align/hCoV_19NetherlandsZuidHolland_232020_EPI_ISL_414565_2020_03_09.protein.fasta\n"
     ]
    },
    {
     "name": "stderr",
     "output_type": "stream",
     "text": [
      "100%|██████████| 17/17 [47:37<00:00, 207.52s/it]\n"
     ]
    },
    {
     "name": "stdout",
     "output_type": "stream",
     "text": [
      "s all proteins [SeqRecord(seq=Seq('MFVFLVLLPLVSSQCVNLTTRTQLPPAYTNSFTRGVYYPDKVFRSSVLHSTQDL...HYT'), id='hCoV_19NetherlandsUtrecht_122020_EPI_ISL_414462_2020_03_04', name='<unknown name>', description='<unknown description>', dbxrefs=[])]\n",
      "to save /data2/isshamie/covid/data/processed/seqs/S_protein_align/hCoV_19NetherlandsUtrecht_122020_EPI_ISL_414462_2020_03_04.protein.fasta\n"
     ]
    },
    {
     "name": "stderr",
     "output_type": "stream",
     "text": [
      "\r",
      " 94%|█████████▍| 16/17 [47:38<01:46, 106.90s/it]"
     ]
    },
    {
     "name": "stdout",
     "output_type": "stream",
     "text": [
      "s all proteins [SeqRecord(seq=Seq('MFVFLVLLPLVSSQCVNLTTRTQLPPAYTNSFTRGVYYPDKVFRSSVLHSTQDL...HYT'), id='hCoV_19FranceHF19862020_EPI_ISL_414634_2020_03_04', name='<unknown name>', description='<unknown description>', dbxrefs=[])]\n",
      "to save /data2/isshamie/covid/data/processed/seqs/S_protein_align/hCoV_19FranceHF19862020_EPI_ISL_414634_2020_03_04.protein.fasta\n"
     ]
    },
    {
     "name": "stderr",
     "output_type": "stream",
     "text": [
      "\r",
      " 94%|█████████▍| 16/17 [47:43<01:34, 94.17s/it] "
     ]
    },
    {
     "name": "stdout",
     "output_type": "stream",
     "text": [
      "s all proteins [SeqRecord(seq=Seq('MFVFLVLLPLVSSQCVNLTTRTQLPPAYTNSFTRGVYYPDKVFRSSVLHSTQDL...HYT'), id='hCoV_19GuangdongGDSZ202015_P00192020_EPI_ISL_413867_2020_02_05', name='<unknown name>', description='<unknown description>', dbxrefs=[])]\n",
      "to save /data2/isshamie/covid/data/processed/seqs/S_protein_align/hCoV_19GuangdongGDSZ202015_P00192020_EPI_ISL_413867_2020_02_05.protein.fasta\n"
     ]
    },
    {
     "name": "stderr",
     "output_type": "stream",
     "text": [
      "\r",
      " 88%|████████▊ | 15/17 [47:44<04:19, 129.52s/it]"
     ]
    },
    {
     "name": "stdout",
     "output_type": "stream",
     "text": [
      "s all proteins [SeqRecord(seq=Seq('MFVFLVLLPLVSSQCVNLTTRTQLPPAYTNSFTRGVYYPDKVFRSSVLHSTQDL...HYT'), id='hCoV_19FinlandFIN_4552020_EPI_ISL_414642_2020_03_08', name='<unknown name>', description='<unknown description>', dbxrefs=[])]\n",
      "to save /data2/isshamie/covid/data/processed/seqs/S_protein_align/hCoV_19FinlandFIN_4552020_EPI_ISL_414642_2020_03_08.protein.fasta\n"
     ]
    },
    {
     "name": "stderr",
     "output_type": "stream",
     "text": [
      "\r",
      " 41%|████      | 7/17 [09:27<12:29, 74.91s/it]"
     ]
    },
    {
     "name": "stdout",
     "output_type": "stream",
     "text": [
      "s all proteins [SeqRecord(seq=Seq('MFVFLVLLPLVSSQCVNLTTRTQLPPAYTNSFTRGVYYPDKVFRSSVLHSTQDL...HYT'), id='hCoV_19NetherlandsZuidHolland_12020_EPI_ISL_414444_2020_03_02', name='<unknown name>', description='<unknown description>', dbxrefs=[])]\n",
      "to save /data2/isshamie/covid/data/processed/seqs/S_protein_align/hCoV_19NetherlandsZuidHolland_12020_EPI_ISL_414444_2020_03_02.protein.fasta\n"
     ]
    },
    {
     "name": "stderr",
     "output_type": "stream",
     "text": [
      "\r",
      " 82%|████████▏ | 14/17 [48:08<04:30, 90.28s/it] "
     ]
    },
    {
     "name": "stdout",
     "output_type": "stream",
     "text": [
      "s all proteins [SeqRecord(seq=Seq('MFVFLVLLPLVSSQCVNLTTRTQLPPAYTNSFTRGVYYPDKVFRSSVLHSTQDL...HYT'), id='hCoV_19ItalyINMI1_isl2020_EPI_ISL_410545_2020_01_29', name='<unknown name>', description='<unknown description>', dbxrefs=[])]\n",
      "to save /data2/isshamie/covid/data/processed/seqs/S_protein_align/hCoV_19ItalyINMI1_isl2020_EPI_ISL_410545_2020_01_29.protein.fasta\n"
     ]
    },
    {
     "name": "stderr",
     "output_type": "stream",
     "text": [
      "\r",
      " 82%|████████▏ | 14/17 [48:19<04:46, 95.38s/it] "
     ]
    },
    {
     "name": "stdout",
     "output_type": "stream",
     "text": [
      "s all proteins [SeqRecord(seq=Seq('MFVFLVLLPLVSSQCVNLTTRTQLPPAYTNSFTRGVYYPDKVFRSSVLHSTQDL...HYT'), id='hCoV_19NetherlandsNoordBrabant_312020_EPI_ISL_414540_2020_03_08', name='<unknown name>', description='<unknown description>', dbxrefs=[])]\n",
      "to save /data2/isshamie/covid/data/processed/seqs/S_protein_align/hCoV_19NetherlandsNoordBrabant_312020_EPI_ISL_414540_2020_03_08.protein.fasta\n"
     ]
    },
    {
     "name": "stderr",
     "output_type": "stream",
     "text": [
      "\r",
      " 41%|████      | 7/17 [48:30<55:13, 331.37s/it]  "
     ]
    },
    {
     "name": "stdout",
     "output_type": "stream",
     "text": [
      "s all proteins [SeqRecord(seq=Seq('MFVFLVLLPLVSSQCVNLTTRTQLPPAYTNSFTRGVYYPDKVFRSSVLHSTQDL...HYT'), id='hCoV_19ShanghaiSH012020_EPI_ISL_414510_2020_02_02', name='<unknown name>', description='<unknown description>', dbxrefs=[])]\n",
      "to save /data2/isshamie/covid/data/processed/seqs/S_protein_align/hCoV_19ShanghaiSH012020_EPI_ISL_414510_2020_02_02.protein.fasta\n"
     ]
    },
    {
     "name": "stderr",
     "output_type": "stream",
     "text": [
      "100%|██████████| 17/17 [48:42<00:00, 92.24s/it] \n"
     ]
    },
    {
     "name": "stdout",
     "output_type": "stream",
     "text": [
      "s all proteins [SeqRecord(seq=Seq('MFVFLVLLPLVSSQCVNLTTRTQLPPAYTNSFTRGVYYPDKVFRSSVLHSTQDL...HYT'), id='hCoV_19NetherlandsOverijssel_22020_EPI_ISL_414460_2020_03_03', name='<unknown name>', description='<unknown description>', dbxrefs=[])]\n",
      "to save /data2/isshamie/covid/data/processed/seqs/S_protein_align/hCoV_19NetherlandsOverijssel_22020_EPI_ISL_414460_2020_03_03.protein.fasta\n"
     ]
    },
    {
     "name": "stderr",
     "output_type": "stream",
     "text": [
      "100%|██████████| 17/17 [48:48<00:00, 95.88s/it] \n"
     ]
    },
    {
     "name": "stdout",
     "output_type": "stream",
     "text": [
      "s all proteins [SeqRecord(seq=Seq('MLQKKMTLKRVFSLTFVGLYNKSLLEVPWLRQNILGMLIFISSWDTSHGGQPLL...HYT'), id='hCoV_19Finland12020_EPI_ISL_407079_2020_01_29', name='<unknown name>', description='<unknown description>', dbxrefs=[])]\n",
      "to save /data2/isshamie/covid/data/processed/seqs/S_protein_align/hCoV_19Finland12020_EPI_ISL_407079_2020_01_29.protein.fasta\n",
      "s all proteins [SeqRecord(seq=Seq('MFVFLVLLPLVSSQCVNLTTRTQLPPAYTNSFTRGVYYPDKVFRSSVLHSTQDL...HYT'), id='hCoV_19FranceHF19882020_EPI_ISL_414635_2020_03_04', name='<unknown name>', description='<unknown description>', dbxrefs=[])]\n",
      "to save /data2/isshamie/covid/data/processed/seqs/S_protein_align/hCoV_19FranceHF19882020_EPI_ISL_414635_2020_03_04.protein.fasta\n"
     ]
    },
    {
     "name": "stderr",
     "output_type": "stream",
     "text": [
      "100%|██████████| 17/17 [48:55<00:00, 87.45s/it]]\n"
     ]
    },
    {
     "name": "stdout",
     "output_type": "stream",
     "text": [
      "s all proteins [SeqRecord(seq=Seq('MFVFLVLLPLVSSQCVNLTTRTQLPPAYTNSFTRGVYYPDKVFRSSVLHSTQDL...LWI'), id='hCoV_19Guangdong2020XN4373_P00392020_EPI_ISL_413851_2020_01_30', name='<unknown name>', description='<unknown description>', dbxrefs=[])]\n",
      "to save /data2/isshamie/covid/data/processed/seqs/S_protein_align/hCoV_19Guangdong2020XN4373_P00392020_EPI_ISL_413851_2020_01_30.protein.fasta\n"
     ]
    },
    {
     "name": "stderr",
     "output_type": "stream",
     "text": [
      "\r",
      " 94%|█████████▍| 16/17 [48:57<01:52, 112.34s/it]"
     ]
    },
    {
     "name": "stdout",
     "output_type": "stream",
     "text": [
      "s all proteins [SeqRecord(seq=Seq('MFVFLVLLPLVSSQCVNLTTRTQLPPAYTNSFTRGVYYPDKVFRSSVLHSTQDL...HYT'), id='hCoV_19FinlandFIN_5082020_EPI_ISL_414643_2020_03_07', name='<unknown name>', description='<unknown description>', dbxrefs=[])]\n",
      "to save /data2/isshamie/covid/data/processed/seqs/S_protein_align/hCoV_19FinlandFIN_5082020_EPI_ISL_414643_2020_03_07.protein.fasta\n"
     ]
    },
    {
     "name": "stderr",
     "output_type": "stream",
     "text": [
      "\r",
      " 47%|████▋     | 8/17 [10:36<10:59, 73.32s/it]"
     ]
    },
    {
     "name": "stdout",
     "output_type": "stream",
     "text": [
      "s all proteins [SeqRecord(seq=Seq('MFVFLVLLPLVSSQCVNLTTRTQLPPAYTNSFTRGVYYPDKVFRSSVLHSTQDL...HYT'), id='hCoV_19NetherlandsUtrecht_102020_EPI_ISL_414442_2020_03_03', name='<unknown name>', description='<unknown description>', dbxrefs=[])]\n",
      "to save /data2/isshamie/covid/data/processed/seqs/S_protein_align/hCoV_19NetherlandsUtrecht_102020_EPI_ISL_414442_2020_03_03.protein.fasta\n"
     ]
    },
    {
     "name": "stderr",
     "output_type": "stream",
     "text": [
      "\r",
      " 88%|████████▊ | 15/17 [49:19<02:49, 84.62s/it]"
     ]
    },
    {
     "name": "stdout",
     "output_type": "stream",
     "text": [
      "s all proteins [SeqRecord(seq=Seq('MFVFLVLLPLVSSQCVNLTTRTQLPPAYTNSFTRGVYYPDKVFRSSVLHSTQDL...HYT'), id='hCoV_19ItalyINMI1_cs2020_EPI_ISL_410546_2020_01_31', name='<unknown name>', description='<unknown description>', dbxrefs=[])]\n",
      "to save /data2/isshamie/covid/data/processed/seqs/S_protein_align/hCoV_19ItalyINMI1_cs2020_EPI_ISL_410546_2020_01_31.protein.fasta\n"
     ]
    },
    {
     "name": "stderr",
     "output_type": "stream",
     "text": [
      "\r",
      " 88%|████████▊ | 15/17 [49:30<02:56, 88.26s/it]"
     ]
    },
    {
     "name": "stdout",
     "output_type": "stream",
     "text": [
      "s all proteins [SeqRecord(seq=Seq('MFVFLVLLPLVSSQCVNLTTRTQLPPAYTNSFTRGVYYPDKVFRSSVLHSTQDL...HYT'), id='hCoV_19NetherlandsNoordBrabant_322020_EPI_ISL_414541_2020_03_08', name='<unknown name>', description='<unknown description>', dbxrefs=[])]\n",
      "to save /data2/isshamie/covid/data/processed/seqs/S_protein_align/hCoV_19NetherlandsNoordBrabant_322020_EPI_ISL_414541_2020_03_08.protein.fasta\n"
     ]
    },
    {
     "name": "stderr",
     "output_type": "stream",
     "text": [
      "\r",
      " 47%|████▋     | 8/17 [49:42<38:00, 253.43s/it]"
     ]
    },
    {
     "name": "stdout",
     "output_type": "stream",
     "text": [
      "s all proteins [SeqRecord(seq=Seq('MFVFLVLLPLVSSQCVNLTTRTQLPPAYTNSFTRGVYYPDKVFRSSVLHSTQDL...HYT'), id='hCoV_19ShenzhenHKU_SZ_0052020_EPI_ISL_405839_2020_01_11', name='<unknown name>', description='<unknown description>', dbxrefs=[])]\n",
      "to save /data2/isshamie/covid/data/processed/seqs/S_protein_align/hCoV_19ShenzhenHKU_SZ_0052020_EPI_ISL_405839_2020_01_11.protein.fasta\n"
     ]
    },
    {
     "name": "stderr",
     "output_type": "stream",
     "text": [
      "\r",
      " 94%|█████████▍| 16/17 [50:02<03:54, 234.61s/it]"
     ]
    },
    {
     "name": "stdout",
     "output_type": "stream",
     "text": [
      "s all proteins [SeqRecord(seq=Seq('MFVFLVLLPLVSSQCVNLTTRTQLPPAYTNSFTRGVYYPDKVFRSSVLHSTQDL...HYT'), id='hCoV_19FinlandFIN_2662020_EPI_ISL_414646_2020_03_04', name='<unknown name>', description='<unknown description>', dbxrefs=[])]\n",
      "to save /data2/isshamie/covid/data/processed/seqs/S_protein_align/hCoV_19FinlandFIN_2662020_EPI_ISL_414646_2020_03_04.protein.fasta\n"
     ]
    },
    {
     "name": "stderr",
     "output_type": "stream",
     "text": [
      "\r",
      " 53%|█████▎    | 9/17 [11:41<09:25, 70.74s/it]"
     ]
    },
    {
     "name": "stdout",
     "output_type": "stream",
     "text": [
      "s all proteins [SeqRecord(seq=Seq('MFVFLVLLPLVSSQCVNLTTRTQLPPAYTNSFTRGVYYPDKVFRSSVLHSTQDL...HYT'), id='hCoV_19NetherlandsZuidHolland_92020_EPI_ISL_414445_2020_03_03', name='<unknown name>', description='<unknown description>', dbxrefs=[])]\n",
      "to save /data2/isshamie/covid/data/processed/seqs/S_protein_align/hCoV_19NetherlandsZuidHolland_92020_EPI_ISL_414445_2020_03_03.protein.fasta\n"
     ]
    },
    {
     "name": "stderr",
     "output_type": "stream",
     "text": [
      "\r",
      " 94%|█████████▍| 16/17 [50:22<01:17, 77.96s/it]"
     ]
    },
    {
     "name": "stdout",
     "output_type": "stream",
     "text": [
      "s all proteins [SeqRecord(seq=Seq('MFVFLVLLPLVSSQCVNLTTRTQLPPAYTNSFTRGVYYPDKVFRSSVLHSTQDL...HYT'), id='hCoV_19FranceIDF0372_isl2020_EPI_ISL_410720_2020_01_23', name='<unknown name>', description='<unknown description>', dbxrefs=[])]\n",
      "to save /data2/isshamie/covid/data/processed/seqs/S_protein_align/hCoV_19FranceIDF0372_isl2020_EPI_ISL_410720_2020_01_23.protein.fasta\n"
     ]
    },
    {
     "name": "stderr",
     "output_type": "stream",
     "text": [
      "\r",
      " 94%|█████████▍| 16/17 [50:37<01:21, 81.71s/it]"
     ]
    },
    {
     "name": "stdout",
     "output_type": "stream",
     "text": [
      "s all proteins [SeqRecord(seq=Seq('MFVFLVLLPLVSSQCVNLTTRTQLPPAYTNSFTRGVYYPDKVFRSSVLHSTQDL...HYT'), id='hCoV_19NetherlandsNoordBrabant_302020_EPI_ISL_414539_2020_03_08', name='<unknown name>', description='<unknown description>', dbxrefs=[])]\n",
      "to save /data2/isshamie/covid/data/processed/seqs/S_protein_align/hCoV_19NetherlandsNoordBrabant_302020_EPI_ISL_414539_2020_03_08.protein.fasta\n"
     ]
    },
    {
     "name": "stderr",
     "output_type": "stream",
     "text": [
      "\r",
      " 53%|█████▎    | 9/17 [50:49<26:20, 197.54s/it]"
     ]
    },
    {
     "name": "stdout",
     "output_type": "stream",
     "text": [
      "s all proteins [SeqRecord(seq=Seq('MFVFLVLLPLVSSQCVNLTTRTQLPPAYTNSFTRGVYYPDKVFRSSVLHSTQDL...HYT'), id='hCoV_19ShenzhenHKU_SZ_0022020_EPI_ISL_406030_2020_01_10', name='<unknown name>', description='<unknown description>', dbxrefs=[])]\n",
      "to save /data2/isshamie/covid/data/processed/seqs/S_protein_align/hCoV_19ShenzhenHKU_SZ_0022020_EPI_ISL_406030_2020_01_10.protein.fasta\n"
     ]
    },
    {
     "name": "stderr",
     "output_type": "stream",
     "text": [
      "100%|██████████| 17/17 [51:07<00:00, 183.71s/it]\n"
     ]
    },
    {
     "name": "stdout",
     "output_type": "stream",
     "text": [
      "s all proteins [SeqRecord(seq=Seq('MFVFLVLLPLVSSQCVNLTTRTQLPPAYTNSFTRGVYYPDKVFRSSVLHSTQDL...SKV'), id='hCoV_19FinlandFIN_1142020_EPI_ISL_414640_2020_03_01', name='<unknown name>', description='<unknown description>', dbxrefs=[])]\n",
      "to save /data2/isshamie/covid/data/processed/seqs/S_protein_align/hCoV_19FinlandFIN_1142020_EPI_ISL_414640_2020_03_01.protein.fasta\n"
     ]
    },
    {
     "name": "stderr",
     "output_type": "stream",
     "text": [
      "\r",
      " 59%|█████▉    | 10/17 [12:44<07:59, 68.49s/it]"
     ]
    },
    {
     "name": "stdout",
     "output_type": "stream",
     "text": [
      "s all proteins [SeqRecord(seq=Seq('MFVFLVLLPLVSSQCVNLTTRTQLPPAYTNSFTRGVYYPDKVFRSSVLHSTQDL...HYT'), id='hCoV_19NetherlandsUtrecht_112020_EPI_ISL_414443_2020_03_03', name='<unknown name>', description='<unknown description>', dbxrefs=[])]\n",
      "to save /data2/isshamie/covid/data/processed/seqs/S_protein_align/hCoV_19NetherlandsUtrecht_112020_EPI_ISL_414443_2020_03_03.protein.fasta\n"
     ]
    },
    {
     "name": "stderr",
     "output_type": "stream",
     "text": [
      "100%|██████████| 17/17 [51:25<00:00, 73.56s/it]\n"
     ]
    },
    {
     "name": "stdout",
     "output_type": "stream",
     "text": [
      "s all proteins [SeqRecord(seq=Seq('MFVFLVLLPLVSSQCVNLTTRTQLPPAYTNSFTRGVYYPDKVFRSSVLHSTQDL...HYT'), id='hCoV_19FranceIDF0515_isl2020_EPI_ISL_410984_2020_01_29', name='<unknown name>', description='<unknown description>', dbxrefs=[])]\n",
      "to save /data2/isshamie/covid/data/processed/seqs/S_protein_align/hCoV_19FranceIDF0515_isl2020_EPI_ISL_410984_2020_01_29.protein.fasta\n"
     ]
    },
    {
     "name": "stderr",
     "output_type": "stream",
     "text": [
      "100%|██████████| 17/17 [51:42<00:00, 76.81s/it]\n"
     ]
    },
    {
     "name": "stdout",
     "output_type": "stream",
     "text": [
      "s all proteins [SeqRecord(seq=Seq('MFVFLVLLPLVSSQCVNLTTRTQLPPAYTNSFTRGVYYPDKVFRSSVLHSTQDL...TTI'), id='hCoV_19BrazilSPBR_062020_EPI_ISL_414015_2020_02_29', name='<unknown name>', description='<unknown description>', dbxrefs=[])]\n",
      "to save /data2/isshamie/covid/data/processed/seqs/S_protein_align/hCoV_19BrazilSPBR_062020_EPI_ISL_414015_2020_02_29.protein.fasta\n"
     ]
    },
    {
     "name": "stderr",
     "output_type": "stream",
     "text": [
      "\r",
      " 94%|█████████▍| 16/17 [51:46<03:27, 207.60s/it]"
     ]
    },
    {
     "name": "stdout",
     "output_type": "stream",
     "text": [
      "s all proteins [SeqRecord(seq=Seq('MFVFLVLLPLVSSQCVNLTTRTQLPPAYTNSFTRGVYYPDKVFRSSVLHSTQDL...CLE'), id='hCoV_19FinlandFIN_2742020_EPI_ISL_414645_2020_03_04', name='<unknown name>', description='<unknown description>', dbxrefs=[])]\n",
      "to save /data2/isshamie/covid/data/processed/seqs/S_protein_align/hCoV_19FinlandFIN_2742020_EPI_ISL_414645_2020_03_04.protein.fasta\n"
     ]
    },
    {
     "name": "stderr",
     "output_type": "stream",
     "text": [
      "\r",
      " 65%|██████▍   | 11/17 [13:48<06:42, 67.08s/it]"
     ]
    },
    {
     "name": "stdout",
     "output_type": "stream",
     "text": [
      "s all proteins [SeqRecord(seq=Seq('MFVFLVLLPLVSSQCVNLTTRTQLPPAYTNSFTRGVYYPDKVFRSSVLHSTQDL...HYT'), id='hCoV_19England2009907232020_EPI_ISL_414012_2020_02_27', name='<unknown name>', description='<unknown description>', dbxrefs=[])]\n",
      "to save /data2/isshamie/covid/data/processed/seqs/S_protein_align/hCoV_19England2009907232020_EPI_ISL_414012_2020_02_27.protein.fasta\n"
     ]
    },
    {
     "name": "stderr",
     "output_type": "stream",
     "text": [
      "100%|██████████| 17/17 [52:49<00:00, 164.17s/it]\n"
     ]
    },
    {
     "name": "stdout",
     "output_type": "stream",
     "text": [
      "s all proteins [SeqRecord(seq=Seq('MFVFLVLLPLVSSQCVNLTTRTQLPPAYTNSFTRGVYYPDKVFRSSVLHSTQDL...HYT'), id='hCoV_19FinlandFIN_3182020_EPI_ISL_414644_2020_03_04', name='<unknown name>', description='<unknown description>', dbxrefs=[])]\n",
      "to save /data2/isshamie/covid/data/processed/seqs/S_protein_align/hCoV_19FinlandFIN_3182020_EPI_ISL_414644_2020_03_04.protein.fasta\n"
     ]
    },
    {
     "name": "stderr",
     "output_type": "stream",
     "text": [
      "\r",
      " 71%|███████   | 12/17 [14:53<05:32, 66.43s/it]"
     ]
    },
    {
     "name": "stdout",
     "output_type": "stream",
     "text": [
      "s all proteins [SeqRecord(seq=Seq('SAFVNLKQLPFFYYSDSPCESHGKQVVSDIDYVPLKSATCITRCNLGGAVCRHH...NEL'), id='hCoV_19NetherlandsNoordBrabant_292020_EPI_ISL_414538_2020_03_08', name='<unknown name>', description='<unknown description>', dbxrefs=[])]\n",
      "to save /data2/isshamie/covid/data/processed/seqs/S_protein_align/hCoV_19NetherlandsNoordBrabant_292020_EPI_ISL_414538_2020_03_08.protein.fasta\n"
     ]
    },
    {
     "name": "stderr",
     "output_type": "stream",
     "text": [
      "\r",
      " 59%|█████▉    | 10/17 [54:07<23:03, 197.65s/it]"
     ]
    },
    {
     "name": "stdout",
     "output_type": "stream",
     "text": [
      "s all proteins [SeqRecord(seq=Seq('MFVFLVLLPLVSSQCVNLTTRTQLPPAYTNSFTRGVYYPDKVFRSSVLHSTQDL...HYT'), id='hCoV_19NetherlandsNoordBrabant_282020_EPI_ISL_414537_2020_03_08', name='<unknown name>', description='<unknown description>', dbxrefs=[])]\n",
      "to save /data2/isshamie/covid/data/processed/seqs/S_protein_align/hCoV_19NetherlandsNoordBrabant_282020_EPI_ISL_414537_2020_03_08.protein.fasta\n"
     ]
    },
    {
     "name": "stderr",
     "output_type": "stream",
     "text": [
      "\r",
      " 65%|██████▍   | 11/17 [55:10<15:42, 157.14s/it]"
     ]
    },
    {
     "name": "stdout",
     "output_type": "stream",
     "text": [
      "s all proteins [SeqRecord(seq=Seq('MFVFLVLLPLVSSQCVNLTTRTQLPPAYTNSFTRGVYYPDKVFRSSVLHSTQDL...HYT'), id='hCoV_19NetherlandsNoordBrabant_272020_EPI_ISL_414536_2020_03_08', name='<unknown name>', description='<unknown description>', dbxrefs=[])]\n",
      "to save /data2/isshamie/covid/data/processed/seqs/S_protein_align/hCoV_19NetherlandsNoordBrabant_272020_EPI_ISL_414536_2020_03_08.protein.fasta\n"
     ]
    },
    {
     "name": "stderr",
     "output_type": "stream",
     "text": [
      "\r",
      " 71%|███████   | 12/17 [56:17<10:50, 130.19s/it]"
     ]
    },
    {
     "name": "stdout",
     "output_type": "stream",
     "text": [
      "s all proteins [SeqRecord(seq=Seq('MFVFLVLLPLVSSQCVNLTTRTQLPPAYTNSFTRGVYYPDKVFRSSVLHSTQDL...HYT'), id='hCoV_19NetherlandsNoordBrabant_242020_EPI_ISL_414533_2020_03_06', name='<unknown name>', description='<unknown description>', dbxrefs=[])]\n",
      "to save /data2/isshamie/covid/data/processed/seqs/S_protein_align/hCoV_19NetherlandsNoordBrabant_242020_EPI_ISL_414533_2020_03_06.protein.fasta\n"
     ]
    },
    {
     "name": "stderr",
     "output_type": "stream",
     "text": [
      "\r",
      " 76%|███████▋  | 13/17 [57:24<07:25, 111.28s/it]"
     ]
    },
    {
     "name": "stdout",
     "output_type": "stream",
     "text": [
      "s all proteins [SeqRecord(seq=Seq('MFVFLVLLPLVSSQCVNLTTRTQLPPAYTNSFTRGVYYPDKVFRSSVLHSTQDL...HYT'), id='hCoV_19NetherlandsNoordBrabant_262020_EPI_ISL_414535_2020_03_06', name='<unknown name>', description='<unknown description>', dbxrefs=[])]\n",
      "to save /data2/isshamie/covid/data/processed/seqs/S_protein_align/hCoV_19NetherlandsNoordBrabant_262020_EPI_ISL_414535_2020_03_06.protein.fasta\n"
     ]
    },
    {
     "name": "stderr",
     "output_type": "stream",
     "text": [
      "\r",
      " 82%|████████▏ | 14/17 [58:32<04:54, 98.20s/it] "
     ]
    },
    {
     "name": "stdout",
     "output_type": "stream",
     "text": [
      "s all proteins [SeqRecord(seq=Seq('MFVFLVLLPLVSSQCVNLTTRTQLPPAYTNSFTRGVYYPDKVFRSSVLHSTQDL...HYT'), id='hCoV_19NetherlandsNoordBrabant_252020_EPI_ISL_414534_2020_03_06', name='<unknown name>', description='<unknown description>', dbxrefs=[])]\n",
      "to save /data2/isshamie/covid/data/processed/seqs/S_protein_align/hCoV_19NetherlandsNoordBrabant_252020_EPI_ISL_414534_2020_03_06.protein.fasta\n"
     ]
    },
    {
     "name": "stderr",
     "output_type": "stream",
     "text": [
      "\r",
      " 88%|████████▊ | 15/17 [59:40<02:58, 89.33s/it]"
     ]
    },
    {
     "name": "stdout",
     "output_type": "stream",
     "text": [
      "s all proteins [SeqRecord(seq=Seq('MFVFLVLLPLVSSQCVNLTTRTQLPPAYTNSFTRGVYYPDKVFRSSVLHSTQDL...GNA'), id='hCoV_19USANY_NYUMC12020_EPI_ISL_414639_2020_03_04', name='<unknown name>', description='<unknown description>', dbxrefs=[])]\n",
      "to save /data2/isshamie/covid/data/processed/seqs/S_protein_align/hCoV_19USANY_NYUMC12020_EPI_ISL_414639_2020_03_04.protein.fasta\n"
     ]
    },
    {
     "name": "stderr",
     "output_type": "stream",
     "text": [
      "\r",
      " 76%|███████▋  | 13/17 [21:21<10:51, 162.90s/it]"
     ]
    },
    {
     "name": "stdout",
     "output_type": "stream",
     "text": [
      "s all proteins [SeqRecord(seq=Seq('MFVFLVLLPLVSSQCVNLTTRTQLPPAYTNSFTRGVYYPDKVFRSSVLHSTQDL...HYT'), id='hCoV_19NetherlandsNoordBrabant_232020_EPI_ISL_414532_2020_03_05', name='<unknown name>', description='<unknown description>', dbxrefs=[])]\n",
      "to save /data2/isshamie/covid/data/processed/seqs/S_protein_align/hCoV_19NetherlandsNoordBrabant_232020_EPI_ISL_414532_2020_03_05.protein.fasta\n"
     ]
    },
    {
     "name": "stderr",
     "output_type": "stream",
     "text": [
      "\r",
      " 94%|█████████▍| 16/17 [1:00:48<01:22, 82.92s/it]"
     ]
    },
    {
     "name": "stdout",
     "output_type": "stream",
     "text": [
      "s all proteins [SeqRecord(seq=Seq('MFVFLVLLPLVSSQCVNLTTRTQLPPAYTNSFTRGVYYPDKVFRSSVLHSTQDL...HYT'), id='hCoV_19USAWA_UW302020_EPI_ISL_414617_2020_03_08', name='<unknown name>', description='<unknown description>', dbxrefs=[])]\n",
      "to save /data2/isshamie/covid/data/processed/seqs/S_protein_align/hCoV_19USAWA_UW302020_EPI_ISL_414617_2020_03_08.protein.fasta\n"
     ]
    },
    {
     "name": "stderr",
     "output_type": "stream",
     "text": [
      "\r",
      " 82%|████████▏ | 14/17 [22:37<06:50, 136.80s/it]"
     ]
    },
    {
     "name": "stdout",
     "output_type": "stream",
     "text": [
      "s all proteins [SeqRecord(seq=Seq('MFVFLVLLPLVSSQCVNLTTRTQLPPAYTNSFTRGVYYPDKVFRSSVLHSTQDL...HYT'), id='hCoV_19NetherlandsNoordBrabant_222020_EPI_ISL_414531_2020_03_04', name='<unknown name>', description='<unknown description>', dbxrefs=[])]\n",
      "to save /data2/isshamie/covid/data/processed/seqs/S_protein_align/hCoV_19NetherlandsNoordBrabant_222020_EPI_ISL_414531_2020_03_04.protein.fasta\n"
     ]
    },
    {
     "name": "stderr",
     "output_type": "stream",
     "text": [
      "100%|██████████| 17/17 [1:01:57<00:00, 78.65s/it]\n"
     ]
    },
    {
     "name": "stdout",
     "output_type": "stream",
     "text": [
      "s all proteins [SeqRecord(seq=Seq('MFVFLVLLPLVSSQCVNLTTRTQLPPAYTNSFTRGVYYPDKVFRSSVLHSTQDL...HYT'), id='hCoV_19USAWA_UW312020_EPI_ISL_414618_2020_03_08', name='<unknown name>', description='<unknown description>', dbxrefs=[])]\n",
      "to save /data2/isshamie/covid/data/processed/seqs/S_protein_align/hCoV_19USAWA_UW312020_EPI_ISL_414618_2020_03_08.protein.fasta\n"
     ]
    },
    {
     "name": "stderr",
     "output_type": "stream",
     "text": [
      "\r",
      " 88%|████████▊ | 15/17 [23:53<03:57, 118.61s/it]"
     ]
    },
    {
     "name": "stdout",
     "output_type": "stream",
     "text": [
      "s all proteins [SeqRecord(seq=Seq('MFVFLVLLPLVSSQCVNLTTRTQLPPAYTNSFTRGVYYPDKVFRSSVLHSTQDL...SVL'), id='hCoV_19NetherlandsTilburg_2020_EPI_ISL_413585_2020', name='<unknown name>', description='<unknown description>', dbxrefs=[])]\n",
      "to save /data2/isshamie/covid/data/processed/seqs/S_protein_align/hCoV_19NetherlandsTilburg_2020_EPI_ISL_413585_2020.protein.fasta\n"
     ]
    },
    {
     "name": "stderr",
     "output_type": "stream",
     "text": [
      "100%|██████████| 17/17 [1:03:31<00:00, 340.89s/it]\n"
     ]
    },
    {
     "name": "stdout",
     "output_type": "stream",
     "text": [
      "s all proteins [SeqRecord(seq=Seq('MFVFLVLLPLVSSQCVNLTTRTQLPPAYTNSFTRGVYYPDKVFRSSVLHSTQDL...HYT'), id='hCoV_19USAWA_UW322020_EPI_ISL_414619_2020_03_07', name='<unknown name>', description='<unknown description>', dbxrefs=[])]\n",
      "to save /data2/isshamie/covid/data/processed/seqs/S_protein_align/hCoV_19USAWA_UW322020_EPI_ISL_414619_2020_03_07.protein.fasta\n"
     ]
    },
    {
     "name": "stderr",
     "output_type": "stream",
     "text": [
      "\r",
      " 94%|█████████▍| 16/17 [25:14<01:47, 107.20s/it]"
     ]
    },
    {
     "name": "stdout",
     "output_type": "stream",
     "text": [
      "s all proteins [SeqRecord(seq=Seq('MFVFLVLLPLVSSQCVNLTTRTQLPPAYTNSFTRGVYYPDKVFRSSVLHSTQDL...HYT'), id='hCoV_19USAWA_UW332020_EPI_ISL_414620_2020_03_08', name='<unknown name>', description='<unknown description>', dbxrefs=[])]\n",
      "to save /data2/isshamie/covid/data/processed/seqs/S_protein_align/hCoV_19USAWA_UW332020_EPI_ISL_414620_2020_03_08.protein.fasta\n"
     ]
    },
    {
     "name": "stderr",
     "output_type": "stream",
     "text": [
      "100%|██████████| 17/17 [26:32<00:00, 98.43s/it] \n"
     ]
    }
   ],
   "source": [
    "parar(np.array(all_genomic_sequences_filt),run_local, num_processes=32)"
   ]
  },
  {
   "cell_type": "code",
   "execution_count": null,
   "metadata": {},
   "outputs": [],
   "source": []
  },
  {
   "cell_type": "code",
   "execution_count": 13,
   "metadata": {
    "ExecuteTime": {
     "end_time": "2020-03-25T19:09:09.357417Z",
     "start_time": "2020-03-25T19:09:07.593070Z"
    },
    "scrolled": true
   },
   "outputs": [
    {
     "name": "stdout",
     "output_type": "stream",
     "text": [
      "cat /data2/isshamie/covid/data/processed/seqs/S_protein_align/*fasta > /data2/isshamie/covid/data/processed/seqs/S_protein_align_full/S_protein.fasta\n"
     ]
    },
    {
     "data": {
      "text/plain": [
       "0"
      ]
     },
     "execution_count": 13,
     "metadata": {},
     "output_type": "execute_result"
    }
   ],
   "source": [
    "S_protein_sequences_f = join(align_concat_dir,\"S_protein.fasta\")\n",
    "cmd = f'cat {join(align_dir,\"*fasta\")} > {S_protein_sequences_f}'\n",
    "print(cmd)\n",
    "os.system(cmd)"
   ]
  },
  {
   "cell_type": "code",
   "execution_count": null,
   "metadata": {},
   "outputs": [],
   "source": []
  },
  {
   "cell_type": "code",
   "execution_count": null,
   "metadata": {},
   "outputs": [],
   "source": []
  },
  {
   "cell_type": "markdown",
   "metadata": {},
   "source": [
    "## 5. Plot similarity"
   ]
  },
  {
   "cell_type": "markdown",
   "metadata": {},
   "source": [
    "## 6. Run MSA on protein using clustalw"
   ]
  },
  {
   "cell_type": "code",
   "execution_count": 14,
   "metadata": {
    "ExecuteTime": {
     "end_time": "2020-03-25T19:42:37.540026Z",
     "start_time": "2020-03-25T19:38:49.577404Z"
    },
    "scrolled": false
   },
   "outputs": [
    {
     "name": "stdout",
     "output_type": "stream",
     "text": [
      "S_protein\n",
      "/home/isshamie/software/anaconda2/envs/coevolve/bin/python /data2/isshamie/coevolve/software/clustalo.py --email isshamie@ucsd.edu --stype protein --outfmt fa --outfile /data2/isshamie/covid/data/processed/msa/S_protein.msa.fasta --sequence  /data2/isshamie/covid/data/processed/seqs/S_protein_align_full/S_protein.fasta\n",
      "mv /data2/isshamie/covid/data/processed/msa/S_protein.msa.fasta.aln-fasta.fasta /data2/isshamie/covid/data/processed/msa/S_protein.msa.fasta\n"
     ]
    }
   ],
   "source": [
    "clustalw_query.extract_msa(S_protein_sequences_f,msa_out, CLUSTALW_CMD, \"isshamie@ucsd.edu\",\n",
    "                to_overwrite=False, web=True,\n",
    "                local_backup=True, num_cores=NUM_CORES, verbose=True)"
   ]
  },
  {
   "cell_type": "markdown",
   "metadata": {},
   "source": [
    "## 7. Run EVCouplings\n",
    "- Create annotation and yaml\n",
    "- Run "
   ]
  },
  {
   "cell_type": "code",
   "execution_count": 36,
   "metadata": {
    "ExecuteTime": {
     "end_time": "2020-03-25T21:30:31.935931Z",
     "start_time": "2020-03-25T21:30:31.547066Z"
    }
   },
   "outputs": [],
   "source": [
    "\n",
    "record_dict = SeqIO.to_dict(SeqIO.parse(msa_f, \"fasta\"))\n",
    "\n",
    "anno_df = pd.DataFrame(index=record_dict.keys(),columns=[\"id\", \"name\", \"GN\", \"OS\", \"Tax\", \"RepID\",\n",
    "                       \"id_raw\"],dtype=str)\n",
    "for ind, val in anno_df.iterrows():\n",
    "    val[:] = ind\n",
    "anno_df.to_csv(anno_f, index=None)\n"
   ]
  },
  {
   "cell_type": "code",
   "execution_count": 16,
   "metadata": {
    "ExecuteTime": {
     "end_time": "2020-03-25T19:42:37.777045Z",
     "start_time": "2020-03-25T19:42:37.771007Z"
    },
    "code_folding": []
   },
   "outputs": [],
   "source": [
    "def create_annotation_from_fasta(msa_f, anno_f, include_region=False):\n",
    "    \"\"\"Create a csv file where each sequence is considered its own organism. \n",
    "    Columns needed are [\"id\", \"name\", \"GN\", \"OS\", \"Tax\", \"RepID\",\n",
    "                       \"id_raw\"] \"\"\"\n",
    "    record_dict = SeqIO.to_dict(SeqIO.parse(msa_f, \"fasta\"))\n",
    "    anno_df = pd.DataFrame(index=record_dict.keys(),columns=[\"id\", \"name\", \"GN\", \"OS\", \"Tax\", \"RepID\",\n",
    "                           \"id_raw\"],dtype=str)\n",
    "    for ind, val in anno_df.iterrows():\n",
    "        val[:] = ind\n",
    "    anno_df.to_csv(anno_f, index=None)\n",
    "    return\n",
    "\n",
    "# def run_yaml():\n",
    "#     configs = [os.path.join(outdir,  \"covid.yaml\")]\n",
    "#     print(configs)\n",
    "#     run_evc(configs, to_overwrite=True)\n",
    "#     return\n"
   ]
  },
  {
   "cell_type": "code",
   "execution_count": 17,
   "metadata": {
    "ExecuteTime": {
     "end_time": "2020-03-25T19:42:37.956156Z",
     "start_time": "2020-03-25T19:42:37.779178Z"
    },
    "scrolled": true
   },
   "outputs": [],
   "source": [
    "#create_annotation_from_fasta(msa_f, anno_f)"
   ]
  },
  {
   "cell_type": "markdown",
   "metadata": {},
   "source": [
    "## Run with both high coverage of a residue and low \n",
    "### Need a fake target sequence, so take the first one, but make sure the minimum_sequence_coverage is 0"
   ]
  },
  {
   "cell_type": "code",
   "execution_count": 28,
   "metadata": {
    "ExecuteTime": {
     "end_time": "2020-03-25T21:25:00.242552Z",
     "start_time": "2020-03-25T21:25:00.134300Z"
    },
    "scrolled": true
   },
   "outputs": [
    {
     "name": "stdout",
     "output_type": "stream",
     "text": [
      "sed 's/\\s.*$//' /data2/isshamie/covid/data/processed/msa/S_protein.msa.fasta > /data2/isshamie/covid/data/processed/msa/clean/S_protein.msa.fasta\n"
     ]
    },
    {
     "data": {
      "text/plain": [
       "0"
      ]
     },
     "execution_count": 28,
     "metadata": {},
     "output_type": "execute_result"
    }
   ],
   "source": [
    "cmd = f\"sed 's/\\s.*$//' {msa_f} > {msa_clean_f}\"\n",
    "print(cmd)\n",
    "os.system(cmd)"
   ]
  },
  {
   "cell_type": "code",
   "execution_count": null,
   "metadata": {
    "ExecuteTime": {
     "start_time": "2020-03-25T21:48:27.172Z"
    },
    "scrolled": true
   },
   "outputs": [
    {
     "name": "stdout",
     "output_type": "stream",
     "text": [
      "hCoV_19FranceIDF19802020_EPI_ISL_414633_2020_03_04\n",
      "Creating file /data2/isshamie/covid/data/processed/ev_params/col90_redund0.8.yaml\n",
      "hCoV_19FranceIDF19802020_EPI_ISL_414633_2020_03_04\n",
      "Creating file /data2/isshamie/covid/data/processed/ev_params/col90_redund0.9.yaml\n",
      "hCoV_19FranceIDF19802020_EPI_ISL_414633_2020_03_04\n",
      "Creating file /data2/isshamie/covid/data/processed/ev_params/col75_redund0.8.yaml\n",
      "hCoV_19FranceIDF19802020_EPI_ISL_414633_2020_03_04\n",
      "Creating file /data2/isshamie/covid/data/processed/ev_params/col75_redund0.9.yaml\n",
      "hCoV_19FranceIDF19802020_EPI_ISL_414633_2020_03_04\n",
      "Creating file /data2/isshamie/covid/data/processed/ev_params/col25_redund0.8.yaml\n",
      "hCoV_19FranceIDF19802020_EPI_ISL_414633_2020_03_04\n",
      "Creating file /data2/isshamie/covid/data/processed/ev_params/col25_redund0.9.yaml\n",
      "/data2/isshamie/covid/data/processed/ev_params/col90_redund0.8.yaml\n",
      "/data2/isshamie/covid/data/processed/evc/col90_redund0.8\n",
      "{}\n",
      "HI\n"
     ]
    },
    {
     "name": "stderr",
     "output_type": "stream",
     "text": [
      "/data2/isshamie/coevolve/software/EVcouplings/evcouplings/visualize/parameters.py:137: RuntimeWarning: divide by zero encountered in log2\n",
      "  B = -fi * np.log2(fi)\n",
      "/data2/isshamie/coevolve/software/EVcouplings/evcouplings/visualize/parameters.py:137: RuntimeWarning: invalid value encountered in multiply\n",
      "  B = -fi * np.log2(fi)\n"
     ]
    },
    {
     "name": "stdout",
     "output_type": "stream",
     "text": [
      "/data2/isshamie/covid/data/processed/ev_params/col90_redund0.9.yaml\n",
      "/data2/isshamie/covid/data/processed/evc/col90_redund0.9\n",
      "{}\n",
      "HI\n",
      "/data2/isshamie/covid/data/processed/ev_params/col75_redund0.8.yaml\n",
      "/data2/isshamie/covid/data/processed/evc/col75_redund0.8\n",
      "{}\n",
      "HI\n"
     ]
    }
   ],
   "source": [
    "## \n",
    "column_thresholds = [90,75,25]\n",
    "redundant_thresholds = [0.8,0.9]\n",
    "\n",
    "files_to_run = []\n",
    "for col_thresh in column_thresholds:\n",
    "    for red_thresh in redundant_thresholds:\n",
    "        name = f\"col{col_thresh}_redund{red_thresh}\"\n",
    "        config = read_config_file(evc_template_f, preserve_order=True)\n",
    "        config[\"align\"][\"input_alignment\"] = msa_clean_f\n",
    "        config[\"align\"][\"override_annotation_file\"] = anno_f\n",
    "        seqid = pd.read_csv(anno_f).iloc[100,0] #Just take any name\n",
    "        print(seqid) #clean\n",
    "        config[\"align\"][\"sequence_id\"] = seqid\n",
    "        config[\"global\"][\"sequence_id\"] = seqid\n",
    "        config[\"global\"][\"sequence_file\"] = msa_clean_f\n",
    "        config[\"global\"][\"prefix\"] = os.path.join(ev_dir, name)\n",
    "        config[\"align\"][\"minimum_sequence_coverage\"] = 0\n",
    "        config[\"align\"][\"minimum_column_coverage\"] = col_thresh\n",
    "        config[\"align\"][\"theta\"] = red_thresh\n",
    "        config[\"global\"][\"theta\"] = red_thresh\n",
    "        out_f = join(ev_params_dir,name+\".yaml\")\n",
    "        files_to_run.append(out_f)\n",
    "        print(f\"Creating file {out_f}\")\n",
    "        write_config_file(out_f, config)\n",
    "        \n",
    "run_evc(files_to_run)"
   ]
  },
  {
   "cell_type": "markdown",
   "metadata": {},
   "source": [
    "## Make EVZoom htmls and move jsons"
   ]
  },
  {
   "cell_type": "code",
   "execution_count": null,
   "metadata": {
    "ExecuteTime": {
     "start_time": "2020-03-25T22:17:57.460Z"
    },
    "scrolled": true
   },
   "outputs": [],
   "source": [
    "column_thresholds = [90,75,25]\n",
    "redundant_thresholds = [0.8,0.9]\n",
    "\n",
    "files_to_run = []\n",
    "for col_thresh in column_thresholds:\n",
    "    for red_thresh in redundant_thresholds:\n",
    "        gene_of_interest = f\"col{col_thresh}_redund{red_thresh}\"\n",
    "        print(gene_of_interest)\n",
    "        #Copy over json\n",
    "        coupling_prefix = os.path.join(evc_dir, gene_of_interest,\"couplings\",gene_of_interest)\n",
    "        json_f = coupling_prefix + '_evzoom.json'\n",
    "        out_json_f = evzoom_dir+\"/data/\" + os.path.basename(json_f)\n",
    "        cmd = f'cp {json_f} {out_json_f}'\n",
    "        print(cmd)\n",
    "        os.system(cmd)\n",
    "        \n",
    "        # Create the html file\n",
    "        tmp_html = join(evzoom_dir, 'example','evzoom.html')\n",
    "        out_html = join(evzoom_dir, 'example',gene_of_interest+'.html')\n",
    "        print(out_html)\n",
    "        with open(tmp_html, \"r\") as f:\n",
    "            page = f.read()\n",
    "        new_page=\"\"\n",
    "        line = f'<div id=\"evzoom-viewer\" data-couplings=../data/{basename(json_f)}> </div> '\n",
    "        for i in page.split(\"\\n\"):\n",
    "            if 'data-couplings' in i:\n",
    "                new_page = new_page + line + \"\\n\"\n",
    "            else:\n",
    "                new_page = new_page + i + \"\\n\"\n",
    "        new_page = new_page.strip(\"\\n\")\n",
    "        with open(out_html,'w') as f:\n",
    "            f.write(new_page)\n"
   ]
  },
  {
   "cell_type": "markdown",
   "metadata": {},
   "source": [
    "## Create contact matrix for cn and probability"
   ]
  },
  {
   "cell_type": "code",
   "execution_count": null,
   "metadata": {
    "ExecuteTime": {
     "end_time": "2020-03-25T06:48:41.844984Z",
     "start_time": "2020-03-25T06:27:16.537Z"
    },
    "scrolled": true
   },
   "outputs": [],
   "source": [
    "## \n",
    "column_thresholds = [90,75,25]\n",
    "redundant_thresholds = [0.8,0.9]\n",
    "\n",
    "files_to_run = []\n",
    "for col_thresh in column_thresholds:\n",
    "    for red_thresh in redundant_thresholds:\n",
    "        gene_of_interest = f\"col{col_thresh}_redund{red_thresh}\"\n",
    "        print(gene_of_interest)\n",
    "        align_prefix = os.path.join(evc_dir,gene_of_interest,\"align\",gene_of_interest)\n",
    "        coupling_prefix = os.path.join(evc_dir, gene_of_interest,\"couplings\",gene_of_interest)\n",
    "\n",
    "        construct_monomer_contact_matrix(gene_of_interest, \n",
    "                                         input_dir = evc_dir, \n",
    "                                         to_plot=True, \n",
    "                                         f_save_fig = join(FIGURES_DIR, \"contact\", gene_of_interest),\n",
    "                                         f_save = join(contact_dir, gene_of_interest), \n",
    "                                         col='cn', conservation=True) \n",
    "        construct_monomer_contact_matrix(gene_of_interest, \n",
    "                                         input_dir = evc_dir, \n",
    "                                         to_plot=True, \n",
    "                                         f_save_fig = join(FIGURES_DIR, \"contact\", gene_of_interest+\"_pval\"),\n",
    "                                         f_save = join(contact_dir, gene_of_interest+\"_pval\"), \n",
    "                                         col='probability', conservation=True) "
   ]
  },
  {
   "cell_type": "code",
   "execution_count": null,
   "metadata": {},
   "outputs": [],
   "source": []
  },
  {
   "cell_type": "code",
   "execution_count": null,
   "metadata": {},
   "outputs": [],
   "source": []
  }
 ],
 "metadata": {
  "kernelspec": {
   "display_name": "Python 3",
   "language": "python",
   "name": "python3"
  },
  "language_info": {
   "codemirror_mode": {
    "name": "ipython",
    "version": 3
   },
   "file_extension": ".py",
   "mimetype": "text/x-python",
   "name": "python",
   "nbconvert_exporter": "python",
   "pygments_lexer": "ipython3",
   "version": "3.7.3"
  }
 },
 "nbformat": 4,
 "nbformat_minor": 2
}
